{
 "cells": [
  {
   "cell_type": "code",
   "execution_count": 1,
   "metadata": {},
   "outputs": [],
   "source": [
    "import uproot\n",
    "import numpy as np\n",
    "import matplotlib.pyplot as plt\n",
    "import awkward as ak\n",
    "import vector\n",
    "import boost_histogram as bh\n",
    "import mplhep as hep"
   ]
  },
  {
   "cell_type": "code",
   "execution_count": 2,
   "metadata": {},
   "outputs": [],
   "source": [
    "def histogram(data, bins, data_label, axes, density=True, ratio=True, ratio_axes=None, set_range = None, weight_array=None, x_units='GeV'):\n",
    "    if len(data[0]) != 1:\n",
    "        if set_range is not None:\n",
    "            global_min, global_max = set_range\n",
    "        else:\n",
    "            global_min = min([np.min(d) for d in data])\n",
    "            global_max = max([np.max(d) for d in data])\n",
    "\n",
    "        bin_edges = np.linspace(global_min, global_max, bins+1)\n",
    "        counts = []\n",
    "        errors = []\n",
    "        bin_width = bin_edges[1]-bin_edges[0]\n",
    "        for i in range(len(data)):\n",
    "            if type(data[i])!= 'numpy.ndarray':\n",
    "                data[i] = np.array(ak.to_numpy(data[i]))\n",
    "            hist = bh.Histogram(bh.axis.Regular(bins, global_min, global_max))\n",
    "            hist.fill(data[i], weight=weight_array[i]) if weight_array is not None else hist.fill(data[i])\n",
    "            norm_factor = np.sum(hist.counts() * np.diff(hist.axes[0].edges))\n",
    "            if density: hep.histplot(hist.counts()/norm_factor, hist.axes[0].edges, ax=axes, yerr=np.sqrt(hist.variances())/norm_factor,label=data_label[i], histtype='step')\n",
    "            else: hep.histplot(hist.counts(), hist.axes[0].edges, ax=axes, yerr=np.sqrt(hist.variances()),label=data_label, histtype='step')\n",
    "            counts.append(hist.counts()/norm_factor) if density else counts.append(hist.counts())\n",
    "            errors.append(np.sqrt(hist.variances())/norm_factor) if density else errors.append(np.sqrt(hist.variances()))       \n",
    "    else:\n",
    "        hist = bh.Histogram(bh.axis.Regular(bins, global_min, global_max))\n",
    "        hist.fill(data[i])\n",
    "        hep.histplot(hist.view(), hist.axes[0].edges, ax=axes, yerr=np.sqrt(hist.variances()), label=data_label, histtype='step')\n",
    "\n",
    "    bin_width = hist.axes[0].edges[1]-hist.axes[0].edges[0]\n",
    "    axes.set_ylabel(f'Events /{bin_width:.2g} {x_units}')\n",
    "    axes.legend()\n",
    "\n",
    "    if ratio:\n",
    "        reference_counts = counts[0]\n",
    "        for i in range(1, len(counts)):\n",
    "            ratio_values = np.divide(counts[i], reference_counts, out=np.zeros_like(counts[i]), where=reference_counts != 0)\n",
    "            ratio_errors = np.sqrt(np.divide(errors[i],counts[i], out=np.zeros_like(counts[i]), where=counts[i]!=0)**2 + (np.divide(errors[0],counts[0], out=np.zeros_like(counts[0]), where=counts[0]!=0)**2))\n",
    "            hep.histplot(ratio_values, bin_edges, ax=ratio_axes, yerr=ratio_errors, label=f'{data_label[i]}/{data_label[0]}')\n",
    "        ratio_axes.set_ylabel(\"Ratio\")\n",
    "        ratio_axes.set_xlabel(axes.get_xlabel())\n",
    "        ratio_axes.axhline(1, color='black', linestyle='--')  # Reference line at ratio=1\n",
    "        ratio_axes.legend()\n",
    "        if ratio_axes.get_ylim()[1]>5:\n",
    "            ratio_axes.set_ylim(0,5)\n"
   ]
  },
  {
   "cell_type": "markdown",
   "metadata": {},
   "source": [
    "### Load data"
   ]
  },
  {
   "cell_type": "code",
   "execution_count": 3,
   "metadata": {},
   "outputs": [],
   "source": [
    "def data_generator(input_file,channel):\n",
    "    tree = uproot.open(f\"{input_file}\")\n",
    "    tree_reco = tree['Reco;1']\n",
    "    tree_tops = tree['Top;1']\n",
    "\n",
    "    top_pt = tree_tops['pt'].array()\n",
    "    top_eta = tree_tops['eta'].array()\n",
    "    top_phi = tree_tops['phi'].array()\n",
    "    top_energy = tree_tops['energy'].array()\n",
    "\n",
    "    tops = vector.zip({'pt': top_pt, 'eta': top_eta, 'phi': top_phi, 'E': top_energy})\n",
    "\n",
    "    reco_pt = tree_reco['pt'].array()\n",
    "    reco_eta = tree_reco['eta'].array()\n",
    "    reco_phi = tree_reco['phi'].array()\n",
    "    reco_energy = tree_reco['energy'].array()\n",
    "\n",
    "    jets = vector.zip({'pt': reco_pt,'eta': reco_eta, 'phi': reco_phi, 'energy': reco_energy})\n",
    "\n",
    "    reco_indices = tree_reco['matching_indices'].array()\n",
    "    \n",
    "    pad_length = len(reco_indices[0])\n",
    "\n",
    "    reco_pt_pad_none = ak.pad_none(reco_pt,pad_length)\n",
    "    reco_pt_pad = ak.fill_none(reco_pt_pad_none,0)\n",
    "\n",
    "    if channel == \"3t\":\n",
    "        b_mask = (reco_indices > 0) & (reco_indices < 4)\n",
    "        jet_mask = reco_indices > 3\n",
    "    if channel == \"4t\":\n",
    "        b_mask = (reco_indices > 0) & (reco_indices < 5)\n",
    "        jet_mask = reco_indices > 4\n",
    "\n",
    "    b_pt = ak.flatten(ak.mask(reco_pt_pad,b_mask))[~ak.is_none(ak.flatten(ak.mask(reco_pt_pad,b_mask)))]\n",
    "\n",
    "    reco_eta_pad_none = ak.pad_none(reco_eta,pad_length)\n",
    "    reco_eta_pad = ak.fill_none(reco_eta_pad_none,0)\n",
    "    b_eta = ak.flatten(ak.mask(reco_eta_pad,b_mask))[~ak.is_none(ak.flatten(ak.mask(reco_eta_pad,b_mask)))]\n",
    "\n",
    "    reco_phi_pad_none = ak.pad_none(reco_phi,pad_length)\n",
    "    reco_phi_pad = ak.fill_none(reco_phi_pad_none,0)\n",
    "\n",
    "    b_phi = ak.flatten(ak.mask(reco_phi_pad,b_mask))[~ak.is_none(ak.flatten(ak.mask(reco_phi_pad,b_mask)))]\n",
    "\n",
    "    reco_energy_pad_none = ak.pad_none(reco_energy,pad_length)\n",
    "    reco_energy_pad = ak.fill_none(reco_energy_pad_none,0)\n",
    "    b_energy = ak.flatten(ak.mask(reco_energy_pad,b_mask))[~ak.is_none(ak.flatten(ak.mask(reco_energy_pad,b_mask)))]\n",
    "\n",
    "    reco_pt_masked = ak.flatten(ak.mask(reco_pt_pad,jet_mask))\n",
    "    reco_pt_non_none = reco_pt_masked[~ak.is_none(reco_pt_masked)]\n",
    "    reco_pt_matched = ak.unflatten(reco_pt_non_none,2)\n",
    "\n",
    "    reco_eta_masked = ak.flatten(ak.mask(reco_eta_pad,jet_mask))\n",
    "    reco_eta_non_none = reco_eta_masked[~ak.is_none(reco_eta_masked)]\n",
    "    reco_eta_matched = ak.unflatten(reco_eta_non_none,2)\n",
    "\n",
    "    reco_phi_masked = ak.flatten(ak.mask(reco_phi_pad,jet_mask))\n",
    "    reco_phi_non_none = reco_phi_masked[~ak.is_none(reco_phi_masked)]\n",
    "    reco_phi_matched = ak.unflatten(reco_phi_non_none,2)\n",
    "\n",
    "    reco_energy_masked = ak.flatten(ak.mask(reco_energy_pad,jet_mask))\n",
    "    reco_energy_non_none = reco_energy_masked[~ak.is_none(reco_energy_masked)]\n",
    "    reco_energy_matched = ak.unflatten(reco_energy_non_none,2)\n",
    "\n",
    "    reco_matched = vector.zip({'pt': reco_pt_matched, 'eta': reco_eta_matched, 'phi': reco_phi_matched, 'E': reco_energy_matched})\n",
    "    b_jet = vector.zip({'pt': b_pt, 'eta': b_eta, 'phi': b_phi, 'E': b_energy})\n",
    "\n",
    "    return tops, jets, reco_matched, b_jet\n",
    "\n",
    "# Run the function\n",
    "tops_3t, jets_3t, not_b_jets_matched_3t, b_jet_3t = data_generator(\"../sm_3t_0L_14Feb.root\",\"3t\")\n",
    "tops_4t, jets_4t, not_b_jets_matched_4t, b_jet_4t = data_generator(\"../sm_4t_0L_25Feb.root\",\"4t\")\n",
    "\n",
    "matched_jets_3t = ak.concatenate((not_b_jets_matched_3t,ak.unflatten(b_jet_3t,1)),axis=1)\n",
    "matched_jets_4t = ak.concatenate((not_b_jets_matched_4t,ak.unflatten(b_jet_4t,1)),axis=1)"
   ]
  },
  {
   "cell_type": "markdown",
   "metadata": {},
   "source": [
    "### $\\Delta R$"
   ]
  },
  {
   "cell_type": "code",
   "execution_count": 4,
   "metadata": {},
   "outputs": [],
   "source": [
    "def delta_r_top_reco(jet, top):\n",
    "    jet_1 = jet[:,0]\n",
    "    jet_2 = jet[:,1]\n",
    "    jet_3 = jet[:,2]\n",
    "\n",
    "    delta_r_1 = jet_1.deltaR(top)\n",
    "    delta_r_2 = jet_2.deltaR(top)\n",
    "    delta_r_3 = jet_3.deltaR(top)\n",
    "    delta_r = np.concatenate([delta_r_1, delta_r_2, delta_r_3],axis=1)\n",
    "    return delta_r\n",
    "\n",
    "delta_r_3t = delta_r_top_reco(jets_3t, tops_3t)\n",
    "delta_r_4t = delta_r_top_reco(jets_4t, tops_4t)"
   ]
  },
  {
   "cell_type": "markdown",
   "metadata": {},
   "source": [
    "### Centrality"
   ]
  },
  {
   "cell_type": "code",
   "execution_count": 5,
   "metadata": {},
   "outputs": [],
   "source": [
    "def centrality(jets,b_jet):\n",
    "    jet_1 = jets.rapidity[:,0]\n",
    "    jet_2 = jets.rapidity[:,1]\n",
    "\n",
    "    return np.abs((b_jet.rapidity - 0.5*(jet_1 + jet_2))/abs(jet_1 - jet_2))\n",
    "centrality_3t = centrality(not_b_jets_matched_3t,b_jet_3t)\n",
    "centrality_4t = centrality(not_b_jets_matched_4t,b_jet_4t)"
   ]
  },
  {
   "cell_type": "code",
   "execution_count": 6,
   "metadata": {},
   "outputs": [
    {
     "data": {
      "image/png": "[encoded data removed]",
      "text/plain": [
       "<Figure size 720x720 with 2 Axes>"
      ]
     },
     "metadata": {
      "needs_background": "light"
     },
     "output_type": "display_data"
    }
   ],
   "source": [
    "fig, ax = plt.subplots(2,1, figsize=(10,10),gridspec_kw={'height_ratios': [3, 1]})\n",
    "histogram([centrality_3t, centrality_4t], 25, ['3t','4t'], ax[0], ratio_axes=ax[1], set_range=(0,10))\n",
    "ax[0].set_xlabel(r'Centrality, $\\xi$')\n",
    "plt.show()"
   ]
  },
  {
   "cell_type": "code",
   "execution_count": 11,
   "metadata": {},
   "outputs": [
    {
     "name": "stdout",
     "output_type": "stream",
     "text": [
      "3191235\n"
     ]
    },
    {
     "data": {
      "image/png": "[encoded data removed]",
      "text/plain": [
       "<Figure size 720x720 with 2 Axes>"
      ]
     },
     "metadata": {
      "needs_background": "light"
     },
     "output_type": "display_data"
    }
   ],
   "source": [
    "delta_r_3t_all = ak.flatten(delta_r_3t,axis=1)\n",
    "print(len(delta_r_3t_all))\n",
    "delta_r_4t_all = ak.flatten(delta_r_4t,axis=1)\n",
    "fig, ax = plt.subplots(2,1, figsize=(10,10),gridspec_kw={'height_ratios': [3, 1]})\n",
    "histogram([ak.flatten(delta_r_3t), ak.flatten(delta_r_4t)], 25, ['3t','4t'], ax[0], ratio_axes=ax[1], set_range=(0,6.5))\n",
    "ax[0].set_xlabel(r'$\\Delta$ R')\n",
    "plt.show()"
   ]
  },
  {
   "cell_type": "markdown",
   "metadata": {},
   "source": [
    "### Invariant mass "
   ]
  },
  {
   "cell_type": "code",
   "execution_count": 9,
   "metadata": {},
   "outputs": [
    {
     "name": "stdout",
     "output_type": "stream",
     "text": [
      "[30.4, 28.3, 13.2, 7.41, 15.6, 18.7, ..., 15, 66.8, 11.8, 27.9, 26.3, 9.42]\n",
      "[11, 10.6, 26, 22.8, 12.3, 12.7, 10.3, ..., 19, 19.9, 20.7, 55, 14, 13, 20.3]\n"
     ]
    }
   ],
   "source": [
    "invariant_mass_jets_3t = np.sum(not_b_jets_matched_3t.M,axis=1)\n",
    "invariant_mass_jets_4t = np.sum(not_b_jets_matched_4t.M,axis=1)\n",
    "\n",
    "print(invariant_mass_jets_3t)\n",
    "print(invariant_mass_jets_4t)"
   ]
  },
  {
   "cell_type": "code",
   "execution_count": 10,
   "metadata": {},
   "outputs": [
    {
     "data": {
      "image/png": "[encoded data removed]",
      "text/plain": [
       "<Figure size 720x720 with 2 Axes>"
      ]
     },
     "metadata": {
      "needs_background": "light"
     },
     "output_type": "display_data"
    }
   ],
   "source": [
    "fig, ax = plt.subplots(2,1, figsize=(10,10),gridspec_kw={'height_ratios': [3, 1]})\n",
    "histogram([invariant_mass_jets_3t,invariant_mass_jets_4t], 25, ['3t','4t'], ax[0], ratio_axes=ax[1],set_range=(0,100))\n",
    "ax[0].set_xlabel(r'Invariant Mass')\n",
    "plt.show()"
   ]
  },
  {
   "cell_type": "markdown",
   "metadata": {},
   "source": [
    "### Boost"
   ]
  },
  {
   "cell_type": "code",
   "execution_count": 12,
   "metadata": {},
   "outputs": [
    {
     "name": "stdout",
     "output_type": "stream",
     "text": [
      "[3, 3, 3, 3, 3, 3, 3, 3, 3, 3, 3, 3, 3, ..., 3, 3, 3, 3, 3, 3, 3, 3, 3, 3, 3, 3]\n",
      "[[{rho: 164, phi: -2.65, eta: -0.969, t: 310}, [...], [[{...}], ...]], ...]\n"
     ]
    }
   ],
   "source": [
    "tops_3t_padded = ak.pad_none(tops_3t,3,axis=1)\n",
    "print(ak.num(tops_3t_padded))\n",
    "tops_3t_broadcasted = ak.fill_none(tops_3t_padded,tops_3t)\n",
    "print(tops_3t_broadcasted)"
   ]
  },
  {
   "cell_type": "code",
   "execution_count": 13,
   "metadata": {},
   "outputs": [
    {
     "name": "stdout",
     "output_type": "stream",
     "text": [
      "[3, 3, 3, 3, 3, 3, 3, 3, 3, 3, 3, 3, 3, ..., 3, 3, 3, 3, 3, 3, 3, 3, 3, 3, 3, 3]\n",
      "1063745\n",
      "[[{rho: 164, phi: -2.65, eta: -0.969, t: 310}], [{...}], ..., [{rho: 145, ...}]]\n"
     ]
    }
   ],
   "source": [
    "print(ak.num(matched_jets_3t))  # Check the size of jets_3t\n",
    "print(len(ak.num(tops_3t_broadcasted[0,1])))  # Check the size of tops_3t_broadcasted\n",
    "print(tops_3t_broadcasted[0,1])"
   ]
  },
  {
   "cell_type": "code",
   "execution_count": null,
   "metadata": {},
   "outputs": [],
   "source": []
  }
 ],
 "metadata": {
  "kernelspec": {
   "display_name": "base",
   "language": "python",
   "name": "python3"
  },
  "language_info": {
   "codemirror_mode": {
    "name": "ipython",
    "version": 3
   },
   "file_extension": ".py",
   "mimetype": "text/x-python",
   "name": "python",
   "nbconvert_exporter": "python",
   "pygments_lexer": "ipython3",
   "version": "3.8.8"
  }
 },
 "nbformat": 4,
 "nbformat_minor": 2
}
