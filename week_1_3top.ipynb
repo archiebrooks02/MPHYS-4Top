{
 "cells": [
  {
   "cell_type": "markdown",
   "metadata": {},
   "source": [
    "Week 1: Intro to tech"
   ]
  },
  {
   "cell_type": "code",
   "execution_count": 80,
   "metadata": {},
   "outputs": [],
   "source": [
    "import numpy as np\n",
    "import uproot\n",
    "import vector\n",
    "import awkward\n",
    "import matplotlib.pyplot as plt\n",
    "import mplhep as hep"
   ]
  },
  {
   "cell_type": "markdown",
   "metadata": {},
   "source": [
    "Unpacking data \n",
    "1. Extracting 3 top data\n",
    "2. separating into top top antitop and top antitop antitop events"
   ]
  },
  {
   "cell_type": "code",
   "execution_count": 81,
   "metadata": {},
   "outputs": [],
   "source": [
    "tree = uproot.open('c:/Users/matis/OneDrive/Documents/Y4/Project/3tops_tttW_partonic_skimmed_2609.root')['tree']\n",
    "events = tree.arrays(['top_pt', 'top_eta', 'top_phi', 'top_e', 'anti_top_pt', 'anti_top_eta', 'anti_top_phi', 'anti_top_e'])\n",
    "\n",
    "mask_tttbarW = (awkward.num(events['top_pt']) == 2) & (awkward.num(events['anti_top_pt']) == 1)\n",
    "mask_ttbartbarW = (awkward.num(events['top_pt']) == 1) & (awkward.num(events['anti_top_pt']) == 2)\n",
    "tttbarW = events[mask_tttbarW]\n",
    "ttbartbarW = events[mask_ttbartbarW]"
   ]
  },
  {
   "cell_type": "markdown",
   "metadata": {},
   "source": [
    "top top anti-top filtering"
   ]
  },
  {
   "cell_type": "code",
   "execution_count": 82,
   "metadata": {},
   "outputs": [],
   "source": [
    "pt_mask_1 = tttbarW['top_pt'][:,0] > 50\n",
    "pt_mask_2 = tttbarW['top_pt'][:,1] > 50\n",
    "\n",
    "eta_mask_1 = (tttbarW['top_eta'][:,0] > -2.4) & (tttbarW['top_eta'][:,0] < 2.4)\n",
    "eta_mask_2 = (tttbarW['top_eta'][:,1] > -2.4) & (tttbarW['top_eta'][:,1] < 2.4)\n",
    "\n",
    "anti_pt_mask = tttbarW['anti_top_pt']> 50\n",
    "\n",
    "anti_eta_mask = (tttbarW['anti_top_eta'] > -2.4) & (tttbarW['anti_top_eta'] < 2.4)\n",
    "\n",
    "masks_tttbarW = anti_eta_mask & anti_pt_mask & pt_mask_1 & pt_mask_2 & eta_mask_1 & eta_mask_2"
   ]
  },
  {
   "cell_type": "markdown",
   "metadata": {},
   "source": [
    "top anti-top anti-top filtering "
   ]
  },
  {
   "cell_type": "code",
   "execution_count": 83,
   "metadata": {},
   "outputs": [],
   "source": [
    "bar_pt_mask = ttbartbarW['top_pt'] > 50\n",
    "\n",
    "bar_eta_mask = (ttbartbarW['top_eta'] > -2.4) & (ttbartbarW['top_eta'] < 2.4)\n",
    "\n",
    "bar_anti_pt_mask_1 = ttbartbarW['anti_top_pt'][:,0]> 50\n",
    "bar_anti_pt_mask_2 = ttbartbarW['anti_top_pt'][:,1]> 50\n",
    "\n",
    "bar_anti_eta_mask_1 = (ttbartbarW['anti_top_eta'][:,0] > -2.4) & (ttbartbarW['anti_top_eta'][:,0] < 2.4)\n",
    "bar_anti_eta_mask_2 = (ttbartbarW['anti_top_eta'][:,1] > -2.4) & (ttbartbarW['anti_top_eta'][:,1] < 2.4)\n",
    "\n",
    "masks_ttbartbarW = bar_eta_mask & bar_pt_mask & bar_anti_pt_mask_1 & bar_anti_pt_mask_2 & bar_anti_eta_mask_1 & bar_anti_eta_mask_2"
   ]
  },
  {
   "cell_type": "markdown",
   "metadata": {},
   "source": [
    "vector making"
   ]
  },
  {
   "cell_type": "code",
   "execution_count": 84,
   "metadata": {},
   "outputs": [],
   "source": [
    "tops = vector.zip({'pt':tttbarW['top_pt'],'eta':tttbarW['top_eta'],'phi':tttbarW['top_phi'], 'mass':172.76})\n",
    "anti_tops = vector.zip({'pt':tttbarW['anti_top_pt'],'eta':tttbarW['anti_top_eta'],'phi':tttbarW['anti_top_phi'], 'mass':172.76})\n",
    "\n",
    "filtered_tops= tops[masks_tttbarW]\n",
    "filtered_anti_tops = anti_tops[masks_tttbarW]\n",
    "\n",
    "tops_bar = vector.zip({'pt':ttbartbarW['top_pt'],'eta':ttbartbarW['top_eta'],'phi':ttbartbarW['top_phi'], 'mass':172.76})\n",
    "anti_tops_bar = vector.zip({'pt':ttbartbarW['anti_top_pt'],'eta':ttbartbarW['anti_top_eta'],'phi':ttbartbarW['anti_top_phi'], 'mass':172.76})\n",
    "\n",
    "filtered_tops_bar= tops_bar[masks_ttbartbarW]\n",
    "filtered_anti_tops_bar = anti_tops_bar[masks_ttbartbarW]"
   ]
  },
  {
   "cell_type": "code",
   "execution_count": 88,
   "metadata": {},
   "outputs": [
    {
     "name": "stdout",
     "output_type": "stream",
     "text": [
      "[24930]\n"
     ]
    }
   ],
   "source": [
    "print(np.shape(tops_1))"
   ]
  },
  {
   "cell_type": "code",
   "execution_count": 85,
   "metadata": {},
   "outputs": [
    {
     "name": "stdout",
     "output_type": "stream",
     "text": [
      "24930\n",
      "24930\n"
     ]
    },
    {
     "ename": "IndexError",
     "evalue": "cannot slice NumpyArray (of length 24930) with [[0], [], [0], [], [], [0], [0], [0], ..., [], [0], [0], [0], [0], [0], [0]]: too many jagged slice dimensions for array\n\nThis error occurred while attempting to slice\n\n    <MomentumArray4D [{rho: 182, phi: -1.36, ...}, ...] type='24930 * Momen...'>\n\nwith\n\n    <Array [[True], [False], [True], ..., [True], [True]] type='24930 * var * bool'>",
     "output_type": "error",
     "traceback": [
      "\u001b[1;31m---------------------------------------------------------------------------\u001b[0m",
      "\u001b[1;31mIndexError\u001b[0m                                Traceback (most recent call last)",
      "\u001b[1;32mc:\\Users\\matis\\anaconda3\\lib\\site-packages\\awkward\\highlevel.py\u001b[0m in \u001b[0;36m__getitem__\u001b[1;34m(self, where)\u001b[0m\n\u001b[0;32m   1065\u001b[0m             return wrap_layout(\n\u001b[1;32m-> 1066\u001b[1;33m                 \u001b[0mprepare_layout\u001b[0m\u001b[1;33m(\u001b[0m\u001b[0mself\u001b[0m\u001b[1;33m.\u001b[0m\u001b[0m_layout\u001b[0m\u001b[1;33m[\u001b[0m\u001b[0mwhere\u001b[0m\u001b[1;33m]\u001b[0m\u001b[1;33m)\u001b[0m\u001b[1;33m,\u001b[0m\u001b[1;33m\u001b[0m\u001b[1;33m\u001b[0m\u001b[0m\n\u001b[0m\u001b[0;32m   1067\u001b[0m                 \u001b[0mself\u001b[0m\u001b[1;33m.\u001b[0m\u001b[0m_behavior\u001b[0m\u001b[1;33m,\u001b[0m\u001b[1;33m\u001b[0m\u001b[1;33m\u001b[0m\u001b[0m\n",
      "\u001b[1;32mc:\\Users\\matis\\anaconda3\\lib\\site-packages\\awkward\\contents\\content.py\u001b[0m in \u001b[0;36m__getitem__\u001b[1;34m(self, where)\u001b[0m\n\u001b[0;32m    511\u001b[0m     \u001b[1;32mdef\u001b[0m \u001b[0m__getitem__\u001b[0m\u001b[1;33m(\u001b[0m\u001b[0mself\u001b[0m\u001b[1;33m,\u001b[0m \u001b[0mwhere\u001b[0m\u001b[1;33m)\u001b[0m\u001b[1;33m:\u001b[0m\u001b[1;33m\u001b[0m\u001b[1;33m\u001b[0m\u001b[0m\n\u001b[1;32m--> 512\u001b[1;33m         \u001b[1;32mreturn\u001b[0m \u001b[0mself\u001b[0m\u001b[1;33m.\u001b[0m\u001b[0m_getitem\u001b[0m\u001b[1;33m(\u001b[0m\u001b[0mwhere\u001b[0m\u001b[1;33m)\u001b[0m\u001b[1;33m\u001b[0m\u001b[1;33m\u001b[0m\u001b[0m\n\u001b[0m\u001b[0;32m    513\u001b[0m \u001b[1;33m\u001b[0m\u001b[0m\n",
      "\u001b[1;32mc:\\Users\\matis\\anaconda3\\lib\\site-packages\\awkward\\contents\\content.py\u001b[0m in \u001b[0;36m_getitem\u001b[1;34m(self, where)\u001b[0m\n\u001b[0;32m    564\u001b[0m         \u001b[1;32melif\u001b[0m \u001b[0misinstance\u001b[0m\u001b[1;33m(\u001b[0m\u001b[0mwhere\u001b[0m\u001b[1;33m,\u001b[0m \u001b[0mak\u001b[0m\u001b[1;33m.\u001b[0m\u001b[0mhighlevel\u001b[0m\u001b[1;33m.\u001b[0m\u001b[0mArray\u001b[0m\u001b[1;33m)\u001b[0m\u001b[1;33m:\u001b[0m\u001b[1;33m\u001b[0m\u001b[1;33m\u001b[0m\u001b[0m\n\u001b[1;32m--> 565\u001b[1;33m             \u001b[1;32mreturn\u001b[0m \u001b[0mself\u001b[0m\u001b[1;33m.\u001b[0m\u001b[0m_getitem\u001b[0m\u001b[1;33m(\u001b[0m\u001b[0mwhere\u001b[0m\u001b[1;33m.\u001b[0m\u001b[0mlayout\u001b[0m\u001b[1;33m)\u001b[0m\u001b[1;33m\u001b[0m\u001b[1;33m\u001b[0m\u001b[0m\n\u001b[0m\u001b[0;32m    566\u001b[0m \u001b[1;33m\u001b[0m\u001b[0m\n",
      "\u001b[1;32mc:\\Users\\matis\\anaconda3\\lib\\site-packages\\awkward\\contents\\content.py\u001b[0m in \u001b[0;36m_getitem\u001b[1;34m(self, where)\u001b[0m\n\u001b[0;32m    639\u001b[0m         \u001b[1;32melif\u001b[0m \u001b[0misinstance\u001b[0m\u001b[1;33m(\u001b[0m\u001b[0mwhere\u001b[0m\u001b[1;33m,\u001b[0m \u001b[0mContent\u001b[0m\u001b[1;33m)\u001b[0m\u001b[1;33m:\u001b[0m\u001b[1;33m\u001b[0m\u001b[1;33m\u001b[0m\u001b[0m\n\u001b[1;32m--> 640\u001b[1;33m             \u001b[1;32mreturn\u001b[0m \u001b[0mself\u001b[0m\u001b[1;33m.\u001b[0m\u001b[0m_getitem\u001b[0m\u001b[1;33m(\u001b[0m\u001b[1;33m(\u001b[0m\u001b[0mwhere\u001b[0m\u001b[1;33m,\u001b[0m\u001b[1;33m)\u001b[0m\u001b[1;33m)\u001b[0m\u001b[1;33m\u001b[0m\u001b[1;33m\u001b[0m\u001b[0m\n\u001b[0m\u001b[0;32m    641\u001b[0m \u001b[1;33m\u001b[0m\u001b[0m\n",
      "\u001b[1;32mc:\\Users\\matis\\anaconda3\\lib\\site-packages\\awkward\\contents\\content.py\u001b[0m in \u001b[0;36m_getitem\u001b[1;34m(self, where)\u001b[0m\n\u001b[0;32m    556\u001b[0m \u001b[1;33m\u001b[0m\u001b[0m\n\u001b[1;32m--> 557\u001b[1;33m             \u001b[0mout\u001b[0m \u001b[1;33m=\u001b[0m \u001b[0mnext\u001b[0m\u001b[1;33m.\u001b[0m\u001b[0m_getitem_next\u001b[0m\u001b[1;33m(\u001b[0m\u001b[0mnextwhere\u001b[0m\u001b[1;33m[\u001b[0m\u001b[1;36m0\u001b[0m\u001b[1;33m]\u001b[0m\u001b[1;33m,\u001b[0m \u001b[0mnextwhere\u001b[0m\u001b[1;33m[\u001b[0m\u001b[1;36m1\u001b[0m\u001b[1;33m:\u001b[0m\u001b[1;33m]\u001b[0m\u001b[1;33m,\u001b[0m \u001b[1;32mNone\u001b[0m\u001b[1;33m)\u001b[0m\u001b[1;33m\u001b[0m\u001b[1;33m\u001b[0m\u001b[0m\n\u001b[0m\u001b[0;32m    558\u001b[0m \u001b[1;33m\u001b[0m\u001b[0m\n",
      "\u001b[1;32mc:\\Users\\matis\\anaconda3\\lib\\site-packages\\awkward\\contents\\regulararray.py\u001b[0m in \u001b[0;36m_getitem_next\u001b[1;34m(self, head, tail, advanced)\u001b[0m\n\u001b[0;32m    698\u001b[0m             )\n\u001b[1;32m--> 699\u001b[1;33m             down = self._content._getitem_next_jagged(\n\u001b[0m\u001b[0;32m    700\u001b[0m                 \u001b[0mmultistarts\u001b[0m\u001b[1;33m,\u001b[0m \u001b[0mmultistops\u001b[0m\u001b[1;33m,\u001b[0m \u001b[0mhead\u001b[0m\u001b[1;33m.\u001b[0m\u001b[0m_content\u001b[0m\u001b[1;33m,\u001b[0m \u001b[0mtail\u001b[0m\u001b[1;33m\u001b[0m\u001b[1;33m\u001b[0m\u001b[0m\n",
      "\u001b[1;32mc:\\Users\\matis\\anaconda3\\lib\\site-packages\\awkward\\contents\\recordarray.py\u001b[0m in \u001b[0;36m_getitem_next_jagged\u001b[1;34m(self, slicestarts, slicestops, slicecontent, tail)\u001b[0m\n\u001b[0;32m    538\u001b[0m             contents.append(\n\u001b[1;32m--> 539\u001b[1;33m                 self.content(i)._getitem_next_jagged(\n\u001b[0m\u001b[0;32m    540\u001b[0m                     \u001b[0mslicestarts\u001b[0m\u001b[1;33m,\u001b[0m \u001b[0mslicestops\u001b[0m\u001b[1;33m,\u001b[0m \u001b[0mslicecontent\u001b[0m\u001b[1;33m,\u001b[0m \u001b[0mtail\u001b[0m\u001b[1;33m\u001b[0m\u001b[1;33m\u001b[0m\u001b[0m\n",
      "\u001b[1;32mc:\\Users\\matis\\anaconda3\\lib\\site-packages\\awkward\\contents\\numpyarray.py\u001b[0m in \u001b[0;36m_getitem_next_jagged\u001b[1;34m(self, slicestarts, slicestops, slicecontent, tail)\u001b[0m\n\u001b[0;32m    358\u001b[0m         \u001b[1;32mif\u001b[0m \u001b[0mself\u001b[0m\u001b[1;33m.\u001b[0m\u001b[0m_data\u001b[0m\u001b[1;33m.\u001b[0m\u001b[0mndim\u001b[0m \u001b[1;33m==\u001b[0m \u001b[1;36m1\u001b[0m\u001b[1;33m:\u001b[0m\u001b[1;33m\u001b[0m\u001b[1;33m\u001b[0m\u001b[0m\n\u001b[1;32m--> 359\u001b[1;33m             raise ak._errors.index_error(\n\u001b[0m\u001b[0;32m    360\u001b[0m                 \u001b[0mself\u001b[0m\u001b[1;33m,\u001b[0m\u001b[1;33m\u001b[0m\u001b[1;33m\u001b[0m\u001b[0m\n",
      "\u001b[1;31mIndexError\u001b[0m: cannot slice NumpyArray (of length 24930) with [[0], [], [0], [], [], [0], [0], [0], ..., [], [0], [0], [0], [0], [0], [0]]: too many jagged slice dimensions for array",
      "\nThe above exception was the direct cause of the following exception:\n",
      "\u001b[1;31mIndexError\u001b[0m                                Traceback (most recent call last)",
      "\u001b[1;32m<ipython-input-85-373b77d2d701>\u001b[0m in \u001b[0;36m<module>\u001b[1;34m\u001b[0m\n\u001b[0;32m      4\u001b[0m \u001b[0mprint\u001b[0m\u001b[1;33m(\u001b[0m\u001b[0mlen\u001b[0m\u001b[1;33m(\u001b[0m\u001b[0mtops_1\u001b[0m\u001b[1;33m)\u001b[0m\u001b[1;33m)\u001b[0m\u001b[1;33m\u001b[0m\u001b[1;33m\u001b[0m\u001b[0m\n\u001b[0;32m      5\u001b[0m \u001b[0mprint\u001b[0m\u001b[1;33m(\u001b[0m\u001b[0mlen\u001b[0m\u001b[1;33m(\u001b[0m\u001b[0mmasks_tttbarW\u001b[0m\u001b[1;33m)\u001b[0m\u001b[1;33m)\u001b[0m\u001b[1;33m\u001b[0m\u001b[1;33m\u001b[0m\u001b[0m\n\u001b[1;32m----> 6\u001b[1;33m \u001b[0mfiltered_tops_1\u001b[0m \u001b[1;33m=\u001b[0m \u001b[0mtops_1\u001b[0m\u001b[1;33m[\u001b[0m\u001b[0mmasks_tttbarW\u001b[0m\u001b[1;33m]\u001b[0m\u001b[1;33m\u001b[0m\u001b[1;33m\u001b[0m\u001b[0m\n\u001b[0m\u001b[0;32m      7\u001b[0m \u001b[0mfiltered_tops_2\u001b[0m \u001b[1;33m=\u001b[0m \u001b[0mtops_2\u001b[0m\u001b[1;33m[\u001b[0m\u001b[0mmasks_tttbarW\u001b[0m\u001b[1;33m]\u001b[0m\u001b[1;33m\u001b[0m\u001b[1;33m\u001b[0m\u001b[0m\n\u001b[0;32m      8\u001b[0m \u001b[1;33m\u001b[0m\u001b[0m\n",
      "\u001b[1;32mc:\\Users\\matis\\anaconda3\\lib\\site-packages\\awkward\\highlevel.py\u001b[0m in \u001b[0;36m__getitem__\u001b[1;34m(self, where)\u001b[0m\n\u001b[0;32m   1063\u001b[0m         \"\"\"\n\u001b[0;32m   1064\u001b[0m         \u001b[1;32mwith\u001b[0m \u001b[0mak\u001b[0m\u001b[1;33m.\u001b[0m\u001b[0m_errors\u001b[0m\u001b[1;33m.\u001b[0m\u001b[0mSlicingErrorContext\u001b[0m\u001b[1;33m(\u001b[0m\u001b[0mself\u001b[0m\u001b[1;33m,\u001b[0m \u001b[0mwhere\u001b[0m\u001b[1;33m)\u001b[0m\u001b[1;33m:\u001b[0m\u001b[1;33m\u001b[0m\u001b[1;33m\u001b[0m\u001b[0m\n\u001b[1;32m-> 1065\u001b[1;33m             return wrap_layout(\n\u001b[0m\u001b[0;32m   1066\u001b[0m                 \u001b[0mprepare_layout\u001b[0m\u001b[1;33m(\u001b[0m\u001b[0mself\u001b[0m\u001b[1;33m.\u001b[0m\u001b[0m_layout\u001b[0m\u001b[1;33m[\u001b[0m\u001b[0mwhere\u001b[0m\u001b[1;33m]\u001b[0m\u001b[1;33m)\u001b[0m\u001b[1;33m,\u001b[0m\u001b[1;33m\u001b[0m\u001b[1;33m\u001b[0m\u001b[0m\n\u001b[0;32m   1067\u001b[0m                 \u001b[0mself\u001b[0m\u001b[1;33m.\u001b[0m\u001b[0m_behavior\u001b[0m\u001b[1;33m,\u001b[0m\u001b[1;33m\u001b[0m\u001b[1;33m\u001b[0m\u001b[0m\n",
      "\u001b[1;32mc:\\Users\\matis\\anaconda3\\lib\\site-packages\\awkward\\_errors.py\u001b[0m in \u001b[0;36m__exit__\u001b[1;34m(self, exception_type, exception_value, traceback)\u001b[0m\n\u001b[0;32m     83\u001b[0m                 \u001b[1;32mand\u001b[0m \u001b[0mself\u001b[0m\u001b[1;33m.\u001b[0m\u001b[0mprimary\u001b[0m\u001b[1;33m(\u001b[0m\u001b[1;33m)\u001b[0m \u001b[1;32mis\u001b[0m \u001b[0mself\u001b[0m\u001b[1;33m\u001b[0m\u001b[1;33m\u001b[0m\u001b[0m\n\u001b[0;32m     84\u001b[0m             ):\n\u001b[1;32m---> 85\u001b[1;33m                 \u001b[0mself\u001b[0m\u001b[1;33m.\u001b[0m\u001b[0mhandle_exception\u001b[0m\u001b[1;33m(\u001b[0m\u001b[0mexception_type\u001b[0m\u001b[1;33m,\u001b[0m \u001b[0mexception_value\u001b[0m\u001b[1;33m)\u001b[0m\u001b[1;33m\u001b[0m\u001b[1;33m\u001b[0m\u001b[0m\n\u001b[0m\u001b[0;32m     86\u001b[0m         \u001b[1;32mfinally\u001b[0m\u001b[1;33m:\u001b[0m\u001b[1;33m\u001b[0m\u001b[1;33m\u001b[0m\u001b[0m\n\u001b[0;32m     87\u001b[0m             \u001b[1;31m# Step out of the way so that another ErrorContext can become primary.\u001b[0m\u001b[1;33m\u001b[0m\u001b[1;33m\u001b[0m\u001b[1;33m\u001b[0m\u001b[0m\n",
      "\u001b[1;32mc:\\Users\\matis\\anaconda3\\lib\\site-packages\\awkward\\_errors.py\u001b[0m in \u001b[0;36mhandle_exception\u001b[1;34m(self, cls, exception)\u001b[0m\n\u001b[0;32m     93\u001b[0m             \u001b[0mself\u001b[0m\u001b[1;33m.\u001b[0m\u001b[0mdecorate_exception\u001b[0m\u001b[1;33m(\u001b[0m\u001b[0mcls\u001b[0m\u001b[1;33m,\u001b[0m \u001b[0mexception\u001b[0m\u001b[1;33m)\u001b[0m\u001b[1;33m\u001b[0m\u001b[1;33m\u001b[0m\u001b[0m\n\u001b[0;32m     94\u001b[0m         \u001b[1;32melse\u001b[0m\u001b[1;33m:\u001b[0m\u001b[1;33m\u001b[0m\u001b[1;33m\u001b[0m\u001b[0m\n\u001b[1;32m---> 95\u001b[1;33m             \u001b[1;32mraise\u001b[0m \u001b[0mself\u001b[0m\u001b[1;33m.\u001b[0m\u001b[0mdecorate_exception\u001b[0m\u001b[1;33m(\u001b[0m\u001b[0mcls\u001b[0m\u001b[1;33m,\u001b[0m \u001b[0mexception\u001b[0m\u001b[1;33m)\u001b[0m\u001b[1;33m\u001b[0m\u001b[1;33m\u001b[0m\u001b[0m\n\u001b[0m\u001b[0;32m     96\u001b[0m \u001b[1;33m\u001b[0m\u001b[0m\n\u001b[0;32m     97\u001b[0m     \u001b[1;32mdef\u001b[0m \u001b[0mdecorate_exception\u001b[0m\u001b[1;33m(\u001b[0m\u001b[0mself\u001b[0m\u001b[1;33m,\u001b[0m \u001b[0mcls\u001b[0m\u001b[1;33m:\u001b[0m \u001b[0mtype\u001b[0m\u001b[1;33m[\u001b[0m\u001b[0mE\u001b[0m\u001b[1;33m]\u001b[0m\u001b[1;33m,\u001b[0m \u001b[0mexception\u001b[0m\u001b[1;33m:\u001b[0m \u001b[0mE\u001b[0m\u001b[1;33m)\u001b[0m \u001b[1;33m->\u001b[0m \u001b[0mException\u001b[0m\u001b[1;33m:\u001b[0m\u001b[1;33m\u001b[0m\u001b[1;33m\u001b[0m\u001b[0m\n",
      "\u001b[1;31mIndexError\u001b[0m: cannot slice NumpyArray (of length 24930) with [[0], [], [0], [], [], [0], [0], [0], ..., [], [0], [0], [0], [0], [0], [0]]: too many jagged slice dimensions for array\n\nThis error occurred while attempting to slice\n\n    <MomentumArray4D [{rho: 182, phi: -1.36, ...}, ...] type='24930 * Momen...'>\n\nwith\n\n    <Array [[True], [False], [True], ..., [True], [True]] type='24930 * var * bool'>"
     ]
    }
   ],
   "source": [
    "tops_1 = vector.zip({'pt':tttbarW['top_pt'][:,0],'eta':tttbarW['top_eta'][:,0],'phi':tttbarW['top_phi'][:,0], 'mass':172.76})\n",
    "tops_2 = vector.zip({'pt':tttbarW['top_pt'][:,1],'eta':tttbarW['top_eta'][:,1],'phi':tttbarW['top_phi'][:,1], 'mass':172.76})\n",
    "anti_tops = vector.zip({'pt':tttbarW['anti_top_pt'],'eta':tttbarW['anti_top_eta'],'phi':tttbarW['anti_top_phi'], 'mass':172.76})\n",
    "print(len(tops_1))\n",
    "print(len(masks_tttbarW))\n",
    "filtered_tops_1 = tops_1[masks_tttbarW]\n",
    "filtered_tops_2 = tops_2[masks_tttbarW]\n",
    "\n",
    "\n",
    "bar_tops = vector.zip({'pt':ttbartbarW['top_pt'],'eta':ttbartbarW['top_eta'],'phi':ttbartbarW['top_phi'], 'mass':172.76})\n",
    "bar_antitops_1 = vector.zip({'pt':ttbartbarW['anti_top_pt'][:,0],'eta':ttbartbarW['anti_top_eta'][:,0],'phi':ttbartbarW['anti_top_phi'][:,0], 'mass':172.76})\n",
    "bar_antitops_2 = vector.zip({'pt':ttbartbarW['anti_top_pt'][:,1],'eta':ttbartbarW['anti_top_eta'][:,1],'phi':ttbartbarW['anti_top_phi'][:,1], 'mass':172.76})\n"
   ]
  },
  {
   "cell_type": "markdown",
   "metadata": {},
   "source": [
    "4 tops example"
   ]
  },
  {
   "cell_type": "code",
   "execution_count": 34,
   "metadata": {},
   "outputs": [
    {
     "name": "stdout",
     "output_type": "stream",
     "text": [
      "5\n"
     ]
    }
   ],
   "source": [
    "tree = uproot.open('C:\\Users/matis/OneDrive/Documents/Y4/Project/4tops_partonic_skimmed_2409.root')['tree']\n",
    "events = tree.arrays(['top_pt', 'top_eta', 'top_phi', 'top_e', 'anti_top_pt', 'anti_top_eta', 'anti_top_phi', 'anti_top_e'])\n",
    "\n",
    "for data in tree.iterate(['top_pt', 'top_eta', 'top_phi', 'top_e', 'anti_top_pt', 'anti_top_eta', 'anti_top_phi', 'anti_top_e']):\n",
    "\n",
    "    pt_mask_1 = data['top_pt'][:, 0] > 50\n",
    "    pt_mask_2 = data['top_pt'][:, 1] > 50\n",
    "\n",
    "    eta_mask_1 = (data['top_eta'][:, 0] > -2.4) & (data['top_eta'][:, 0] < 2.4)\n",
    "    eta_mask_2 = (data['top_eta'][:, 1] > -2.4) & (data['top_eta'][:, 1] < 2.4)\n",
    "\n",
    "    anti_pt_mask_1 = data['anti_top_pt'][:, 0] > 50\n",
    "    anti_pt_mask_2 = data['anti_top_pt'][:, 1] > 50\n",
    "\n",
    "    anti_eta_mask_1 = (data['anti_top_eta'][:, 0] > -2.4) & (data['anti_top_eta'][:, 0] < 2.4)\n",
    "    anti_eta_mask_2 = (data['anti_top_eta'][:, 1] > -2.4) & (data['anti_top_eta'][:, 1] < 2.4)\n",
    "\n",
    "    masks = pt_mask_1 & pt_mask_2 & eta_mask_1 & eta_mask_2 & anti_pt_mask_1 & anti_pt_mask_2 & anti_eta_mask_1 & anti_eta_mask_2\n",
    "\n",
    "    top_pt = awkward.to_numpy(data['top_pt'])\n",
    "    top_e = awkward.to_numpy(data['top_e'])\n",
    "    top_eta = awkward.to_numpy(data['top_eta'])\n",
    "    antitop_eta = awkward.to_numpy(data['anti_top_eta'])\n",
    "\n",
    "\n",
    "    filtered_top_pt = top_pt[(top_pt[:, 0] >= 250) & (top_pt[:, 1] >= 250)]\n",
    "    filtered_top_e = top_e[(top_pt[:, 0] >= 250) & (top_pt[:, 1] >= 250)]\n",
    "    filtered_top_eta = top_eta[(top_pt[:, 0] >= 250) & (top_pt[:, 1] >= 250)]\n",
    "    filtered_antitop_eta = antitop_eta[(top_pt[:, 0] >= 250) & (top_pt[:, 1] >= 250)]"
   ]
  },
  {
   "cell_type": "markdown",
   "metadata": {},
   "source": [
    "\n",
    "2. Plotting Histograms"
   ]
  },
  {
   "cell_type": "code",
   "execution_count": 6,
   "metadata": {},
   "outputs": [
    {
     "data": {
      "image/png": "[encoded data removed]",
      "text/plain": [
       "<Figure size 504x360 with 1 Axes>"
      ]
     },
     "metadata": {
      "needs_background": "light"
     },
     "output_type": "display_data"
    }
   ],
   "source": [
    "split_top_e = top_e.reshape(100000,1)\n",
    "split_filtered_top_e = filtered_top_e.reshape(13634,1)\n",
    "\n",
    "plt.figure(figsize=(7,5))\n",
    "plt.hist(split_top_e, bins=100, label = 'Unfiltered', range=(0,2500))\n",
    "plt.hist(split_filtered_top_e, bins=100, label = 'Filtered', range=(0,2500))\n",
    "plt.title(\"Distribution of top energy\")\n",
    "plt.xlabel(r\"Energy E (GeV)\")\n",
    "plt.ylabel(\"Count\")\n",
    "plt.legend()\n",
    "plt.show()"
   ]
  },
  {
   "cell_type": "code",
   "execution_count": 7,
   "metadata": {},
   "outputs": [],
   "source": [
    "split_antitop_eta = antitop_eta.reshape(100000,1)\n",
    "split_filtered_antitop_eta = filtered_antitop_eta.reshape(13634,1)\n",
    "split_top_eta = top_eta.reshape(100000,1)\n",
    "split_filtered_top_eta = filtered_top_eta.reshape(13634,1)"
   ]
  },
  {
   "cell_type": "code",
   "execution_count": 8,
   "metadata": {},
   "outputs": [
    {
     "data": {
      "image/png": "[encoded data removed]",
      "text/plain": [
       "<Figure size 504x360 with 1 Axes>"
      ]
     },
     "metadata": {
      "needs_background": "light"
     },
     "output_type": "display_data"
    }
   ],
   "source": [
    "plt.figure(figsize=(7,5))\n",
    "plt.hist(split_antitop_eta, bins=50, label = 'Unfiltered')\n",
    "plt.hist(split_filtered_antitop_eta, bins=50, label = 'Filtered')\n",
    "plt.title(\"Distribution of pseudorapdity of antitops abount 0\")\n",
    "plt.xlabel(r\"Pseudorapidity $\\eta$\")\n",
    "plt.ylabel(\"Count\")\n",
    "plt.legend()\n",
    "plt.show()"
   ]
  },
  {
   "cell_type": "code",
   "execution_count": 9,
   "metadata": {},
   "outputs": [
    {
     "data": {
      "image/png": "[encoded data removed]",
      "text/plain": [
       "<Figure size 504x360 with 1 Axes>"
      ]
     },
     "metadata": {
      "needs_background": "light"
     },
     "output_type": "display_data"
    }
   ],
   "source": [
    "plt.figure(figsize=(7,5))\n",
    "plt.hist(split_top_eta, bins=50, label = 'Unfiltered')\n",
    "plt.hist(split_filtered_top_eta, bins=50, label = 'Filtered')\n",
    "plt.title(\"Distribution of pseudorapdity of tops abount 0\")\n",
    "plt.xlabel(r\"Pseudorapidity $\\eta$\")\n",
    "plt.ylabel(\"Count\")\n",
    "plt.legend()\n",
    "plt.show()"
   ]
  },
  {
   "cell_type": "markdown",
   "metadata": {},
   "source": [
    "Vectors\n",
    "1. Masks/Filters"
   ]
  },
  {
   "cell_type": "code",
   "execution_count": 79,
   "metadata": {},
   "outputs": [
    {
     "ename": "IndexError",
     "evalue": "cannot slice ListArray (of length 50000) with array(1): index out of range while attempting to get index 1 (in compiled code: https://github.com/scikit-hep/awkward/blob/awkward-cpp-38/awkward-cpp/src/cpu-kernels/awkward_ListArray_getitem_next_at.cpp#L21)\n\nThis error occurred while attempting to slice\n\n    <Array [[182, 108], [242], ..., [185, 364]] type='50000 * var * float32'>\n\nwith\n\n    (:, 1)",
     "output_type": "error",
     "traceback": [
      "\u001b[1;31m---------------------------------------------------------------------------\u001b[0m",
      "\u001b[1;31mIndexError\u001b[0m                                Traceback (most recent call last)",
      "\u001b[1;32mc:\\Users\\matis\\anaconda3\\lib\\site-packages\\awkward\\highlevel.py\u001b[0m in \u001b[0;36m__getitem__\u001b[1;34m(self, where)\u001b[0m\n\u001b[0;32m   1065\u001b[0m             return wrap_layout(\n\u001b[1;32m-> 1066\u001b[1;33m                 \u001b[0mprepare_layout\u001b[0m\u001b[1;33m(\u001b[0m\u001b[0mself\u001b[0m\u001b[1;33m.\u001b[0m\u001b[0m_layout\u001b[0m\u001b[1;33m[\u001b[0m\u001b[0mwhere\u001b[0m\u001b[1;33m]\u001b[0m\u001b[1;33m)\u001b[0m\u001b[1;33m,\u001b[0m\u001b[1;33m\u001b[0m\u001b[1;33m\u001b[0m\u001b[0m\n\u001b[0m\u001b[0;32m   1067\u001b[0m                 \u001b[0mself\u001b[0m\u001b[1;33m.\u001b[0m\u001b[0m_behavior\u001b[0m\u001b[1;33m,\u001b[0m\u001b[1;33m\u001b[0m\u001b[1;33m\u001b[0m\u001b[0m\n",
      "\u001b[1;32mc:\\Users\\matis\\anaconda3\\lib\\site-packages\\awkward\\contents\\content.py\u001b[0m in \u001b[0;36m__getitem__\u001b[1;34m(self, where)\u001b[0m\n\u001b[0;32m    511\u001b[0m     \u001b[1;32mdef\u001b[0m \u001b[0m__getitem__\u001b[0m\u001b[1;33m(\u001b[0m\u001b[0mself\u001b[0m\u001b[1;33m,\u001b[0m \u001b[0mwhere\u001b[0m\u001b[1;33m)\u001b[0m\u001b[1;33m:\u001b[0m\u001b[1;33m\u001b[0m\u001b[1;33m\u001b[0m\u001b[0m\n\u001b[1;32m--> 512\u001b[1;33m         \u001b[1;32mreturn\u001b[0m \u001b[0mself\u001b[0m\u001b[1;33m.\u001b[0m\u001b[0m_getitem\u001b[0m\u001b[1;33m(\u001b[0m\u001b[0mwhere\u001b[0m\u001b[1;33m)\u001b[0m\u001b[1;33m\u001b[0m\u001b[1;33m\u001b[0m\u001b[0m\n\u001b[0m\u001b[0;32m    513\u001b[0m \u001b[1;33m\u001b[0m\u001b[0m\n",
      "\u001b[1;32mc:\\Users\\matis\\anaconda3\\lib\\site-packages\\awkward\\contents\\content.py\u001b[0m in \u001b[0;36m_getitem\u001b[1;34m(self, where)\u001b[0m\n\u001b[0;32m    556\u001b[0m \u001b[1;33m\u001b[0m\u001b[0m\n\u001b[1;32m--> 557\u001b[1;33m             \u001b[0mout\u001b[0m \u001b[1;33m=\u001b[0m \u001b[0mnext\u001b[0m\u001b[1;33m.\u001b[0m\u001b[0m_getitem_next\u001b[0m\u001b[1;33m(\u001b[0m\u001b[0mnextwhere\u001b[0m\u001b[1;33m[\u001b[0m\u001b[1;36m0\u001b[0m\u001b[1;33m]\u001b[0m\u001b[1;33m,\u001b[0m \u001b[0mnextwhere\u001b[0m\u001b[1;33m[\u001b[0m\u001b[1;36m1\u001b[0m\u001b[1;33m:\u001b[0m\u001b[1;33m]\u001b[0m\u001b[1;33m,\u001b[0m \u001b[1;32mNone\u001b[0m\u001b[1;33m)\u001b[0m\u001b[1;33m\u001b[0m\u001b[1;33m\u001b[0m\u001b[0m\n\u001b[0m\u001b[0;32m    558\u001b[0m \u001b[1;33m\u001b[0m\u001b[0m\n",
      "\u001b[1;32mc:\\Users\\matis\\anaconda3\\lib\\site-packages\\awkward\\contents\\regulararray.py\u001b[0m in \u001b[0;36m_getitem_next\u001b[1;34m(self, head, tail, advanced)\u001b[0m\n\u001b[0;32m    518\u001b[0m                 return RegularArray(\n\u001b[1;32m--> 519\u001b[1;33m                     \u001b[0mnextcontent\u001b[0m\u001b[1;33m.\u001b[0m\u001b[0m_getitem_next\u001b[0m\u001b[1;33m(\u001b[0m\u001b[0mnexthead\u001b[0m\u001b[1;33m,\u001b[0m \u001b[0mnexttail\u001b[0m\u001b[1;33m,\u001b[0m \u001b[0madvanced\u001b[0m\u001b[1;33m)\u001b[0m\u001b[1;33m,\u001b[0m\u001b[1;33m\u001b[0m\u001b[1;33m\u001b[0m\u001b[0m\n\u001b[0m\u001b[0;32m    520\u001b[0m                     \u001b[0mnextsize\u001b[0m\u001b[1;33m,\u001b[0m\u001b[1;33m\u001b[0m\u001b[1;33m\u001b[0m\u001b[0m\n",
      "\u001b[1;32mc:\\Users\\matis\\anaconda3\\lib\\site-packages\\awkward\\contents\\listarray.py\u001b[0m in \u001b[0;36m_getitem_next\u001b[1;34m(self, head, tail, advanced)\u001b[0m\n\u001b[0;32m    719\u001b[0m             )\n\u001b[1;32m--> 720\u001b[1;33m             self._maybe_index_error(\n\u001b[0m\u001b[0;32m    721\u001b[0m                 self._backend[\n",
      "\u001b[1;32mc:\\Users\\matis\\anaconda3\\lib\\site-packages\\awkward\\contents\\content.py\u001b[0m in \u001b[0;36m_maybe_index_error\u001b[1;34m(self, error, slicer)\u001b[0m\n\u001b[0;32m    276\u001b[0m             \u001b[0mmessage\u001b[0m \u001b[1;33m=\u001b[0m \u001b[0mself\u001b[0m\u001b[1;33m.\u001b[0m\u001b[0m_backend\u001b[0m\u001b[1;33m.\u001b[0m\u001b[0mformat_kernel_error\u001b[0m\u001b[1;33m(\u001b[0m\u001b[0merror\u001b[0m\u001b[1;33m)\u001b[0m\u001b[1;33m\u001b[0m\u001b[1;33m\u001b[0m\u001b[0m\n\u001b[1;32m--> 277\u001b[1;33m             \u001b[1;32mraise\u001b[0m \u001b[0mak\u001b[0m\u001b[1;33m.\u001b[0m\u001b[0m_errors\u001b[0m\u001b[1;33m.\u001b[0m\u001b[0mindex_error\u001b[0m\u001b[1;33m(\u001b[0m\u001b[0mself\u001b[0m\u001b[1;33m,\u001b[0m \u001b[0mslicer\u001b[0m\u001b[1;33m,\u001b[0m \u001b[0mmessage\u001b[0m\u001b[1;33m)\u001b[0m\u001b[1;33m\u001b[0m\u001b[1;33m\u001b[0m\u001b[0m\n\u001b[0m\u001b[0;32m    278\u001b[0m \u001b[1;33m\u001b[0m\u001b[0m\n",
      "\u001b[1;31mIndexError\u001b[0m: cannot slice ListArray (of length 50000) with array(1): index out of range while attempting to get index 1 (in compiled code: https://github.com/scikit-hep/awkward/blob/awkward-cpp-38/awkward-cpp/src/cpu-kernels/awkward_ListArray_getitem_next_at.cpp#L21)",
      "\nThe above exception was the direct cause of the following exception:\n",
      "\u001b[1;31mIndexError\u001b[0m                                Traceback (most recent call last)",
      "\u001b[1;32m<ipython-input-79-cdd4f0e9236b>\u001b[0m in \u001b[0;36m<module>\u001b[1;34m\u001b[0m\n\u001b[0;32m      1\u001b[0m \u001b[0mpt_mask_1\u001b[0m \u001b[1;33m=\u001b[0m \u001b[0mevents\u001b[0m\u001b[1;33m[\u001b[0m\u001b[1;34m'top_pt'\u001b[0m\u001b[1;33m]\u001b[0m\u001b[1;33m[\u001b[0m\u001b[1;33m:\u001b[0m\u001b[1;33m,\u001b[0m \u001b[1;36m0\u001b[0m\u001b[1;33m]\u001b[0m \u001b[1;33m>\u001b[0m \u001b[1;36m50\u001b[0m\u001b[1;33m\u001b[0m\u001b[1;33m\u001b[0m\u001b[0m\n\u001b[1;32m----> 2\u001b[1;33m \u001b[0mpt_mask_2\u001b[0m \u001b[1;33m=\u001b[0m \u001b[0mevents\u001b[0m\u001b[1;33m[\u001b[0m\u001b[1;34m'top_pt'\u001b[0m\u001b[1;33m]\u001b[0m\u001b[1;33m[\u001b[0m\u001b[1;33m:\u001b[0m\u001b[1;33m,\u001b[0m \u001b[1;36m1\u001b[0m\u001b[1;33m]\u001b[0m \u001b[1;33m>\u001b[0m \u001b[1;36m50\u001b[0m\u001b[1;33m\u001b[0m\u001b[1;33m\u001b[0m\u001b[0m\n\u001b[0m\u001b[0;32m      3\u001b[0m \u001b[1;33m\u001b[0m\u001b[0m\n\u001b[0;32m      4\u001b[0m \u001b[0meta_mask_1\u001b[0m \u001b[1;33m=\u001b[0m \u001b[1;33m(\u001b[0m\u001b[0mevents\u001b[0m\u001b[1;33m[\u001b[0m\u001b[1;34m'top_eta'\u001b[0m\u001b[1;33m]\u001b[0m\u001b[1;33m[\u001b[0m\u001b[1;33m:\u001b[0m\u001b[1;33m,\u001b[0m \u001b[1;36m0\u001b[0m\u001b[1;33m]\u001b[0m \u001b[1;33m>\u001b[0m \u001b[1;33m-\u001b[0m\u001b[1;36m2.4\u001b[0m\u001b[1;33m)\u001b[0m \u001b[1;33m&\u001b[0m \u001b[1;33m(\u001b[0m\u001b[0mdata\u001b[0m\u001b[1;33m[\u001b[0m\u001b[1;34m'top_eta'\u001b[0m\u001b[1;33m]\u001b[0m\u001b[1;33m[\u001b[0m\u001b[1;33m:\u001b[0m\u001b[1;33m,\u001b[0m \u001b[1;36m0\u001b[0m\u001b[1;33m]\u001b[0m \u001b[1;33m<\u001b[0m \u001b[1;36m2.4\u001b[0m\u001b[1;33m)\u001b[0m\u001b[1;33m\u001b[0m\u001b[1;33m\u001b[0m\u001b[0m\n\u001b[0;32m      5\u001b[0m \u001b[0meta_mask_2\u001b[0m \u001b[1;33m=\u001b[0m \u001b[1;33m(\u001b[0m\u001b[0mevents\u001b[0m\u001b[1;33m[\u001b[0m\u001b[1;34m'top_eta'\u001b[0m\u001b[1;33m]\u001b[0m\u001b[1;33m[\u001b[0m\u001b[1;33m:\u001b[0m\u001b[1;33m,\u001b[0m \u001b[1;36m1\u001b[0m\u001b[1;33m]\u001b[0m \u001b[1;33m>\u001b[0m \u001b[1;33m-\u001b[0m\u001b[1;36m2.4\u001b[0m\u001b[1;33m)\u001b[0m \u001b[1;33m&\u001b[0m \u001b[1;33m(\u001b[0m\u001b[0mdata\u001b[0m\u001b[1;33m[\u001b[0m\u001b[1;34m'top_eta'\u001b[0m\u001b[1;33m]\u001b[0m\u001b[1;33m[\u001b[0m\u001b[1;33m:\u001b[0m\u001b[1;33m,\u001b[0m \u001b[1;36m1\u001b[0m\u001b[1;33m]\u001b[0m \u001b[1;33m<\u001b[0m \u001b[1;36m2.4\u001b[0m\u001b[1;33m)\u001b[0m\u001b[1;33m\u001b[0m\u001b[1;33m\u001b[0m\u001b[0m\n",
      "\u001b[1;32mc:\\Users\\matis\\anaconda3\\lib\\site-packages\\awkward\\highlevel.py\u001b[0m in \u001b[0;36m__getitem__\u001b[1;34m(self, where)\u001b[0m\n\u001b[0;32m   1063\u001b[0m         \"\"\"\n\u001b[0;32m   1064\u001b[0m         \u001b[1;32mwith\u001b[0m \u001b[0mak\u001b[0m\u001b[1;33m.\u001b[0m\u001b[0m_errors\u001b[0m\u001b[1;33m.\u001b[0m\u001b[0mSlicingErrorContext\u001b[0m\u001b[1;33m(\u001b[0m\u001b[0mself\u001b[0m\u001b[1;33m,\u001b[0m \u001b[0mwhere\u001b[0m\u001b[1;33m)\u001b[0m\u001b[1;33m:\u001b[0m\u001b[1;33m\u001b[0m\u001b[1;33m\u001b[0m\u001b[0m\n\u001b[1;32m-> 1065\u001b[1;33m             return wrap_layout(\n\u001b[0m\u001b[0;32m   1066\u001b[0m                 \u001b[0mprepare_layout\u001b[0m\u001b[1;33m(\u001b[0m\u001b[0mself\u001b[0m\u001b[1;33m.\u001b[0m\u001b[0m_layout\u001b[0m\u001b[1;33m[\u001b[0m\u001b[0mwhere\u001b[0m\u001b[1;33m]\u001b[0m\u001b[1;33m)\u001b[0m\u001b[1;33m,\u001b[0m\u001b[1;33m\u001b[0m\u001b[1;33m\u001b[0m\u001b[0m\n\u001b[0;32m   1067\u001b[0m                 \u001b[0mself\u001b[0m\u001b[1;33m.\u001b[0m\u001b[0m_behavior\u001b[0m\u001b[1;33m,\u001b[0m\u001b[1;33m\u001b[0m\u001b[1;33m\u001b[0m\u001b[0m\n",
      "\u001b[1;32mc:\\Users\\matis\\anaconda3\\lib\\site-packages\\awkward\\_errors.py\u001b[0m in \u001b[0;36m__exit__\u001b[1;34m(self, exception_type, exception_value, traceback)\u001b[0m\n\u001b[0;32m     83\u001b[0m                 \u001b[1;32mand\u001b[0m \u001b[0mself\u001b[0m\u001b[1;33m.\u001b[0m\u001b[0mprimary\u001b[0m\u001b[1;33m(\u001b[0m\u001b[1;33m)\u001b[0m \u001b[1;32mis\u001b[0m \u001b[0mself\u001b[0m\u001b[1;33m\u001b[0m\u001b[1;33m\u001b[0m\u001b[0m\n\u001b[0;32m     84\u001b[0m             ):\n\u001b[1;32m---> 85\u001b[1;33m                 \u001b[0mself\u001b[0m\u001b[1;33m.\u001b[0m\u001b[0mhandle_exception\u001b[0m\u001b[1;33m(\u001b[0m\u001b[0mexception_type\u001b[0m\u001b[1;33m,\u001b[0m \u001b[0mexception_value\u001b[0m\u001b[1;33m)\u001b[0m\u001b[1;33m\u001b[0m\u001b[1;33m\u001b[0m\u001b[0m\n\u001b[0m\u001b[0;32m     86\u001b[0m         \u001b[1;32mfinally\u001b[0m\u001b[1;33m:\u001b[0m\u001b[1;33m\u001b[0m\u001b[1;33m\u001b[0m\u001b[0m\n\u001b[0;32m     87\u001b[0m             \u001b[1;31m# Step out of the way so that another ErrorContext can become primary.\u001b[0m\u001b[1;33m\u001b[0m\u001b[1;33m\u001b[0m\u001b[1;33m\u001b[0m\u001b[0m\n",
      "\u001b[1;32mc:\\Users\\matis\\anaconda3\\lib\\site-packages\\awkward\\_errors.py\u001b[0m in \u001b[0;36mhandle_exception\u001b[1;34m(self, cls, exception)\u001b[0m\n\u001b[0;32m     93\u001b[0m             \u001b[0mself\u001b[0m\u001b[1;33m.\u001b[0m\u001b[0mdecorate_exception\u001b[0m\u001b[1;33m(\u001b[0m\u001b[0mcls\u001b[0m\u001b[1;33m,\u001b[0m \u001b[0mexception\u001b[0m\u001b[1;33m)\u001b[0m\u001b[1;33m\u001b[0m\u001b[1;33m\u001b[0m\u001b[0m\n\u001b[0;32m     94\u001b[0m         \u001b[1;32melse\u001b[0m\u001b[1;33m:\u001b[0m\u001b[1;33m\u001b[0m\u001b[1;33m\u001b[0m\u001b[0m\n\u001b[1;32m---> 95\u001b[1;33m             \u001b[1;32mraise\u001b[0m \u001b[0mself\u001b[0m\u001b[1;33m.\u001b[0m\u001b[0mdecorate_exception\u001b[0m\u001b[1;33m(\u001b[0m\u001b[0mcls\u001b[0m\u001b[1;33m,\u001b[0m \u001b[0mexception\u001b[0m\u001b[1;33m)\u001b[0m\u001b[1;33m\u001b[0m\u001b[1;33m\u001b[0m\u001b[0m\n\u001b[0m\u001b[0;32m     96\u001b[0m \u001b[1;33m\u001b[0m\u001b[0m\n\u001b[0;32m     97\u001b[0m     \u001b[1;32mdef\u001b[0m \u001b[0mdecorate_exception\u001b[0m\u001b[1;33m(\u001b[0m\u001b[0mself\u001b[0m\u001b[1;33m,\u001b[0m \u001b[0mcls\u001b[0m\u001b[1;33m:\u001b[0m \u001b[0mtype\u001b[0m\u001b[1;33m[\u001b[0m\u001b[0mE\u001b[0m\u001b[1;33m]\u001b[0m\u001b[1;33m,\u001b[0m \u001b[0mexception\u001b[0m\u001b[1;33m:\u001b[0m \u001b[0mE\u001b[0m\u001b[1;33m)\u001b[0m \u001b[1;33m->\u001b[0m \u001b[0mException\u001b[0m\u001b[1;33m:\u001b[0m\u001b[1;33m\u001b[0m\u001b[1;33m\u001b[0m\u001b[0m\n",
      "\u001b[1;31mIndexError\u001b[0m: cannot slice ListArray (of length 50000) with array(1): index out of range while attempting to get index 1 (in compiled code: https://github.com/scikit-hep/awkward/blob/awkward-cpp-38/awkward-cpp/src/cpu-kernels/awkward_ListArray_getitem_next_at.cpp#L21)\n\nThis error occurred while attempting to slice\n\n    <Array [[182, 108], [242], ..., [185, 364]] type='50000 * var * float32'>\n\nwith\n\n    (:, 1)"
     ]
    }
   ],
   "source": [
    "pt_mask_1 = events['top_pt'][:, 0] > 50\n",
    "pt_mask_2 = events['top_pt'][:, 1] > 50\n",
    "\n",
    "eta_mask_1 = (events['top_eta'][:, 0] > -2.4) & (data['top_eta'][:, 0] < 2.4)\n",
    "eta_mask_2 = (events['top_eta'][:, 1] > -2.4) & (data['top_eta'][:, 1] < 2.4)\n",
    "\n",
    "anti_pt_mask_1 = events['anti_top_pt'][:, 0] > 50\n",
    "anti_pt_mask_2 = events['anti_top_pt'][:, 1] > 50\n",
    "\n",
    "anti_eta_mask_1 = (events['anti_top_eta'][:, 0] > -2.4) & (data['anti_top_eta'][:, 0] < 2.4)\n",
    "anti_eta_mask_2 = (events['anti_top_eta'][:, 1] > -2.4) & (data['anti_top_eta'][:, 1] < 2.4)\n",
    "\n",
    "masks = pt_mask_1 & pt_mask_2 & eta_mask_1 & eta_mask_2 & anti_pt_mask_1 & anti_pt_mask_2 & anti_eta_mask_1 & anti_eta_mask_2"
   ]
  },
  {
   "cell_type": "markdown",
   "metadata": {},
   "source": [
    "2. Top AntiTop individual awkward vecors"
   ]
  },
  {
   "cell_type": "code",
   "execution_count": 78,
   "metadata": {},
   "outputs": [
    {
     "ename": "IndexError",
     "evalue": "cannot slice RegularArray (of length 1) with [[0], [], [0], [], [], [0], [0], [0], ..., [], [0], [0], [0], [0], [0], [0]]: cannot fit jagged slice with length 24930 into RegularArray of size 50000\n\nThis error occurred while attempting to slice\n\n    <MomentumArray4D [[{rho: 182, ...}, {...}], ..., [...]] type='50000 * v...'>\n\nwith\n\n    <Array [[True], [False], [True], ..., [True], [True]] type='24930 * var * bool'>",
     "output_type": "error",
     "traceback": [
      "\u001b[1;31m---------------------------------------------------------------------------\u001b[0m",
      "\u001b[1;31mIndexError\u001b[0m                                Traceback (most recent call last)",
      "\u001b[1;32mc:\\Users\\matis\\anaconda3\\lib\\site-packages\\awkward\\highlevel.py\u001b[0m in \u001b[0;36m__getitem__\u001b[1;34m(self, where)\u001b[0m\n\u001b[0;32m   1065\u001b[0m             return wrap_layout(\n\u001b[1;32m-> 1066\u001b[1;33m                 \u001b[0mprepare_layout\u001b[0m\u001b[1;33m(\u001b[0m\u001b[0mself\u001b[0m\u001b[1;33m.\u001b[0m\u001b[0m_layout\u001b[0m\u001b[1;33m[\u001b[0m\u001b[0mwhere\u001b[0m\u001b[1;33m]\u001b[0m\u001b[1;33m)\u001b[0m\u001b[1;33m,\u001b[0m\u001b[1;33m\u001b[0m\u001b[1;33m\u001b[0m\u001b[0m\n\u001b[0m\u001b[0;32m   1067\u001b[0m                 \u001b[0mself\u001b[0m\u001b[1;33m.\u001b[0m\u001b[0m_behavior\u001b[0m\u001b[1;33m,\u001b[0m\u001b[1;33m\u001b[0m\u001b[1;33m\u001b[0m\u001b[0m\n",
      "\u001b[1;32mc:\\Users\\matis\\anaconda3\\lib\\site-packages\\awkward\\contents\\content.py\u001b[0m in \u001b[0;36m__getitem__\u001b[1;34m(self, where)\u001b[0m\n\u001b[0;32m    511\u001b[0m     \u001b[1;32mdef\u001b[0m \u001b[0m__getitem__\u001b[0m\u001b[1;33m(\u001b[0m\u001b[0mself\u001b[0m\u001b[1;33m,\u001b[0m \u001b[0mwhere\u001b[0m\u001b[1;33m)\u001b[0m\u001b[1;33m:\u001b[0m\u001b[1;33m\u001b[0m\u001b[1;33m\u001b[0m\u001b[0m\n\u001b[1;32m--> 512\u001b[1;33m         \u001b[1;32mreturn\u001b[0m \u001b[0mself\u001b[0m\u001b[1;33m.\u001b[0m\u001b[0m_getitem\u001b[0m\u001b[1;33m(\u001b[0m\u001b[0mwhere\u001b[0m\u001b[1;33m)\u001b[0m\u001b[1;33m\u001b[0m\u001b[1;33m\u001b[0m\u001b[0m\n\u001b[0m\u001b[0;32m    513\u001b[0m \u001b[1;33m\u001b[0m\u001b[0m\n",
      "\u001b[1;32mc:\\Users\\matis\\anaconda3\\lib\\site-packages\\awkward\\contents\\content.py\u001b[0m in \u001b[0;36m_getitem\u001b[1;34m(self, where)\u001b[0m\n\u001b[0;32m    564\u001b[0m         \u001b[1;32melif\u001b[0m \u001b[0misinstance\u001b[0m\u001b[1;33m(\u001b[0m\u001b[0mwhere\u001b[0m\u001b[1;33m,\u001b[0m \u001b[0mak\u001b[0m\u001b[1;33m.\u001b[0m\u001b[0mhighlevel\u001b[0m\u001b[1;33m.\u001b[0m\u001b[0mArray\u001b[0m\u001b[1;33m)\u001b[0m\u001b[1;33m:\u001b[0m\u001b[1;33m\u001b[0m\u001b[1;33m\u001b[0m\u001b[0m\n\u001b[1;32m--> 565\u001b[1;33m             \u001b[1;32mreturn\u001b[0m \u001b[0mself\u001b[0m\u001b[1;33m.\u001b[0m\u001b[0m_getitem\u001b[0m\u001b[1;33m(\u001b[0m\u001b[0mwhere\u001b[0m\u001b[1;33m.\u001b[0m\u001b[0mlayout\u001b[0m\u001b[1;33m)\u001b[0m\u001b[1;33m\u001b[0m\u001b[1;33m\u001b[0m\u001b[0m\n\u001b[0m\u001b[0;32m    566\u001b[0m \u001b[1;33m\u001b[0m\u001b[0m\n",
      "\u001b[1;32mc:\\Users\\matis\\anaconda3\\lib\\site-packages\\awkward\\contents\\content.py\u001b[0m in \u001b[0;36m_getitem\u001b[1;34m(self, where)\u001b[0m\n\u001b[0;32m    639\u001b[0m         \u001b[1;32melif\u001b[0m \u001b[0misinstance\u001b[0m\u001b[1;33m(\u001b[0m\u001b[0mwhere\u001b[0m\u001b[1;33m,\u001b[0m \u001b[0mContent\u001b[0m\u001b[1;33m)\u001b[0m\u001b[1;33m:\u001b[0m\u001b[1;33m\u001b[0m\u001b[1;33m\u001b[0m\u001b[0m\n\u001b[1;32m--> 640\u001b[1;33m             \u001b[1;32mreturn\u001b[0m \u001b[0mself\u001b[0m\u001b[1;33m.\u001b[0m\u001b[0m_getitem\u001b[0m\u001b[1;33m(\u001b[0m\u001b[1;33m(\u001b[0m\u001b[0mwhere\u001b[0m\u001b[1;33m,\u001b[0m\u001b[1;33m)\u001b[0m\u001b[1;33m)\u001b[0m\u001b[1;33m\u001b[0m\u001b[1;33m\u001b[0m\u001b[0m\n\u001b[0m\u001b[0;32m    641\u001b[0m \u001b[1;33m\u001b[0m\u001b[0m\n",
      "\u001b[1;32mc:\\Users\\matis\\anaconda3\\lib\\site-packages\\awkward\\contents\\content.py\u001b[0m in \u001b[0;36m_getitem\u001b[1;34m(self, where)\u001b[0m\n\u001b[0;32m    556\u001b[0m \u001b[1;33m\u001b[0m\u001b[0m\n\u001b[1;32m--> 557\u001b[1;33m             \u001b[0mout\u001b[0m \u001b[1;33m=\u001b[0m \u001b[0mnext\u001b[0m\u001b[1;33m.\u001b[0m\u001b[0m_getitem_next\u001b[0m\u001b[1;33m(\u001b[0m\u001b[0mnextwhere\u001b[0m\u001b[1;33m[\u001b[0m\u001b[1;36m0\u001b[0m\u001b[1;33m]\u001b[0m\u001b[1;33m,\u001b[0m \u001b[0mnextwhere\u001b[0m\u001b[1;33m[\u001b[0m\u001b[1;36m1\u001b[0m\u001b[1;33m:\u001b[0m\u001b[1;33m]\u001b[0m\u001b[1;33m,\u001b[0m \u001b[1;32mNone\u001b[0m\u001b[1;33m)\u001b[0m\u001b[1;33m\u001b[0m\u001b[1;33m\u001b[0m\u001b[0m\n\u001b[0m\u001b[0;32m    558\u001b[0m \u001b[1;33m\u001b[0m\u001b[0m\n",
      "\u001b[1;32mc:\\Users\\matis\\anaconda3\\lib\\site-packages\\awkward\\contents\\regulararray.py\u001b[0m in \u001b[0;36m_getitem_next\u001b[1;34m(self, head, tail, advanced)\u001b[0m\n\u001b[0;32m    669\u001b[0m             \u001b[1;32mif\u001b[0m \u001b[0mself\u001b[0m\u001b[1;33m.\u001b[0m\u001b[0m_backend\u001b[0m\u001b[1;33m.\u001b[0m\u001b[0mnplike\u001b[0m\u001b[1;33m.\u001b[0m\u001b[0mknown_data\u001b[0m \u001b[1;32mand\u001b[0m \u001b[0mhead\u001b[0m\u001b[1;33m.\u001b[0m\u001b[0mlength\u001b[0m \u001b[1;33m!=\u001b[0m \u001b[0mself\u001b[0m\u001b[1;33m.\u001b[0m\u001b[0m_size\u001b[0m\u001b[1;33m:\u001b[0m\u001b[1;33m\u001b[0m\u001b[1;33m\u001b[0m\u001b[0m\n\u001b[1;32m--> 670\u001b[1;33m                 raise ak._errors.index_error(\n\u001b[0m\u001b[0;32m    671\u001b[0m                     \u001b[0mself\u001b[0m\u001b[1;33m,\u001b[0m\u001b[1;33m\u001b[0m\u001b[1;33m\u001b[0m\u001b[0m\n",
      "\u001b[1;31mIndexError\u001b[0m: cannot slice RegularArray (of length 1) with [[0], [], [0], [], [], [0], [0], [0], ..., [], [0], [0], [0], [0], [0], [0]]: cannot fit jagged slice with length 24930 into RegularArray of size 50000",
      "\nThe above exception was the direct cause of the following exception:\n",
      "\u001b[1;31mIndexError\u001b[0m                                Traceback (most recent call last)",
      "\u001b[1;32m<ipython-input-78-9308cb5c64d9>\u001b[0m in \u001b[0;36m<module>\u001b[1;34m\u001b[0m\n\u001b[0;32m      2\u001b[0m \u001b[0manti_tops\u001b[0m \u001b[1;33m=\u001b[0m \u001b[0mvector\u001b[0m\u001b[1;33m.\u001b[0m\u001b[0mzip\u001b[0m\u001b[1;33m(\u001b[0m\u001b[1;33m{\u001b[0m\u001b[1;34m'pt'\u001b[0m\u001b[1;33m:\u001b[0m\u001b[0mevents\u001b[0m\u001b[1;33m[\u001b[0m\u001b[1;34m'anti_top_pt'\u001b[0m\u001b[1;33m]\u001b[0m\u001b[1;33m,\u001b[0m\u001b[1;34m'eta'\u001b[0m\u001b[1;33m:\u001b[0m\u001b[0mevents\u001b[0m\u001b[1;33m[\u001b[0m\u001b[1;34m'anti_top_eta'\u001b[0m\u001b[1;33m]\u001b[0m\u001b[1;33m,\u001b[0m\u001b[1;34m'phi'\u001b[0m\u001b[1;33m:\u001b[0m\u001b[0mevents\u001b[0m\u001b[1;33m[\u001b[0m\u001b[1;34m'anti_top_phi'\u001b[0m\u001b[1;33m]\u001b[0m\u001b[1;33m,\u001b[0m \u001b[1;34m'mass'\u001b[0m\u001b[1;33m:\u001b[0m\u001b[1;36m172.76\u001b[0m\u001b[1;33m}\u001b[0m\u001b[1;33m)\u001b[0m\u001b[1;33m\u001b[0m\u001b[1;33m\u001b[0m\u001b[0m\n\u001b[0;32m      3\u001b[0m \u001b[1;33m\u001b[0m\u001b[0m\n\u001b[1;32m----> 4\u001b[1;33m \u001b[0mfiltered_tops\u001b[0m\u001b[1;33m=\u001b[0m \u001b[0mtops\u001b[0m\u001b[1;33m[\u001b[0m\u001b[0mmasks\u001b[0m\u001b[1;33m]\u001b[0m\u001b[1;33m\u001b[0m\u001b[1;33m\u001b[0m\u001b[0m\n\u001b[0m\u001b[0;32m      5\u001b[0m \u001b[0mfiltered_anti_tops\u001b[0m \u001b[1;33m=\u001b[0m \u001b[0manti_tops\u001b[0m\u001b[1;33m[\u001b[0m\u001b[0mmasks\u001b[0m\u001b[1;33m]\u001b[0m\u001b[1;33m\u001b[0m\u001b[1;33m\u001b[0m\u001b[0m\n",
      "\u001b[1;32mc:\\Users\\matis\\anaconda3\\lib\\site-packages\\awkward\\highlevel.py\u001b[0m in \u001b[0;36m__getitem__\u001b[1;34m(self, where)\u001b[0m\n\u001b[0;32m   1063\u001b[0m         \"\"\"\n\u001b[0;32m   1064\u001b[0m         \u001b[1;32mwith\u001b[0m \u001b[0mak\u001b[0m\u001b[1;33m.\u001b[0m\u001b[0m_errors\u001b[0m\u001b[1;33m.\u001b[0m\u001b[0mSlicingErrorContext\u001b[0m\u001b[1;33m(\u001b[0m\u001b[0mself\u001b[0m\u001b[1;33m,\u001b[0m \u001b[0mwhere\u001b[0m\u001b[1;33m)\u001b[0m\u001b[1;33m:\u001b[0m\u001b[1;33m\u001b[0m\u001b[1;33m\u001b[0m\u001b[0m\n\u001b[1;32m-> 1065\u001b[1;33m             return wrap_layout(\n\u001b[0m\u001b[0;32m   1066\u001b[0m                 \u001b[0mprepare_layout\u001b[0m\u001b[1;33m(\u001b[0m\u001b[0mself\u001b[0m\u001b[1;33m.\u001b[0m\u001b[0m_layout\u001b[0m\u001b[1;33m[\u001b[0m\u001b[0mwhere\u001b[0m\u001b[1;33m]\u001b[0m\u001b[1;33m)\u001b[0m\u001b[1;33m,\u001b[0m\u001b[1;33m\u001b[0m\u001b[1;33m\u001b[0m\u001b[0m\n\u001b[0;32m   1067\u001b[0m                 \u001b[0mself\u001b[0m\u001b[1;33m.\u001b[0m\u001b[0m_behavior\u001b[0m\u001b[1;33m,\u001b[0m\u001b[1;33m\u001b[0m\u001b[1;33m\u001b[0m\u001b[0m\n",
      "\u001b[1;32mc:\\Users\\matis\\anaconda3\\lib\\site-packages\\awkward\\_errors.py\u001b[0m in \u001b[0;36m__exit__\u001b[1;34m(self, exception_type, exception_value, traceback)\u001b[0m\n\u001b[0;32m     83\u001b[0m                 \u001b[1;32mand\u001b[0m \u001b[0mself\u001b[0m\u001b[1;33m.\u001b[0m\u001b[0mprimary\u001b[0m\u001b[1;33m(\u001b[0m\u001b[1;33m)\u001b[0m \u001b[1;32mis\u001b[0m \u001b[0mself\u001b[0m\u001b[1;33m\u001b[0m\u001b[1;33m\u001b[0m\u001b[0m\n\u001b[0;32m     84\u001b[0m             ):\n\u001b[1;32m---> 85\u001b[1;33m                 \u001b[0mself\u001b[0m\u001b[1;33m.\u001b[0m\u001b[0mhandle_exception\u001b[0m\u001b[1;33m(\u001b[0m\u001b[0mexception_type\u001b[0m\u001b[1;33m,\u001b[0m \u001b[0mexception_value\u001b[0m\u001b[1;33m)\u001b[0m\u001b[1;33m\u001b[0m\u001b[1;33m\u001b[0m\u001b[0m\n\u001b[0m\u001b[0;32m     86\u001b[0m         \u001b[1;32mfinally\u001b[0m\u001b[1;33m:\u001b[0m\u001b[1;33m\u001b[0m\u001b[1;33m\u001b[0m\u001b[0m\n\u001b[0;32m     87\u001b[0m             \u001b[1;31m# Step out of the way so that another ErrorContext can become primary.\u001b[0m\u001b[1;33m\u001b[0m\u001b[1;33m\u001b[0m\u001b[1;33m\u001b[0m\u001b[0m\n",
      "\u001b[1;32mc:\\Users\\matis\\anaconda3\\lib\\site-packages\\awkward\\_errors.py\u001b[0m in \u001b[0;36mhandle_exception\u001b[1;34m(self, cls, exception)\u001b[0m\n\u001b[0;32m     93\u001b[0m             \u001b[0mself\u001b[0m\u001b[1;33m.\u001b[0m\u001b[0mdecorate_exception\u001b[0m\u001b[1;33m(\u001b[0m\u001b[0mcls\u001b[0m\u001b[1;33m,\u001b[0m \u001b[0mexception\u001b[0m\u001b[1;33m)\u001b[0m\u001b[1;33m\u001b[0m\u001b[1;33m\u001b[0m\u001b[0m\n\u001b[0;32m     94\u001b[0m         \u001b[1;32melse\u001b[0m\u001b[1;33m:\u001b[0m\u001b[1;33m\u001b[0m\u001b[1;33m\u001b[0m\u001b[0m\n\u001b[1;32m---> 95\u001b[1;33m             \u001b[1;32mraise\u001b[0m \u001b[0mself\u001b[0m\u001b[1;33m.\u001b[0m\u001b[0mdecorate_exception\u001b[0m\u001b[1;33m(\u001b[0m\u001b[0mcls\u001b[0m\u001b[1;33m,\u001b[0m \u001b[0mexception\u001b[0m\u001b[1;33m)\u001b[0m\u001b[1;33m\u001b[0m\u001b[1;33m\u001b[0m\u001b[0m\n\u001b[0m\u001b[0;32m     96\u001b[0m \u001b[1;33m\u001b[0m\u001b[0m\n\u001b[0;32m     97\u001b[0m     \u001b[1;32mdef\u001b[0m \u001b[0mdecorate_exception\u001b[0m\u001b[1;33m(\u001b[0m\u001b[0mself\u001b[0m\u001b[1;33m,\u001b[0m \u001b[0mcls\u001b[0m\u001b[1;33m:\u001b[0m \u001b[0mtype\u001b[0m\u001b[1;33m[\u001b[0m\u001b[0mE\u001b[0m\u001b[1;33m]\u001b[0m\u001b[1;33m,\u001b[0m \u001b[0mexception\u001b[0m\u001b[1;33m:\u001b[0m \u001b[0mE\u001b[0m\u001b[1;33m)\u001b[0m \u001b[1;33m->\u001b[0m \u001b[0mException\u001b[0m\u001b[1;33m:\u001b[0m\u001b[1;33m\u001b[0m\u001b[1;33m\u001b[0m\u001b[0m\n",
      "\u001b[1;31mIndexError\u001b[0m: cannot slice RegularArray (of length 1) with [[0], [], [0], [], [], [0], [0], [0], ..., [], [0], [0], [0], [0], [0], [0]]: cannot fit jagged slice with length 24930 into RegularArray of size 50000\n\nThis error occurred while attempting to slice\n\n    <MomentumArray4D [[{rho: 182, ...}, {...}], ..., [...]] type='50000 * v...'>\n\nwith\n\n    <Array [[True], [False], [True], ..., [True], [True]] type='24930 * var * bool'>"
     ]
    }
   ],
   "source": [
    "tops = vector.zip({'pt':events['top_pt'],'eta':events['top_eta'],'phi':events['top_phi'], 'mass':172.76})\n",
    "anti_tops = vector.zip({'pt':events['anti_top_pt'],'eta':events['anti_top_eta'],'phi':events['anti_top_phi'], 'mass':172.76})\n",
    "\n",
    "filtered_tops= tops[masks]\n",
    "filtered_anti_tops = anti_tops[masks]"
   ]
  },
  {
   "cell_type": "markdown",
   "metadata": {},
   "source": [
    "3.1 4top events seperated into individual top channels + filtered"
   ]
  },
  {
   "cell_type": "code",
   "execution_count": 12,
   "metadata": {},
   "outputs": [],
   "source": [
    "top1 = vector.zip({'pt':events['top_pt'][:,0],'eta':events['top_eta'][:,0],'phi':events['top_phi'][:,0], 'mass':172.76})\n",
    "top2 = vector.zip({'pt':events['top_pt'][:,1],'eta':events['top_eta'][:,1],'phi':events['top_phi'][:,1], 'mass':172.76})\n",
    "anti_top1 = vector.zip({'pt':events['anti_top_pt'][:,0],'eta':events['anti_top_eta'][:,0],'phi':events['anti_top_phi'][:,0], 'mass':172.76})\n",
    "anti_top2 = vector.zip({'pt':events['anti_top_pt'][:,1],'eta':events['anti_top_eta'][:,1],'phi':events['anti_top_phi'][:,1], 'mass':172.76})\n",
    "\n",
    "filtered_top1 = top1[masks]\n",
    "filtered_top2 = top2[masks]\n",
    "filtered_anti_top1 = anti_top1[masks]\n",
    "filtered_anti_top2 = anti_top2[masks]\n",
    "\n",
    "four_tops = top1+top2+anti_top1+anti_top2\n",
    "filtered_4_tops = filtered_top1+filtered_top2+filtered_anti_top1+filtered_anti_top2\n",
    "filtered_4_tops = filtered_4_tops[filtered_4_tops.mass > 500]"
   ]
  },
  {
   "cell_type": "markdown",
   "metadata": {},
   "source": [
    "3.2a Extracting deltaR values for highest and second highest pt unfiltered tops"
   ]
  },
  {
   "cell_type": "code",
   "execution_count": 13,
   "metadata": {},
   "outputs": [],
   "source": [
    "pts = awkward.Array([top1.pt, top2.pt, anti_top1.pt, anti_top2.pt])\n",
    "\n",
    "sorted_pts = awkward.sort(pts, axis=0, ascending=False)\n",
    "\n",
    "max_pts = sorted_pts[0,:]\n",
    "second_max_pts = sorted_pts[1,:]\n",
    "\n",
    "deltaRs = []\n",
    "for i in range(len(top1)):\n",
    "    if max_pts[i] == top1[i].pt:\n",
    "        if second_max_pts[i] == top2[i].pt:\n",
    "            deltaRs.append(top1[i].deltaR(top2[i]))\n",
    "        elif second_max_pts[i] == anti_top1[i].pt:\n",
    "            deltaRs.append(top1[i].deltaR(anti_top1[i]))\n",
    "        elif second_max_pts[i] == anti_top2[i].pt:\n",
    "            deltaRs.append(top1[i].deltaR(anti_top2[i]))\n",
    "    \n",
    "    elif max_pts[i] == top2[i].pt:\n",
    "        if second_max_pts[i] == top1[i].pt:\n",
    "            deltaRs.append(top2[i].deltaR(top1[i]))\n",
    "        elif second_max_pts[i] == anti_top1[i].pt:\n",
    "            deltaRs.append(top2[i].deltaR(anti_top1[i]))\n",
    "        elif second_max_pts[i] == anti_top2[i].pt:\n",
    "            deltaRs.append(top2[i].deltaR(anti_top2[i]))\n",
    "\n",
    "    elif max_pts[i] == anti_top1[i].pt:\n",
    "        if second_max_pts[i] == top1[i].pt:\n",
    "            deltaRs.append(anti_top1[i].deltaR(top1[i]))\n",
    "        elif second_max_pts[i] == top2[i].pt:\n",
    "            deltaRs.append(anti_top1[i].deltaR(top2[i]))\n",
    "        elif second_max_pts[i] == anti_top2[i].pt:\n",
    "            deltaRs.append(anti_top1[i].deltaR(anti_top2)[i])\n",
    "\n",
    "    elif max_pts[i] == anti_top2[i].pt:\n",
    "        if second_max_pts[i] == top1[i].pt:\n",
    "            deltaRs.append(anti_top2[i].deltaR(top1[i]))\n",
    "        elif second_max_pts[i] == top2[i].pt:\n",
    "            deltaRs.append(anti_top2[i].deltaR(top2[i]))\n",
    "        elif second_max_pts[i] == anti_top1[i].pt:\n",
    "            deltaRs.append(anti_top2[i].deltaR(anti_top1[i]))\n"
   ]
  },
  {
   "cell_type": "markdown",
   "metadata": {},
   "source": [
    "3.2b Extracting DeltaR values for highest and second highest pt filtered tops"
   ]
  },
  {
   "cell_type": "code",
   "execution_count": 14,
   "metadata": {},
   "outputs": [],
   "source": [
    "filtered_pts = awkward.Array([filtered_top1.pt, filtered_top2.pt, filtered_anti_top1.pt, filtered_anti_top2.pt])\n",
    "\n",
    "filtered_sorted_pts = awkward.sort(filtered_pts, axis=0, ascending=False)\n",
    "\n",
    "filtered_max_pts = filtered_sorted_pts[0,:]\n",
    "filtered_second_max_pts = filtered_sorted_pts[1,:]\n",
    "\n",
    "filtered_deltaRs = []\n",
    "for i in range(len(filtered_top1)):\n",
    "    if filtered_max_pts[i] == filtered_top1[i].pt:\n",
    "        if filtered_second_max_pts[i] == filtered_top2[i].pt:\n",
    "            filtered_deltaRs.append(filtered_top1[i].deltaR(filtered_top2[i]))\n",
    "        elif filtered_second_max_pts[i] == filtered_anti_top1[i].pt:\n",
    "            filtered_deltaRs.append(filtered_top1[i].deltaR(filtered_anti_top1[i]))\n",
    "        elif filtered_second_max_pts[i] == filtered_anti_top2[i].pt:\n",
    "            filtered_deltaRs.append(filtered_top1[i].deltaR(filtered_anti_top2[i]))\n",
    "    \n",
    "    elif filtered_max_pts[i] == filtered_top2[i].pt:\n",
    "        if filtered_second_max_pts[i] == filtered_top1[i].pt:\n",
    "            filtered_deltaRs.append(filtered_top2[i].deltaR(filtered_top1[i]))\n",
    "        elif filtered_second_max_pts[i] == filtered_anti_top1[i].pt:\n",
    "            filtered_deltaRs.append(filtered_top2[i].deltaR(filtered_anti_top1[i]))\n",
    "        elif filtered_second_max_pts[i] == filtered_anti_top2[i].pt:\n",
    "            filtered_deltaRs.append(filtered_top2[i].deltaR(filtered_anti_top2[i]))\n",
    "\n",
    "    elif filtered_max_pts[i] == filtered_anti_top1[i].pt:\n",
    "        if filtered_second_max_pts[i] == filtered_top1[i].pt:\n",
    "            filtered_deltaRs.append(filtered_anti_top1[i].deltaR(filtered_top1[i]))\n",
    "        elif filtered_second_max_pts[i] == filtered_top2[i].pt:\n",
    "            filtered_deltaRs.append(filtered_anti_top1[i].deltaR(filtered_top2[i]))\n",
    "        elif filtered_second_max_pts[i] == filtered_anti_top2[i].pt:\n",
    "            filtered_deltaRs.append(filtered_anti_top1[i].deltaR(filtered_anti_top2)[i])\n",
    "\n",
    "    elif filtered_max_pts[i] == filtered_anti_top2[i].pt:\n",
    "        if filtered_second_max_pts[i] == filtered_top1[i].pt:\n",
    "            filtered_deltaRs.append(filtered_anti_top2[i].deltaR(filtered_top1[i]))\n",
    "        elif filtered_second_max_pts[i] == filtered_top2[i].pt:\n",
    "            filtered_deltaRs.append(filtered_anti_top2[i].deltaR(filtered_top2[i]))\n",
    "        elif filtered_second_max_pts[i] == filtered_anti_top1[i].pt:\n",
    "            filtered_deltaRs.append(filtered_anti_top2[i].deltaR(filtered_anti_top1[i]))"
   ]
  },
  {
   "cell_type": "markdown",
   "metadata": {},
   "source": [
    "4. Plotting Histograms for invariant mass distributions and DeltaR values"
   ]
  },
  {
   "cell_type": "code",
   "execution_count": 15,
   "metadata": {},
   "outputs": [
    {
     "data": {
      "image/png": "[encoded data removed]",
      "text/plain": [
       "<Figure size 720x360 with 2 Axes>"
      ]
     },
     "metadata": {
      "needs_background": "light"
     },
     "output_type": "display_data"
    }
   ],
   "source": [
    "fig, ax = plt.subplots(nrows = 1, ncols = 2, figsize = (10,5))\n",
    "ax[0].hist(four_tops.mass, bins=50)\n",
    "ax[0].hist(filtered_4_tops.mass, bins=50)\n",
    "ax[1].hist(deltaRs, bins=50)\n",
    "ax[1].hist(filtered_deltaRs, bins=50)\n",
    "plt.show()"
   ]
  },
  {
   "cell_type": "markdown",
   "metadata": {},
   "source": [
    "3 top jet"
   ]
  },
  {
   "cell_type": "code",
   "execution_count": 16,
   "metadata": {},
   "outputs": [
    {
     "ename": "IndexError",
     "evalue": "cannot slice ListArray (of length 50000) with array(1): index out of range while attempting to get index 1 (in compiled code: https://github.com/scikit-hep/awkward/blob/awkward-cpp-38/awkward-cpp/src/cpu-kernels/awkward_ListArray_getitem_next_at.cpp#L21)\n\nThis error occurred while attempting to slice\n\n    <Array [[74.3], [264, 449], ..., [137], [335]] type='50000 * var * float32'>\n\nwith\n\n    (:, 1)",
     "output_type": "error",
     "traceback": [
      "\u001b[1;31m---------------------------------------------------------------------------\u001b[0m",
      "\u001b[1;31mIndexError\u001b[0m                                Traceback (most recent call last)",
      "\u001b[1;32mc:\\Users\\matis\\anaconda3\\lib\\site-packages\\awkward\\highlevel.py\u001b[0m in \u001b[0;36m__getitem__\u001b[1;34m(self, where)\u001b[0m\n\u001b[0;32m   1065\u001b[0m             return wrap_layout(\n\u001b[1;32m-> 1066\u001b[1;33m                 \u001b[0mprepare_layout\u001b[0m\u001b[1;33m(\u001b[0m\u001b[0mself\u001b[0m\u001b[1;33m.\u001b[0m\u001b[0m_layout\u001b[0m\u001b[1;33m[\u001b[0m\u001b[0mwhere\u001b[0m\u001b[1;33m]\u001b[0m\u001b[1;33m)\u001b[0m\u001b[1;33m,\u001b[0m\u001b[1;33m\u001b[0m\u001b[1;33m\u001b[0m\u001b[0m\n\u001b[0m\u001b[0;32m   1067\u001b[0m                 \u001b[0mself\u001b[0m\u001b[1;33m.\u001b[0m\u001b[0m_behavior\u001b[0m\u001b[1;33m,\u001b[0m\u001b[1;33m\u001b[0m\u001b[1;33m\u001b[0m\u001b[0m\n",
      "\u001b[1;32mc:\\Users\\matis\\anaconda3\\lib\\site-packages\\awkward\\contents\\content.py\u001b[0m in \u001b[0;36m__getitem__\u001b[1;34m(self, where)\u001b[0m\n\u001b[0;32m    511\u001b[0m     \u001b[1;32mdef\u001b[0m \u001b[0m__getitem__\u001b[0m\u001b[1;33m(\u001b[0m\u001b[0mself\u001b[0m\u001b[1;33m,\u001b[0m \u001b[0mwhere\u001b[0m\u001b[1;33m)\u001b[0m\u001b[1;33m:\u001b[0m\u001b[1;33m\u001b[0m\u001b[1;33m\u001b[0m\u001b[0m\n\u001b[1;32m--> 512\u001b[1;33m         \u001b[1;32mreturn\u001b[0m \u001b[0mself\u001b[0m\u001b[1;33m.\u001b[0m\u001b[0m_getitem\u001b[0m\u001b[1;33m(\u001b[0m\u001b[0mwhere\u001b[0m\u001b[1;33m)\u001b[0m\u001b[1;33m\u001b[0m\u001b[1;33m\u001b[0m\u001b[0m\n\u001b[0m\u001b[0;32m    513\u001b[0m \u001b[1;33m\u001b[0m\u001b[0m\n",
      "\u001b[1;32mc:\\Users\\matis\\anaconda3\\lib\\site-packages\\awkward\\contents\\content.py\u001b[0m in \u001b[0;36m_getitem\u001b[1;34m(self, where)\u001b[0m\n\u001b[0;32m    556\u001b[0m \u001b[1;33m\u001b[0m\u001b[0m\n\u001b[1;32m--> 557\u001b[1;33m             \u001b[0mout\u001b[0m \u001b[1;33m=\u001b[0m \u001b[0mnext\u001b[0m\u001b[1;33m.\u001b[0m\u001b[0m_getitem_next\u001b[0m\u001b[1;33m(\u001b[0m\u001b[0mnextwhere\u001b[0m\u001b[1;33m[\u001b[0m\u001b[1;36m0\u001b[0m\u001b[1;33m]\u001b[0m\u001b[1;33m,\u001b[0m \u001b[0mnextwhere\u001b[0m\u001b[1;33m[\u001b[0m\u001b[1;36m1\u001b[0m\u001b[1;33m:\u001b[0m\u001b[1;33m]\u001b[0m\u001b[1;33m,\u001b[0m \u001b[1;32mNone\u001b[0m\u001b[1;33m)\u001b[0m\u001b[1;33m\u001b[0m\u001b[1;33m\u001b[0m\u001b[0m\n\u001b[0m\u001b[0;32m    558\u001b[0m \u001b[1;33m\u001b[0m\u001b[0m\n",
      "\u001b[1;32mc:\\Users\\matis\\anaconda3\\lib\\site-packages\\awkward\\contents\\regulararray.py\u001b[0m in \u001b[0;36m_getitem_next\u001b[1;34m(self, head, tail, advanced)\u001b[0m\n\u001b[0;32m    518\u001b[0m                 return RegularArray(\n\u001b[1;32m--> 519\u001b[1;33m                     \u001b[0mnextcontent\u001b[0m\u001b[1;33m.\u001b[0m\u001b[0m_getitem_next\u001b[0m\u001b[1;33m(\u001b[0m\u001b[0mnexthead\u001b[0m\u001b[1;33m,\u001b[0m \u001b[0mnexttail\u001b[0m\u001b[1;33m,\u001b[0m \u001b[0madvanced\u001b[0m\u001b[1;33m)\u001b[0m\u001b[1;33m,\u001b[0m\u001b[1;33m\u001b[0m\u001b[1;33m\u001b[0m\u001b[0m\n\u001b[0m\u001b[0;32m    520\u001b[0m                     \u001b[0mnextsize\u001b[0m\u001b[1;33m,\u001b[0m\u001b[1;33m\u001b[0m\u001b[1;33m\u001b[0m\u001b[0m\n",
      "\u001b[1;32mc:\\Users\\matis\\anaconda3\\lib\\site-packages\\awkward\\contents\\listarray.py\u001b[0m in \u001b[0;36m_getitem_next\u001b[1;34m(self, head, tail, advanced)\u001b[0m\n\u001b[0;32m    719\u001b[0m             )\n\u001b[1;32m--> 720\u001b[1;33m             self._maybe_index_error(\n\u001b[0m\u001b[0;32m    721\u001b[0m                 self._backend[\n",
      "\u001b[1;32mc:\\Users\\matis\\anaconda3\\lib\\site-packages\\awkward\\contents\\content.py\u001b[0m in \u001b[0;36m_maybe_index_error\u001b[1;34m(self, error, slicer)\u001b[0m\n\u001b[0;32m    276\u001b[0m             \u001b[0mmessage\u001b[0m \u001b[1;33m=\u001b[0m \u001b[0mself\u001b[0m\u001b[1;33m.\u001b[0m\u001b[0m_backend\u001b[0m\u001b[1;33m.\u001b[0m\u001b[0mformat_kernel_error\u001b[0m\u001b[1;33m(\u001b[0m\u001b[0merror\u001b[0m\u001b[1;33m)\u001b[0m\u001b[1;33m\u001b[0m\u001b[1;33m\u001b[0m\u001b[0m\n\u001b[1;32m--> 277\u001b[1;33m             \u001b[1;32mraise\u001b[0m \u001b[0mak\u001b[0m\u001b[1;33m.\u001b[0m\u001b[0m_errors\u001b[0m\u001b[1;33m.\u001b[0m\u001b[0mindex_error\u001b[0m\u001b[1;33m(\u001b[0m\u001b[0mself\u001b[0m\u001b[1;33m,\u001b[0m \u001b[0mslicer\u001b[0m\u001b[1;33m,\u001b[0m \u001b[0mmessage\u001b[0m\u001b[1;33m)\u001b[0m\u001b[1;33m\u001b[0m\u001b[1;33m\u001b[0m\u001b[0m\n\u001b[0m\u001b[0;32m    278\u001b[0m \u001b[1;33m\u001b[0m\u001b[0m\n",
      "\u001b[1;31mIndexError\u001b[0m: cannot slice ListArray (of length 50000) with array(1): index out of range while attempting to get index 1 (in compiled code: https://github.com/scikit-hep/awkward/blob/awkward-cpp-38/awkward-cpp/src/cpu-kernels/awkward_ListArray_getitem_next_at.cpp#L21)",
      "\nThe above exception was the direct cause of the following exception:\n",
      "\u001b[1;31mIndexError\u001b[0m                                Traceback (most recent call last)",
      "\u001b[1;32m<ipython-input-16-b502458a73c1>\u001b[0m in \u001b[0;36m<module>\u001b[1;34m\u001b[0m\n\u001b[0;32m      5\u001b[0m \u001b[1;33m\u001b[0m\u001b[0m\n\u001b[0;32m      6\u001b[0m     \u001b[0mpt_mask_1\u001b[0m \u001b[1;33m=\u001b[0m \u001b[0mdata\u001b[0m\u001b[1;33m[\u001b[0m\u001b[1;34m'top_pt'\u001b[0m\u001b[1;33m]\u001b[0m\u001b[1;33m[\u001b[0m\u001b[1;33m:\u001b[0m\u001b[1;33m,\u001b[0m \u001b[1;36m0\u001b[0m\u001b[1;33m]\u001b[0m \u001b[1;33m>\u001b[0m \u001b[1;36m50\u001b[0m\u001b[1;33m\u001b[0m\u001b[1;33m\u001b[0m\u001b[0m\n\u001b[1;32m----> 7\u001b[1;33m     \u001b[0mpt_mask_2\u001b[0m \u001b[1;33m=\u001b[0m \u001b[0mdata\u001b[0m\u001b[1;33m[\u001b[0m\u001b[1;34m'top_pt'\u001b[0m\u001b[1;33m]\u001b[0m\u001b[1;33m[\u001b[0m\u001b[1;33m:\u001b[0m\u001b[1;33m,\u001b[0m \u001b[1;36m1\u001b[0m\u001b[1;33m]\u001b[0m \u001b[1;33m>\u001b[0m \u001b[1;36m50\u001b[0m\u001b[1;33m\u001b[0m\u001b[1;33m\u001b[0m\u001b[0m\n\u001b[0m\u001b[0;32m      8\u001b[0m \u001b[1;33m\u001b[0m\u001b[0m\n\u001b[0;32m      9\u001b[0m     \u001b[0meta_mask_1\u001b[0m \u001b[1;33m=\u001b[0m \u001b[1;33m(\u001b[0m\u001b[0mdata\u001b[0m\u001b[1;33m[\u001b[0m\u001b[1;34m'top_eta'\u001b[0m\u001b[1;33m]\u001b[0m\u001b[1;33m[\u001b[0m\u001b[1;33m:\u001b[0m\u001b[1;33m,\u001b[0m \u001b[1;36m0\u001b[0m\u001b[1;33m]\u001b[0m \u001b[1;33m>\u001b[0m \u001b[1;33m-\u001b[0m\u001b[1;36m2.4\u001b[0m\u001b[1;33m)\u001b[0m \u001b[1;33m&\u001b[0m \u001b[1;33m(\u001b[0m\u001b[0mdata\u001b[0m\u001b[1;33m[\u001b[0m\u001b[1;34m'top_eta'\u001b[0m\u001b[1;33m]\u001b[0m\u001b[1;33m[\u001b[0m\u001b[1;33m:\u001b[0m\u001b[1;33m,\u001b[0m \u001b[1;36m0\u001b[0m\u001b[1;33m]\u001b[0m \u001b[1;33m<\u001b[0m \u001b[1;36m2.4\u001b[0m\u001b[1;33m)\u001b[0m\u001b[1;33m\u001b[0m\u001b[1;33m\u001b[0m\u001b[0m\n",
      "\u001b[1;32mc:\\Users\\matis\\anaconda3\\lib\\site-packages\\awkward\\highlevel.py\u001b[0m in \u001b[0;36m__getitem__\u001b[1;34m(self, where)\u001b[0m\n\u001b[0;32m   1063\u001b[0m         \"\"\"\n\u001b[0;32m   1064\u001b[0m         \u001b[1;32mwith\u001b[0m \u001b[0mak\u001b[0m\u001b[1;33m.\u001b[0m\u001b[0m_errors\u001b[0m\u001b[1;33m.\u001b[0m\u001b[0mSlicingErrorContext\u001b[0m\u001b[1;33m(\u001b[0m\u001b[0mself\u001b[0m\u001b[1;33m,\u001b[0m \u001b[0mwhere\u001b[0m\u001b[1;33m)\u001b[0m\u001b[1;33m:\u001b[0m\u001b[1;33m\u001b[0m\u001b[1;33m\u001b[0m\u001b[0m\n\u001b[1;32m-> 1065\u001b[1;33m             return wrap_layout(\n\u001b[0m\u001b[0;32m   1066\u001b[0m                 \u001b[0mprepare_layout\u001b[0m\u001b[1;33m(\u001b[0m\u001b[0mself\u001b[0m\u001b[1;33m.\u001b[0m\u001b[0m_layout\u001b[0m\u001b[1;33m[\u001b[0m\u001b[0mwhere\u001b[0m\u001b[1;33m]\u001b[0m\u001b[1;33m)\u001b[0m\u001b[1;33m,\u001b[0m\u001b[1;33m\u001b[0m\u001b[1;33m\u001b[0m\u001b[0m\n\u001b[0;32m   1067\u001b[0m                 \u001b[0mself\u001b[0m\u001b[1;33m.\u001b[0m\u001b[0m_behavior\u001b[0m\u001b[1;33m,\u001b[0m\u001b[1;33m\u001b[0m\u001b[1;33m\u001b[0m\u001b[0m\n",
      "\u001b[1;32mc:\\Users\\matis\\anaconda3\\lib\\site-packages\\awkward\\_errors.py\u001b[0m in \u001b[0;36m__exit__\u001b[1;34m(self, exception_type, exception_value, traceback)\u001b[0m\n\u001b[0;32m     83\u001b[0m                 \u001b[1;32mand\u001b[0m \u001b[0mself\u001b[0m\u001b[1;33m.\u001b[0m\u001b[0mprimary\u001b[0m\u001b[1;33m(\u001b[0m\u001b[1;33m)\u001b[0m \u001b[1;32mis\u001b[0m \u001b[0mself\u001b[0m\u001b[1;33m\u001b[0m\u001b[1;33m\u001b[0m\u001b[0m\n\u001b[0;32m     84\u001b[0m             ):\n\u001b[1;32m---> 85\u001b[1;33m                 \u001b[0mself\u001b[0m\u001b[1;33m.\u001b[0m\u001b[0mhandle_exception\u001b[0m\u001b[1;33m(\u001b[0m\u001b[0mexception_type\u001b[0m\u001b[1;33m,\u001b[0m \u001b[0mexception_value\u001b[0m\u001b[1;33m)\u001b[0m\u001b[1;33m\u001b[0m\u001b[1;33m\u001b[0m\u001b[0m\n\u001b[0m\u001b[0;32m     86\u001b[0m         \u001b[1;32mfinally\u001b[0m\u001b[1;33m:\u001b[0m\u001b[1;33m\u001b[0m\u001b[1;33m\u001b[0m\u001b[0m\n\u001b[0;32m     87\u001b[0m             \u001b[1;31m# Step out of the way so that another ErrorContext can become primary.\u001b[0m\u001b[1;33m\u001b[0m\u001b[1;33m\u001b[0m\u001b[1;33m\u001b[0m\u001b[0m\n",
      "\u001b[1;32mc:\\Users\\matis\\anaconda3\\lib\\site-packages\\awkward\\_errors.py\u001b[0m in \u001b[0;36mhandle_exception\u001b[1;34m(self, cls, exception)\u001b[0m\n\u001b[0;32m     93\u001b[0m             \u001b[0mself\u001b[0m\u001b[1;33m.\u001b[0m\u001b[0mdecorate_exception\u001b[0m\u001b[1;33m(\u001b[0m\u001b[0mcls\u001b[0m\u001b[1;33m,\u001b[0m \u001b[0mexception\u001b[0m\u001b[1;33m)\u001b[0m\u001b[1;33m\u001b[0m\u001b[1;33m\u001b[0m\u001b[0m\n\u001b[0;32m     94\u001b[0m         \u001b[1;32melse\u001b[0m\u001b[1;33m:\u001b[0m\u001b[1;33m\u001b[0m\u001b[1;33m\u001b[0m\u001b[0m\n\u001b[1;32m---> 95\u001b[1;33m             \u001b[1;32mraise\u001b[0m \u001b[0mself\u001b[0m\u001b[1;33m.\u001b[0m\u001b[0mdecorate_exception\u001b[0m\u001b[1;33m(\u001b[0m\u001b[0mcls\u001b[0m\u001b[1;33m,\u001b[0m \u001b[0mexception\u001b[0m\u001b[1;33m)\u001b[0m\u001b[1;33m\u001b[0m\u001b[1;33m\u001b[0m\u001b[0m\n\u001b[0m\u001b[0;32m     96\u001b[0m \u001b[1;33m\u001b[0m\u001b[0m\n\u001b[0;32m     97\u001b[0m     \u001b[1;32mdef\u001b[0m \u001b[0mdecorate_exception\u001b[0m\u001b[1;33m(\u001b[0m\u001b[0mself\u001b[0m\u001b[1;33m,\u001b[0m \u001b[0mcls\u001b[0m\u001b[1;33m:\u001b[0m \u001b[0mtype\u001b[0m\u001b[1;33m[\u001b[0m\u001b[0mE\u001b[0m\u001b[1;33m]\u001b[0m\u001b[1;33m,\u001b[0m \u001b[0mexception\u001b[0m\u001b[1;33m:\u001b[0m \u001b[0mE\u001b[0m\u001b[1;33m)\u001b[0m \u001b[1;33m->\u001b[0m \u001b[0mException\u001b[0m\u001b[1;33m:\u001b[0m\u001b[1;33m\u001b[0m\u001b[1;33m\u001b[0m\u001b[0m\n",
      "\u001b[1;31mIndexError\u001b[0m: cannot slice ListArray (of length 50000) with array(1): index out of range while attempting to get index 1 (in compiled code: https://github.com/scikit-hep/awkward/blob/awkward-cpp-38/awkward-cpp/src/cpu-kernels/awkward_ListArray_getitem_next_at.cpp#L21)\n\nThis error occurred while attempting to slice\n\n    <Array [[74.3], [264, 449], ..., [137], [335]] type='50000 * var * float32'>\n\nwith\n\n    (:, 1)"
     ]
    }
   ],
   "source": [
    "tree_3j = uproot.open('C:/Users/matis/OneDrive/Documents/Y4/Project/3tops_tttj_partonic_skimmed_2609.root')['tree']\n",
    "events_3j = tree.arrays(['top_pt', 'top_eta', 'top_phi', 'top_e', 'anti_top_pt', 'anti_top_eta', 'anti_top_phi', 'anti_top_e'])\n",
    "\n",
    "for data in tree_3j.iterate(['top_pt', 'top_eta', 'top_phi', 'top_e', 'anti_top_pt', 'anti_top_eta', 'anti_top_phi', 'anti_top_e']):\n",
    "\n",
    "    pt_mask_1 = data['top_pt'][:, 0] > 50\n",
    "    pt_mask_2 = data['top_pt'][:, 1] > 50\n",
    "\n",
    "    eta_mask_1 = (data['top_eta'][:, 0] > -2.4) & (data['top_eta'][:, 0] < 2.4)\n",
    "    eta_mask_2 = (data['top_eta'][:, 1] > -2.4) & (data['top_eta'][:, 1] < 2.4)\n",
    "\n",
    "    anti_pt_mask_1 = data['anti_top_pt'][:, 0] > 50\n",
    "    anti_pt_mask_2 = data['anti_top_pt'][:, 1] > 50\n",
    "\n",
    "    anti_eta_mask_1 = (data['anti_top_eta'][:, 0] > -2.4) & (data['anti_top_eta'][:, 0] < 2.4)\n",
    "    anti_eta_mask_2 = (data['anti_top_eta'][:, 1] > -2.4) & (data['anti_top_eta'][:, 1] < 2.4)\n",
    "\n",
    "    masks = pt_mask_1 & pt_mask_2 & eta_mask_1 & eta_mask_2 & anti_pt_mask_1 & anti_pt_mask_2 & anti_eta_mask_1 & anti_eta_mask_2\n",
    "\n",
    "    top_pt = awkward.to_numpy(data['top_pt'])\n",
    "    top_e = awkward.to_numpy(data['top_e'])\n",
    "    top_eta = awkward.to_numpy(data['top_eta'])\n",
    "    antitop_eta = awkward.to_numpy(data['anti_top_eta'])\n",
    "\n",
    "\n",
    "    filtered_top_pt = top_pt[(top_pt[:, 0] >= 250) & (top_pt[:, 1] >= 250)]\n",
    "    filtered_top_e = top_e[(top_pt[:, 0] >= 250) & (top_pt[:, 1] >= 250)]\n",
    "    filtered_top_eta = top_eta[(top_pt[:, 0] >= 250) & (top_pt[:, 1] >= 250)]\n",
    "    filtered_antitop_eta = antitop_eta[(top_pt[:, 0] >= 250) & (top_pt[:, 1] >= 250)]"
   ]
  },
  {
   "cell_type": "code",
   "execution_count": null,
   "metadata": {},
   "outputs": [],
   "source": [
    "split_antitop_eta = antitop_eta.reshape(100000,1)\n",
    "split_filtered_antitop_eta = filtered_antitop_eta.reshape(13634,1)\n",
    "split_top_eta = top_eta.reshape(100000,1)\n",
    "split_filtered_top_eta = filtered_top_eta.reshape(13634,1)"
   ]
  },
  {
   "cell_type": "markdown",
   "metadata": {},
   "source": [
    "3 top W"
   ]
  },
  {
   "cell_type": "code",
   "execution_count": null,
   "metadata": {},
   "outputs": [],
   "source": [
    "tree_3W = uproot.open('C:/Users/matis/OneDrive/Documents/Y4/Project/3tops_tttW_partonic_skimmed_2609.root')['tree']\n",
    "events_3W = tree.arrays(['top_pt', 'top_eta', 'top_phi', 'top_e', 'anti_top_pt', 'anti_top_eta', 'anti_top_phi', 'anti_top_e'])\n",
    "\n",
    "for data in tree_3W.iterate(['top_pt', 'top_eta', 'top_phi', 'top_e', 'anti_top_pt', 'anti_top_eta', 'anti_top_phi', 'anti_top_e']):\n",
    "\n",
    "    pt_mask_1 = data['top_pt'][:, 0] > 50\n",
    "    pt_mask_2 = data['top_pt'][:, 1] > 50\n",
    "\n",
    "    eta_mask_1 = (data['top_eta'][:, 0] > -2.4) & (data['top_eta'][:, 0] < 2.4)\n",
    "    eta_mask_2 = (data['top_eta'][:, 1] > -2.4) & (data['top_eta'][:, 1] < 2.4)\n",
    "\n",
    "    anti_pt_mask_1 = data['anti_top_pt'][:, 0] > 50\n",
    "    anti_pt_mask_2 = data['anti_top_pt'][:, 1] > 50\n",
    "\n",
    "    anti_eta_mask_1 = (data['anti_top_eta'][:, 0] > -2.4) & (data['anti_top_eta'][:, 0] < 2.4)\n",
    "    anti_eta_mask_2 = (data['anti_top_eta'][:, 1] > -2.4) & (data['anti_top_eta'][:, 1] < 2.4)\n",
    "\n",
    "    masks = pt_mask_1 & pt_mask_2 & eta_mask_1 & eta_mask_2 & anti_pt_mask_1 & anti_pt_mask_2 & anti_eta_mask_1 & anti_eta_mask_2\n",
    "\n",
    "    top_pt = awkward.to_numpy(data['top_pt'])\n",
    "    top_e = awkward.to_numpy(data['top_e'])\n",
    "    top_eta = awkward.to_numpy(data['top_eta'])\n",
    "    antitop_eta = awkward.to_numpy(data['anti_top_eta'])\n",
    "\n",
    "\n",
    "    filtered_top_pt = top_pt[(top_pt[:, 0] >= 250) & (top_pt[:, 1] >= 250)]\n",
    "    filtered_top_e = top_e[(top_pt[:, 0] >= 250) & (top_pt[:, 1] >= 250)]\n",
    "    filtered_top_eta = top_eta[(top_pt[:, 0] >= 250) & (top_pt[:, 1] >= 250)]\n",
    "    filtered_antitop_eta = antitop_eta[(top_pt[:, 0] >= 250) & (top_pt[:, 1] >= 250)]"
   ]
  }
 ],
 "metadata": {
  "kernelspec": {
   "display_name": "Python 3",
   "language": "python",
   "name": "python3"
  },
  "language_info": {
   "codemirror_mode": {
    "name": "ipython",
    "version": 3
   },
   "file_extension": ".py",
   "mimetype": "text/x-python",
   "name": "python",
   "nbconvert_exporter": "python",
   "pygments_lexer": "ipython3",
   "version": "3.8.8"
  }
 },
 "nbformat": 4,
 "nbformat_minor": 2
}
