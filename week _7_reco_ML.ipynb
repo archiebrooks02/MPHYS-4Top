{
 "cells": [
  {
   "cell_type": "markdown",
   "metadata": {},
   "source": [
    "# Machine Learning "
   ]
  },
  {
   "cell_type": "markdown",
   "metadata": {},
   "source": [
    "### Importing libraries"
   ]
  },
  {
   "cell_type": "code",
   "execution_count": 1,
   "metadata": {},
   "outputs": [],
   "source": [
    "import numpy as np\n",
    "import uproot\n",
    "import vector\n",
    "import awkward\n",
    "import boost_histogram as bh\n",
    "import matplotlib.pyplot as plt\n",
    "import mplhep as hep\n",
    "import sklearn as skl\n",
    "import torch \n",
    "seed_value = 420 \n",
    "from numpy.random import seed\n",
    "seed(seed_value)\n",
    "from sklearn.model_selection import train_test_split\n",
    "from sklearn.preprocessing import StandardScaler\n",
    "from sklearn.ensemble import RandomForestClassifier\n",
    "from sklearn.metrics import accuracy_score\n",
    "import torch\n",
    "import torch.nn as nn\n",
    "import torch.nn.functional as F\n",
    "from torch.autograd import Variable\n",
    "import torch.utils.data as Data\n",
    "from sklearn.metrics import classification_report, roc_auc_score\n",
    "from sklearn.metrics import roc_curve\n",
    "import itertools\n",
    "from sklearn.inspection import permutation_importance\n",
    "\n",
    "#directory = \"/Users/archiebrooks/Documents/Uni/mphys project/\"\n",
    "directory = \"c:/Users/matis/OneDrive/Documents/Y4/Project/\"\n",
    "\n",
    "hep.style.use('ATLAS')"
   ]
  },
  {
   "cell_type": "markdown",
   "metadata": {},
   "source": [
    "## Functions"
   ]
  },
  {
   "cell_type": "markdown",
   "metadata": {},
   "source": [
    "### Plotting"
   ]
  },
  {
   "cell_type": "code",
   "execution_count": 2,
   "metadata": {},
   "outputs": [],
   "source": [
    "def histogram(data, bins, data_label, axes, density=False, ratio=False, ratio_axes=None, set_range = None, weight_array=None, x_units='GeV'):\n",
    "    if len(data[0]) != 1:\n",
    "        if set_range is not None:\n",
    "            global_min, global_max = set_range\n",
    "        else:\n",
    "            global_min = min([np.min(d) for d in data])\n",
    "            global_max = max([np.max(d) for d in data])\n",
    "\n",
    "        bin_edges = np.linspace(global_min, global_max, bins+1)\n",
    "        counts = []\n",
    "        errors = []\n",
    "        bin_width = bin_edges[1]-bin_edges[0]\n",
    "        for i in range(len(data)):\n",
    "            if type(data[i])!= 'numpy.ndarray':\n",
    "                data[i] = np.array(awkward.to_numpy(data[i]))\n",
    "            hist = bh.Histogram(bh.axis.Regular(bins, global_min, global_max))\n",
    "            hist.fill(data[i], weight=weight_array[i]) if weight_array is not None else hist.fill(data[i])\n",
    "            norm_factor = np.sum(hist.counts() * np.diff(hist.axes[0].edges))\n",
    "            if density: hep.histplot(hist.counts()/norm_factor, hist.axes[0].edges, ax=axes, yerr=np.sqrt(hist.variances())/norm_factor,label=data_label[i], histtype='step')\n",
    "            else: hep.histplot(hist.counts(), hist.axes[0].edges, ax=axes, yerr=np.sqrt(hist.variances()),label=data_label, histtype='step')\n",
    "            counts.append(hist.counts()/norm_factor) if density else counts.append(hist.counts())\n",
    "            errors.append(np.sqrt(hist.variances())/norm_factor) if density else errors.append(np.sqrt(hist.variances()))       \n",
    "    else:\n",
    "        hist = bh.Histogram(bh.axis.Regular(bins, global_min, global_max))\n",
    "        hist.fill(data[i])\n",
    "        hep.histplot(hist.view(), hist.axes[0].edges, ax=axes, yerr=np.sqrt(hist.variances()), label=data_label, histtype='step')\n",
    "\n",
    "    bin_width = hist.axes[0].edges[1]-hist.axes[0].edges[0]\n",
    "    axes.set_ylabel(f'Events /{bin_width:.2g} {x_units}')\n",
    "    axes.legend()\n",
    "\n",
    "    if ratio:\n",
    "        reference_counts = counts[0]\n",
    "        for i in range(1, len(counts)):\n",
    "            ratio_values = np.divide(counts[i], reference_counts, out=np.zeros_like(counts[i]), where=reference_counts != 0)\n",
    "            ratio_errors = np.sqrt(np.divide(errors[i],counts[i], out=np.zeros_like(counts[i]), where=counts[i]!=0)**2 + (np.divide(errors[0],counts[0], out=np.zeros_like(counts[0]), where=counts[0]!=0)**2))\n",
    "            hep.histplot(ratio_values, bin_edges, ax=ratio_axes, yerr=ratio_errors, label=f'{data_label[i]}/{data_label[0]}')\n",
    "        ratio_axes.set_ylabel(\"Ratio\")\n",
    "        ratio_axes.set_xlabel(axes.get_xlabel())\n",
    "        ratio_axes.axhline(1, color='black', linestyle='--')  # Reference line at ratio=1\n",
    "        ratio_axes.legend()\n",
    "        if ratio_axes.get_ylim()[1]>5:\n",
    "            ratio_axes.set_ylim(0,5)\n",
    "\n",
    "    hep.atlas.label(ax=axes)"
   ]
  },
  {
   "cell_type": "markdown",
   "metadata": {},
   "source": [
    "### Combinations"
   ]
  },
  {
   "cell_type": "code",
   "execution_count": 3,
   "metadata": {},
   "outputs": [],
   "source": [
    "def n_combinations(particles, n):\n",
    "    valid_jets = particles[awkward.num(particles) >= n]\n",
    "    indices = np.array(list(itertools.combinations(range(awkward.max(awkward.num(valid_jets))), n)))\n",
    "    combinations = valid_jets[:, indices]\n",
    "    return combinations"
   ]
  },
  {
   "cell_type": "markdown",
   "metadata": {},
   "source": [
    "## Extracting Data"
   ]
  },
  {
   "cell_type": "code",
   "execution_count": 11,
   "metadata": {},
   "outputs": [],
   "source": [
    "tree3j = uproot.open(directory + \"3tops_tttj_skimmed_combined.root\")\n",
    "tree3W = uproot.open(directory + \"3tops_tttW_skimmed_combined.root\")\n",
    "tree4 = uproot.open(directory + \"4tops_inclusive_17july_combined.root\")\n",
    "\n",
    "events_4t_jets = tree4[\"Delphes;1\"][\"Jet\"].arrays(['Jet.PT','Jet.Eta','Jet.Phi','Jet.T','Jet.Mass','Jet.Flavor','Jet.BTag','Jet.Charge'])\n",
    "events_4t_electrons = tree4[\"Delphes;1\"][\"Electron\"].arrays(['Electron.PT','Electron.Eta','Electron.Phi','Electron.T','Electron.Charge','Electron.Particle'])\n",
    "events_4t_electrons['Electron.Mass'] = np.ones_like(events_4t_electrons['Electron.PT']) * 0.511E-3\n",
    "events_4t_muons = tree4[\"Delphes;1\"][\"Muon\"].arrays(['Muon.PT','Muon.Eta','Muon.Phi','Muon.T','Muon.Charge','Muon.Particle'])\n",
    "events_4t_muons['Muon.Mass'] = np.ones_like(events_4t_muons['Muon.PT']) * 0.1057\n",
    "\n",
    "jets_pt_4t = events_4t_jets['Jet.PT']\n",
    "jets_eta_4t = events_4t_jets['Jet.Eta']\n",
    "jets_phi_4t = events_4t_jets['Jet.Phi']\n",
    "jets_mass_4t = events_4t_jets['Jet.Mass']\n",
    "\n",
    "leptons_pt_4t = awkward.concatenate((events_4t_electrons['Electron.PT'],events_4t_muons['Muon.PT']), axis=1)\n",
    "leptons_eta_4t = awkward.concatenate((events_4t_electrons['Electron.Eta'],events_4t_muons['Muon.Eta']), axis=1)\n",
    "leptons_phi_4t = awkward.concatenate((events_4t_electrons['Electron.Phi'],events_4t_muons['Muon.Phi']), axis=1)\n",
    "leptons_mass_4t = awkward.concatenate((events_4t_electrons['Electron.Mass'],events_4t_muons['Muon.Mass']), axis=1)\n",
    "\n",
    "jets_4t = vector.zip({'pt':jets_pt_4t,'eta':jets_eta_4t,'phi':jets_phi_4t,'mass':jets_mass_4t})\n",
    "leptons_4t = vector.zip({'pt':leptons_pt_4t,'eta':leptons_eta_4t,'phi':leptons_phi_4t,'mass':leptons_mass_4t})\n",
    "all_products_4t = awkward.concatenate((jets_4t,leptons_4t), axis=1)\n",
    "\n",
    "events_3tj_jets = tree3j[\"Delphes;1\"][\"Jet\"].arrays(['Jet.PT', 'Jet.Eta', 'Jet.Phi', 'Jet.Mass', 'Jet.BTag'])\n",
    "events_3tj_electrons = tree3j[\"Delphes;1\"][\"Electron\"].arrays(['Electron.PT','Electron.Eta','Electron.Phi','Electron.Charge','Electron.Particle'])\n",
    "events_3tj_electrons['Mass'] = np.ones_like(events_3tj_electrons['Electron.PT'])*0.511E-3\n",
    "events_3tj_muons = tree3j[\"Delphes;1\"][\"Muon\"].arrays(['Muon.PT', 'Muon.Eta', 'Muon.Phi', 'Muon.Charge', 'Muon.Particle'])\n",
    "events_3tj_muons['Mass'] = np.ones_like(events_3tj_muons['Muon.PT'])*0.1057\n",
    "\n",
    "events_3tW_jets = tree3W[\"Delphes;1\"][\"Jet\"].arrays(['Jet.PT', 'Jet.Eta', 'Jet.Phi', 'Jet.Mass', 'Jet.BTag'])\n",
    "events_3tW_electrons = tree3W[\"Delphes;1\"][\"Electron\"].arrays(['Electron.PT','Electron.Eta','Electron.Phi','Electron.Charge','Electron.Particle'])\n",
    "events_3tW_electrons['Mass'] = np.ones_like(events_3tW_electrons['Electron.PT'])*0.511E-3\n",
    "events_3tW_muons = tree3W[\"Delphes;1\"][\"Muon\"].arrays(['Muon.PT', 'Muon.Eta', 'Muon.Phi', 'Muon.Charge', 'Muon.Particle'])\n",
    "events_3tW_muons['Mass'] = np.ones_like(events_3tW_muons['Muon.PT'])*105.7\n",
    "\n",
    "jets_pt_3tj = events_3tj_jets['Jet.PT']\n",
    "jets_eta_3tj = events_3tj_jets['Jet.Eta']\n",
    "jets_phi_3tj = events_3tj_jets['Jet.Phi']\n",
    "jets_mass_3tj = events_3tj_jets['Jet.Mass']\n",
    "\n",
    "electrons_pt_3tj = events_3tj_electrons['Electron.PT']\n",
    "electrons_eta_3tj = events_3tj_electrons['Electron.Eta']\n",
    "electrons_phi_3tj = events_3tj_electrons['Electron.Phi']\n",
    "electrons_mass_3tj = events_3tj_electrons['Mass']\n",
    "\n",
    "muons_pt_3tj = events_3tj_muons['Muon.PT']\n",
    "muons_eta_3tj = events_3tj_muons['Muon.Eta']\n",
    "muons_phi_3tj = events_3tj_muons['Muon.Phi']\n",
    "muons_mass_3tj = events_3tj_muons['Mass']\n",
    "\n",
    "jets_pt_3tW = events_3tW_jets['Jet.PT']\n",
    "jets_eta_3tW = events_3tW_jets['Jet.Eta']\n",
    "jets_phi_3tW = events_3tW_jets['Jet.Phi']\n",
    "jets_mass_3tW = events_3tW_jets['Jet.Mass']\n",
    "\n",
    "electrons_pt_3tW = events_3tW_electrons['Electron.PT']\n",
    "electrons_eta_3tW = events_3tW_electrons['Electron.Eta']\n",
    "electrons_phi_3tW = events_3tW_electrons['Electron.Phi']\n",
    "electrons_mass_3tW = events_3tW_electrons['Mass']\n",
    "\n",
    "muons_pt_3tW = events_3tW_muons['Muon.PT']\n",
    "muons_eta_3tW = events_3tW_muons['Muon.Eta']\n",
    "muons_phi_3tW = events_3tW_muons['Muon.Phi']\n",
    "muons_mass_3tW = events_3tW_muons['Mass']\n",
    "\n",
    "leptons_pt_3tW = awkward.concatenate([electrons_pt_3tW,muons_pt_3tW],axis=1)\n",
    "leptons_eta_3tW = awkward.concatenate([electrons_eta_3tW,muons_eta_3tW],axis=1)\n",
    "leptons_phi_3tW = awkward.concatenate([electrons_phi_3tW,muons_phi_3tW],axis=1)\n",
    "leptons_mass_3tW = awkward.concatenate([electrons_mass_3tW,muons_mass_3tW],axis=1)\n",
    "\n",
    "leptons_pt_3tj = awkward.concatenate([electrons_pt_3tj,muons_pt_3tj],axis=1)\n",
    "leptons_eta_3tj = awkward.concatenate([electrons_eta_3tj,muons_eta_3tj],axis=1)\n",
    "leptons_phi_3tj = awkward.concatenate([electrons_phi_3tj,muons_phi_3tj],axis=1)\n",
    "leptons_mass_3tj = awkward.concatenate([electrons_mass_3tj,muons_mass_3tj],axis=1)\n",
    "\n",
    "leptons_pt_3t = awkward.concatenate([leptons_pt_3tW,leptons_pt_3tj])\n",
    "leptons_eta_3t = awkward.concatenate([leptons_eta_3tW,leptons_eta_3tj])\n",
    "leptons_phi_3t = awkward.concatenate([leptons_phi_3tW,leptons_phi_3tj])\n",
    "leptons_mass_3t = awkward.concatenate([leptons_mass_3tW,leptons_mass_3tj])\n",
    "\n",
    "jets_pt_3t = awkward.concatenate([jets_pt_3tW,jets_pt_3tj])\n",
    "jets_eta_3t = awkward.concatenate([jets_eta_3tW,jets_eta_3tj])\n",
    "jets_phi_3t = awkward.concatenate([jets_phi_3tW,jets_phi_3tj])\n",
    "jets_mass_3t = awkward.concatenate([jets_mass_3tW,jets_mass_3tj])\n",
    "\n",
    "leptons_3t = vector.zip({'pt':leptons_pt_3t,'eta':leptons_eta_3t,'phi':leptons_phi_3t,'mass':leptons_mass_3t})\n",
    "jets_3t = vector.zip({'pt':jets_pt_3t,'eta':jets_eta_3t,'phi':jets_phi_3t,'mass':jets_mass_3t})\n",
    "all_products_3t = awkward.concatenate((jets_3t,leptons_3t), axis=1)"
   ]
  },
  {
   "cell_type": "code",
   "execution_count": 12,
   "metadata": {},
   "outputs": [],
   "source": [
    "lepton_charges_4t = awkward.concatenate((events_4t_electrons['Electron.Charge'], events_4t_muons['Muon.Charge']), axis=1)\n",
    "lepton_charges_3tW = awkward.concatenate((events_3tW_electrons['Electron.Charge'], events_3tW_muons['Muon.Charge']), axis=1)\n",
    "lepton_charges_3tj = awkward.concatenate((events_3tj_electrons['Electron.Charge'], events_3tj_muons['Muon.Charge']), axis=1)\n",
    "lepton_charges_3t = awkward.concatenate((lepton_charges_3tW, lepton_charges_3tj))"
   ]
  },
  {
   "cell_type": "code",
   "execution_count": 13,
   "metadata": {},
   "outputs": [],
   "source": [
    "filtered_jets_3t = jets_3t[(awkward.num(leptons_3t)>=2) & (awkward.num(jets_3t)>=3)]\n",
    "filtered_leptons_3t = leptons_3t[(awkward.num(jets_3t)>=3) & (awkward.num(leptons_3t)>=2)]\n",
    "filtered_lepton_charges_3t = lepton_charges_3t[(awkward.num(jets_3t)>=3) & (awkward.num(leptons_3t)>=2)]\n",
    "\n",
    "jets_3t = filtered_jets_3t\n",
    "leptons_3t = filtered_leptons_3t\n",
    "lepton_charges_3t = filtered_lepton_charges_3t\n",
    "\n",
    "filtered_jets_4t = jets_4t[(awkward.num(leptons_4t)>=2) & (awkward.num(jets_4t)>=3)]\n",
    "filtered_leptons_4t = leptons_4t[(awkward.num(jets_4t)>=3) & (awkward.num(leptons_4t)>=2)]\n",
    "filtered_lepton_charges_4t = lepton_charges_4t[(awkward.num(jets_4t)>=3) & (awkward.num(leptons_4t)>=2)]\n",
    "\n",
    "jets_4t = filtered_jets_4t\n",
    "leptons_4t = filtered_leptons_4t\n",
    "lepton_charges_4t = filtered_lepton_charges_4t"
   ]
  },
  {
   "cell_type": "markdown",
   "metadata": {},
   "source": [
    "## Sorting"
   ]
  },
  {
   "cell_type": "code",
   "execution_count": 14,
   "metadata": {},
   "outputs": [],
   "source": [
    "sorted_indices = np.argsort(jets_4t.rho)\n",
    "trans_sorted_4t = jets_4t[sorted_indices]\n",
    "\n",
    "highest_pt_jet_4t = vector.zip({'pt':trans_sorted_4t.rho[:,-1],'eta':trans_sorted_4t.eta[:,-1],'phi':trans_sorted_4t.phi[:,-1], 'mass':jets_4t.m[:,-1]})\n",
    "second_highest_pt_jet_4t = vector.zip({'pt':trans_sorted_4t.rho[:,-2],'eta':trans_sorted_4t.eta[:,-2],'phi':trans_sorted_4t.phi[:,-2], 'mass':jets_4t.m[:,-2]})\n",
    "third_highest_pt_jet_4t = vector.zip({'pt':trans_sorted_4t.rho[:,-3],'eta':trans_sorted_4t.eta[:,-3],'phi':trans_sorted_4t.phi[:,-3], 'mass':jets_4t.m[:,-3]})\n",
    "lowest_pt_jet_4t = vector.zip({'pt':trans_sorted_4t.rho[:,0],'eta':trans_sorted_4t.eta[:,0],'phi':trans_sorted_4t.phi[:,0], 'mass':jets_4t.m[:,0]})\n",
    "\n",
    "sorted_indices = np.argsort(jets_3t.rho)\n",
    "trans_sorted_3t = jets_3t[sorted_indices]\n",
    "\n",
    "highest_pt_jet_3t = vector.zip({'pt':trans_sorted_3t.rho[:,-1],'eta':trans_sorted_3t.eta[:,-1],'phi':trans_sorted_3t.phi[:,-1], 'mass':jets_3t.m[:,-1]})\n",
    "second_highest_pt_jet_3t = vector.zip({'pt':trans_sorted_3t.rho[:,-2],'eta':trans_sorted_3t.eta[:,-2],'phi':trans_sorted_3t.phi[:,-2], 'mass':jets_3t.m[:,-2]})\n",
    "third_highest_pt_jet_3t = vector.zip({'pt':trans_sorted_3t.rho[:,-3],'eta':trans_sorted_3t.eta[:,-3],'phi':trans_sorted_3t.phi[:,-3], 'mass':jets_3t.m[:,-3]})\n",
    "lowest_pt_jet_3t = vector.zip({'pt':trans_sorted_3t.rho[:,0],'eta':trans_sorted_3t.eta[:,0],'phi':trans_sorted_3t.phi[:,0], 'mass':jets_3t.m[:,0]})"
   ]
  },
  {
   "cell_type": "code",
   "execution_count": 15,
   "metadata": {},
   "outputs": [],
   "source": [
    "sorted_indices = np.argsort(jets_4t.eta)\n",
    "trans_sorted_4t = jets_4t[sorted_indices]\n",
    "\n",
    "highest_eta_jet_4t = vector.zip({'pt':trans_sorted_4t.rho[:,-1],'eta':trans_sorted_4t.eta[:,-1],'phi':trans_sorted_4t.phi[:,-1], 'mass':jets_4t.m[:,-1]})\n",
    "second_highest_eta_jet_4t = vector.zip({'pt':trans_sorted_4t.rho[:,-2],'eta':trans_sorted_4t.eta[:,-2],'phi':trans_sorted_4t.phi[:,-2], 'mass':jets_4t.m[:,-2]})\n",
    "third_highest_eta_jet_4t = vector.zip({'pt':trans_sorted_4t.rho[:,-3],'eta':trans_sorted_4t.eta[:,-3],'phi':trans_sorted_4t.phi[:,-3], 'mass':jets_4t.m[:,-3]})\n",
    "lowest_eta_jet_4t = vector.zip({'pt':trans_sorted_4t.rho[:,0],'eta':trans_sorted_4t.eta[:,0],'phi':trans_sorted_4t.phi[:,0], 'mass':jets_4t.m[:,0]})\n",
    "\n",
    "sorted_indices = np.argsort(jets_3t.eta)\n",
    "trans_sorted_3t = jets_3t[sorted_indices]\n",
    "\n",
    "highest_eta_jet_3t = vector.zip({'pt':trans_sorted_3t.rho[:,-1],'eta':trans_sorted_3t.eta[:,-1],'phi':trans_sorted_3t.phi[:,-1], 'mass':jets_3t.m[:,-1]})\n",
    "second_highest_eta_jet_3t = vector.zip({'pt':trans_sorted_3t.rho[:,-2],'eta':trans_sorted_3t.eta[:,-2],'phi':trans_sorted_3t.phi[:,-2], 'mass':jets_3t.m[:,-2]})\n",
    "third_highest_eta_jet_3t = vector.zip({'pt':trans_sorted_3t.rho[:,-3],'eta':trans_sorted_3t.eta[:,-3],'phi':trans_sorted_3t.phi[:,-3], 'mass':jets_3t.m[:,-3]})\n",
    "lowest_eta_jet_3t = vector.zip({'pt':trans_sorted_3t.rho[:,0],'eta':trans_sorted_3t.eta[:,0],'phi':trans_sorted_3t.phi[:,0], 'mass':jets_3t.m[:,0]})"
   ]
  },
  {
   "cell_type": "code",
   "execution_count": 16,
   "metadata": {},
   "outputs": [],
   "source": [
    "sorted_indices = np.argsort(jets_4t.phi)\n",
    "trans_sorted_4t = jets_4t[sorted_indices]\n",
    "\n",
    "highest_phi_jet_4t = vector.zip({'pt':trans_sorted_4t.rho[:,-1],'eta':trans_sorted_4t.eta[:,-1],'phi':trans_sorted_4t.phi[:,-1], 'mass':jets_4t.m[:,-1]})\n",
    "second_highest_phi_jet_4t = vector.zip({'pt':trans_sorted_4t.rho[:,-2],'eta':trans_sorted_4t.eta[:,-2],'phi':trans_sorted_4t.phi[:,-2], 'mass':jets_4t.m[:,-2]})\n",
    "third_highest_phi_jet_4t = vector.zip({'pt':trans_sorted_4t.rho[:,-3],'eta':trans_sorted_4t.eta[:,-3],'phi':trans_sorted_4t.phi[:,-3], 'mass':jets_4t.m[:,-3]})\n",
    "lowest_phi_jet_4t = vector.zip({'pt':trans_sorted_4t.rho[:,0],'eta':trans_sorted_4t.eta[:,0],'phi':trans_sorted_4t.phi[:,0], 'mass':jets_4t.m[:,0]})\n",
    "\n",
    "sorted_indices = np.argsort(jets_3t.phi)\n",
    "trans_sorted_3t = jets_3t[sorted_indices]\n",
    "\n",
    "highest_phi_jet_3t = vector.zip({'pt':trans_sorted_3t.rho[:,-1],'eta':trans_sorted_3t.eta[:,-1],'phi':trans_sorted_3t.phi[:,-1], 'mass':jets_3t.m[:,-1]})\n",
    "second_highest_phi_jet_3t = vector.zip({'pt':trans_sorted_3t.rho[:,-2],'eta':trans_sorted_3t.eta[:,-2],'phi':trans_sorted_3t.phi[:,-2], 'mass':jets_3t.m[:,-2]})\n",
    "third_highest_phi_jet_3t = vector.zip({'pt':trans_sorted_3t.rho[:,-3],'eta':trans_sorted_3t.eta[:,-3],'phi':trans_sorted_3t.phi[:,-3], 'mass':jets_3t.m[:,-3]})\n",
    "lowest_phi_jet_3t = vector.zip({'pt':trans_sorted_3t.rho[:,0],'eta':trans_sorted_3t.eta[:,0],'phi':trans_sorted_3t.phi[:,0], 'mass':jets_3t.m[:,0]})"
   ]
  },
  {
   "cell_type": "code",
   "execution_count": 17,
   "metadata": {},
   "outputs": [],
   "source": [
    "sorted_indices = np.argsort(leptons_4t.rho)\n",
    "trans_sorted_4t = leptons_4t[sorted_indices]\n",
    "\n",
    "highest_pt_lepton_4t = vector.zip({'pt':trans_sorted_4t.rho[:,-1],'eta':trans_sorted_4t.eta[:,-1],'phi':trans_sorted_4t.phi[:,-1], 'mass':leptons_4t.m[:,-1]})\n",
    "lowest_pt_lepton_4t = vector.zip({'pt':trans_sorted_4t.rho[:,0],'eta':trans_sorted_4t.eta[:,0],'phi':trans_sorted_4t.phi[:,0], 'mass':leptons_4t.m[:,0]})\n",
    "\n",
    "sorted_indices = np.argsort(leptons_3t.rho)\n",
    "trans_sorted_3t = leptons_3t[sorted_indices]\n",
    "\n",
    "highest_pt_lepton_3t = vector.zip({'pt':trans_sorted_3t.rho[:,-1],'eta':trans_sorted_3t.eta[:,-1],'phi':trans_sorted_3t.phi[:,-1], 'mass':leptons_3t.m[:,-1]})\n",
    "lowest_pt_lepton_3t = vector.zip({'pt':trans_sorted_3t.rho[:,0],'eta':trans_sorted_3t.eta[:,0],'phi':trans_sorted_3t.phi[:,0], 'mass':leptons_3t.m[:,0]})"
   ]
  },
  {
   "cell_type": "code",
   "execution_count": 18,
   "metadata": {},
   "outputs": [],
   "source": [
    "sorted_indices = np.argsort(leptons_4t.eta)\n",
    "trans_sorted_4t = leptons_4t[sorted_indices]\n",
    "\n",
    "highest_eta_lepton_4t = vector.zip({'pt':trans_sorted_4t.rho[:,-1],'eta':trans_sorted_4t.eta[:,-1],'phi':trans_sorted_4t.phi[:,-1], 'mass':leptons_4t.m[:,-1]})\n",
    "lowest_eta_lepton_4t = vector.zip({'pt':trans_sorted_4t.rho[:,0],'eta':trans_sorted_4t.eta[:,0],'phi':trans_sorted_4t.phi[:,0], 'mass':leptons_4t.m[:,0]})\n",
    "\n",
    "sorted_indices = np.argsort(leptons_3t.eta)\n",
    "trans_sorted_3t = leptons_3t[sorted_indices]\n",
    "\n",
    "highest_eta_lepton_3t = vector.zip({'pt':trans_sorted_3t.rho[:,-1],'eta':trans_sorted_3t.eta[:,-1],'phi':trans_sorted_3t.phi[:,-1], 'mass':leptons_3t.m[:,-1]})\n",
    "lowest_eta_lepton_3t = vector.zip({'pt':trans_sorted_3t.rho[:,0],'eta':trans_sorted_3t.eta[:,0],'phi':trans_sorted_3t.phi[:,0], 'mass':leptons_3t.m[:,0]})"
   ]
  },
  {
   "cell_type": "code",
   "execution_count": 19,
   "metadata": {},
   "outputs": [],
   "source": [
    "sorted_indices = np.argsort(leptons_4t.phi)\n",
    "trans_sorted_4t = leptons_4t[sorted_indices]\n",
    "\n",
    "highest_phi_lepton_4t = vector.zip({'pt':trans_sorted_4t.rho[:,-1],'eta':trans_sorted_4t.eta[:,-1],'phi':trans_sorted_4t.phi[:,-1], 'mass':leptons_4t.m[:,-1]})\n",
    "lowest_phi_lepton_4t = vector.zip({'pt':trans_sorted_4t.rho[:,0],'eta':trans_sorted_4t.eta[:,0],'phi':trans_sorted_4t.phi[:,0], 'mass':leptons_4t.m[:,0]})\n",
    "\n",
    "sorted_indices = np.argsort(leptons_3t.phi)\n",
    "trans_sorted_3t = leptons_3t[sorted_indices]\n",
    "\n",
    "highest_phi_lepton_3t = vector.zip({'pt':trans_sorted_3t.rho[:,-1],'eta':trans_sorted_3t.eta[:,-1],'phi':trans_sorted_3t.phi[:,-1], 'mass':leptons_3t.m[:,-1]})\n",
    "lowest_phi_lepton_3t = vector.zip({'pt':trans_sorted_3t.rho[:,0],'eta':trans_sorted_3t.eta[:,0],'phi':trans_sorted_3t.phi[:,0], 'mass':leptons_3t.m[:,0]})"
   ]
  },
  {
   "cell_type": "markdown",
   "metadata": {},
   "source": [
    "## Machine learning"
   ]
  },
  {
   "cell_type": "markdown",
   "metadata": {},
   "source": [
    "### Defining function"
   ]
  },
  {
   "cell_type": "markdown",
   "metadata": {},
   "source": [
    "### Data conversions"
   ]
  },
  {
   "cell_type": "code",
   "execution_count": 22,
   "metadata": {},
   "outputs": [],
   "source": [
    "jets_4t_total_4 = np.sum(jets_4t, axis=1)\n",
    "jets_4t_H_t = np.sum(jets_4t.pt, axis=1)\n",
    "jets_pt_balance_4t = jets_4t_total_4.pt/jets_4t_H_t\n",
    "\n",
    "leptons_4t_total_4 = np.sum(leptons_4t, axis=1)\n",
    "leptons_4t_H_t = np.sum(leptons_4t.pt, axis=1)\n",
    "leptons_pt_balance_4t = leptons_4t_total_4.pt/leptons_4t_H_t\n",
    "\n",
    "jets_3t_total_4 = np.sum(jets_3t, axis=1)\n",
    "jets_3t_H_t = np.sum(jets_3t.pt, axis=1)\n",
    "jets_pt_balance_3t = jets_3t_total_4.pt/jets_3t_H_t\n",
    "\n",
    "leptons_3t_total_4 = np.sum(leptons_3t, axis=1)\n",
    "leptons_3t_H_t = np.sum(leptons_3t.pt, axis=1)\n",
    "leptons_pt_balance_3t = leptons_3t_total_4.pt/leptons_3t_H_t\n",
    "\n",
    "total_4_3t = np.sum(all_products_3t, axis=1)\n",
    "H_t_3t = np.sum(all_products_3t.pt, axis=1)\n",
    "pt_balance_3t = total_4_3t.pt/H_t_3t\n",
    "\n",
    "total_4_4t = np.sum(all_products_4t, axis=1)\n",
    "H_t_4t = np.sum(all_products_4t.pt, axis=1)\n",
    "pt_balance_4t = total_4_4t.pt/H_t_4t"
   ]
  },
  {
   "cell_type": "code",
   "execution_count": 24,
   "metadata": {},
   "outputs": [],
   "source": [
    "sum_pt_jets_3t = np.sum(jets_3t.pt, axis=1)\n",
    "\n",
    "S_xy_jets_3t = np.zeros((len(jets_3t),2,2))\n",
    "\n",
    "\n",
    "S_xy_jets_3t[:,0,0] = np.sum(jets_3t.px**2/ jets_3t.pt, axis=1)\n",
    "S_xy_jets_3t[:,0,1] = np.sum((jets_3t.px*jets_3t.py)/ jets_3t.pt, axis=1)\n",
    "S_xy_jets_3t[:,1,0] = S_xy_jets_3t[:,0,1]\n",
    "S_xy_jets_3t[:,1,1] = np.sum(jets_3t.py**2/ jets_3t.pt, axis=1)\n",
    "\n",
    "\n",
    "S_xy_jets_3t = S_xy_jets_3t/sum_pt_jets_3t[:,np.newaxis,np.newaxis]\n",
    "\n",
    "eigenvalues_jets_3t = np.linalg.eigvalsh(S_xy_jets_3t)\n",
    "\n",
    "sphericity_jets_3t = 2*np.min(eigenvalues_jets_3t, axis=1)/np.sum(eigenvalues_jets_3t, axis=1)\n",
    "\n",
    "sum_pt_jets_4t = np.sum(jets_4t.pt, axis=1)\n",
    "\n",
    "S_xy_jets_4t = np.zeros((len(jets_4t),2,2))\n",
    "\n",
    "\n",
    "S_xy_jets_4t[:,0,0] = np.sum(jets_4t.px**2/ jets_4t.pt, axis=1)\n",
    "S_xy_jets_4t[:,0,1] = np.sum((jets_4t.px*jets_4t.py)/ jets_4t.pt, axis=1)\n",
    "S_xy_jets_4t[:,1,0] = S_xy_jets_4t[:,0,1]\n",
    "S_xy_jets_4t[:,1,1] = np.sum(jets_4t.py**2/ jets_4t.pt, axis=1)\n",
    "\n",
    "\n",
    "S_xy_jets_4t = S_xy_jets_4t/sum_pt_jets_4t[:,np.newaxis,np.newaxis]\n",
    "\n",
    "eigenvalues_jets_4t = np.linalg.eigvalsh(S_xy_jets_4t)\n",
    "\n",
    "sphericity_jets_4t = 2*np.min(eigenvalues_jets_4t, axis=1)/np.sum(eigenvalues_jets_4t, axis=1)\n",
    "\n",
    "sum_pt_leptons_3t = np.sum(leptons_3t.pt, axis=1)\n",
    "\n",
    "S_xy_leptons_3t = np.zeros((len(leptons_3t),2,2))\n",
    "\n",
    "S_xy_leptons_3t[:,0,0] = np.sum(leptons_3t.px**2/ leptons_3t.pt, axis=1)\n",
    "S_xy_leptons_3t[:,0,1] = np.sum((leptons_3t.px*leptons_3t.py)/ leptons_3t.pt, axis=1)\n",
    "S_xy_leptons_3t[:,1,0] = S_xy_leptons_3t[:,0,1]\n",
    "S_xy_leptons_3t[:,1,1] = np.sum(leptons_3t.py**2/ leptons_3t.pt, axis=1)\n",
    "\n",
    "\n",
    "S_xy_leptons_3t = S_xy_leptons_3t/sum_pt_leptons_3t[:,np.newaxis,np.newaxis]\n",
    "\n",
    "eigenvalues_leptons_3t = np.linalg.eigvalsh(S_xy_leptons_3t)\n",
    "\n",
    "sphericity_leptons_3t = 2*np.min(eigenvalues_leptons_3t, axis=1)/np.sum(eigenvalues_leptons_3t, axis=1)\n",
    "\n",
    "sum_pt_leptons_4t = np.sum(leptons_4t.pt, axis=1)\n",
    "\n",
    "S_xy_leptons_4t = np.zeros((len(leptons_4t),2,2))\n",
    "\n",
    "\n",
    "S_xy_leptons_4t[:,0,0] = np.sum(leptons_4t.px**2/ leptons_4t.pt, axis=1)\n",
    "S_xy_leptons_4t[:,0,1] = np.sum((leptons_4t.px*leptons_4t.py)/ leptons_4t.pt, axis=1)\n",
    "S_xy_leptons_4t[:,1,0] = S_xy_leptons_4t[:,0,1]\n",
    "S_xy_leptons_4t[:,1,1] = np.sum(leptons_4t.py**2/ leptons_4t.pt, axis=1)\n",
    "\n",
    "\n",
    "S_xy_leptons_4t = S_xy_leptons_4t/sum_pt_leptons_4t[:,np.newaxis,np.newaxis]\n",
    "\n",
    "eigenvalues_leptons_4t = np.linalg.eigvalsh(S_xy_leptons_4t)\n",
    "\n",
    "sphericity_leptons_4t = 2*np.min(eigenvalues_leptons_4t, axis=1)/np.sum(eigenvalues_leptons_4t, axis=1)\n",
    "\n",
    "sum_pt_all_3t = np.sum(all_products_3t.pt, axis=1)\n",
    "\n",
    "S_all_3t = np.zeros((len(all_products_3t),2,2))\n",
    "\n",
    "\n",
    "S_all_3t[:,0,0] = np.sum(all_products_3t.px**2/ all_products_3t.pt, axis=1)\n",
    "S_all_3t[:,0,1] = np.sum((all_products_3t.px*all_products_3t.py)/ all_products_3t.pt, axis=1)\n",
    "S_all_3t[:,1,0] = S_all_3t[:,0,1]\n",
    "S_all_3t[:,1,1] = np.sum(all_products_3t.py**2/ all_products_3t.pt, axis=1)\n",
    "\n",
    "\n",
    "S_all_3t = S_all_3t/sum_pt_all_3t[:,np.newaxis,np.newaxis]\n",
    "\n",
    "eigenvalues_all_3t = np.linalg.eigvalsh(S_all_3t)\n",
    "\n",
    "sphericity_all_3t = 2*np.min(eigenvalues_all_3t, axis=1)/np.sum(eigenvalues_all_3t, axis=1)\n",
    "\n",
    "sum_pt_all_4t = np.sum(all_products_4t.pt, axis=1)\n",
    "\n",
    "S_all_4t = np.zeros((len(all_products_4t),2,2))\n",
    "\n",
    "\n",
    "S_all_4t[:,0,0] = np.sum(all_products_4t.px**2/ all_products_4t.pt, axis=1)\n",
    "S_all_4t[:,0,1] = np.sum((all_products_4t.px*all_products_4t.py)/ all_products_4t.pt, axis=1)\n",
    "S_all_4t[:,1,0] = S_all_4t[:,0,1]\n",
    "S_all_4t[:,1,1] = np.sum(all_products_4t.py**2/ all_products_4t.pt, axis=1)\n",
    "\n",
    "\n",
    "S_all_4t = S_all_4t/sum_pt_all_4t[:,np.newaxis,np.newaxis]\n",
    "\n",
    "eigenvalues_all_4t = np.linalg.eigvalsh(S_all_4t)\n",
    "\n",
    "sphericity_all_4t = 2*np.min(eigenvalues_all_4t, axis=1)/np.sum(eigenvalues_all_4t, axis=1)"
   ]
  },
  {
   "cell_type": "code",
   "execution_count": 25,
   "metadata": {},
   "outputs": [],
   "source": [
    "sum_pt_3t = np.sum(tops_3t.pt, axis=1)\n",
    "\n",
    "S_xy_3t = np.zeros((len(tops_3t),2,2))\n",
    "\n",
    "\n",
    "S_xy_3t[:,0,0] = np.sum(tops_3t.px**2/ tops_3t.pt, axis=1)\n",
    "S_xy_3t[:,0,1] = np.sum((tops_3t.px*tops_3t.py)/ tops_3t.pt, axis=1)\n",
    "S_xy_3t[:,1,0] = S_xy_3t[:,0,1]\n",
    "S_xy_3t[:,1,1] = np.sum(tops_3t.py**2/ tops_3t.pt, axis=1)\n",
    "\n",
    "\n",
    "S_xy_3t = S_xy_3t/sum_pt_3t[:,np.newaxis,np.newaxis]\n",
    "\n",
    "eigenvalues_3t = np.linalg.eigvalsh(S_xy_3t)\n",
    "\n",
    "transverse_sphericity_3t = 2*np.min(eigenvalues_3t, axis=1)/np.sum(eigenvalues_3t, axis=1)\n",
    "\n",
    "sum_pt_4t = np.sum(tops_4t.pt, axis=1)\n",
    "\n",
    "S_xy_4t = np.zeros((len(tops_4t),2,2))\n",
    "\n",
    "\n",
    "S_xy_4t[:,0,0] = np.sum(tops_4t.px**2/ tops_4t.pt, axis=1)\n",
    "S_xy_4t[:,0,1] = np.sum((tops_4t.px*tops_4t.py)/ tops_4t.pt, axis=1)\n",
    "S_xy_4t[:,1,0] = S_xy_4t[:,0,1]\n",
    "S_xy_4t[:,1,1] = np.sum(tops_4t.py**2/ tops_4t.pt, axis=1)\n",
    "\n",
    "\n",
    "S_xy_4t = S_xy_4t/sum_pt_4t[:,np.newaxis,np.newaxis]\n",
    "\n",
    "eigenvalues_4t = np.linalg.eigvalsh(S_xy_4t)\n",
    "\n",
    "transverse_sphericity_4t = 2*np.min(eigenvalues_4t, axis=1)/np.sum(eigenvalues_4t, axis=1)"
   ]
  },
  {
   "cell_type": "code",
   "execution_count": 26,
   "metadata": {},
   "outputs": [],
   "source": [
    "sum_p_3t = np.sum(tops_3t.p, axis=1)\n",
    "\n",
    "S_xyz_3t = np.zeros((len(tops_3t),3,3))\n",
    "\n",
    "\n",
    "S_xyz_3t[:,0,0] = np.sum(tops_3t.px**2/ tops_3t.p, axis=1)\n",
    "S_xyz_3t[:,0,1] = np.sum((tops_3t.px*tops_3t.py)/ tops_3t.p, axis=1)\n",
    "S_xyz_3t[:,0,2] = np.sum((tops_3t.px*tops_3t.pz)/ tops_3t.p, axis=1)\n",
    "S_xyz_3t[:,1,2] = np.sum((tops_3t.py*tops_3t.pz)/ tops_3t.p, axis=1)\n",
    "S_xyz_3t[:,1,0] = S_xyz_3t[:,0,1]\n",
    "S_xyz_3t[:,2,0] = S_xyz_3t[:,0,2]\n",
    "S_xyz_3t[:,2,1] = S_xyz_3t[:,1,2]\n",
    "S_xyz_3t[:,1,1] = np.sum(tops_3t.py**2/ tops_3t.p, axis=1)\n",
    "S_xyz_3t[:,2,2] = np.sum(tops_3t.pz**2/ tops_3t.p, axis=1)\n",
    "\n",
    "\n",
    "S_xyz_3t = S_xyz_3t/sum_p_3t[:,np.newaxis,np.newaxis]\n",
    "\n",
    "eigenvalues_3t = np.linalg.eigvalsh(S_xyz_3t)\n",
    "\n",
    "sphericity_3t = 2*np.min(eigenvalues_3t, axis=1)/np.sum(eigenvalues_3t, axis=1)\n",
    "\n",
    "sum_p_4t = np.sum(tops_4t.p, axis=1)\n",
    "\n",
    "S_xyz_4t = np.zeros((len(tops_4t),3,3))\n",
    "\n",
    "\n",
    "S_xyz_4t[:,0,0] = np.sum(tops_4t.px**2/ tops_4t.p, axis=1)\n",
    "S_xyz_4t[:,0,1] = np.sum((tops_4t.px*tops_4t.py)/ tops_4t.p, axis=1)\n",
    "S_xyz_4t[:,0,2] = np.sum((tops_4t.px*tops_4t.pz)/ tops_4t.p, axis=1)\n",
    "S_xyz_4t[:,1,2] = np.sum((tops_4t.py*tops_4t.pz)/ tops_4t.p, axis=1)\n",
    "S_xyz_4t[:,1,0] = S_xyz_4t[:,0,1]\n",
    "S_xyz_4t[:,2,0] = S_xyz_4t[:,0,2]\n",
    "S_xyz_4t[:,2,1] = S_xyz_4t[:,1,2]\n",
    "S_xyz_4t[:,1,1] = np.sum(tops_4t.py**2/ tops_4t.p, axis=1)\n",
    "S_xyz_4t[:,2,2] = np.sum(tops_4t.pz**2/ tops_4t.p, axis=1)\n",
    "\n",
    "\n",
    "S_xyz_4t = S_xyz_4t/sum_p_4t[:,np.newaxis,np.newaxis]\n",
    "\n",
    "eigenvalues_4t = np.linalg.eigvalsh(S_xyz_4t)\n",
    "\n",
    "sphericity_4t = 2*np.min(eigenvalues_4t, axis=1)/np.sum(eigenvalues_4t, axis=1)"
   ]
  },
  {
   "cell_type": "code",
   "execution_count": 27,
   "metadata": {},
   "outputs": [],
   "source": [
    "jets_4t_invariant_mass = jets_4t_total_4.m\n",
    "jets_4t_sum_indiv_inv_mass = np.sum(jets_4t.m,axis=1)\n",
    "jets_4t_sum_pt = jets_4t_total_4.pt\n",
    "\n",
    "jets_3t_invariant_mass = jets_3t_total_4.m\n",
    "jets_3t_sum_indiv_inv_mass = np.sum(jets_3t.m,axis=1)\n",
    "jets_3t_sum_pt = jets_3t_total_4.pt\n",
    "\n",
    "leptons_4t_invariant_mass = leptons_4t_total_4.m\n",
    "leptons_4t_sum_indiv_inv_mass = np.sum(leptons_4t.m,axis=1)\n",
    "leptons_4t_sum_pt = leptons_4t_total_4.pt\n",
    "\n",
    "leptons_3t_invariant_mass = leptons_3t_total_4.m\n",
    "leptons_3t_sum_indiv_inv_mass = np.sum(leptons_3t.m,axis=1)\n",
    "leptons_3t_sum_pt = leptons_3t_total_4.pt"
   ]
  },
  {
   "cell_type": "code",
   "execution_count": 28,
   "metadata": {},
   "outputs": [],
   "source": [
    "combined_data_4t = np.vstack(\n",
    "    (highest_pt_jet_4t.pt,\n",
    "     second_highest_pt_jet_4t.pt,\n",
    "     third_highest_pt_jet_4t.pt,\n",
    "     lowest_pt_jet_4t.pt,\n",
    "     highest_eta_jet_4t.eta,\n",
    "     second_highest_eta_jet_4t.eta,\n",
    "     third_highest_eta_jet_4t.eta,\n",
    "     lowest_eta_jet_4t.eta,\n",
    "     highest_phi_jet_4t.phi,\n",
    "     second_highest_phi_jet_4t.phi,\n",
    "     third_highest_phi_jet_4t.phi,\n",
    "     lowest_phi_jet_4t.phi,\n",
    "     jets_4t_H_t,\n",
    "     jets_4t_invariant_mass,\n",
    "     jets_4t_sum_indiv_inv_mass,\n",
    "     sphericity_jets_4t,\n",
    "     jets_4t_sum_pt,\n",
    "     highest_pt_lepton_4t.pt,\n",
    "     lowest_pt_lepton_4t.pt,\n",
    "     highest_eta_lepton_4t.eta,\n",
    "     lowest_eta_lepton_4t.eta,\n",
    "     highest_phi_lepton_4t.phi,\n",
    "     lowest_phi_lepton_4t.phi,\n",
    "     leptons_4t_H_t,\n",
    "     leptons_4t_invariant_mass,\n",
    "     leptons_4t_sum_indiv_inv_mass,\n",
    "     sphericity_leptons_4t,\n",
    "     leptons_4t_sum_pt,\n",
    "     ))\n",
    "\n",
    "combined_data_3t = np.vstack(\n",
    "    (highest_pt_jet_3t.pt,\n",
    "     second_highest_pt_jet_3t.pt,\n",
    "     third_highest_pt_jet_3t.pt,\n",
    "     lowest_pt_jet_3t.pt,\n",
    "     highest_eta_jet_3t.eta,\n",
    "     second_highest_eta_jet_3t.eta,\n",
    "     third_highest_eta_jet_3t.eta,\n",
    "     lowest_eta_jet_3t.eta,\n",
    "     highest_phi_jet_3t.phi,\n",
    "     second_highest_phi_jet_3t.phi,\n",
    "     third_highest_phi_jet_3t.phi,\n",
    "     lowest_phi_jet_3t.phi,\n",
    "     jets_3t_H_t,\n",
    "     jets_3t_invariant_mass,\n",
    "     jets_3t_sum_indiv_inv_mass,\n",
    "     sphericity_jets_3t,\n",
    "     jets_3t_sum_pt,\n",
    "     highest_pt_lepton_3t.pt,\n",
    "     lowest_pt_lepton_3t.pt,\n",
    "     highest_eta_lepton_3t.eta,\n",
    "     lowest_eta_lepton_3t.eta,\n",
    "     highest_phi_lepton_3t.phi,\n",
    "     lowest_phi_lepton_3t.phi,\n",
    "     leptons_3t_H_t,\n",
    "     leptons_3t_invariant_mass,\n",
    "     leptons_3t_sum_indiv_inv_mass,\n",
    "     sphericity_leptons_3t,\n",
    "     leptons_3t_sum_pt,\n",
    "     ))"
   ]
  },
  {
   "cell_type": "code",
   "execution_count": 29,
   "metadata": {},
   "outputs": [],
   "source": [
    "combined_data = np.hstack((combined_data_4t,combined_data_3t))\n",
    "trans_combined_data = np.transpose(combined_data)"
   ]
  },
  {
   "cell_type": "code",
   "execution_count": 30,
   "metadata": {},
   "outputs": [],
   "source": [
    "n_signal = len(jets_4t_H_t)\n",
    "n_background = len(jets_3t_H_t)\n",
    "labels = np.concatenate((np.ones(n_signal),np.zeros(n_background)))"
   ]
  },
  {
   "cell_type": "code",
   "execution_count": 31,
   "metadata": {},
   "outputs": [],
   "source": [
    "variable_names = [\n",
    "    (r'Highest $p_T$ Jet'),\n",
    "    (r'Second Highest $p_T$ Jet'),\n",
    "    (r'Third Highest $p_T$ Jet'),\n",
    "    (r'Lowest $p_T$ Jet'),\n",
    "    (r'Highest $\\eta$ Jet'),\n",
    "    (r'Second Highest $\\eta$ Jet'),\n",
    "    (r'Third Highest $\\eta$ Jet'),\n",
    "    (r'Lowest $\\eta$ Jet'),\n",
    "    (r'Highest $\\phi$ Jet'),\n",
    "    (r'Second Highest $\\phi$ Jet'),\n",
    "    (r'Third Highest $\\phi$ Jet'),\n",
    "    (r'Lowest $\\phi$ Jet'),\n",
    "    (r'Jet $H_T$'),\n",
    "    (r'Jet Invariant Mass'),\n",
    "    (r'$\\Sigma$ Jet Individual Invariant Masses'),\n",
    "    (r'Jet Sphericity'),\n",
    "    (r'Jet $\\Sigma$ $p_T$'),\n",
    "    (r'Highest $p_T$ lepton'),\n",
    "    (r'Lowest $p_T$ lepton'),\n",
    "    (r'Highest $\\eta$ lepton'),\n",
    "    (r'Lowest $\\eta$ lepton'),\n",
    "    (r'Highest $\\phi$ lepton'),\n",
    "    (r'Lowest $\\phi$ lepton'),\n",
    "    (r'lepton $H_T$'),\n",
    "    (r'lepton Invariant Mass'),\n",
    "    (r'$\\Sigma$ lepton Individual Invariant Masses'),\n",
    "    (r'lepton Sphericity'),\n",
    "    (r'lepton $\\Sigma$ $p_T$'),\n",
    "]"
   ]
  },
  {
   "cell_type": "code",
   "execution_count": 32,
   "metadata": {},
   "outputs": [
    {
     "name": "stdout",
     "output_type": "stream",
     "text": [
      "[28, 121838]\n",
      "28\n",
      "[28, 121838]\n",
      "28\n"
     ]
    }
   ],
   "source": [
    "features_deleted = []\n",
    "print(np.shape(combined_data))\n",
    "print(len(variable_names))\n",
    "combined_data_reduced = np.delete(combined_data,features_deleted,axis = 0)\n",
    "print(np.shape(combined_data_reduced))\n",
    "\n",
    "feature_names_reduced = np.delete(variable_names,features_deleted,axis=0)\n",
    "print(len(feature_names_reduced))\n",
    "trans_combined_data_reduced = np.transpose(combined_data_reduced)"
   ]
  },
  {
   "cell_type": "markdown",
   "metadata": {},
   "source": [
    "### Data reshaping"
   ]
  },
  {
   "cell_type": "code",
   "execution_count": 33,
   "metadata": {},
   "outputs": [],
   "source": [
    "X = trans_combined_data_reduced\n",
    "y = labels"
   ]
  },
  {
   "cell_type": "code",
   "execution_count": 34,
   "metadata": {},
   "outputs": [],
   "source": [
    "X_train, X_test, y_train, y_test = train_test_split(X, y, test_size=0.33, random_state=seed_value)"
   ]
  },
  {
   "cell_type": "code",
   "execution_count": 35,
   "metadata": {},
   "outputs": [],
   "source": [
    "scaler = StandardScaler()\n",
    "scaler.fit(X_train)\n",
    "\n",
    "X_train_scaled = scaler.transform(X_train)\n",
    "X_test_scaled = scaler.transform(X_test)\n",
    "X_scaled = scaler.transform(X)"
   ]
  },
  {
   "cell_type": "code",
   "execution_count": 36,
   "metadata": {},
   "outputs": [
    {
     "data": {
      "text/plain": [
       "<torch._C.Generator at 0x25624c810f0>"
      ]
     },
     "execution_count": 36,
     "metadata": {},
     "output_type": "execute_result"
    }
   ],
   "source": [
    "epochs = 20  # number of training epochs\n",
    "batch_size = 64  # number of samples per batch\n",
    "input_size = len(X[1])  # The number of features\n",
    "num_classes = 2  # The number of output classes. In this case: [signal, background]\n",
    "hidden_size = 64\n",
    "hidden_size1 = 64  # The number of nodes at the first hidden layer\n",
    "hidden_size2 = 64  # The number of nodes at the second hidden layer\n",
    "dropout_rate = 0.2\n",
    "learning_rate = 0.01  # The speed of convergence\n",
    "verbose = True  # flag for printing out stats at each epoch\n",
    "torch.manual_seed(seed_value)  # set random seed for PyTorch"
   ]
  },
  {
   "cell_type": "code",
   "execution_count": 37,
   "metadata": {},
   "outputs": [],
   "source": [
    "X_train_tensor = torch.as_tensor(X_train_scaled, dtype=torch.float)  # make tensor from X_train_scaled\n",
    "y_train_tensor = torch.as_tensor(y_train, dtype=torch.long)  # make tensor from y_train\n",
    "\n",
    "X_train_var, y_train_var = Variable(X_train_tensor), Variable(y_train_tensor)  # make variables from tensors\n",
    "\n",
    "X_valid_var, y_valid_var = (X_train_var[:100],y_train_var[:100],)  # get first 100 events for validation\n",
    "X_train_nn_var, y_train_nn_var = (X_train_var[100:],y_train_var[100:],)  # get remaining events for training\n",
    "\n",
    "train_data = Data.TensorDataset(X_train_nn_var, y_train_nn_var)  # create training dataset\n",
    "valid_data = Data.TensorDataset(X_valid_var, y_valid_var)  # create validation dataset\n",
    "\n",
    "train_loader = Data.DataLoader(dataset=train_data,batch_size=batch_size,shuffle=True,)\n",
    "valid_loader = Data.DataLoader(dataset=valid_data,batch_size=batch_size,shuffle=True,)"
   ]
  },
  {
   "cell_type": "code",
   "execution_count": 38,
   "metadata": {},
   "outputs": [],
   "source": [
    "for batch in train_loader:\n",
    "    x_train_batch, y_train_batch = batch"
   ]
  },
  {
   "cell_type": "code",
   "execution_count": 39,
   "metadata": {},
   "outputs": [
    {
     "name": "stdout",
     "output_type": "stream",
     "text": [
      "Epoch: 0, Train Loss: 0.390019\n",
      "Validation Loss: 0.391078, Validation Accuracy: 0.790000\n",
      "Epoch: 1, Train Loss: 0.377549\n",
      "Validation Loss: 0.400038, Validation Accuracy: 0.820000\n",
      "Epoch: 2, Train Loss: 0.374009\n",
      "Validation Loss: 0.413663, Validation Accuracy: 0.810000\n",
      "Epoch: 3, Train Loss: 0.375128\n",
      "Validation Loss: 0.429608, Validation Accuracy: 0.820000\n",
      "Epoch: 4, Train Loss: 0.372725\n",
      "Validation Loss: 0.399549, Validation Accuracy: 0.830000\n",
      "Epoch: 5, Train Loss: 0.372160\n",
      "Validation Loss: 0.398799, Validation Accuracy: 0.800000\n",
      "Epoch: 6, Train Loss: 0.370987\n",
      "Validation Loss: 0.390648, Validation Accuracy: 0.820000\n",
      "Epoch: 7, Train Loss: 0.371413\n",
      "Validation Loss: 0.389087, Validation Accuracy: 0.800000\n",
      "Epoch: 8, Train Loss: 0.370523\n",
      "Validation Loss: 0.395132, Validation Accuracy: 0.830000\n",
      "Epoch: 9, Train Loss: 0.370260\n",
      "Validation Loss: 0.406040, Validation Accuracy: 0.810000\n",
      "Epoch: 10, Train Loss: 0.368721\n",
      "Validation Loss: 0.405200, Validation Accuracy: 0.830000\n",
      "Epoch: 11, Train Loss: 0.370215\n",
      "Validation Loss: 0.395891, Validation Accuracy: 0.790000\n",
      "Epoch: 12, Train Loss: 0.369647\n",
      "Validation Loss: 0.400294, Validation Accuracy: 0.810000\n",
      "Epoch: 13, Train Loss: 0.368452\n",
      "Validation Loss: 0.386189, Validation Accuracy: 0.790000\n",
      "Epoch: 14, Train Loss: 0.371626\n",
      "Validation Loss: 0.393995, Validation Accuracy: 0.830000\n",
      "Epoch: 15, Train Loss: 0.369245\n",
      "Validation Loss: 0.368052, Validation Accuracy: 0.840000\n",
      "Epoch: 16, Train Loss: 0.368314\n",
      "Validation Loss: 0.383409, Validation Accuracy: 0.780000\n",
      "Epoch: 17, Train Loss: 0.367684\n",
      "Validation Loss: 0.377386, Validation Accuracy: 0.830000\n",
      "Epoch: 18, Train Loss: 0.367985\n",
      "Validation Loss: 0.363122, Validation Accuracy: 0.810000\n",
      "Epoch: 19, Train Loss: 0.368121\n",
      "Validation Loss: 0.383673, Validation Accuracy: 0.810000\n",
      "Finished Training\n",
      "Final validation error:  18.999999999999993 %\n"
     ]
    }
   ],
   "source": [
    "class Classifier_MLP_full(nn.Module):\n",
    "    def __init__(self, in_dim, hidden_dim1, hidden_dim2, dropout_rate, out_dim):\n",
    "        super().__init__()\n",
    "        self.h1 = nn.Linear(in_dim, hidden_dim1)\n",
    "        self.h2 = nn.Linear(hidden_dim1, hidden_dim2)\n",
    "        self.h3 = nn.Dropout(dropout_rate)\n",
    "        self.out = nn.Linear(hidden_dim2, out_dim)\n",
    "        self.out_dim = out_dim        \n",
    "\n",
    "    def forward(self, x):\n",
    "        x = F.relu(self.h1(x))\n",
    "        x = F.relu(self.h2(x))\n",
    "        x = F.relu(self.h3(x))\n",
    "        x = self.out(x)\n",
    "        return x, F.softmax(x,dim=1)\n",
    "\n",
    "    def fit(self, train_loader, valid_loader, verbose=True):\n",
    "        _results = []  # Store training and validation metrics\n",
    "        for epoch in range(epochs):\n",
    "            # Training loop\n",
    "            self.train()  # Set the model to training mode\n",
    "            with torch.enable_grad():\n",
    "                train_loss = 0.0\n",
    "                for batch, (x_train_batch, y_train_batch) in enumerate(train_loader):\n",
    "                    self.zero_grad()  # Zero gradients\n",
    "                    out, prob = self(x_train_batch)  # Forward pass\n",
    "                    loss = F.cross_entropy(out, y_train_batch)  # Compute loss\n",
    "                    loss.backward()  # Backpropagation\n",
    "                    optimizer.step()  # Update weights\n",
    "                    train_loss += loss.item() * x_train_batch.size(0)\n",
    "\n",
    "            train_loss /= len(train_loader.dataset)  # Average training loss\n",
    "\n",
    "            if verbose:\n",
    "                print(\"Epoch: {}, Train Loss: {:4f}\".format(epoch, train_loss))\n",
    "\n",
    "            # Validation loop\n",
    "            self.eval()  # Set the model to evaluation mode\n",
    "            with torch.no_grad():\n",
    "                correct = 0\n",
    "                valid_loss = 0.0\n",
    "\n",
    "                for i, (x_valid_batch, y_valid_batch) in enumerate(valid_loader):\n",
    "                    out, prob = self(x_valid_batch)  # Forward pass\n",
    "                    loss = F.cross_entropy(out, y_valid_batch)  # Compute loss\n",
    "                    valid_loss += loss.item() * x_valid_batch.size(0)\n",
    "                    preds = prob.argmax(dim=1, keepdim=True)  # Get predictions\n",
    "                    correct += preds.eq(y_valid_batch.view_as(preds)).sum().item()  # Count correct\n",
    "\n",
    "                valid_loss /= len(valid_loader.dataset)  # Average validation loss\n",
    "                accuracy = correct / len(valid_loader.dataset)  # Calculate accuracy\n",
    "\n",
    "            if verbose:\n",
    "                print(\"Validation Loss: {:4f}, Validation Accuracy: {:4f}\".format(valid_loss, accuracy))\n",
    "\n",
    "            # Store results\n",
    "            _results.append([epoch, train_loss, valid_loss, accuracy])\n",
    "\n",
    "        results = np.array(_results)  # Make array of results\n",
    "        print(\"Finished Training\")\n",
    "        print(\"Final validation error: \", 100.0 * (1 - accuracy), \"%\")\n",
    "\n",
    "    def score(self,X_test_tensor,y_test_tensor):\n",
    "        self.eval()\n",
    "        with torch.no_grad():\n",
    "            if isinstance(X_test_tensor, np.ndarray) or isinstance(y_test_tensor, np.ndarray):\n",
    "                if isinstance(X_test_tensor, np.ndarray):\n",
    "                    X_test_tensor = torch.from_numpy(X_test_tensor).float()\n",
    "                if isinstance(y_test_tensor, np.ndarray):\n",
    "                    y_test_tensor = torch.from_numpy(y_test_tensor).long()\n",
    "                out, prob = self(X_test_tensor)\n",
    "                y_pred_NN_full = (prob.cpu().detach().numpy().argmax(axis=1))\n",
    "                return accuracy_score(y_test,y_pred_NN_full)\n",
    "    \n",
    "NN_clf_full = Classifier_MLP_full(in_dim=input_size, hidden_dim1=hidden_size1, hidden_dim2=hidden_size2, dropout_rate=dropout_rate, out_dim=num_classes)\n",
    "optimizer = torch.optim.Adam(NN_clf_full.parameters(), lr=learning_rate)\n",
    "NN_clf_full.fit(train_loader,valid_loader)"
   ]
  },
  {
   "cell_type": "code",
   "execution_count": 40,
   "metadata": {},
   "outputs": [],
   "source": [
    "X_test_tensor = torch.as_tensor(X_test_scaled, dtype=torch.float)\n",
    "y_test_tensor = torch.as_tensor(y_test, dtype=torch.long)\n",
    "\n",
    "X_test_var, y_test_var = Variable(X_test_tensor), Variable(y_test_tensor)\n",
    "out, prob = NN_clf_full(X_test_var)\n",
    "y_pred_NN_full = (prob.cpu().detach().numpy().argmax(axis=1))"
   ]
  },
  {
   "cell_type": "code",
   "execution_count": 41,
   "metadata": {},
   "outputs": [
    {
     "name": "stdout",
     "output_type": "stream",
     "text": [
      "0.8183649613251424\n"
     ]
    }
   ],
   "source": [
    "print(accuracy_score(y_test, y_pred_NN_full))"
   ]
  },
  {
   "cell_type": "code",
   "execution_count": 42,
   "metadata": {},
   "outputs": [
    {
     "name": "stdout",
     "output_type": "stream",
     "text": [
      "              precision    recall  f1-score   support\n",
      "\n",
      "  background       0.90      0.73      0.81     21131\n",
      "      signal       0.75      0.91      0.83     19076\n",
      "\n",
      "    accuracy                           0.82     40207\n",
      "   macro avg       0.83      0.82      0.82     40207\n",
      "weighted avg       0.83      0.82      0.82     40207\n",
      "\n"
     ]
    }
   ],
   "source": [
    "print(classification_report(y_test, y_pred_NN_full, target_names=[\"background\", \"signal\"]))"
   ]
  },
  {
   "cell_type": "code",
   "execution_count": 43,
   "metadata": {},
   "outputs": [],
   "source": [
    "decisions_nn_full = (NN_clf_full(X_test_var)[1][:, 1].cpu().detach().numpy())"
   ]
  },
  {
   "cell_type": "code",
   "execution_count": 44,
   "metadata": {},
   "outputs": [
    {
     "data": {
      "text/plain": [
       "<matplotlib.legend.Legend at 0x256a4344940>"
      ]
     },
     "execution_count": 44,
     "metadata": {},
     "output_type": "execute_result"
    },
    {
     "data": {
      "image/png": "[encoded data removed]",
      "text/plain": [
       "<Figure size 432x288 with 1 Axes>"
      ]
     },
     "metadata": {
      "needs_background": "light"
     },
     "output_type": "display_data"
    }
   ],
   "source": [
    "plt.hist(decisions_nn_full[y_test == 0], histtype=\"step\", bins=50, label=\"Background Events\")  # plot background\n",
    "plt.hist(decisions_nn_full[y_test == 1], histtype=\"step\",bins=50,linestyle=\"dashed\",label=\"Signal Events\",)  # plot signal\n",
    "plt.xlabel(\"Threshold\")  # x-axis label\n",
    "plt.ylabel(\"Number of Events\")  # y-axis label\n",
    "plt.semilogy()  # make the y-axis semi-log\n",
    "plt.legend()  # draw the legend"
   ]
  },
  {
   "cell_type": "code",
   "execution_count": 45,
   "metadata": {},
   "outputs": [],
   "source": [
    "fpr_nn_full, tpr_nn_full, thresholds_nn_full = roc_curve(y_test, decisions_nn_full)"
   ]
  },
  {
   "cell_type": "code",
   "execution_count": 46,
   "metadata": {},
   "outputs": [
    {
     "data": {
      "text/plain": [
       "<matplotlib.legend.Legend at 0x256a3cda1c0>"
      ]
     },
     "execution_count": 46,
     "metadata": {},
     "output_type": "execute_result"
    },
    {
     "data": {
      "image/png": "[encoded data removed]",
      "text/plain": [
       "<Figure size 432x288 with 1 Axes>"
      ]
     },
     "metadata": {
      "needs_background": "light"
     },
     "output_type": "display_data"
    }
   ],
   "source": [
    "plt.plot(fpr_nn_full, tpr_nn_full, linestyle=\"dashed\", label=\"Neural Network\")  # plot neural network ROC\n",
    "plt.plot([0, 1], [0, 1], linestyle=\"dotted\", color=\"grey\", label=\"Luck\")  # plot diagonal line to indicate luck\n",
    "plt.xlabel(\"False Positive Rate\")  # x-axis label\n",
    "plt.ylabel(\"True Positive Rate\")  # y-axis label\n",
    "plt.grid()  # add a grid to the plot\n",
    "plt.legend()"
   ]
  },
  {
   "cell_type": "code",
   "execution_count": 47,
   "metadata": {},
   "outputs": [],
   "source": [
    "def AMS(TPR,FPR,b_r):\n",
    "    AMS = np.sqrt(2*(TPR+FPR+b_r)*np.log(1+TPR/(FPR+b_r))-TPR)\n",
    "    return AMS"
   ]
  },
  {
   "cell_type": "code",
   "execution_count": 48,
   "metadata": {},
   "outputs": [],
   "source": [
    "b_reg = 0.001\n",
    "ams_nn_full = AMS(tpr_nn_full,fpr_nn_full,b_reg)"
   ]
  },
  {
   "cell_type": "code",
   "execution_count": 49,
   "metadata": {},
   "outputs": [
    {
     "data": {
      "image/png": "[encoded data removed]",
      "text/plain": [
       "<Figure size 432x288 with 1 Axes>"
      ]
     },
     "metadata": {
      "needs_background": "light"
     },
     "output_type": "display_data"
    }
   ],
   "source": [
    "plt.plot(thresholds_nn_full, ams_nn_full, linestyle=\"dashed\", label=\"Neural Network\")  # plot neural network AMS\n",
    "plt.xlabel(\"Threshold\")  # x-axis label\n",
    "plt.ylabel(\"AMS\")  # y-axis label\n",
    "plt.title(f\"AMS with $b_r$ = {b_reg}\")  # add plot title\n",
    "plt.legend()\n",
    "plt.show()"
   ]
  },
  {
   "cell_type": "code",
   "execution_count": 50,
   "metadata": {},
   "outputs": [
    {
     "data": {
      "image/png": "[encoded data removed]",
      "text/plain": [
       "<Figure size 432x288 with 1 Axes>"
      ]
     },
     "metadata": {
      "needs_background": "light"
     },
     "output_type": "display_data"
    }
   ],
   "source": [
    "def compare_train_test(clf, X_train, y_train, X_test, y_test, xlabel):\n",
    "    decisions = [] # list to hold decisions of classifier\n",
    "    for X,y in ((X_train, y_train), (X_test, y_test)): # train and test\n",
    "        if hasattr(clf, \"predict_proba\"): # if predict_proba function exists\n",
    "            d1 = clf.predict_proba(X[y<0.5])[:, 1] # background\n",
    "            d2 = clf.predict_proba(X[y>0.5])[:, 1] # signal\n",
    "        else: # predict_proba function doesn't exist\n",
    "            X_tensor = torch.as_tensor(X, dtype=torch.float) # make tensor from X_test_scaled\n",
    "            y_tensor = torch.as_tensor(y, dtype=torch.long) # make tensor from y_test\n",
    "            X_var, y_var = Variable(X_tensor), Variable(y_tensor) # make variables from tensors\n",
    "            d1 = clf(X_var[y_var<0.5])[1][:, 1].cpu().detach().numpy() # background\n",
    "            d2 = clf(X_var[y_var>0.5])[1][:, 1].cpu().detach().numpy() # signal\n",
    "        decisions += [d1, d2] # add to list of classifier decision\n",
    "    \n",
    "    highest_decision = max(np.max(d) for d in decisions) # get maximum score\n",
    "    bin_edges = [] # list to hold bin edges\n",
    "    bin_edge = -0.1 # start counter for bin_edges\n",
    "    while bin_edge < highest_decision: # up to highest score\n",
    "        bin_edge += 0.1 # increment\n",
    "        bin_edges.append(bin_edge)\n",
    "    \n",
    "    plt.hist(decisions[0], # background in train set\n",
    "             bins=bin_edges, # lower and upper range of the bins\n",
    "             density=True, # area under the histogram will sum to 1\n",
    "             histtype='stepfilled', # lineplot that's filled\n",
    "             color='blue', label='Background (train)', # Background (train)\n",
    "            alpha=0.5 ) # half transparency\n",
    "    plt.hist(decisions[1], # background in train set\n",
    "             bins=bin_edges, # lower and upper range of the bins\n",
    "             density=True, # area under the histogram will sum to 1\n",
    "             histtype='stepfilled', # lineplot that's filled\n",
    "             color='orange', label='Signal (train)', # Signal (train)\n",
    "            alpha=0.5 ) # half transparency\n",
    "\n",
    "    hist_background, bin_edges = np.histogram(decisions[2], # background test\n",
    "                                              bins=bin_edges, # number of bins in function definition\n",
    "                                              density=True ) # area under the histogram will sum to 1\n",
    "    \n",
    "    scale = len(decisions[2]) / sum(hist_background) # between raw and normalised\n",
    "    err_background = np.sqrt(hist_background * scale) / scale # error on test background\n",
    "\n",
    "    width = 0.1 # histogram bin width\n",
    "    center = (bin_edges[:-1] + bin_edges[1:]) / 2 # bin centres\n",
    "    \n",
    "    plt.errorbar(x=center, y=hist_background, yerr=err_background, fmt='o', # circles\n",
    "                 c='blue', label='Background (test)' ) # Background (test)\n",
    "    \n",
    "    hist_signal, bin_edges = np.histogram(decisions[3], # siganl test\n",
    "                                          bins=bin_edges, # number of bins in function definition\n",
    "                                          density=True ) # area under the histogram will sum to 1\n",
    "    scale = len(decisions[3]) / sum(hist_signal) # between raw and normalised\n",
    "    err_signal = np.sqrt(hist_signal * scale) / scale # error on test background\n",
    "    \n",
    "    plt.errorbar(x=center, y=hist_signal, yerr=err_signal, fmt='o', # circles\n",
    "                 c='orange', label='Signal (test)' ) # Signal (test)\n",
    "    \n",
    "    plt.xlabel(xlabel) # write x-axis label\n",
    "    plt.ylabel(\"Arbitrary units\") # write y-axis label\n",
    "    plt.legend() # add legend\n",
    "compare_train_test(NN_clf_full, X_train_scaled, y_train, X_test_scaled, y_test, \"Neural Network output\")"
   ]
  },
  {
   "cell_type": "code",
   "execution_count": 51,
   "metadata": {},
   "outputs": [
    {
     "data": {
      "image/png": "[encoded data removed]",
      "text/plain": [
       "<Figure size 720x1080 with 1 Axes>"
      ]
     },
     "metadata": {
      "needs_background": "light"
     },
     "output_type": "display_data"
    }
   ],
   "source": [
    "results = permutation_importance(NN_clf_full, X_test_tensor, y_test_tensor, n_repeats=30, random_state=42)\n",
    "importance_scores = results.importances_mean\n",
    "\n",
    "feature_importance = sorted(zip(importance_scores), reverse=True)\n",
    "\n",
    "sorted_indices = np.argsort(importance_scores)[::-1]\n",
    "feature_names = feature_names_reduced\n",
    "\n",
    "sorted_importance_scores = importance_scores[sorted_indices]\n",
    "sorted_feature_names = np.array(feature_names)[sorted_indices]\n",
    "\n",
    "plt.figure(figsize=(10, 15))\n",
    "plt.barh(sorted_feature_names, sorted_importance_scores, align='center')\n",
    "plt.xlabel('Permutation Importance Score')\n",
    "plt.title('Feature Importance using Permutation Importance')\n",
    "plt.show()"
   ]
  },
  {
   "cell_type": "code",
   "execution_count": 52,
   "metadata": {},
   "outputs": [
    {
     "data": {
      "image/png": "[encoded data removed]",
      "text/plain": [
       "<Figure size 720x1080 with 1 Axes>"
      ]
     },
     "metadata": {
      "needs_background": "light"
     },
     "output_type": "display_data"
    }
   ],
   "source": [
    "plt.figure(figsize=(10, 15))\n",
    "plt.barh(sorted_feature_names, sorted_importance_scores, align='center')\n",
    "plt.xlabel('log of Permutation Importance Score')\n",
    "plt.xscale('log')\n",
    "plt.title('Feature Importance using Permutation Importance')\n",
    "plt.show()"
   ]
  }
 ],
 "metadata": {
  "kernelspec": {
   "display_name": "base",
   "language": "python",
   "name": "python3"
  },
  "language_info": {
   "codemirror_mode": {
    "name": "ipython",
    "version": 3
   },
   "file_extension": ".py",
   "mimetype": "text/x-python",
   "name": "python",
   "nbconvert_exporter": "python",
   "pygments_lexer": "ipython3",
   "version": "3.8.8"
  }
 },
 "nbformat": 4,
 "nbformat_minor": 2
}
