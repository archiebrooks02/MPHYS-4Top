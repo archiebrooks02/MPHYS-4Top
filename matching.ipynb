{
 "cells": [
  {
   "cell_type": "markdown",
   "metadata": {},
   "source": [
    "# Matching"
   ]
  },
  {
   "cell_type": "code",
   "execution_count": 1,
   "metadata": {},
   "outputs": [],
   "source": [
    "import numpy as np\n",
    "import uproot\n",
    "import vector\n",
    "import awkward\n",
    "import matplotlib.pyplot as plt\n",
    "import mplhep as hep\n",
    "import boost_histogram as bh\n",
    "import itertools\n",
    "\n",
    "directory = \"/Users/archiebrooks/Documents/Uni/mphys project/\"\n",
    "#directory = \"c:/Users/matis/OneDrive/Documents/Y4/Project/\"\n",
    "\n",
    "hep.style.use('ATLAS')"
   ]
  },
  {
   "cell_type": "markdown",
   "metadata": {},
   "source": [
    "## Functions and Maps"
   ]
  },
  {
   "cell_type": "code",
   "execution_count": 2,
   "metadata": {},
   "outputs": [],
   "source": [
    "def histogram(data, bins, data_label, axes, density=False, ratio=False, ratio_axes=None, set_range = None, weight_array=None, x_units='GeV'):\n",
    "    if len(data[0]) != 1:\n",
    "        if set_range is not None:\n",
    "            global_min, global_max = set_range\n",
    "        else:\n",
    "            global_min = min([np.min(d) for d in data])\n",
    "            global_max = max([np.max(d) for d in data])\n",
    "\n",
    "        bin_edges = np.linspace(global_min, global_max, bins+1)\n",
    "        counts = []\n",
    "        errors = []\n",
    "        bin_width = bin_edges[1]-bin_edges[0]\n",
    "        for i in range(len(data)):\n",
    "            if type(data[i])!= 'numpy.ndarray':\n",
    "                data[i] = np.array(awkward.to_numpy(data[i]))\n",
    "            hist = bh.Histogram(bh.axis.Regular(bins, global_min, global_max))\n",
    "            hist.fill(data[i], weight=weight_array[i]) if weight_array is not None else hist.fill(data[i])\n",
    "            norm_factor = np.sum(hist.counts() * np.diff(hist.axes[0].edges))\n",
    "            if density: hep.histplot(hist.counts()/norm_factor, hist.axes[0].edges, ax=axes, yerr=np.sqrt(hist.variances())/norm_factor,label=data_label[i], histtype='step')\n",
    "            else: hep.histplot(hist.counts(), hist.axes[0].edges, ax=axes, yerr=np.sqrt(hist.variances()),label=data_label, histtype='step')\n",
    "            counts.append(hist.counts()/norm_factor) if density else counts.append(hist.counts())\n",
    "            errors.append(np.sqrt(hist.variances())/norm_factor) if density else errors.append(np.sqrt(hist.variances()))       \n",
    "    else:\n",
    "        hist = bh.Histogram(bh.axis.Regular(bins, global_min, global_max))\n",
    "        hist.fill(data[i])\n",
    "        hep.histplot(hist.view(), hist.axes[0].edges, ax=axes, yerr=np.sqrt(hist.variances()), label=data_label, histtype='step')\n",
    "\n",
    "    bin_width = hist.axes[0].edges[1]-hist.axes[0].edges[0]\n",
    "    axes.set_ylabel(f'Events /{bin_width:.2g} {x_units}')\n",
    "    axes.legend()\n",
    "\n",
    "    if ratio:\n",
    "        reference_counts = counts[0]\n",
    "        for i in range(1, len(counts)):\n",
    "            ratio_values = np.divide(counts[i], reference_counts, out=np.zeros_like(counts[i]), where=reference_counts != 0)\n",
    "            ratio_errors = np.sqrt(np.divide(errors[i],counts[i], out=np.zeros_like(counts[i]), where=counts[i]!=0)**2 + (np.divide(errors[0],counts[0], out=np.zeros_like(counts[0]), where=counts[0]!=0)**2))\n",
    "            hep.histplot(ratio_values, bin_edges, ax=ratio_axes, yerr=ratio_errors, label=f'{data_label[i]}/{data_label[0]}')\n",
    "        ratio_axes.set_ylabel(\"Ratio\")\n",
    "        ratio_axes.set_xlabel(axes.get_xlabel())\n",
    "        ratio_axes.axhline(1, color='black', linestyle='--')  # Reference line at ratio=1\n",
    "        ratio_axes.legend()\n",
    "        if ratio_axes.get_ylim()[1]>5:\n",
    "            ratio_axes.set_ylim(0,5)\n",
    "\n",
    "    hep.atlas.label(ax=axes)\n",
    "\n",
    "def n_combinations(particles, n, dictionary, type):\n",
    "    i = n\n",
    "    while len(particles[awkward.num(particles)>=i])!=0:\n",
    "        particles_i = particles[awkward.num(particles)==i]\n",
    "        if len(particles_i)==0:\n",
    "            i+=1\n",
    "            continue\n",
    "        indices = np.array(list(itertools.combinations(range(np.shape(particles_i)[1]), n)))\n",
    "        dictionary[type+f'_{i}'] = particles_i[:, indices]\n",
    "        i += 1\n",
    "    return None\n",
    "\n",
    "mass_lookup = {\n",
    "    1: 2.16E-3,\n",
    "    2: 4.7E-3,\n",
    "    3: 1.273,\n",
    "    4: 93.5E-3,\n",
    "    5: 172.57,\n",
    "    6: 4.183,\n",
    "    11: 0.511E-3,\n",
    "    12: 0,\n",
    "    13: 105.66E-3,\n",
    "    14: 0,\n",
    "    15: 1.77693,\n",
    "    16: 0,\n",
    "    21: 0\n",
    "}"
   ]
  },
  {
   "cell_type": "markdown",
   "metadata": {},
   "source": [
    "## Data"
   ]
  },
  {
   "cell_type": "code",
   "execution_count": null,
   "metadata": {},
   "outputs": [],
   "source": [
    "tree4 = uproot.open(directory + \"4tops_withtruth_oct24.root\")\n",
    "events_4t_jets = tree4[\"Delphes;1\"][\"Jet\"].arrays(['Jet.PT','Jet.Eta','Jet.Phi','Jet.Mass','Jet.BTag'])\n",
    "events_4t_electrons = tree4[\"Delphes;1\"][\"Electron\"].arrays(['Electron.PT','Electron.Eta','Electron.Phi'])\n",
    "events_4t_muons = tree4[\"Delphes;1\"][\"Muon\"].arrays(['Muon.PT','Muon.Eta','Muon.Phi'])\n",
    "events_4t_neutrinos = tree4[\"Delphes;1\"]['MissingET'].arrays(['MissingET.MET', 'MissingET.Eta', 'MissingET.Phi'])\n",
    "events_4t_truth = tree4['Delphes;1']['Particle'].arrays(['Particle.PID','Particle.Status','Particle.Mass','Particle.PT','Particle.Eta','Particle.Phi'])\n",
    "events_4t_truth = events_4t_truth[(events_4t_truth['Particle.Status']==23)]\n",
    "\n",
    "events_4t_electrons['Electron.Mass'] = np.ones_like(events_4t_electrons['Electron.PT']) * 0.511E-3\n",
    "events_4t_muons['Muon.Mass'] = np.ones_like(events_4t_muons['Muon.PT']) * 105.7E-3\n",
    "\n",
    "jets_pt_4t = events_4t_jets['Jet.PT'][(events_4t_jets['Jet.Eta']<2.5) & (events_4t_jets['Jet.Eta']>-2.5)]\n",
    "jets_eta_4t = events_4t_jets['Jet.Eta'][(events_4t_jets['Jet.Eta']<2.5) & (events_4t_jets['Jet.Eta']>-2.5)]\n",
    "jets_phi_4t = events_4t_jets['Jet.Phi'][(events_4t_jets['Jet.Eta']<2.5) & (events_4t_jets['Jet.Eta']>-2.5)]\n",
    "jets_mass_4t = events_4t_jets['Jet.Mass'][(events_4t_jets['Jet.Eta']<2.5) & (events_4t_jets['Jet.Eta']>-2.5)]\n",
    "\n",
    "electrons_pt_4t = events_4t_electrons['Electron.PT'][(events_4t_electrons['Electron.PT'] > 15) & (events_4t_electrons['Electron.Eta'] < 2.47) & (events_4t_electrons['Electron.Eta'] > -2.47)]\n",
    "electrons_eta_4t = events_4t_electrons['Electron.Eta'][(events_4t_electrons['Electron.PT'] > 15) & (events_4t_electrons['Electron.Eta'] < 2.47) & (events_4t_electrons['Electron.Eta'] > -2.47)]\n",
    "electrons_phi_4t = events_4t_electrons['Electron.Phi'][(events_4t_electrons['Electron.PT'] > 15) & (events_4t_electrons['Electron.Eta'] < 2.47) & (events_4t_electrons['Electron.Eta'] > -2.47)]\n",
    "electrons_mass_4t = events_4t_electrons['Electron.Mass'][(events_4t_electrons['Electron.PT'] > 15) & (events_4t_electrons['Electron.Eta'] < 2.47) & (events_4t_electrons['Electron.Eta'] > -2.47)]\n",
    "\n",
    "muons_pt_4t = events_4t_muons['Muon.PT'][(events_4t_muons['Muon.PT']>15) & (events_4t_muons['Muon.Eta']<2.5) & (events_4t_muons['Muon.Eta']>-2.5)]\n",
    "muons_eta_4t = events_4t_muons['Muon.Eta'][(events_4t_muons['Muon.PT']>15) & (events_4t_muons['Muon.Eta']<2.5) & (events_4t_muons['Muon.Eta']>-2.5)]\n",
    "muons_phi_4t = events_4t_muons['Muon.Phi'][(events_4t_muons['Muon.PT']>15) & (events_4t_muons['Muon.Eta']<2.5) & (events_4t_muons['Muon.Eta']>-2.5)]\n",
    "muons_mass_4t = events_4t_muons['Muon.Mass'][(events_4t_muons['Muon.PT']>15) & (events_4t_muons['Muon.Eta']<2.5) & (events_4t_muons['Muon.Eta']>-2.5)]\n",
    "\n",
    "reco_pt_4t = awkward.concatenate((jets_pt_4t,electrons_pt_4t,muons_pt_4t), axis=1)\n",
    "reco_eta_4t = awkward.concatenate((jets_eta_4t,electrons_eta_4t,muons_eta_4t), axis=1)\n",
    "reco_phi_4t = awkward.concatenate((jets_phi_4t,electrons_phi_4t,muons_phi_4t), axis=1)\n",
    "reco_mass_4t = awkward.concatenate((jets_mass_4t,electrons_mass_4t,muons_mass_4t), axis=1)\n",
    "\n",
    "truth_pt_4t = events_4t_truth['Particle.PT']\n",
    "truth_eta_4t = events_4t_truth['Particle.Eta']\n",
    "truth_phi_4t = events_4t_truth['Particle.Phi']\n",
    "truth_mass_4t = events_4t_truth['Particle.Mass']\n",
    "\n",
    "reco_4t = vector.zip({'pt':reco_pt_4t,'eta':reco_eta_4t,'phi':reco_phi_4t,'mass':reco_mass_4t})\n",
    "truth_4t = vector.zip({'pt':truth_pt_4t,'eta':truth_eta_4t,'phi':truth_phi_4t,'mass':truth_mass_4t})"
   ]
  },
  {
   "cell_type": "code",
   "execution_count": null,
   "metadata": {},
   "outputs": [],
   "source": [
    "tree3j = uproot.open(directory + \"4tops_withtruth_oct24.root\")\n",
    "events_4t_jets = tree4[\"Delphes;1\"][\"Jet\"].arrays(['Jet.PT','Jet.Eta','Jet.Phi','Jet.Mass','Jet.BTag'])\n",
    "events_4t_electrons = tree4[\"Delphes;1\"][\"Electron\"].arrays(['Electron.PT','Electron.Eta','Electron.Phi'])\n",
    "events_4t_muons = tree4[\"Delphes;1\"][\"Muon\"].arrays(['Muon.PT','Muon.Eta','Muon.Phi'])\n",
    "events_4t_neutrinos = tree4[\"Delphes;1\"]['MissingET'].arrays(['MissingET.MET', 'MissingET.Eta', 'MissingET.Phi'])\n",
    "events_4t_truth = tree4['Delphes;1']['Particle'].arrays(['Particle.PID','Particle.Status','Particle.Mass','Particle.PT','Particle.Eta','Particle.Phi'])\n",
    "events_4t_truth = events_4t_truth[(events_4t_truth['Particle.Status']==23)]\n",
    "\n",
    "events_4t_electrons['Electron.Mass'] = np.ones_like(events_4t_electrons['Electron.PT']) * 0.511E-3\n",
    "events_4t_muons['Muon.Mass'] = np.ones_like(events_4t_muons['Muon.PT']) * 105.7E-3\n",
    "\n",
    "jets_pt_4t = events_4t_jets['Jet.PT'][(events_4t_jets['Jet.Eta']<2.5) & (events_4t_jets['Jet.Eta']>-2.5)]\n",
    "jets_eta_4t = events_4t_jets['Jet.Eta'][(events_4t_jets['Jet.Eta']<2.5) & (events_4t_jets['Jet.Eta']>-2.5)]\n",
    "jets_phi_4t = events_4t_jets['Jet.Phi'][(events_4t_jets['Jet.Eta']<2.5) & (events_4t_jets['Jet.Eta']>-2.5)]\n",
    "jets_mass_4t = events_4t_jets['Jet.Mass'][(events_4t_jets['Jet.Eta']<2.5) & (events_4t_jets['Jet.Eta']>-2.5)]\n",
    "\n",
    "electrons_pt_4t = events_4t_electrons['Electron.PT'][(events_4t_electrons['Electron.PT'] > 15) & (events_4t_electrons['Electron.Eta'] < 2.47) & (events_4t_electrons['Electron.Eta'] > -2.47)]\n",
    "electrons_eta_4t = events_4t_electrons['Electron.Eta'][(events_4t_electrons['Electron.PT'] > 15) & (events_4t_electrons['Electron.Eta'] < 2.47) & (events_4t_electrons['Electron.Eta'] > -2.47)]\n",
    "electrons_phi_4t = events_4t_electrons['Electron.Phi'][(events_4t_electrons['Electron.PT'] > 15) & (events_4t_electrons['Electron.Eta'] < 2.47) & (events_4t_electrons['Electron.Eta'] > -2.47)]\n",
    "electrons_mass_4t = events_4t_electrons['Electron.Mass'][(events_4t_electrons['Electron.PT'] > 15) & (events_4t_electrons['Electron.Eta'] < 2.47) & (events_4t_electrons['Electron.Eta'] > -2.47)]\n",
    "\n",
    "muons_pt_4t = events_4t_muons['Muon.PT'][(events_4t_muons['Muon.PT']>15) & (events_4t_muons['Muon.Eta']<2.5) & (events_4t_muons['Muon.Eta']>-2.5)]\n",
    "muons_eta_4t = events_4t_muons['Muon.Eta'][(events_4t_muons['Muon.PT']>15) & (events_4t_muons['Muon.Eta']<2.5) & (events_4t_muons['Muon.Eta']>-2.5)]\n",
    "muons_phi_4t = events_4t_muons['Muon.Phi'][(events_4t_muons['Muon.PT']>15) & (events_4t_muons['Muon.Eta']<2.5) & (events_4t_muons['Muon.Eta']>-2.5)]\n",
    "muons_mass_4t = events_4t_muons['Muon.Mass'][(events_4t_muons['Muon.PT']>15) & (events_4t_muons['Muon.Eta']<2.5) & (events_4t_muons['Muon.Eta']>-2.5)]\n",
    "\n",
    "reco_pt_4t = awkward.concatenate((jets_pt_4t,electrons_pt_4t,muons_pt_4t), axis=1)\n",
    "reco_eta_4t = awkward.concatenate((jets_eta_4t,electrons_eta_4t,muons_eta_4t), axis=1)\n",
    "reco_phi_4t = awkward.concatenate((jets_phi_4t,electrons_phi_4t,muons_phi_4t), axis=1)\n",
    "reco_mass_4t = awkward.concatenate((jets_mass_4t,electrons_mass_4t,muons_mass_4t), axis=1)\n",
    "\n",
    "truth_pt_4t = events_4t_truth['Particle.PT']\n",
    "truth_eta_4t = events_4t_truth['Particle.Eta']\n",
    "truth_phi_4t = events_4t_truth['Particle.Phi']\n",
    "truth_mass_4t = events_4t_truth['Particle.Mass']\n",
    "\n",
    "reco_4t = vector.zip({'pt':reco_pt_4t,'eta':reco_eta_4t,'phi':reco_phi_4t,'mass':reco_mass_4t})\n",
    "truth_4t = vector.zip({'pt':truth_pt_4t,'eta':truth_eta_4t,'phi':truth_phi_4t,'mass':truth_mass_4t})"
   ]
  },
  {
   "cell_type": "code",
   "execution_count": 251,
   "metadata": {},
   "outputs": [],
   "source": [
    "reco_4t_test = reco_4t[(awkward.num(reco_4t)!=0)&(awkward.num(truth_4t)!=0)]\n",
    "truth_4t_test = truth_4t[(awkward.num(reco_4t)!=0)&(awkward.num(truth_4t)!=0)]\n",
    "\n",
    "truth_4t_12 = truth_4t[awkward.num(truth_4t)==12]\n",
    "reco_4t_12 = reco_4t[awkward.num(truth_4t)==12]\n",
    "\n",
    "truth_4t_13 = truth_4t[awkward.num(truth_4t)==13]\n",
    "truth_4t_13 = truth_4t_13[:,1:]\n",
    "reco_4t_13 = reco_4t[awkward.num(truth_4t)==13]\n",
    "\n",
    "truth_4t_test = awkward.concatenate((truth_4t_12, truth_4t_13))\n",
    "reco_4t_test = awkward.concatenate((reco_4t_12, reco_4t_13))\n",
    "id_test = np.tile(np.arange(1,13), (61640, 1))\n",
    "\n",
    "pairs_2d = awkward.cartesian({'reco':reco_4t_test,'truth':truth_4t_test})\n",
    "id_pairs_2d = awkward.cartesian({'reco':reco_4t_test,'id':id_test})\n",
    "pairs_3d = awkward.unflatten(pairs_2d, 12, axis=1)\n",
    "id_pairs_3d = awkward.unflatten(id_pairs_2d, 12, axis=1)\n",
    "\n",
    "deltars = pairs_3d['reco'].deltaR(pairs_3d['truth'])\n",
    "min_deltars = np.min(deltars, axis=2)\n",
    "id_pairs_3d = id_pairs_3d[(deltars == min_deltars)]\n",
    "id_pairs_3d = id_pairs_3d[min_deltars<0.4]\n",
    "\n",
    "top_1_particles = id_pairs_3d['reco'][(id_pairs_3d['id']==1)|(id_pairs_3d['id']==5)|(id_pairs_3d['id']==9)]\n",
    "top_2_particles = id_pairs_3d['reco'][(id_pairs_3d['id']==2)|(id_pairs_3d['id']==6)|(id_pairs_3d['id']==10)]\n",
    "antitop_1_particles = id_pairs_3d['reco'][(id_pairs_3d['id']==3)|(id_pairs_3d['id']==7)|(id_pairs_3d['id']==11)]\n",
    "antitop_2_particles = id_pairs_3d['reco'][(id_pairs_3d['id']==4)|(id_pairs_3d['id']==8)|(id_pairs_3d['id']==12)]\n",
    "\n",
    "top_1_particles = top_1_particles[awkward.num(top_1_particles, axis=2)!=0]\n",
    "top_2_particles = top_2_particles[awkward.num(top_2_particles, axis=2)!=0]\n",
    "antitop_1_particles = antitop_1_particles[awkward.num(antitop_1_particles, axis=2)!=0]\n",
    "antitop_2_particles = antitop_2_particles[awkward.num(antitop_2_particles, axis=2)!=0]"
   ]
  },
  {
   "cell_type": "code",
   "execution_count": 264,
   "metadata": {},
   "outputs": [
    {
     "data": {
      "text/html": [
       "<pre>[[],\n",
       " [],\n",
       " [],\n",
       " [],\n",
       " [],\n",
       " [],\n",
       " [],\n",
       " [],\n",
       " [],\n",
       " [],\n",
       " ...,\n",
       " [],\n",
       " [],\n",
       " [],\n",
       " [],\n",
       " [],\n",
       " [],\n",
       " [],\n",
       " [],\n",
       " []]\n",
       "--------------------------------------------\n",
       "type: 1650 * var * option[var * ?Momentum4D[\n",
       "    rho: float32,\n",
       "    phi: float32,\n",
       "    eta: float32,\n",
       "    tau: float32\n",
       "]]</pre>"
      ],
      "text/plain": [
       "<MomentumArray4D [[], [], [], [], ..., [], [], [], []] type='1650 * var * o...'>"
      ]
     },
     "execution_count": 264,
     "metadata": {},
     "output_type": "execute_result"
    }
   ],
   "source": []
  },
  {
   "cell_type": "code",
   "execution_count": 262,
   "metadata": {},
   "outputs": [
    {
     "data": {
      "text/html": [
       "<pre>[0.0646]\n",
       "------------------\n",
       "type: 1 * ?float32</pre>"
      ],
      "text/plain": [
       "<Array [0.0646] type='1 * ?float32'>"
      ]
     },
     "execution_count": 262,
     "metadata": {},
     "output_type": "execute_result"
    }
   ],
   "source": [
    "truth_4t_test[0,8].deltaR(top_1_particles[0,0])"
   ]
  },
  {
   "cell_type": "code",
   "execution_count": 220,
   "metadata": {},
   "outputs": [
    {
     "name": "stdout",
     "output_type": "stream",
     "text": [
      "[0.115, 0.128, 0.038, 0.0623, 0.0646, 0.035, 0.087, 0.0392, 0.127, 0.186]\n"
     ]
    }
   ],
   "source": [
    "min_deltars = np.min(deltars, axis=2)\n",
    "print((min_deltars[0]))"
   ]
  },
  {
   "cell_type": "code",
   "execution_count": 115,
   "metadata": {},
   "outputs": [
    {
     "name": "stdout",
     "output_type": "stream",
     "text": [
      "300000\n",
      "300000\n",
      "299998\n",
      "299980\n"
     ]
    },
    {
     "ename": "KeyboardInterrupt",
     "evalue": "",
     "output_type": "error",
     "traceback": [
      "\u001b[0;31m---------------------------------------------------------------------------\u001b[0m",
      "\u001b[0;31mKeyboardInterrupt\u001b[0m                         Traceback (most recent call last)",
      "Input \u001b[0;32mIn [115]\u001b[0m, in \u001b[0;36m<cell line: 13>\u001b[0;34m()\u001b[0m\n\u001b[1;32m     11\u001b[0m pairs_by_event \u001b[38;5;241m=\u001b[39m {}\n\u001b[1;32m     13\u001b[0m \u001b[38;5;28;01mwhile\u001b[39;00m(\u001b[38;5;28mlen\u001b[39m(reco_4t_test[awkward\u001b[38;5;241m.\u001b[39mnum(reco_4t_test)\u001b[38;5;241m!=\u001b[39m\u001b[38;5;241m0\u001b[39m])\u001b[38;5;241m!=\u001b[39m\u001b[38;5;241m0\u001b[39m):\n\u001b[0;32m---> 14\u001b[0m     pairs \u001b[38;5;241m=\u001b[39m \u001b[43mawkward\u001b[49m\u001b[38;5;241;43m.\u001b[39;49m\u001b[43mcartesian\u001b[49m\u001b[43m(\u001b[49m\u001b[43m{\u001b[49m\u001b[38;5;124;43m'\u001b[39;49m\u001b[38;5;124;43mreco\u001b[39;49m\u001b[38;5;124;43m'\u001b[39;49m\u001b[43m:\u001b[49m\u001b[43mreco_4t_test\u001b[49m\u001b[43m,\u001b[49m\u001b[38;5;124;43m'\u001b[39;49m\u001b[38;5;124;43mparton\u001b[39;49m\u001b[38;5;124;43m'\u001b[39;49m\u001b[43m:\u001b[49m\u001b[43m(\u001b[49m\u001b[43mpartonic_4t_test\u001b[49m\u001b[43m)\u001b[49m\u001b[43m}\u001b[49m\u001b[43m)\u001b[49m\n\u001b[1;32m     15\u001b[0m     deltars \u001b[38;5;241m=\u001b[39m pairs[\u001b[38;5;124m'\u001b[39m\u001b[38;5;124mreco\u001b[39m\u001b[38;5;124m'\u001b[39m]\u001b[38;5;241m.\u001b[39mdeltaR(pairs[\u001b[38;5;124m'\u001b[39m\u001b[38;5;124mparton\u001b[39m\u001b[38;5;124m'\u001b[39m])\n\u001b[1;32m     16\u001b[0m     \u001b[38;5;28mprint\u001b[39m(\u001b[38;5;28mlen\u001b[39m(deltars))\n",
      "File \u001b[0;32m~/opt/anaconda3/lib/python3.9/site-packages/awkward/_dispatch.py:64\u001b[0m, in \u001b[0;36mnamed_high_level_function.<locals>.dispatch\u001b[0;34m(*args, **kwargs)\u001b[0m\n\u001b[1;32m     62\u001b[0m \u001b[38;5;66;03m# Failed to find a custom overload, so resume the original function\u001b[39;00m\n\u001b[1;32m     63\u001b[0m \u001b[38;5;28;01mtry\u001b[39;00m:\n\u001b[0;32m---> 64\u001b[0m     \u001b[38;5;28;43mnext\u001b[39;49m\u001b[43m(\u001b[49m\u001b[43mgen_or_result\u001b[49m\u001b[43m)\u001b[49m\n\u001b[1;32m     65\u001b[0m \u001b[38;5;28;01mexcept\u001b[39;00m \u001b[38;5;167;01mStopIteration\u001b[39;00m \u001b[38;5;28;01mas\u001b[39;00m err:\n\u001b[1;32m     66\u001b[0m     \u001b[38;5;28;01mreturn\u001b[39;00m err\u001b[38;5;241m.\u001b[39mvalue\n",
      "File \u001b[0;32m~/opt/anaconda3/lib/python3.9/site-packages/awkward/operations/ak_cartesian.py:211\u001b[0m, in \u001b[0;36mcartesian\u001b[0;34m(arrays, axis, nested, parameters, with_name, highlevel, behavior, attrs)\u001b[0m\n\u001b[1;32m    208\u001b[0m     \u001b[38;5;28;01myield\u001b[39;00m arrays\n\u001b[1;32m    210\u001b[0m \u001b[38;5;66;03m# Implementation\u001b[39;00m\n\u001b[0;32m--> 211\u001b[0m \u001b[38;5;28;01mreturn\u001b[39;00m \u001b[43m_impl\u001b[49m\u001b[43m(\u001b[49m\n\u001b[1;32m    212\u001b[0m \u001b[43m    \u001b[49m\u001b[43marrays\u001b[49m\u001b[43m,\u001b[49m\u001b[43m \u001b[49m\u001b[43maxis\u001b[49m\u001b[43m,\u001b[49m\u001b[43m \u001b[49m\u001b[43mnested\u001b[49m\u001b[43m,\u001b[49m\u001b[43m \u001b[49m\u001b[43mparameters\u001b[49m\u001b[43m,\u001b[49m\u001b[43m \u001b[49m\u001b[43mwith_name\u001b[49m\u001b[43m,\u001b[49m\u001b[43m \u001b[49m\u001b[43mhighlevel\u001b[49m\u001b[43m,\u001b[49m\u001b[43m \u001b[49m\u001b[43mbehavior\u001b[49m\u001b[43m,\u001b[49m\u001b[43m \u001b[49m\u001b[43mattrs\u001b[49m\n\u001b[1;32m    213\u001b[0m \u001b[43m\u001b[49m\u001b[43m)\u001b[49m\n",
      "File \u001b[0;32m~/opt/anaconda3/lib/python3.9/site-packages/awkward/operations/ak_cartesian.py:401\u001b[0m, in \u001b[0;36m_impl\u001b[0;34m(arrays, axis, nested, parameters, with_name, highlevel, behavior, attrs)\u001b[0m\n\u001b[1;32m    398\u001b[0m     \u001b[38;5;28;01melse\u001b[39;00m:\n\u001b[1;32m    399\u001b[0m         \u001b[38;5;28;01mreturn\u001b[39;00m \u001b[38;5;28;01mNone\u001b[39;00m\n\u001b[0;32m--> 401\u001b[0m out \u001b[38;5;241m=\u001b[39m \u001b[43mak\u001b[49m\u001b[38;5;241;43m.\u001b[39;49m\u001b[43m_broadcasting\u001b[49m\u001b[38;5;241;43m.\u001b[39;49m\u001b[43mbroadcast_and_apply\u001b[49m\u001b[43m(\u001b[49m\n\u001b[1;32m    402\u001b[0m \u001b[43m    \u001b[49m\u001b[43mnew_layouts\u001b[49m\u001b[43m,\u001b[49m\u001b[43m \u001b[49m\u001b[43mapply_build_record\u001b[49m\u001b[43m,\u001b[49m\u001b[43m \u001b[49m\u001b[43mright_broadcast\u001b[49m\u001b[38;5;241;43m=\u001b[39;49m\u001b[38;5;28;43;01mFalse\u001b[39;49;00m\n\u001b[1;32m    403\u001b[0m \u001b[43m\u001b[49m\u001b[43m)\u001b[49m\n\u001b[1;32m    404\u001b[0m \u001b[38;5;28;01massert\u001b[39;00m \u001b[38;5;28misinstance\u001b[39m(out, \u001b[38;5;28mtuple\u001b[39m) \u001b[38;5;129;01mand\u001b[39;00m \u001b[38;5;28mlen\u001b[39m(out) \u001b[38;5;241m==\u001b[39m \u001b[38;5;241m1\u001b[39m\n\u001b[1;32m    405\u001b[0m result \u001b[38;5;241m=\u001b[39m out[\u001b[38;5;241m0\u001b[39m]\n",
      "File \u001b[0;32m~/opt/anaconda3/lib/python3.9/site-packages/awkward/_broadcasting.py:1108\u001b[0m, in \u001b[0;36mbroadcast_and_apply\u001b[0;34m(inputs, action, depth_context, lateral_context, allow_records, left_broadcast, right_broadcast, numpy_to_regular, regular_to_jagged, function_name, broadcast_parameters_rule)\u001b[0m\n\u001b[1;32m   1106\u001b[0m backend \u001b[38;5;241m=\u001b[39m backend_of(\u001b[38;5;241m*\u001b[39minputs, coerce_to_common\u001b[38;5;241m=\u001b[39m\u001b[38;5;28;01mFalse\u001b[39;00m)\n\u001b[1;32m   1107\u001b[0m isscalar \u001b[38;5;241m=\u001b[39m []\n\u001b[0;32m-> 1108\u001b[0m out \u001b[38;5;241m=\u001b[39m \u001b[43mapply_step\u001b[49m\u001b[43m(\u001b[49m\n\u001b[1;32m   1109\u001b[0m \u001b[43m    \u001b[49m\u001b[43mbackend\u001b[49m\u001b[43m,\u001b[49m\n\u001b[1;32m   1110\u001b[0m \u001b[43m    \u001b[49m\u001b[43mbroadcast_pack\u001b[49m\u001b[43m(\u001b[49m\u001b[43minputs\u001b[49m\u001b[43m,\u001b[49m\u001b[43m \u001b[49m\u001b[43misscalar\u001b[49m\u001b[43m)\u001b[49m\u001b[43m,\u001b[49m\n\u001b[1;32m   1111\u001b[0m \u001b[43m    \u001b[49m\u001b[43maction\u001b[49m\u001b[43m,\u001b[49m\n\u001b[1;32m   1112\u001b[0m \u001b[43m    \u001b[49m\u001b[38;5;241;43m0\u001b[39;49m\u001b[43m,\u001b[49m\n\u001b[1;32m   1113\u001b[0m \u001b[43m    \u001b[49m\u001b[43mdepth_context\u001b[49m\u001b[43m,\u001b[49m\n\u001b[1;32m   1114\u001b[0m \u001b[43m    \u001b[49m\u001b[43mlateral_context\u001b[49m\u001b[43m,\u001b[49m\n\u001b[1;32m   1115\u001b[0m \u001b[43m    \u001b[49m\u001b[43m{\u001b[49m\n\u001b[1;32m   1116\u001b[0m \u001b[43m        \u001b[49m\u001b[38;5;124;43m\"\u001b[39;49m\u001b[38;5;124;43mallow_records\u001b[39;49m\u001b[38;5;124;43m\"\u001b[39;49m\u001b[43m:\u001b[49m\u001b[43m \u001b[49m\u001b[43mallow_records\u001b[49m\u001b[43m,\u001b[49m\n\u001b[1;32m   1117\u001b[0m \u001b[43m        \u001b[49m\u001b[38;5;124;43m\"\u001b[39;49m\u001b[38;5;124;43mleft_broadcast\u001b[39;49m\u001b[38;5;124;43m\"\u001b[39;49m\u001b[43m:\u001b[49m\u001b[43m \u001b[49m\u001b[43mleft_broadcast\u001b[49m\u001b[43m,\u001b[49m\n\u001b[1;32m   1118\u001b[0m \u001b[43m        \u001b[49m\u001b[38;5;124;43m\"\u001b[39;49m\u001b[38;5;124;43mright_broadcast\u001b[39;49m\u001b[38;5;124;43m\"\u001b[39;49m\u001b[43m:\u001b[49m\u001b[43m \u001b[49m\u001b[43mright_broadcast\u001b[49m\u001b[43m,\u001b[49m\n\u001b[1;32m   1119\u001b[0m \u001b[43m        \u001b[49m\u001b[38;5;124;43m\"\u001b[39;49m\u001b[38;5;124;43mnumpy_to_regular\u001b[39;49m\u001b[38;5;124;43m\"\u001b[39;49m\u001b[43m:\u001b[49m\u001b[43m \u001b[49m\u001b[43mnumpy_to_regular\u001b[49m\u001b[43m,\u001b[49m\n\u001b[1;32m   1120\u001b[0m \u001b[43m        \u001b[49m\u001b[38;5;124;43m\"\u001b[39;49m\u001b[38;5;124;43mregular_to_jagged\u001b[39;49m\u001b[38;5;124;43m\"\u001b[39;49m\u001b[43m:\u001b[49m\u001b[43m \u001b[49m\u001b[43mregular_to_jagged\u001b[49m\u001b[43m,\u001b[49m\n\u001b[1;32m   1121\u001b[0m \u001b[43m        \u001b[49m\u001b[38;5;124;43m\"\u001b[39;49m\u001b[38;5;124;43mfunction_name\u001b[39;49m\u001b[38;5;124;43m\"\u001b[39;49m\u001b[43m:\u001b[49m\u001b[43m \u001b[49m\u001b[43mfunction_name\u001b[49m\u001b[43m,\u001b[49m\n\u001b[1;32m   1122\u001b[0m \u001b[43m        \u001b[49m\u001b[38;5;124;43m\"\u001b[39;49m\u001b[38;5;124;43mbroadcast_parameters_rule\u001b[39;49m\u001b[38;5;124;43m\"\u001b[39;49m\u001b[43m:\u001b[49m\u001b[43m \u001b[49m\u001b[43mbroadcast_parameters_rule\u001b[49m\u001b[43m,\u001b[49m\n\u001b[1;32m   1123\u001b[0m \u001b[43m    \u001b[49m\u001b[43m}\u001b[49m\u001b[43m,\u001b[49m\n\u001b[1;32m   1124\u001b[0m \u001b[43m\u001b[49m\u001b[43m)\u001b[49m\n\u001b[1;32m   1125\u001b[0m \u001b[38;5;28;01massert\u001b[39;00m \u001b[38;5;28misinstance\u001b[39m(out, \u001b[38;5;28mtuple\u001b[39m)\n\u001b[1;32m   1126\u001b[0m \u001b[38;5;28;01mreturn\u001b[39;00m \u001b[38;5;28mtuple\u001b[39m(broadcast_unpack(x, isscalar) \u001b[38;5;28;01mfor\u001b[39;00m x \u001b[38;5;129;01min\u001b[39;00m out)\n",
      "File \u001b[0;32m~/opt/anaconda3/lib/python3.9/site-packages/awkward/_broadcasting.py:1086\u001b[0m, in \u001b[0;36mapply_step\u001b[0;34m(backend, inputs, action, depth, depth_context, lateral_context, options)\u001b[0m\n\u001b[1;32m   1084\u001b[0m     \u001b[38;5;28;01mreturn\u001b[39;00m result\n\u001b[1;32m   1085\u001b[0m \u001b[38;5;28;01melif\u001b[39;00m result \u001b[38;5;129;01mis\u001b[39;00m \u001b[38;5;28;01mNone\u001b[39;00m:\n\u001b[0;32m-> 1086\u001b[0m     \u001b[38;5;28;01mreturn\u001b[39;00m \u001b[43mcontinuation\u001b[49m\u001b[43m(\u001b[49m\u001b[43m)\u001b[49m\n\u001b[1;32m   1087\u001b[0m \u001b[38;5;28;01melse\u001b[39;00m:\n\u001b[1;32m   1088\u001b[0m     \u001b[38;5;28;01mraise\u001b[39;00m \u001b[38;5;167;01mAssertionError\u001b[39;00m(result)\n",
      "File \u001b[0;32m~/opt/anaconda3/lib/python3.9/site-packages/awkward/_broadcasting.py:1055\u001b[0m, in \u001b[0;36mapply_step.<locals>.continuation\u001b[0;34m()\u001b[0m\n\u001b[1;32m   1053\u001b[0m \u001b[38;5;66;03m# Any non-string list-types?\u001b[39;00m\n\u001b[1;32m   1054\u001b[0m \u001b[38;5;28;01melif\u001b[39;00m \u001b[38;5;28many\u001b[39m(x\u001b[38;5;241m.\u001b[39mis_list \u001b[38;5;129;01mand\u001b[39;00m \u001b[38;5;129;01mnot\u001b[39;00m is_string_like(x) \u001b[38;5;28;01mfor\u001b[39;00m x \u001b[38;5;129;01min\u001b[39;00m contents):\n\u001b[0;32m-> 1055\u001b[0m     \u001b[38;5;28;01mreturn\u001b[39;00m \u001b[43mbroadcast_any_list\u001b[49m\u001b[43m(\u001b[49m\u001b[43m)\u001b[49m\n\u001b[1;32m   1057\u001b[0m \u001b[38;5;66;03m# Any RecordArrays?\u001b[39;00m\n\u001b[1;32m   1058\u001b[0m \u001b[38;5;28;01melif\u001b[39;00m \u001b[38;5;28many\u001b[39m(x\u001b[38;5;241m.\u001b[39mis_record \u001b[38;5;28;01mfor\u001b[39;00m x \u001b[38;5;129;01min\u001b[39;00m contents):\n",
      "File \u001b[0;32m~/opt/anaconda3/lib/python3.9/site-packages/awkward/_broadcasting.py:623\u001b[0m, in \u001b[0;36mapply_step.<locals>.broadcast_any_list\u001b[0;34m()\u001b[0m\n\u001b[1;32m    620\u001b[0m         nextinputs\u001b[38;5;241m.\u001b[39mappend(x)\n\u001b[1;32m    621\u001b[0m         nextparameters\u001b[38;5;241m.\u001b[39mappend(NO_PARAMETERS)\n\u001b[0;32m--> 623\u001b[0m outcontent \u001b[38;5;241m=\u001b[39m \u001b[43mapply_step\u001b[49m\u001b[43m(\u001b[49m\n\u001b[1;32m    624\u001b[0m \u001b[43m    \u001b[49m\u001b[43mbackend\u001b[49m\u001b[43m,\u001b[49m\n\u001b[1;32m    625\u001b[0m \u001b[43m    \u001b[49m\u001b[43mnextinputs\u001b[49m\u001b[43m,\u001b[49m\n\u001b[1;32m    626\u001b[0m \u001b[43m    \u001b[49m\u001b[43maction\u001b[49m\u001b[43m,\u001b[49m\n\u001b[1;32m    627\u001b[0m \u001b[43m    \u001b[49m\u001b[43mdepth\u001b[49m\u001b[43m \u001b[49m\u001b[38;5;241;43m+\u001b[39;49m\u001b[43m \u001b[49m\u001b[38;5;241;43m1\u001b[39;49m\u001b[43m,\u001b[49m\n\u001b[1;32m    628\u001b[0m \u001b[43m    \u001b[49m\u001b[43mcopy\u001b[49m\u001b[38;5;241;43m.\u001b[39;49m\u001b[43mcopy\u001b[49m\u001b[43m(\u001b[49m\u001b[43mdepth_context\u001b[49m\u001b[43m)\u001b[49m\u001b[43m,\u001b[49m\n\u001b[1;32m    629\u001b[0m \u001b[43m    \u001b[49m\u001b[43mlateral_context\u001b[49m\u001b[43m,\u001b[49m\n\u001b[1;32m    630\u001b[0m \u001b[43m    \u001b[49m\u001b[43moptions\u001b[49m\u001b[43m,\u001b[49m\n\u001b[1;32m    631\u001b[0m \u001b[43m\u001b[49m\u001b[43m)\u001b[49m\n\u001b[1;32m    632\u001b[0m \u001b[38;5;28;01massert\u001b[39;00m \u001b[38;5;28misinstance\u001b[39m(outcontent, \u001b[38;5;28mtuple\u001b[39m)\n\u001b[1;32m    633\u001b[0m parameters \u001b[38;5;241m=\u001b[39m parameters_factory(nextparameters, \u001b[38;5;28mlen\u001b[39m(outcontent))\n",
      "File \u001b[0;32m~/opt/anaconda3/lib/python3.9/site-packages/awkward/_broadcasting.py:1086\u001b[0m, in \u001b[0;36mapply_step\u001b[0;34m(backend, inputs, action, depth, depth_context, lateral_context, options)\u001b[0m\n\u001b[1;32m   1084\u001b[0m     \u001b[38;5;28;01mreturn\u001b[39;00m result\n\u001b[1;32m   1085\u001b[0m \u001b[38;5;28;01melif\u001b[39;00m result \u001b[38;5;129;01mis\u001b[39;00m \u001b[38;5;28;01mNone\u001b[39;00m:\n\u001b[0;32m-> 1086\u001b[0m     \u001b[38;5;28;01mreturn\u001b[39;00m \u001b[43mcontinuation\u001b[49m\u001b[43m(\u001b[49m\u001b[43m)\u001b[49m\n\u001b[1;32m   1087\u001b[0m \u001b[38;5;28;01melse\u001b[39;00m:\n\u001b[1;32m   1088\u001b[0m     \u001b[38;5;28;01mraise\u001b[39;00m \u001b[38;5;167;01mAssertionError\u001b[39;00m(result)\n",
      "File \u001b[0;32m~/opt/anaconda3/lib/python3.9/site-packages/awkward/_broadcasting.py:1055\u001b[0m, in \u001b[0;36mapply_step.<locals>.continuation\u001b[0;34m()\u001b[0m\n\u001b[1;32m   1053\u001b[0m \u001b[38;5;66;03m# Any non-string list-types?\u001b[39;00m\n\u001b[1;32m   1054\u001b[0m \u001b[38;5;28;01melif\u001b[39;00m \u001b[38;5;28many\u001b[39m(x\u001b[38;5;241m.\u001b[39mis_list \u001b[38;5;129;01mand\u001b[39;00m \u001b[38;5;129;01mnot\u001b[39;00m is_string_like(x) \u001b[38;5;28;01mfor\u001b[39;00m x \u001b[38;5;129;01min\u001b[39;00m contents):\n\u001b[0;32m-> 1055\u001b[0m     \u001b[38;5;28;01mreturn\u001b[39;00m \u001b[43mbroadcast_any_list\u001b[49m\u001b[43m(\u001b[49m\u001b[43m)\u001b[49m\n\u001b[1;32m   1057\u001b[0m \u001b[38;5;66;03m# Any RecordArrays?\u001b[39;00m\n\u001b[1;32m   1058\u001b[0m \u001b[38;5;28;01melif\u001b[39;00m \u001b[38;5;28many\u001b[39m(x\u001b[38;5;241m.\u001b[39mis_record \u001b[38;5;28;01mfor\u001b[39;00m x \u001b[38;5;129;01min\u001b[39;00m contents):\n",
      "File \u001b[0;32m~/opt/anaconda3/lib/python3.9/site-packages/awkward/_broadcasting.py:687\u001b[0m, in \u001b[0;36mapply_step.<locals>.broadcast_any_list\u001b[0;34m()\u001b[0m\n\u001b[1;32m    684\u001b[0m         nextinputs\u001b[38;5;241m.\u001b[39mappend(x)\n\u001b[1;32m    685\u001b[0m         nextparameters\u001b[38;5;241m.\u001b[39mappend(NO_PARAMETERS)\n\u001b[0;32m--> 687\u001b[0m outcontent \u001b[38;5;241m=\u001b[39m \u001b[43mapply_step\u001b[49m\u001b[43m(\u001b[49m\n\u001b[1;32m    688\u001b[0m \u001b[43m    \u001b[49m\u001b[43mbackend\u001b[49m\u001b[43m,\u001b[49m\n\u001b[1;32m    689\u001b[0m \u001b[43m    \u001b[49m\u001b[43mnextinputs\u001b[49m\u001b[43m,\u001b[49m\n\u001b[1;32m    690\u001b[0m \u001b[43m    \u001b[49m\u001b[43maction\u001b[49m\u001b[43m,\u001b[49m\n\u001b[1;32m    691\u001b[0m \u001b[43m    \u001b[49m\u001b[43mdepth\u001b[49m\u001b[43m \u001b[49m\u001b[38;5;241;43m+\u001b[39;49m\u001b[43m \u001b[49m\u001b[38;5;241;43m1\u001b[39;49m\u001b[43m,\u001b[49m\n\u001b[1;32m    692\u001b[0m \u001b[43m    \u001b[49m\u001b[43mcopy\u001b[49m\u001b[38;5;241;43m.\u001b[39;49m\u001b[43mcopy\u001b[49m\u001b[43m(\u001b[49m\u001b[43mdepth_context\u001b[49m\u001b[43m)\u001b[49m\u001b[43m,\u001b[49m\n\u001b[1;32m    693\u001b[0m \u001b[43m    \u001b[49m\u001b[43mlateral_context\u001b[49m\u001b[43m,\u001b[49m\n\u001b[1;32m    694\u001b[0m \u001b[43m    \u001b[49m\u001b[43moptions\u001b[49m\u001b[43m,\u001b[49m\n\u001b[1;32m    695\u001b[0m \u001b[43m\u001b[49m\u001b[43m)\u001b[49m\n\u001b[1;32m    696\u001b[0m \u001b[38;5;28;01massert\u001b[39;00m \u001b[38;5;28misinstance\u001b[39m(outcontent, \u001b[38;5;28mtuple\u001b[39m)\n\u001b[1;32m    697\u001b[0m parameters \u001b[38;5;241m=\u001b[39m parameters_factory(nextparameters, \u001b[38;5;28mlen\u001b[39m(outcontent))\n",
      "File \u001b[0;32m~/opt/anaconda3/lib/python3.9/site-packages/awkward/_broadcasting.py:1086\u001b[0m, in \u001b[0;36mapply_step\u001b[0;34m(backend, inputs, action, depth, depth_context, lateral_context, options)\u001b[0m\n\u001b[1;32m   1084\u001b[0m     \u001b[38;5;28;01mreturn\u001b[39;00m result\n\u001b[1;32m   1085\u001b[0m \u001b[38;5;28;01melif\u001b[39;00m result \u001b[38;5;129;01mis\u001b[39;00m \u001b[38;5;28;01mNone\u001b[39;00m:\n\u001b[0;32m-> 1086\u001b[0m     \u001b[38;5;28;01mreturn\u001b[39;00m \u001b[43mcontinuation\u001b[49m\u001b[43m(\u001b[49m\u001b[43m)\u001b[49m\n\u001b[1;32m   1087\u001b[0m \u001b[38;5;28;01melse\u001b[39;00m:\n\u001b[1;32m   1088\u001b[0m     \u001b[38;5;28;01mraise\u001b[39;00m \u001b[38;5;167;01mAssertionError\u001b[39;00m(result)\n",
      "File \u001b[0;32m~/opt/anaconda3/lib/python3.9/site-packages/awkward/_broadcasting.py:1055\u001b[0m, in \u001b[0;36mapply_step.<locals>.continuation\u001b[0;34m()\u001b[0m\n\u001b[1;32m   1053\u001b[0m \u001b[38;5;66;03m# Any non-string list-types?\u001b[39;00m\n\u001b[1;32m   1054\u001b[0m \u001b[38;5;28;01melif\u001b[39;00m \u001b[38;5;28many\u001b[39m(x\u001b[38;5;241m.\u001b[39mis_list \u001b[38;5;129;01mand\u001b[39;00m \u001b[38;5;129;01mnot\u001b[39;00m is_string_like(x) \u001b[38;5;28;01mfor\u001b[39;00m x \u001b[38;5;129;01min\u001b[39;00m contents):\n\u001b[0;32m-> 1055\u001b[0m     \u001b[38;5;28;01mreturn\u001b[39;00m \u001b[43mbroadcast_any_list\u001b[49m\u001b[43m(\u001b[49m\u001b[43m)\u001b[49m\n\u001b[1;32m   1057\u001b[0m \u001b[38;5;66;03m# Any RecordArrays?\u001b[39;00m\n\u001b[1;32m   1058\u001b[0m \u001b[38;5;28;01melif\u001b[39;00m \u001b[38;5;28many\u001b[39m(x\u001b[38;5;241m.\u001b[39mis_record \u001b[38;5;28;01mfor\u001b[39;00m x \u001b[38;5;129;01min\u001b[39;00m contents):\n",
      "File \u001b[0;32m~/opt/anaconda3/lib/python3.9/site-packages/awkward/_broadcasting.py:672\u001b[0m, in \u001b[0;36mapply_step.<locals>.broadcast_any_list\u001b[0;34m()\u001b[0m\n\u001b[1;32m    670\u001b[0m \u001b[38;5;28;01mfor\u001b[39;00m x, x_is_string \u001b[38;5;129;01min\u001b[39;00m \u001b[38;5;28mzip\u001b[39m(inputs, input_is_string):\n\u001b[1;32m    671\u001b[0m     \u001b[38;5;28;01mif\u001b[39;00m \u001b[38;5;28misinstance\u001b[39m(x, listtypes) \u001b[38;5;129;01mand\u001b[39;00m \u001b[38;5;129;01mnot\u001b[39;00m x_is_string:\n\u001b[0;32m--> 672\u001b[0m         next_content \u001b[38;5;241m=\u001b[39m \u001b[43mbroadcast_to_offsets_avoiding_carry\u001b[49m\u001b[43m(\u001b[49m\u001b[43mx\u001b[49m\u001b[43m,\u001b[49m\u001b[43m \u001b[49m\u001b[43moffsets\u001b[49m\u001b[43m)\u001b[49m\n\u001b[1;32m    673\u001b[0m         nextinputs\u001b[38;5;241m.\u001b[39mappend(next_content)\n\u001b[1;32m    674\u001b[0m         nextparameters\u001b[38;5;241m.\u001b[39mappend(x\u001b[38;5;241m.\u001b[39m_parameters)\n",
      "File \u001b[0;32m~/opt/anaconda3/lib/python3.9/site-packages/awkward/_broadcasting.py:390\u001b[0m, in \u001b[0;36mbroadcast_to_offsets_avoiding_carry\u001b[0;34m(list_content, offsets)\u001b[0m\n\u001b[1;32m    388\u001b[0m             \u001b[38;5;28;01mreturn\u001b[39;00m list_content\u001b[38;5;241m.\u001b[39m_broadcast_tooffsets64(offsets)\u001b[38;5;241m.\u001b[39mcontent\n\u001b[1;32m    389\u001b[0m     \u001b[38;5;28;01melse\u001b[39;00m:\n\u001b[0;32m--> 390\u001b[0m         \u001b[38;5;28;01mreturn\u001b[39;00m \u001b[43mlist_content\u001b[49m\u001b[38;5;241;43m.\u001b[39;49m\u001b[43m_broadcast_tooffsets64\u001b[49m\u001b[43m(\u001b[49m\u001b[43moffsets\u001b[49m\u001b[43m)\u001b[49m\u001b[38;5;241m.\u001b[39mcontent\n\u001b[1;32m    392\u001b[0m \u001b[38;5;28;01melif\u001b[39;00m \u001b[38;5;28misinstance\u001b[39m(list_content, RegularArray):\n\u001b[1;32m    393\u001b[0m     my_offsets \u001b[38;5;241m=\u001b[39m list_content\u001b[38;5;241m.\u001b[39m_compact_offsets64(\u001b[38;5;28;01mTrue\u001b[39;00m)\n",
      "File \u001b[0;32m~/opt/anaconda3/lib/python3.9/site-packages/awkward/contents/listarray.py:426\u001b[0m, in \u001b[0;36mListArray._broadcast_tooffsets64\u001b[0;34m(self, offsets)\u001b[0m\n\u001b[1;32m    415\u001b[0m nextcarry \u001b[38;5;241m=\u001b[39m ak\u001b[38;5;241m.\u001b[39mindex\u001b[38;5;241m.\u001b[39mIndex64\u001b[38;5;241m.\u001b[39mempty(\n\u001b[1;32m    416\u001b[0m     \u001b[38;5;28mself\u001b[39m\u001b[38;5;241m.\u001b[39m_backend\u001b[38;5;241m.\u001b[39mindex_nplike\u001b[38;5;241m.\u001b[39mindex_as_shape_item(offsets[\u001b[38;5;241m-\u001b[39m\u001b[38;5;241m1\u001b[39m]),\n\u001b[1;32m    417\u001b[0m     \u001b[38;5;28mself\u001b[39m\u001b[38;5;241m.\u001b[39m_backend\u001b[38;5;241m.\u001b[39mindex_nplike,\n\u001b[1;32m    418\u001b[0m )\n\u001b[1;32m    419\u001b[0m \u001b[38;5;28;01massert\u001b[39;00m (\n\u001b[1;32m    420\u001b[0m     nextcarry\u001b[38;5;241m.\u001b[39mnplike \u001b[38;5;129;01mis\u001b[39;00m \u001b[38;5;28mself\u001b[39m\u001b[38;5;241m.\u001b[39m_backend\u001b[38;5;241m.\u001b[39mindex_nplike\n\u001b[1;32m    421\u001b[0m     \u001b[38;5;129;01mand\u001b[39;00m offsets\u001b[38;5;241m.\u001b[39mnplike \u001b[38;5;129;01mis\u001b[39;00m \u001b[38;5;28mself\u001b[39m\u001b[38;5;241m.\u001b[39m_backend\u001b[38;5;241m.\u001b[39mindex_nplike\n\u001b[1;32m    422\u001b[0m     \u001b[38;5;129;01mand\u001b[39;00m \u001b[38;5;28mself\u001b[39m\u001b[38;5;241m.\u001b[39m_starts\u001b[38;5;241m.\u001b[39mnplike \u001b[38;5;129;01mis\u001b[39;00m \u001b[38;5;28mself\u001b[39m\u001b[38;5;241m.\u001b[39m_backend\u001b[38;5;241m.\u001b[39mindex_nplike\n\u001b[1;32m    423\u001b[0m     \u001b[38;5;129;01mand\u001b[39;00m \u001b[38;5;28mself\u001b[39m\u001b[38;5;241m.\u001b[39m_stops\u001b[38;5;241m.\u001b[39mnplike \u001b[38;5;129;01mis\u001b[39;00m \u001b[38;5;28mself\u001b[39m\u001b[38;5;241m.\u001b[39m_backend\u001b[38;5;241m.\u001b[39mindex_nplike\n\u001b[1;32m    424\u001b[0m )\n\u001b[1;32m    425\u001b[0m \u001b[38;5;28mself\u001b[39m\u001b[38;5;241m.\u001b[39m_backend\u001b[38;5;241m.\u001b[39mmaybe_kernel_error(\n\u001b[0;32m--> 426\u001b[0m     \u001b[38;5;28;43mself\u001b[39;49m\u001b[38;5;241;43m.\u001b[39;49m\u001b[43m_backend\u001b[49m\u001b[43m[\u001b[49m\n\u001b[1;32m    427\u001b[0m \u001b[43m        \u001b[49m\u001b[38;5;124;43m\"\u001b[39;49m\u001b[38;5;124;43mawkward_ListArray_broadcast_tooffsets\u001b[39;49m\u001b[38;5;124;43m\"\u001b[39;49m\u001b[43m,\u001b[49m\n\u001b[1;32m    428\u001b[0m \u001b[43m        \u001b[49m\u001b[43mnextcarry\u001b[49m\u001b[38;5;241;43m.\u001b[39;49m\u001b[43mdtype\u001b[49m\u001b[38;5;241;43m.\u001b[39;49m\u001b[43mtype\u001b[49m\u001b[43m,\u001b[49m\n\u001b[1;32m    429\u001b[0m \u001b[43m        \u001b[49m\u001b[43moffsets\u001b[49m\u001b[38;5;241;43m.\u001b[39;49m\u001b[43mdtype\u001b[49m\u001b[38;5;241;43m.\u001b[39;49m\u001b[43mtype\u001b[49m\u001b[43m,\u001b[49m\n\u001b[1;32m    430\u001b[0m \u001b[43m        \u001b[49m\u001b[38;5;28;43mself\u001b[39;49m\u001b[38;5;241;43m.\u001b[39;49m\u001b[43m_starts\u001b[49m\u001b[38;5;241;43m.\u001b[39;49m\u001b[43mdtype\u001b[49m\u001b[38;5;241;43m.\u001b[39;49m\u001b[43mtype\u001b[49m\u001b[43m,\u001b[49m\n\u001b[1;32m    431\u001b[0m \u001b[43m        \u001b[49m\u001b[38;5;28;43mself\u001b[39;49m\u001b[38;5;241;43m.\u001b[39;49m\u001b[43m_stops\u001b[49m\u001b[38;5;241;43m.\u001b[39;49m\u001b[43mdtype\u001b[49m\u001b[38;5;241;43m.\u001b[39;49m\u001b[43mtype\u001b[49m\u001b[43m,\u001b[49m\n\u001b[1;32m    432\u001b[0m \u001b[43m    \u001b[49m\u001b[43m]\u001b[49m\u001b[43m(\u001b[49m\n\u001b[1;32m    433\u001b[0m \u001b[43m        \u001b[49m\u001b[43mnextcarry\u001b[49m\u001b[38;5;241;43m.\u001b[39;49m\u001b[43mdata\u001b[49m\u001b[43m,\u001b[49m\n\u001b[1;32m    434\u001b[0m \u001b[43m        \u001b[49m\u001b[43moffsets\u001b[49m\u001b[38;5;241;43m.\u001b[39;49m\u001b[43mdata\u001b[49m\u001b[43m,\u001b[49m\n\u001b[1;32m    435\u001b[0m \u001b[43m        \u001b[49m\u001b[43moffsets\u001b[49m\u001b[38;5;241;43m.\u001b[39;49m\u001b[43mlength\u001b[49m\u001b[43m,\u001b[49m\n\u001b[1;32m    436\u001b[0m \u001b[43m        \u001b[49m\u001b[38;5;28;43mself\u001b[39;49m\u001b[38;5;241;43m.\u001b[39;49m\u001b[43m_starts\u001b[49m\u001b[38;5;241;43m.\u001b[39;49m\u001b[43mdata\u001b[49m\u001b[43m,\u001b[49m\n\u001b[1;32m    437\u001b[0m \u001b[43m        \u001b[49m\u001b[38;5;28;43mself\u001b[39;49m\u001b[38;5;241;43m.\u001b[39;49m\u001b[43m_stops\u001b[49m\u001b[38;5;241;43m.\u001b[39;49m\u001b[43mdata\u001b[49m\u001b[43m,\u001b[49m\n\u001b[1;32m    438\u001b[0m \u001b[43m        \u001b[49m\u001b[38;5;28;43mself\u001b[39;49m\u001b[38;5;241;43m.\u001b[39;49m\u001b[43m_content\u001b[49m\u001b[38;5;241;43m.\u001b[39;49m\u001b[43mlength\u001b[49m\u001b[43m,\u001b[49m\n\u001b[1;32m    439\u001b[0m \u001b[43m    \u001b[49m\u001b[43m)\u001b[49m\n\u001b[1;32m    440\u001b[0m )\n\u001b[1;32m    442\u001b[0m nextcontent \u001b[38;5;241m=\u001b[39m \u001b[38;5;28mself\u001b[39m\u001b[38;5;241m.\u001b[39m_content\u001b[38;5;241m.\u001b[39m_carry(nextcarry, \u001b[38;5;28;01mTrue\u001b[39;00m)\n\u001b[1;32m    444\u001b[0m \u001b[38;5;28;01mreturn\u001b[39;00m ListOffsetArray(offsets, nextcontent, parameters\u001b[38;5;241m=\u001b[39m\u001b[38;5;28mself\u001b[39m\u001b[38;5;241m.\u001b[39m_parameters)\n",
      "File \u001b[0;32m~/opt/anaconda3/lib/python3.9/site-packages/awkward/_kernels.py:91\u001b[0m, in \u001b[0;36mNumpyKernel.__call__\u001b[0;34m(self, *args)\u001b[0m\n\u001b[1;32m     88\u001b[0m \u001b[38;5;28;01mdef\u001b[39;00m \u001b[38;5;21m__call__\u001b[39m(\u001b[38;5;28mself\u001b[39m, \u001b[38;5;241m*\u001b[39margs) \u001b[38;5;241m-\u001b[39m\u001b[38;5;241m>\u001b[39m \u001b[38;5;28;01mNone\u001b[39;00m:\n\u001b[1;32m     89\u001b[0m     \u001b[38;5;28;01massert\u001b[39;00m \u001b[38;5;28mlen\u001b[39m(args) \u001b[38;5;241m==\u001b[39m \u001b[38;5;28mlen\u001b[39m(\u001b[38;5;28mself\u001b[39m\u001b[38;5;241m.\u001b[39m_impl\u001b[38;5;241m.\u001b[39margtypes)\n\u001b[0;32m---> 91\u001b[0m     \u001b[38;5;28;01mreturn\u001b[39;00m \u001b[38;5;28;43mself\u001b[39;49m\u001b[38;5;241;43m.\u001b[39;49m\u001b[43m_impl\u001b[49m\u001b[43m(\u001b[49m\n\u001b[1;32m     92\u001b[0m \u001b[43m        \u001b[49m\u001b[38;5;241;43m*\u001b[39;49m\u001b[43m(\u001b[49m\u001b[38;5;28;43mself\u001b[39;49m\u001b[38;5;241;43m.\u001b[39;49m\u001b[43m_cast\u001b[49m\u001b[43m(\u001b[49m\u001b[43mx\u001b[49m\u001b[43m,\u001b[49m\u001b[43m \u001b[49m\u001b[43mt\u001b[49m\u001b[43m)\u001b[49m\u001b[43m \u001b[49m\u001b[38;5;28;43;01mfor\u001b[39;49;00m\u001b[43m \u001b[49m\u001b[43mx\u001b[49m\u001b[43m,\u001b[49m\u001b[43m \u001b[49m\u001b[43mt\u001b[49m\u001b[43m \u001b[49m\u001b[38;5;129;43;01min\u001b[39;49;00m\u001b[43m \u001b[49m\u001b[38;5;28;43mzip\u001b[39;49m\u001b[43m(\u001b[49m\u001b[43margs\u001b[49m\u001b[43m,\u001b[49m\u001b[43m \u001b[49m\u001b[38;5;28;43mself\u001b[39;49m\u001b[38;5;241;43m.\u001b[39;49m\u001b[43m_impl\u001b[49m\u001b[38;5;241;43m.\u001b[39;49m\u001b[43margtypes\u001b[49m\u001b[43m)\u001b[49m\u001b[43m)\u001b[49m\n\u001b[1;32m     93\u001b[0m \u001b[43m    \u001b[49m\u001b[43m)\u001b[49m\n",
      "\u001b[0;31mKeyboardInterrupt\u001b[0m: "
     ]
    }
   ],
   "source": [
    "reco_4t_test = reco_4t[(awkward.num(reco_4t)!=0)&(awkward.num(partonic_4t)!=0)]\n",
    "partonic_4t_test = partonic_4t[(awkward.num(reco_4t)!=0)&(awkward.num(partonic_4t)!=0)]\n",
    "\n",
    "print(len(reco_4t_test))\n",
    "\n",
    "reco_counts = awkward.num(reco_4t_test, axis=1)\n",
    "sorted_indices = awkward.argsort(reco_counts, ascending=False)\n",
    "reco_4t_test = reco_4t_test[sorted_indices]\n",
    "partonic_4t_test = partonic_4t_test[sorted_indices]\n",
    "\n",
    "pairs_by_event = {}\n",
    "\n",
    "while(len(reco_4t_test[awkward.num(reco_4t_test)!=0])!=0):\n",
    "    pairs = awkward.cartesian({'reco':reco_4t_test,'parton':(partonic_4t_test)})\n",
    "    deltars = pairs['reco'].deltaR(pairs['parton'])\n",
    "    print(len(deltars))\n",
    "    pairs = pairs[deltars == np.min(deltars, axis=1)]\n",
    "    deltars = np.min(deltars, axis=1)\n",
    "\n",
    "    pairs = pairs[deltars<0.4]\n",
    "\n",
    "    partonic_4t_test = partonic_4t_test[awkward.num(reco_4t_test)>1]\n",
    "    reco_4t_test = reco_4t_test[awkward.num(reco_4t_test)>1]\n",
    "    reco_4t_test = reco_4t_test[:,1:]"
   ]
  },
  {
   "cell_type": "code",
   "execution_count": 135,
   "metadata": {},
   "outputs": [
    {
     "ename": "ValueError",
     "evalue": "structure imposed by 'counts' does not fit in the array or partition at axis=2\n\nThis error occurred while calling\n\n    ak.unflatten(\n        <Array [[2.98, 2.72, ..., 3.19, 2.84], ...] type='300000 * var * fl...'>\n        <Array [11, 9, 10, 8, 8, ..., 11, 8, 11, 11, 12] type='300000 * int64'>\n        axis = 2\n    )",
     "output_type": "error",
     "traceback": [
      "\u001b[0;31m---------------------------------------------------------------------------\u001b[0m",
      "\u001b[0;31mValueError\u001b[0m                                Traceback (most recent call last)",
      "File \u001b[0;32m~/opt/anaconda3/lib/python3.9/site-packages/awkward/_dispatch.py:64\u001b[0m, in \u001b[0;36mnamed_high_level_function.<locals>.dispatch\u001b[0;34m(*args, **kwargs)\u001b[0m\n\u001b[1;32m     63\u001b[0m \u001b[38;5;28;01mtry\u001b[39;00m:\n\u001b[0;32m---> 64\u001b[0m     \u001b[38;5;28;43mnext\u001b[39;49m\u001b[43m(\u001b[49m\u001b[43mgen_or_result\u001b[49m\u001b[43m)\u001b[49m\n\u001b[1;32m     65\u001b[0m \u001b[38;5;28;01mexcept\u001b[39;00m \u001b[38;5;167;01mStopIteration\u001b[39;00m \u001b[38;5;28;01mas\u001b[39;00m err:\n",
      "File \u001b[0;32m~/opt/anaconda3/lib/python3.9/site-packages/awkward/operations/ak_unflatten.py:90\u001b[0m, in \u001b[0;36munflatten\u001b[0;34m(array, counts, axis, highlevel, behavior, attrs)\u001b[0m\n\u001b[1;32m     89\u001b[0m \u001b[38;5;66;03m# Implementation\u001b[39;00m\n\u001b[0;32m---> 90\u001b[0m \u001b[38;5;28;01mreturn\u001b[39;00m \u001b[43m_impl\u001b[49m\u001b[43m(\u001b[49m\u001b[43marray\u001b[49m\u001b[43m,\u001b[49m\u001b[43m \u001b[49m\u001b[43mcounts\u001b[49m\u001b[43m,\u001b[49m\u001b[43m \u001b[49m\u001b[43maxis\u001b[49m\u001b[43m,\u001b[49m\u001b[43m \u001b[49m\u001b[43mhighlevel\u001b[49m\u001b[43m,\u001b[49m\u001b[43m \u001b[49m\u001b[43mbehavior\u001b[49m\u001b[43m,\u001b[49m\u001b[43m \u001b[49m\u001b[43mattrs\u001b[49m\u001b[43m)\u001b[49m\n",
      "File \u001b[0;32m~/opt/anaconda3/lib/python3.9/site-packages/awkward/operations/ak_unflatten.py:290\u001b[0m, in \u001b[0;36m_impl\u001b[0;34m(array, counts, axis, highlevel, behavior, attrs)\u001b[0m\n\u001b[1;32m    285\u001b[0m \u001b[38;5;28;01mif\u001b[39;00m (\n\u001b[1;32m    286\u001b[0m     current_offsets \u001b[38;5;129;01mis\u001b[39;00m \u001b[38;5;129;01mnot\u001b[39;00m \u001b[38;5;28;01mNone\u001b[39;00m\n\u001b[1;32m    287\u001b[0m     \u001b[38;5;129;01mand\u001b[39;00m current_offsets\u001b[38;5;241m.\u001b[39msize \u001b[38;5;129;01mis\u001b[39;00m \u001b[38;5;129;01mnot\u001b[39;00m unknown_length\n\u001b[1;32m    288\u001b[0m     \u001b[38;5;129;01mand\u001b[39;00m \u001b[38;5;129;01mnot\u001b[39;00m (current_offsets\u001b[38;5;241m.\u001b[39msize \u001b[38;5;241m==\u001b[39m \u001b[38;5;241m1\u001b[39m \u001b[38;5;129;01mand\u001b[39;00m current_offsets[\u001b[38;5;241m0\u001b[39m] \u001b[38;5;241m==\u001b[39m \u001b[38;5;241m0\u001b[39m)\n\u001b[1;32m    289\u001b[0m ):\n\u001b[0;32m--> 290\u001b[0m     \u001b[38;5;28;01mraise\u001b[39;00m \u001b[38;5;167;01mValueError\u001b[39;00m(\n\u001b[1;32m    291\u001b[0m         \u001b[38;5;124m\"\u001b[39m\u001b[38;5;124mstructure imposed by \u001b[39m\u001b[38;5;124m'\u001b[39m\u001b[38;5;124mcounts\u001b[39m\u001b[38;5;124m'\u001b[39m\u001b[38;5;124m does not fit in the array or partition \u001b[39m\u001b[38;5;124m\"\u001b[39m\n\u001b[1;32m    292\u001b[0m         \u001b[38;5;124mf\u001b[39m\u001b[38;5;124m\"\u001b[39m\u001b[38;5;124mat axis=\u001b[39m\u001b[38;5;132;01m{\u001b[39;00maxis\u001b[38;5;132;01m}\u001b[39;00m\u001b[38;5;124m\"\u001b[39m\n\u001b[1;32m    293\u001b[0m     )\n\u001b[1;32m    295\u001b[0m \u001b[38;5;28;01mreturn\u001b[39;00m ctx\u001b[38;5;241m.\u001b[39mwrap(out, highlevel\u001b[38;5;241m=\u001b[39mhighlevel)\n",
      "\u001b[0;31mValueError\u001b[0m: structure imposed by 'counts' does not fit in the array or partition at axis=2",
      "\nThe above exception was the direct cause of the following exception:\n",
      "\u001b[0;31mValueError\u001b[0m                                Traceback (most recent call last)",
      "Input \u001b[0;32mIn [135]\u001b[0m, in \u001b[0;36m<cell line: 7>\u001b[0;34m()\u001b[0m\n\u001b[1;32m      4\u001b[0m pairs \u001b[38;5;241m=\u001b[39m awkward\u001b[38;5;241m.\u001b[39mcartesian({\u001b[38;5;124m'\u001b[39m\u001b[38;5;124mreco\u001b[39m\u001b[38;5;124m'\u001b[39m:reco_4t_test,\u001b[38;5;124m'\u001b[39m\u001b[38;5;124mparton\u001b[39m\u001b[38;5;124m'\u001b[39m:(partonic_4t_test)})\n\u001b[1;32m      5\u001b[0m deltars \u001b[38;5;241m=\u001b[39m pairs[\u001b[38;5;124m'\u001b[39m\u001b[38;5;124mreco\u001b[39m\u001b[38;5;124m'\u001b[39m]\u001b[38;5;241m.\u001b[39mdeltaR(pairs[\u001b[38;5;124m'\u001b[39m\u001b[38;5;124mparton\u001b[39m\u001b[38;5;124m'\u001b[39m])\n\u001b[0;32m----> 7\u001b[0m deltars_3d \u001b[38;5;241m=\u001b[39m \u001b[43mawkward\u001b[49m\u001b[38;5;241;43m.\u001b[39;49m\u001b[43munflatten\u001b[49m\u001b[43m(\u001b[49m\u001b[43mdeltars\u001b[49m\u001b[43m,\u001b[49m\u001b[43m \u001b[49m\u001b[43mawkward\u001b[49m\u001b[38;5;241;43m.\u001b[39;49m\u001b[43mnum\u001b[49m\u001b[43m(\u001b[49m\u001b[43mpartonic_4t_test\u001b[49m\u001b[43m)\u001b[49m\u001b[43m,\u001b[49m\u001b[43m \u001b[49m\u001b[43maxis\u001b[49m\u001b[38;5;241;43m=\u001b[39;49m\u001b[38;5;241;43m2\u001b[39;49m\u001b[43m)\u001b[49m\n",
      "File \u001b[0;32m~/opt/anaconda3/lib/python3.9/site-packages/awkward/_dispatch.py:72\u001b[0m, in \u001b[0;36mnamed_high_level_function.<locals>.dispatch\u001b[0;34m(*args, **kwargs)\u001b[0m\n\u001b[1;32m     67\u001b[0m     \u001b[38;5;28;01melse\u001b[39;00m:\n\u001b[1;32m     68\u001b[0m         \u001b[38;5;28;01mraise\u001b[39;00m \u001b[38;5;167;01mAssertionError\u001b[39;00m(\n\u001b[1;32m     69\u001b[0m             \u001b[38;5;124m\"\u001b[39m\u001b[38;5;124mhigh-level functions should only implement a single yield statement\u001b[39m\u001b[38;5;124m\"\u001b[39m\n\u001b[1;32m     70\u001b[0m         )\n\u001b[0;32m---> 72\u001b[0m \u001b[38;5;28;01mreturn\u001b[39;00m gen_or_result\n",
      "File \u001b[0;32m~/opt/anaconda3/lib/python3.9/site-packages/awkward/_errors.py:85\u001b[0m, in \u001b[0;36mErrorContext.__exit__\u001b[0;34m(self, exception_type, exception_value, traceback)\u001b[0m\n\u001b[1;32m     78\u001b[0m \u001b[38;5;28;01mtry\u001b[39;00m:\n\u001b[1;32m     79\u001b[0m     \u001b[38;5;66;03m# Handle caught exception\u001b[39;00m\n\u001b[1;32m     80\u001b[0m     \u001b[38;5;28;01mif\u001b[39;00m (\n\u001b[1;32m     81\u001b[0m         exception_type \u001b[38;5;129;01mis\u001b[39;00m \u001b[38;5;129;01mnot\u001b[39;00m \u001b[38;5;28;01mNone\u001b[39;00m\n\u001b[1;32m     82\u001b[0m         \u001b[38;5;129;01mand\u001b[39;00m \u001b[38;5;28missubclass\u001b[39m(exception_type, \u001b[38;5;167;01mException\u001b[39;00m)\n\u001b[1;32m     83\u001b[0m         \u001b[38;5;129;01mand\u001b[39;00m \u001b[38;5;28mself\u001b[39m\u001b[38;5;241m.\u001b[39mprimary() \u001b[38;5;129;01mis\u001b[39;00m \u001b[38;5;28mself\u001b[39m\n\u001b[1;32m     84\u001b[0m     ):\n\u001b[0;32m---> 85\u001b[0m         \u001b[38;5;28;43mself\u001b[39;49m\u001b[38;5;241;43m.\u001b[39;49m\u001b[43mhandle_exception\u001b[49m\u001b[43m(\u001b[49m\u001b[43mexception_type\u001b[49m\u001b[43m,\u001b[49m\u001b[43m \u001b[49m\u001b[43mexception_value\u001b[49m\u001b[43m)\u001b[49m\n\u001b[1;32m     86\u001b[0m \u001b[38;5;28;01mfinally\u001b[39;00m:\n\u001b[1;32m     87\u001b[0m     \u001b[38;5;66;03m# Step out of the way so that another ErrorContext can become primary.\u001b[39;00m\n\u001b[1;32m     88\u001b[0m     \u001b[38;5;28;01mif\u001b[39;00m \u001b[38;5;28mself\u001b[39m\u001b[38;5;241m.\u001b[39mprimary() \u001b[38;5;129;01mis\u001b[39;00m \u001b[38;5;28mself\u001b[39m:\n",
      "File \u001b[0;32m~/opt/anaconda3/lib/python3.9/site-packages/awkward/_errors.py:95\u001b[0m, in \u001b[0;36mErrorContext.handle_exception\u001b[0;34m(self, cls, exception)\u001b[0m\n\u001b[1;32m     93\u001b[0m     \u001b[38;5;28mself\u001b[39m\u001b[38;5;241m.\u001b[39mdecorate_exception(\u001b[38;5;28mcls\u001b[39m, exception)\n\u001b[1;32m     94\u001b[0m \u001b[38;5;28;01melse\u001b[39;00m:\n\u001b[0;32m---> 95\u001b[0m     \u001b[38;5;28;01mraise\u001b[39;00m \u001b[38;5;28mself\u001b[39m\u001b[38;5;241m.\u001b[39mdecorate_exception(\u001b[38;5;28mcls\u001b[39m, exception)\n",
      "\u001b[0;31mValueError\u001b[0m: structure imposed by 'counts' does not fit in the array or partition at axis=2\n\nThis error occurred while calling\n\n    ak.unflatten(\n        <Array [[2.98, 2.72, ..., 3.19, 2.84], ...] type='300000 * var * fl...'>\n        <Array [11, 9, 10, 8, 8, ..., 11, 8, 11, 11, 12] type='300000 * int64'>\n        axis = 2\n    )"
     ]
    }
   ],
   "source": [
    "reco_4t_test = reco_4t[(awkward.num(reco_4t)!=0)&(awkward.num(partonic_4t)!=0)]\n",
    "partonic_4t_test = partonic_4t[(awkward.num(reco_4t)!=0)&(awkward.num(partonic_4t)!=0)]\n",
    "\n",
    "\n",
    "\n",
    "pairs = awkward.cartesian({'reco':reco_4t_test,'parton':(partonic_4t_test)})\n",
    "deltars = pairs['reco'].deltaR(pairs['parton'])\n",
    "\n",
    "deltars_3d = awkward.unflatten(deltars, awkward.num(partonic_4t_test), axis=2)"
   ]
  },
  {
   "cell_type": "code",
   "execution_count": 167,
   "metadata": {},
   "outputs": [
    {
     "ename": "ValueError",
     "evalue": "structure imposed by 'counts' does not fit in the array or partition at axis=2\n\nThis error occurred while calling\n\n    ak.unflatten(\n        <Array [[{reco: {...}, ...}, ...], ...] type='300000 * var * {reco:...'>\n        <Array [11, 9, 9, 10, 8, 9, ..., 7, 8, 9, 8, 9] type='300000 * int64'>\n        axis = 2\n    )",
     "output_type": "error",
     "traceback": [
      "\u001b[0;31m---------------------------------------------------------------------------\u001b[0m",
      "\u001b[0;31mValueError\u001b[0m                                Traceback (most recent call last)",
      "File \u001b[0;32m~/opt/anaconda3/lib/python3.9/site-packages/awkward/_dispatch.py:64\u001b[0m, in \u001b[0;36mnamed_high_level_function.<locals>.dispatch\u001b[0;34m(*args, **kwargs)\u001b[0m\n\u001b[1;32m     63\u001b[0m \u001b[38;5;28;01mtry\u001b[39;00m:\n\u001b[0;32m---> 64\u001b[0m     \u001b[38;5;28;43mnext\u001b[39;49m\u001b[43m(\u001b[49m\u001b[43mgen_or_result\u001b[49m\u001b[43m)\u001b[49m\n\u001b[1;32m     65\u001b[0m \u001b[38;5;28;01mexcept\u001b[39;00m \u001b[38;5;167;01mStopIteration\u001b[39;00m \u001b[38;5;28;01mas\u001b[39;00m err:\n",
      "File \u001b[0;32m~/opt/anaconda3/lib/python3.9/site-packages/awkward/operations/ak_unflatten.py:90\u001b[0m, in \u001b[0;36munflatten\u001b[0;34m(array, counts, axis, highlevel, behavior, attrs)\u001b[0m\n\u001b[1;32m     89\u001b[0m \u001b[38;5;66;03m# Implementation\u001b[39;00m\n\u001b[0;32m---> 90\u001b[0m \u001b[38;5;28;01mreturn\u001b[39;00m \u001b[43m_impl\u001b[49m\u001b[43m(\u001b[49m\u001b[43marray\u001b[49m\u001b[43m,\u001b[49m\u001b[43m \u001b[49m\u001b[43mcounts\u001b[49m\u001b[43m,\u001b[49m\u001b[43m \u001b[49m\u001b[43maxis\u001b[49m\u001b[43m,\u001b[49m\u001b[43m \u001b[49m\u001b[43mhighlevel\u001b[49m\u001b[43m,\u001b[49m\u001b[43m \u001b[49m\u001b[43mbehavior\u001b[49m\u001b[43m,\u001b[49m\u001b[43m \u001b[49m\u001b[43mattrs\u001b[49m\u001b[43m)\u001b[49m\n",
      "File \u001b[0;32m~/opt/anaconda3/lib/python3.9/site-packages/awkward/operations/ak_unflatten.py:290\u001b[0m, in \u001b[0;36m_impl\u001b[0;34m(array, counts, axis, highlevel, behavior, attrs)\u001b[0m\n\u001b[1;32m    285\u001b[0m \u001b[38;5;28;01mif\u001b[39;00m (\n\u001b[1;32m    286\u001b[0m     current_offsets \u001b[38;5;129;01mis\u001b[39;00m \u001b[38;5;129;01mnot\u001b[39;00m \u001b[38;5;28;01mNone\u001b[39;00m\n\u001b[1;32m    287\u001b[0m     \u001b[38;5;129;01mand\u001b[39;00m current_offsets\u001b[38;5;241m.\u001b[39msize \u001b[38;5;129;01mis\u001b[39;00m \u001b[38;5;129;01mnot\u001b[39;00m unknown_length\n\u001b[1;32m    288\u001b[0m     \u001b[38;5;129;01mand\u001b[39;00m \u001b[38;5;129;01mnot\u001b[39;00m (current_offsets\u001b[38;5;241m.\u001b[39msize \u001b[38;5;241m==\u001b[39m \u001b[38;5;241m1\u001b[39m \u001b[38;5;129;01mand\u001b[39;00m current_offsets[\u001b[38;5;241m0\u001b[39m] \u001b[38;5;241m==\u001b[39m \u001b[38;5;241m0\u001b[39m)\n\u001b[1;32m    289\u001b[0m ):\n\u001b[0;32m--> 290\u001b[0m     \u001b[38;5;28;01mraise\u001b[39;00m \u001b[38;5;167;01mValueError\u001b[39;00m(\n\u001b[1;32m    291\u001b[0m         \u001b[38;5;124m\"\u001b[39m\u001b[38;5;124mstructure imposed by \u001b[39m\u001b[38;5;124m'\u001b[39m\u001b[38;5;124mcounts\u001b[39m\u001b[38;5;124m'\u001b[39m\u001b[38;5;124m does not fit in the array or partition \u001b[39m\u001b[38;5;124m\"\u001b[39m\n\u001b[1;32m    292\u001b[0m         \u001b[38;5;124mf\u001b[39m\u001b[38;5;124m\"\u001b[39m\u001b[38;5;124mat axis=\u001b[39m\u001b[38;5;132;01m{\u001b[39;00maxis\u001b[38;5;132;01m}\u001b[39;00m\u001b[38;5;124m\"\u001b[39m\n\u001b[1;32m    293\u001b[0m     )\n\u001b[1;32m    295\u001b[0m \u001b[38;5;28;01mreturn\u001b[39;00m ctx\u001b[38;5;241m.\u001b[39mwrap(out, highlevel\u001b[38;5;241m=\u001b[39mhighlevel)\n",
      "\u001b[0;31mValueError\u001b[0m: structure imposed by 'counts' does not fit in the array or partition at axis=2",
      "\nThe above exception was the direct cause of the following exception:\n",
      "\u001b[0;31mValueError\u001b[0m                                Traceback (most recent call last)",
      "Input \u001b[0;32mIn [167]\u001b[0m, in \u001b[0;36m<cell line: 7>\u001b[0;34m()\u001b[0m\n\u001b[1;32m      4\u001b[0m pairs \u001b[38;5;241m=\u001b[39m awkward\u001b[38;5;241m.\u001b[39mcartesian({\u001b[38;5;124m'\u001b[39m\u001b[38;5;124mreco\u001b[39m\u001b[38;5;124m'\u001b[39m:reco_4t_test[:,\u001b[38;5;241m0\u001b[39m],\u001b[38;5;124m'\u001b[39m\u001b[38;5;124mparton\u001b[39m\u001b[38;5;124m'\u001b[39m:(partonic_4t_test)})\n\u001b[1;32m      5\u001b[0m deltars \u001b[38;5;241m=\u001b[39m pairs[\u001b[38;5;124m'\u001b[39m\u001b[38;5;124mreco\u001b[39m\u001b[38;5;124m'\u001b[39m]\u001b[38;5;241m.\u001b[39mdeltaR(pairs[\u001b[38;5;124m'\u001b[39m\u001b[38;5;124mparton\u001b[39m\u001b[38;5;124m'\u001b[39m])\n\u001b[0;32m----> 7\u001b[0m pairs_2 \u001b[38;5;241m=\u001b[39m \u001b[43mawkward\u001b[49m\u001b[38;5;241;43m.\u001b[39;49m\u001b[43munflatten\u001b[49m\u001b[43m(\u001b[49m\u001b[43mpairs\u001b[49m\u001b[43m,\u001b[49m\u001b[43m \u001b[49m\u001b[43mawkward\u001b[49m\u001b[38;5;241;43m.\u001b[39;49m\u001b[43mnum\u001b[49m\u001b[43m(\u001b[49m\u001b[43mreco_4t_test\u001b[49m\u001b[43m)\u001b[49m\u001b[43m,\u001b[49m\u001b[43m \u001b[49m\u001b[43maxis\u001b[49m\u001b[38;5;241;43m=\u001b[39;49m\u001b[38;5;241;43m2\u001b[39;49m\u001b[43m)\u001b[49m\n",
      "File \u001b[0;32m~/opt/anaconda3/lib/python3.9/site-packages/awkward/_dispatch.py:72\u001b[0m, in \u001b[0;36mnamed_high_level_function.<locals>.dispatch\u001b[0;34m(*args, **kwargs)\u001b[0m\n\u001b[1;32m     67\u001b[0m     \u001b[38;5;28;01melse\u001b[39;00m:\n\u001b[1;32m     68\u001b[0m         \u001b[38;5;28;01mraise\u001b[39;00m \u001b[38;5;167;01mAssertionError\u001b[39;00m(\n\u001b[1;32m     69\u001b[0m             \u001b[38;5;124m\"\u001b[39m\u001b[38;5;124mhigh-level functions should only implement a single yield statement\u001b[39m\u001b[38;5;124m\"\u001b[39m\n\u001b[1;32m     70\u001b[0m         )\n\u001b[0;32m---> 72\u001b[0m \u001b[38;5;28;01mreturn\u001b[39;00m gen_or_result\n",
      "File \u001b[0;32m~/opt/anaconda3/lib/python3.9/site-packages/awkward/_errors.py:85\u001b[0m, in \u001b[0;36mErrorContext.__exit__\u001b[0;34m(self, exception_type, exception_value, traceback)\u001b[0m\n\u001b[1;32m     78\u001b[0m \u001b[38;5;28;01mtry\u001b[39;00m:\n\u001b[1;32m     79\u001b[0m     \u001b[38;5;66;03m# Handle caught exception\u001b[39;00m\n\u001b[1;32m     80\u001b[0m     \u001b[38;5;28;01mif\u001b[39;00m (\n\u001b[1;32m     81\u001b[0m         exception_type \u001b[38;5;129;01mis\u001b[39;00m \u001b[38;5;129;01mnot\u001b[39;00m \u001b[38;5;28;01mNone\u001b[39;00m\n\u001b[1;32m     82\u001b[0m         \u001b[38;5;129;01mand\u001b[39;00m \u001b[38;5;28missubclass\u001b[39m(exception_type, \u001b[38;5;167;01mException\u001b[39;00m)\n\u001b[1;32m     83\u001b[0m         \u001b[38;5;129;01mand\u001b[39;00m \u001b[38;5;28mself\u001b[39m\u001b[38;5;241m.\u001b[39mprimary() \u001b[38;5;129;01mis\u001b[39;00m \u001b[38;5;28mself\u001b[39m\n\u001b[1;32m     84\u001b[0m     ):\n\u001b[0;32m---> 85\u001b[0m         \u001b[38;5;28;43mself\u001b[39;49m\u001b[38;5;241;43m.\u001b[39;49m\u001b[43mhandle_exception\u001b[49m\u001b[43m(\u001b[49m\u001b[43mexception_type\u001b[49m\u001b[43m,\u001b[49m\u001b[43m \u001b[49m\u001b[43mexception_value\u001b[49m\u001b[43m)\u001b[49m\n\u001b[1;32m     86\u001b[0m \u001b[38;5;28;01mfinally\u001b[39;00m:\n\u001b[1;32m     87\u001b[0m     \u001b[38;5;66;03m# Step out of the way so that another ErrorContext can become primary.\u001b[39;00m\n\u001b[1;32m     88\u001b[0m     \u001b[38;5;28;01mif\u001b[39;00m \u001b[38;5;28mself\u001b[39m\u001b[38;5;241m.\u001b[39mprimary() \u001b[38;5;129;01mis\u001b[39;00m \u001b[38;5;28mself\u001b[39m:\n",
      "File \u001b[0;32m~/opt/anaconda3/lib/python3.9/site-packages/awkward/_errors.py:95\u001b[0m, in \u001b[0;36mErrorContext.handle_exception\u001b[0;34m(self, cls, exception)\u001b[0m\n\u001b[1;32m     93\u001b[0m     \u001b[38;5;28mself\u001b[39m\u001b[38;5;241m.\u001b[39mdecorate_exception(\u001b[38;5;28mcls\u001b[39m, exception)\n\u001b[1;32m     94\u001b[0m \u001b[38;5;28;01melse\u001b[39;00m:\n\u001b[0;32m---> 95\u001b[0m     \u001b[38;5;28;01mraise\u001b[39;00m \u001b[38;5;28mself\u001b[39m\u001b[38;5;241m.\u001b[39mdecorate_exception(\u001b[38;5;28mcls\u001b[39m, exception)\n",
      "\u001b[0;31mValueError\u001b[0m: structure imposed by 'counts' does not fit in the array or partition at axis=2\n\nThis error occurred while calling\n\n    ak.unflatten(\n        <Array [[{reco: {...}, ...}, ...], ...] type='300000 * var * {reco:...'>\n        <Array [11, 9, 9, 10, 8, 9, ..., 7, 8, 9, 8, 9] type='300000 * int64'>\n        axis = 2\n    )"
     ]
    }
   ],
   "source": [
    "reco_4t_test = reco_4t[(awkward.num(reco_4t)!=0)&(awkward.num(partonic_4t)!=0)]\n",
    "partonic_4t_test = partonic_4t[(awkward.num(reco_4t)!=0)&(awkward.num(partonic_4t)!=0)]\n",
    "\n",
    "pairs = awkward.cartesian({'reco':reco_4t_test[:,0],'parton':(partonic_4t_test)})\n",
    "deltars = pairs['reco'].deltaR(pairs['parton'])\n",
    "\n",
    "pairs_2 = awkward.unflatten(pairs, awkward.num(reco_4t_test), axis=2)"
   ]
  },
  {
   "cell_type": "code",
   "execution_count": 173,
   "metadata": {},
   "outputs": [
    {
     "name": "stdout",
     "output_type": "stream",
     "text": [
      "[10, 11]\n"
     ]
    },
    {
     "ename": "ValueError",
     "evalue": "cannot broadcast nested list\n\nThis error occurred while calling\n\n    numpy.equal.__call__(\n        <Array [[[2.98, ..., 1.56], ...], ...] type='32831 * var * 11 * flo...'>\n        <Array [[0.0397, 0.046, ..., 0.595], ...] type='32831 * 11 * ?float32'>\n    )",
     "output_type": "error",
     "traceback": [
      "\u001b[0;31m---------------------------------------------------------------------------\u001b[0m",
      "\u001b[0;31mValueError\u001b[0m                                Traceback (most recent call last)",
      "File \u001b[0;32m~/opt/anaconda3/lib/python3.9/site-packages/awkward/highlevel.py:1511\u001b[0m, in \u001b[0;36mArray.__array_ufunc__\u001b[0;34m(self, ufunc, method, *inputs, **kwargs)\u001b[0m\n\u001b[1;32m   1510\u001b[0m \u001b[38;5;28;01mwith\u001b[39;00m ak\u001b[38;5;241m.\u001b[39m_errors\u001b[38;5;241m.\u001b[39mOperationErrorContext(name, inputs, kwargs):\n\u001b[0;32m-> 1511\u001b[0m     \u001b[38;5;28;01mreturn\u001b[39;00m \u001b[43mak\u001b[49m\u001b[38;5;241;43m.\u001b[39;49m\u001b[43m_connect\u001b[49m\u001b[38;5;241;43m.\u001b[39;49m\u001b[43mnumpy\u001b[49m\u001b[38;5;241;43m.\u001b[39;49m\u001b[43marray_ufunc\u001b[49m\u001b[43m(\u001b[49m\u001b[43mufunc\u001b[49m\u001b[43m,\u001b[49m\u001b[43m \u001b[49m\u001b[43mmethod\u001b[49m\u001b[43m,\u001b[49m\u001b[43m \u001b[49m\u001b[43minputs\u001b[49m\u001b[43m,\u001b[49m\u001b[43m \u001b[49m\u001b[43mkwargs\u001b[49m\u001b[43m)\u001b[49m\n",
      "File \u001b[0;32m~/opt/anaconda3/lib/python3.9/site-packages/awkward/_connect/numpy.py:466\u001b[0m, in \u001b[0;36marray_ufunc\u001b[0;34m(ufunc, method, inputs, kwargs)\u001b[0m\n\u001b[1;32m    464\u001b[0m     \u001b[38;5;28;01mreturn\u001b[39;00m \u001b[38;5;28;01mNone\u001b[39;00m\n\u001b[0;32m--> 466\u001b[0m out \u001b[38;5;241m=\u001b[39m \u001b[43mak\u001b[49m\u001b[38;5;241;43m.\u001b[39;49m\u001b[43m_broadcasting\u001b[49m\u001b[38;5;241;43m.\u001b[39;49m\u001b[43mbroadcast_and_apply\u001b[49m\u001b[43m(\u001b[49m\n\u001b[1;32m    467\u001b[0m \u001b[43m    \u001b[49m\u001b[43minputs\u001b[49m\u001b[43m,\u001b[49m\u001b[43m \u001b[49m\u001b[43maction\u001b[49m\u001b[43m,\u001b[49m\u001b[43m \u001b[49m\u001b[43mallow_records\u001b[49m\u001b[38;5;241;43m=\u001b[39;49m\u001b[38;5;28;43;01mFalse\u001b[39;49;00m\u001b[43m,\u001b[49m\u001b[43m \u001b[49m\u001b[43mfunction_name\u001b[49m\u001b[38;5;241;43m=\u001b[39;49m\u001b[43mufunc\u001b[49m\u001b[38;5;241;43m.\u001b[39;49m\u001b[38;5;18;43m__name__\u001b[39;49m\n\u001b[1;32m    468\u001b[0m \u001b[43m\u001b[49m\u001b[43m)\u001b[49m\n\u001b[1;32m    470\u001b[0m \u001b[38;5;28;01mif\u001b[39;00m \u001b[38;5;28mlen\u001b[39m(out) \u001b[38;5;241m==\u001b[39m \u001b[38;5;241m1\u001b[39m:\n",
      "File \u001b[0;32m~/opt/anaconda3/lib/python3.9/site-packages/awkward/_broadcasting.py:1108\u001b[0m, in \u001b[0;36mbroadcast_and_apply\u001b[0;34m(inputs, action, depth_context, lateral_context, allow_records, left_broadcast, right_broadcast, numpy_to_regular, regular_to_jagged, function_name, broadcast_parameters_rule)\u001b[0m\n\u001b[1;32m   1107\u001b[0m isscalar \u001b[38;5;241m=\u001b[39m []\n\u001b[0;32m-> 1108\u001b[0m out \u001b[38;5;241m=\u001b[39m \u001b[43mapply_step\u001b[49m\u001b[43m(\u001b[49m\n\u001b[1;32m   1109\u001b[0m \u001b[43m    \u001b[49m\u001b[43mbackend\u001b[49m\u001b[43m,\u001b[49m\n\u001b[1;32m   1110\u001b[0m \u001b[43m    \u001b[49m\u001b[43mbroadcast_pack\u001b[49m\u001b[43m(\u001b[49m\u001b[43minputs\u001b[49m\u001b[43m,\u001b[49m\u001b[43m \u001b[49m\u001b[43misscalar\u001b[49m\u001b[43m)\u001b[49m\u001b[43m,\u001b[49m\n\u001b[1;32m   1111\u001b[0m \u001b[43m    \u001b[49m\u001b[43maction\u001b[49m\u001b[43m,\u001b[49m\n\u001b[1;32m   1112\u001b[0m \u001b[43m    \u001b[49m\u001b[38;5;241;43m0\u001b[39;49m\u001b[43m,\u001b[49m\n\u001b[1;32m   1113\u001b[0m \u001b[43m    \u001b[49m\u001b[43mdepth_context\u001b[49m\u001b[43m,\u001b[49m\n\u001b[1;32m   1114\u001b[0m \u001b[43m    \u001b[49m\u001b[43mlateral_context\u001b[49m\u001b[43m,\u001b[49m\n\u001b[1;32m   1115\u001b[0m \u001b[43m    \u001b[49m\u001b[43m{\u001b[49m\n\u001b[1;32m   1116\u001b[0m \u001b[43m        \u001b[49m\u001b[38;5;124;43m\"\u001b[39;49m\u001b[38;5;124;43mallow_records\u001b[39;49m\u001b[38;5;124;43m\"\u001b[39;49m\u001b[43m:\u001b[49m\u001b[43m \u001b[49m\u001b[43mallow_records\u001b[49m\u001b[43m,\u001b[49m\n\u001b[1;32m   1117\u001b[0m \u001b[43m        \u001b[49m\u001b[38;5;124;43m\"\u001b[39;49m\u001b[38;5;124;43mleft_broadcast\u001b[39;49m\u001b[38;5;124;43m\"\u001b[39;49m\u001b[43m:\u001b[49m\u001b[43m \u001b[49m\u001b[43mleft_broadcast\u001b[49m\u001b[43m,\u001b[49m\n\u001b[1;32m   1118\u001b[0m \u001b[43m        \u001b[49m\u001b[38;5;124;43m\"\u001b[39;49m\u001b[38;5;124;43mright_broadcast\u001b[39;49m\u001b[38;5;124;43m\"\u001b[39;49m\u001b[43m:\u001b[49m\u001b[43m \u001b[49m\u001b[43mright_broadcast\u001b[49m\u001b[43m,\u001b[49m\n\u001b[1;32m   1119\u001b[0m \u001b[43m        \u001b[49m\u001b[38;5;124;43m\"\u001b[39;49m\u001b[38;5;124;43mnumpy_to_regular\u001b[39;49m\u001b[38;5;124;43m\"\u001b[39;49m\u001b[43m:\u001b[49m\u001b[43m \u001b[49m\u001b[43mnumpy_to_regular\u001b[49m\u001b[43m,\u001b[49m\n\u001b[1;32m   1120\u001b[0m \u001b[43m        \u001b[49m\u001b[38;5;124;43m\"\u001b[39;49m\u001b[38;5;124;43mregular_to_jagged\u001b[39;49m\u001b[38;5;124;43m\"\u001b[39;49m\u001b[43m:\u001b[49m\u001b[43m \u001b[49m\u001b[43mregular_to_jagged\u001b[49m\u001b[43m,\u001b[49m\n\u001b[1;32m   1121\u001b[0m \u001b[43m        \u001b[49m\u001b[38;5;124;43m\"\u001b[39;49m\u001b[38;5;124;43mfunction_name\u001b[39;49m\u001b[38;5;124;43m\"\u001b[39;49m\u001b[43m:\u001b[49m\u001b[43m \u001b[49m\u001b[43mfunction_name\u001b[49m\u001b[43m,\u001b[49m\n\u001b[1;32m   1122\u001b[0m \u001b[43m        \u001b[49m\u001b[38;5;124;43m\"\u001b[39;49m\u001b[38;5;124;43mbroadcast_parameters_rule\u001b[39;49m\u001b[38;5;124;43m\"\u001b[39;49m\u001b[43m:\u001b[49m\u001b[43m \u001b[49m\u001b[43mbroadcast_parameters_rule\u001b[49m\u001b[43m,\u001b[49m\n\u001b[1;32m   1123\u001b[0m \u001b[43m    \u001b[49m\u001b[43m}\u001b[49m\u001b[43m,\u001b[49m\n\u001b[1;32m   1124\u001b[0m \u001b[43m\u001b[49m\u001b[43m)\u001b[49m\n\u001b[1;32m   1125\u001b[0m \u001b[38;5;28;01massert\u001b[39;00m \u001b[38;5;28misinstance\u001b[39m(out, \u001b[38;5;28mtuple\u001b[39m)\n",
      "File \u001b[0;32m~/opt/anaconda3/lib/python3.9/site-packages/awkward/_broadcasting.py:1086\u001b[0m, in \u001b[0;36mapply_step\u001b[0;34m(backend, inputs, action, depth, depth_context, lateral_context, options)\u001b[0m\n\u001b[1;32m   1085\u001b[0m \u001b[38;5;28;01melif\u001b[39;00m result \u001b[38;5;129;01mis\u001b[39;00m \u001b[38;5;28;01mNone\u001b[39;00m:\n\u001b[0;32m-> 1086\u001b[0m     \u001b[38;5;28;01mreturn\u001b[39;00m \u001b[43mcontinuation\u001b[49m\u001b[43m(\u001b[49m\u001b[43m)\u001b[49m\n\u001b[1;32m   1087\u001b[0m \u001b[38;5;28;01melse\u001b[39;00m:\n",
      "File \u001b[0;32m~/opt/anaconda3/lib/python3.9/site-packages/awkward/_broadcasting.py:1055\u001b[0m, in \u001b[0;36mapply_step.<locals>.continuation\u001b[0;34m()\u001b[0m\n\u001b[1;32m   1054\u001b[0m \u001b[38;5;28;01melif\u001b[39;00m \u001b[38;5;28many\u001b[39m(x\u001b[38;5;241m.\u001b[39mis_list \u001b[38;5;129;01mand\u001b[39;00m \u001b[38;5;129;01mnot\u001b[39;00m is_string_like(x) \u001b[38;5;28;01mfor\u001b[39;00m x \u001b[38;5;129;01min\u001b[39;00m contents):\n\u001b[0;32m-> 1055\u001b[0m     \u001b[38;5;28;01mreturn\u001b[39;00m \u001b[43mbroadcast_any_list\u001b[49m\u001b[43m(\u001b[49m\u001b[43m)\u001b[49m\n\u001b[1;32m   1057\u001b[0m \u001b[38;5;66;03m# Any RecordArrays?\u001b[39;00m\n",
      "File \u001b[0;32m~/opt/anaconda3/lib/python3.9/site-packages/awkward/_broadcasting.py:623\u001b[0m, in \u001b[0;36mapply_step.<locals>.broadcast_any_list\u001b[0;34m()\u001b[0m\n\u001b[1;32m    621\u001b[0m         nextparameters\u001b[38;5;241m.\u001b[39mappend(NO_PARAMETERS)\n\u001b[0;32m--> 623\u001b[0m outcontent \u001b[38;5;241m=\u001b[39m \u001b[43mapply_step\u001b[49m\u001b[43m(\u001b[49m\n\u001b[1;32m    624\u001b[0m \u001b[43m    \u001b[49m\u001b[43mbackend\u001b[49m\u001b[43m,\u001b[49m\n\u001b[1;32m    625\u001b[0m \u001b[43m    \u001b[49m\u001b[43mnextinputs\u001b[49m\u001b[43m,\u001b[49m\n\u001b[1;32m    626\u001b[0m \u001b[43m    \u001b[49m\u001b[43maction\u001b[49m\u001b[43m,\u001b[49m\n\u001b[1;32m    627\u001b[0m \u001b[43m    \u001b[49m\u001b[43mdepth\u001b[49m\u001b[43m \u001b[49m\u001b[38;5;241;43m+\u001b[39;49m\u001b[43m \u001b[49m\u001b[38;5;241;43m1\u001b[39;49m\u001b[43m,\u001b[49m\n\u001b[1;32m    628\u001b[0m \u001b[43m    \u001b[49m\u001b[43mcopy\u001b[49m\u001b[38;5;241;43m.\u001b[39;49m\u001b[43mcopy\u001b[49m\u001b[43m(\u001b[49m\u001b[43mdepth_context\u001b[49m\u001b[43m)\u001b[49m\u001b[43m,\u001b[49m\n\u001b[1;32m    629\u001b[0m \u001b[43m    \u001b[49m\u001b[43mlateral_context\u001b[49m\u001b[43m,\u001b[49m\n\u001b[1;32m    630\u001b[0m \u001b[43m    \u001b[49m\u001b[43moptions\u001b[49m\u001b[43m,\u001b[49m\n\u001b[1;32m    631\u001b[0m \u001b[43m\u001b[49m\u001b[43m)\u001b[49m\n\u001b[1;32m    632\u001b[0m \u001b[38;5;28;01massert\u001b[39;00m \u001b[38;5;28misinstance\u001b[39m(outcontent, \u001b[38;5;28mtuple\u001b[39m)\n",
      "File \u001b[0;32m~/opt/anaconda3/lib/python3.9/site-packages/awkward/_broadcasting.py:1086\u001b[0m, in \u001b[0;36mapply_step\u001b[0;34m(backend, inputs, action, depth, depth_context, lateral_context, options)\u001b[0m\n\u001b[1;32m   1085\u001b[0m \u001b[38;5;28;01melif\u001b[39;00m result \u001b[38;5;129;01mis\u001b[39;00m \u001b[38;5;28;01mNone\u001b[39;00m:\n\u001b[0;32m-> 1086\u001b[0m     \u001b[38;5;28;01mreturn\u001b[39;00m \u001b[43mcontinuation\u001b[49m\u001b[43m(\u001b[49m\u001b[43m)\u001b[49m\n\u001b[1;32m   1087\u001b[0m \u001b[38;5;28;01melse\u001b[39;00m:\n",
      "File \u001b[0;32m~/opt/anaconda3/lib/python3.9/site-packages/awkward/_broadcasting.py:1055\u001b[0m, in \u001b[0;36mapply_step.<locals>.continuation\u001b[0;34m()\u001b[0m\n\u001b[1;32m   1054\u001b[0m \u001b[38;5;28;01melif\u001b[39;00m \u001b[38;5;28many\u001b[39m(x\u001b[38;5;241m.\u001b[39mis_list \u001b[38;5;129;01mand\u001b[39;00m \u001b[38;5;129;01mnot\u001b[39;00m is_string_like(x) \u001b[38;5;28;01mfor\u001b[39;00m x \u001b[38;5;129;01min\u001b[39;00m contents):\n\u001b[0;32m-> 1055\u001b[0m     \u001b[38;5;28;01mreturn\u001b[39;00m \u001b[43mbroadcast_any_list\u001b[49m\u001b[43m(\u001b[49m\u001b[43m)\u001b[49m\n\u001b[1;32m   1057\u001b[0m \u001b[38;5;66;03m# Any RecordArrays?\u001b[39;00m\n",
      "File \u001b[0;32m~/opt/anaconda3/lib/python3.9/site-packages/awkward/_broadcasting.py:672\u001b[0m, in \u001b[0;36mapply_step.<locals>.broadcast_any_list\u001b[0;34m()\u001b[0m\n\u001b[1;32m    671\u001b[0m \u001b[38;5;28;01mif\u001b[39;00m \u001b[38;5;28misinstance\u001b[39m(x, listtypes) \u001b[38;5;129;01mand\u001b[39;00m \u001b[38;5;129;01mnot\u001b[39;00m x_is_string:\n\u001b[0;32m--> 672\u001b[0m     next_content \u001b[38;5;241m=\u001b[39m \u001b[43mbroadcast_to_offsets_avoiding_carry\u001b[49m\u001b[43m(\u001b[49m\u001b[43mx\u001b[49m\u001b[43m,\u001b[49m\u001b[43m \u001b[49m\u001b[43moffsets\u001b[49m\u001b[43m)\u001b[49m\n\u001b[1;32m    673\u001b[0m     nextinputs\u001b[38;5;241m.\u001b[39mappend(next_content)\n",
      "File \u001b[0;32m~/opt/anaconda3/lib/python3.9/site-packages/awkward/_broadcasting.py:397\u001b[0m, in \u001b[0;36mbroadcast_to_offsets_avoiding_carry\u001b[0;34m(list_content, offsets)\u001b[0m\n\u001b[1;32m    396\u001b[0m     \u001b[38;5;28;01melse\u001b[39;00m:\n\u001b[0;32m--> 397\u001b[0m         \u001b[38;5;28;01mreturn\u001b[39;00m \u001b[43mlist_content\u001b[49m\u001b[38;5;241;43m.\u001b[39;49m\u001b[43m_broadcast_tooffsets64\u001b[49m\u001b[43m(\u001b[49m\u001b[43moffsets\u001b[49m\u001b[43m)\u001b[49m\u001b[38;5;241m.\u001b[39mcontent\n\u001b[1;32m    399\u001b[0m \u001b[38;5;28;01melse\u001b[39;00m:\n",
      "File \u001b[0;32m~/opt/anaconda3/lib/python3.9/site-packages/awkward/contents/regulararray.py:446\u001b[0m, in \u001b[0;36mRegularArray._broadcast_tooffsets64\u001b[0;34m(self, offsets)\u001b[0m\n\u001b[1;32m    443\u001b[0m \u001b[38;5;28;01mif\u001b[39;00m index_nplike\u001b[38;5;241m.\u001b[39mknown_data \u001b[38;5;129;01mand\u001b[39;00m \u001b[38;5;129;01mnot\u001b[39;00m index_nplike\u001b[38;5;241m.\u001b[39marray_equal(\n\u001b[1;32m    444\u001b[0m     offsets\u001b[38;5;241m.\u001b[39mdata, this_offsets\u001b[38;5;241m.\u001b[39mdata\n\u001b[1;32m    445\u001b[0m ):\n\u001b[0;32m--> 446\u001b[0m     \u001b[38;5;28;01mraise\u001b[39;00m \u001b[38;5;167;01mValueError\u001b[39;00m(\u001b[38;5;124m\"\u001b[39m\u001b[38;5;124mcannot broadcast nested list\u001b[39m\u001b[38;5;124m\"\u001b[39m)\n\u001b[1;32m    448\u001b[0m next_content \u001b[38;5;241m=\u001b[39m \u001b[38;5;28mself\u001b[39m\u001b[38;5;241m.\u001b[39m_content[: offsets[\u001b[38;5;241m-\u001b[39m\u001b[38;5;241m1\u001b[39m]]\n",
      "\u001b[0;31mValueError\u001b[0m: cannot broadcast nested list",
      "\nThe above exception was the direct cause of the following exception:\n",
      "\u001b[0;31mValueError\u001b[0m                                Traceback (most recent call last)",
      "Input \u001b[0;32mIn [173]\u001b[0m, in \u001b[0;36m<cell line: 10>\u001b[0;34m()\u001b[0m\n\u001b[1;32m     16\u001b[0m deltars \u001b[38;5;241m=\u001b[39m pairs[\u001b[38;5;124m'\u001b[39m\u001b[38;5;124mreco\u001b[39m\u001b[38;5;124m'\u001b[39m]\u001b[38;5;241m.\u001b[39mdeltaR(pairs[\u001b[38;5;124m'\u001b[39m\u001b[38;5;124mtruth\u001b[39m\u001b[38;5;124m'\u001b[39m])\n\u001b[1;32m     17\u001b[0m \u001b[38;5;28mprint\u001b[39m(np\u001b[38;5;241m.\u001b[39mshape(pairs[\u001b[38;5;124m'\u001b[39m\u001b[38;5;124mtruth\u001b[39m\u001b[38;5;124m'\u001b[39m][\u001b[38;5;241m1\u001b[39m]))\n\u001b[0;32m---> 18\u001b[0m pairs \u001b[38;5;241m=\u001b[39m pairs[\u001b[43mdeltars\u001b[49m\u001b[43m \u001b[49m\u001b[38;5;241;43m==\u001b[39;49m\u001b[43m \u001b[49m\u001b[43mnp\u001b[49m\u001b[38;5;241;43m.\u001b[39;49m\u001b[43mmin\u001b[49m\u001b[43m(\u001b[49m\u001b[43mdeltars\u001b[49m\u001b[43m,\u001b[49m\u001b[43m \u001b[49m\u001b[43maxis\u001b[49m\u001b[38;5;241;43m=\u001b[39;49m\u001b[38;5;241;43m1\u001b[39;49m\u001b[43m)\u001b[49m]\n\u001b[1;32m     19\u001b[0m deltars \u001b[38;5;241m=\u001b[39m np\u001b[38;5;241m.\u001b[39mmin(deltars, axis\u001b[38;5;241m=\u001b[39m\u001b[38;5;241m1\u001b[39m)\n\u001b[1;32m     20\u001b[0m pairs \u001b[38;5;241m=\u001b[39m pairs[deltars\u001b[38;5;241m<\u001b[39m\u001b[38;5;241m0.4\u001b[39m]\n",
      "File \u001b[0;32m~/opt/anaconda3/lib/python3.9/site-packages/awkward/_operators.py:53\u001b[0m, in \u001b[0;36m_binary_method.<locals>.func\u001b[0;34m(self, other)\u001b[0m\n\u001b[1;32m     51\u001b[0m \u001b[38;5;28;01mif\u001b[39;00m _disables_array_ufunc(other):\n\u001b[1;32m     52\u001b[0m     \u001b[38;5;28;01mreturn\u001b[39;00m \u001b[38;5;28mNotImplemented\u001b[39m\n\u001b[0;32m---> 53\u001b[0m \u001b[38;5;28;01mreturn\u001b[39;00m \u001b[43mufunc\u001b[49m\u001b[43m(\u001b[49m\u001b[38;5;28;43mself\u001b[39;49m\u001b[43m,\u001b[49m\u001b[43m \u001b[49m\u001b[43mother\u001b[49m\u001b[43m)\u001b[49m\n",
      "File \u001b[0;32m~/opt/anaconda3/lib/python3.9/site-packages/awkward/highlevel.py:1511\u001b[0m, in \u001b[0;36mArray.__array_ufunc__\u001b[0;34m(self, ufunc, method, *inputs, **kwargs)\u001b[0m\n\u001b[1;32m   1509\u001b[0m name \u001b[38;5;241m=\u001b[39m \u001b[38;5;124mf\u001b[39m\u001b[38;5;124m\"\u001b[39m\u001b[38;5;132;01m{\u001b[39;00m\u001b[38;5;28mtype\u001b[39m(ufunc)\u001b[38;5;241m.\u001b[39m\u001b[38;5;18m__module__\u001b[39m\u001b[38;5;132;01m}\u001b[39;00m\u001b[38;5;124m.\u001b[39m\u001b[38;5;132;01m{\u001b[39;00mufunc\u001b[38;5;241m.\u001b[39m\u001b[38;5;18m__name__\u001b[39m\u001b[38;5;132;01m}\u001b[39;00m\u001b[38;5;124m.\u001b[39m\u001b[38;5;132;01m{\u001b[39;00mmethod\u001b[38;5;132;01m!s}\u001b[39;00m\u001b[38;5;124m\"\u001b[39m\n\u001b[1;32m   1510\u001b[0m \u001b[38;5;28;01mwith\u001b[39;00m ak\u001b[38;5;241m.\u001b[39m_errors\u001b[38;5;241m.\u001b[39mOperationErrorContext(name, inputs, kwargs):\n\u001b[0;32m-> 1511\u001b[0m     \u001b[38;5;28;01mreturn\u001b[39;00m ak\u001b[38;5;241m.\u001b[39m_connect\u001b[38;5;241m.\u001b[39mnumpy\u001b[38;5;241m.\u001b[39marray_ufunc(ufunc, method, inputs, kwargs)\n",
      "File \u001b[0;32m~/opt/anaconda3/lib/python3.9/site-packages/awkward/_errors.py:85\u001b[0m, in \u001b[0;36mErrorContext.__exit__\u001b[0;34m(self, exception_type, exception_value, traceback)\u001b[0m\n\u001b[1;32m     78\u001b[0m \u001b[38;5;28;01mtry\u001b[39;00m:\n\u001b[1;32m     79\u001b[0m     \u001b[38;5;66;03m# Handle caught exception\u001b[39;00m\n\u001b[1;32m     80\u001b[0m     \u001b[38;5;28;01mif\u001b[39;00m (\n\u001b[1;32m     81\u001b[0m         exception_type \u001b[38;5;129;01mis\u001b[39;00m \u001b[38;5;129;01mnot\u001b[39;00m \u001b[38;5;28;01mNone\u001b[39;00m\n\u001b[1;32m     82\u001b[0m         \u001b[38;5;129;01mand\u001b[39;00m \u001b[38;5;28missubclass\u001b[39m(exception_type, \u001b[38;5;167;01mException\u001b[39;00m)\n\u001b[1;32m     83\u001b[0m         \u001b[38;5;129;01mand\u001b[39;00m \u001b[38;5;28mself\u001b[39m\u001b[38;5;241m.\u001b[39mprimary() \u001b[38;5;129;01mis\u001b[39;00m \u001b[38;5;28mself\u001b[39m\n\u001b[1;32m     84\u001b[0m     ):\n\u001b[0;32m---> 85\u001b[0m         \u001b[38;5;28;43mself\u001b[39;49m\u001b[38;5;241;43m.\u001b[39;49m\u001b[43mhandle_exception\u001b[49m\u001b[43m(\u001b[49m\u001b[43mexception_type\u001b[49m\u001b[43m,\u001b[49m\u001b[43m \u001b[49m\u001b[43mexception_value\u001b[49m\u001b[43m)\u001b[49m\n\u001b[1;32m     86\u001b[0m \u001b[38;5;28;01mfinally\u001b[39;00m:\n\u001b[1;32m     87\u001b[0m     \u001b[38;5;66;03m# Step out of the way so that another ErrorContext can become primary.\u001b[39;00m\n\u001b[1;32m     88\u001b[0m     \u001b[38;5;28;01mif\u001b[39;00m \u001b[38;5;28mself\u001b[39m\u001b[38;5;241m.\u001b[39mprimary() \u001b[38;5;129;01mis\u001b[39;00m \u001b[38;5;28mself\u001b[39m:\n",
      "File \u001b[0;32m~/opt/anaconda3/lib/python3.9/site-packages/awkward/_errors.py:95\u001b[0m, in \u001b[0;36mErrorContext.handle_exception\u001b[0;34m(self, cls, exception)\u001b[0m\n\u001b[1;32m     93\u001b[0m     \u001b[38;5;28mself\u001b[39m\u001b[38;5;241m.\u001b[39mdecorate_exception(\u001b[38;5;28mcls\u001b[39m, exception)\n\u001b[1;32m     94\u001b[0m \u001b[38;5;28;01melse\u001b[39;00m:\n\u001b[0;32m---> 95\u001b[0m     \u001b[38;5;28;01mraise\u001b[39;00m \u001b[38;5;28mself\u001b[39m\u001b[38;5;241m.\u001b[39mdecorate_exception(\u001b[38;5;28mcls\u001b[39m, exception)\n",
      "\u001b[0;31mValueError\u001b[0m: cannot broadcast nested list\n\nThis error occurred while calling\n\n    numpy.equal.__call__(\n        <Array [[[2.98, ..., 1.56], ...], ...] type='32831 * var * 11 * flo...'>\n        <Array [[0.0397, 0.046, ..., 0.595], ...] type='32831 * 11 * ?float32'>\n    )"
     ]
    }
   ],
   "source": [
    "truth_level_numbers = list(dict.fromkeys(awkward.num(partonic_4t_test)))\n",
    "\n",
    "truth_4t_dict = {}\n",
    "reco_4t_dict = {}\n",
    "\n",
    "for truth_number in truth_level_numbers:\n",
    "    truth_4t_dict[f'truth_particles_{truth_number}'] = partonic_4t_test[awkward.num(partonic_4t_test)==truth_number]\n",
    "    reco_4t_dict[f'truth_particles_{truth_number}'] = reco_4t_test[awkward.num(partonic_4t_test)==truth_number]\n",
    "\n",
    "for key in truth_4t_dict.keys():\n",
    "    truth_particles = truth_4t_dict[key]\n",
    "    reco_particles = reco_4t_dict[key]\n",
    "    num = awkward.num(truth_particles)[0]\n",
    "    pairs = awkward.cartesian({'truth':truth_particles,'reco':reco_particles})\n",
    "    pairs = awkward.unflatten(pairs, num, axis=1)\n",
    "    deltars = pairs['reco'].deltaR(pairs['truth'])\n",
    "    print(np.shape(pairs['truth'][1]))\n",
    "    pairs = pairs[deltars == np.min(deltars, axis=1)]\n",
    "    deltars = np.min(deltars, axis=1)\n",
    "    pairs = pairs[deltars<0.4]\n",
    "    print('Next Key')"
   ]
  },
  {
   "cell_type": "code",
   "execution_count": 160,
   "metadata": {},
   "outputs": [
    {
     "name": "stdout",
     "output_type": "stream",
     "text": [
      "dict_keys(['truth_particles_{truth_number}'])\n"
     ]
    }
   ],
   "source": [
    "print(truth_4t_dict.keys())"
   ]
  },
  {
   "cell_type": "code",
   "execution_count": 107,
   "metadata": {},
   "outputs": [],
   "source": [
    "def n_combinations(recos, partons, dictionary, type):\n",
    "    i = 0\n",
    "    while len(recos[awkward.num(recos)>=i])!=0:\n",
    "        recos_i = recos[awkward.num(recos)==i]\n",
    "        partons_i = partons[awkward.num(recos)==i]\n",
    "        if len(recos_i)==0:\n",
    "            i+=1\n",
    "            continue\n",
    "        pairs = awkward.cartesian({'reco':recos_i,'parton':(partons_i)})\n",
    "        deltars = pairs['reco'].deltaR(pairs['parton'])\n",
    "        pairs = pairs[deltars == np.min(deltars, axis=1)]\n",
    "        deltars = np.min(deltars, axis=1)\n",
    "        pairs = pairs[deltars<0.4]\n",
    "        i += 1\n",
    "    return None\n",
    "\n",
    "reco_counts = awkward.num(reco_4t, axis=1)\n",
    "sorted_indices = awkward.argsort(reco_counts, ascending=False)\n",
    "reco_4t = reco_4t[sorted_indices]\n",
    "partonic_4t = partonic_4t[sorted_indices]\n",
    "\n",
    "pairs_by_event = {}\n",
    "\n",
    "while(len(reco_4t[awkward.num(reco_4t)!=0])!=0):\n",
    "    pairs = awkward.cartesian({'reco':reco_4t[:,0],'parton':(partonic_4t)})\n",
    "    print(reco_4t[:,0])\n",
    "    deltars = pairs['reco'].deltaR(pairs['parton'])\n",
    "    print(len(deltars))\n",
    "    pairs = pairs[deltars == np.min(deltars, axis=1)]\n",
    "    deltars = np.min(deltars, axis=1)\n",
    "\n",
    "    pairs = pairs[deltars<0.4]\n",
    "\n",
    "    partonic_4t = partonic_4t[awkward.num(reco_4t)>1]\n",
    "    reco_4t = reco_4t[awkward.num(reco_4t)>1]\n",
    "    reco_4t = reco_4t[:,1:]\n",
    "    \n",
    "\n",
    "      "
   ]
  },
  {
   "cell_type": "code",
   "execution_count": 42,
   "metadata": {},
   "outputs": [
    {
     "name": "stdout",
     "output_type": "stream",
     "text": [
      "[0 1 2 1 9]\n"
     ]
    }
   ],
   "source": [
    "x = np.array(([0,1,2,3],[4,5,1,7],[8,2,10,11], [2,3,4,1], [23,43,12,9]))\n",
    "indices = np.argmin(x,axis=1)\n",
    "print(x[(range(len(x)),indices)])"
   ]
  },
  {
   "cell_type": "code",
   "execution_count": 66,
   "metadata": {},
   "outputs": [
    {
     "name": "stdout",
     "output_type": "stream",
     "text": [
      "[{reco: {rho: 190, phi: 2.01, ...}, parton: {...}}, ..., {reco: {...}, ...}]\n"
     ]
    }
   ],
   "source": [
    "pairs = awkward.cartesian({'reco':reco_4t,'parton':(partonic_4t)}, axis=1)\n",
    "deltars = pairs['reco'].deltaR(pairs['parton'])"
   ]
  },
  {
   "cell_type": "code",
   "execution_count": 67,
   "metadata": {},
   "outputs": [
    {
     "data": {
      "text/html": [
       "<pre>[{reco: {rho: 190, phi: 2.01, ...}, parton: {rho: ..., ...}},\n",
       " {reco: {rho: 190, phi: 2.01, ...}, parton: {rho: ..., ...}},\n",
       " {reco: {rho: 190, phi: 2.01, ...}, parton: {rho: ..., ...}},\n",
       " {reco: {rho: 190, phi: 2.01, ...}, parton: {rho: 129, ...}},\n",
       " {reco: {rho: 190, phi: 2.01, ...}, parton: {rho: 158, ...}},\n",
       " {reco: {rho: 190, phi: 2.01, ...}, parton: {rho: ..., ...}},\n",
       " {reco: {rho: 190, phi: 2.01, ...}, parton: {rho: 107, ...}},\n",
       " {reco: {rho: 190, phi: 2.01, ...}, parton: {rho: 161, ...}},\n",
       " {reco: {rho: 190, phi: 2.01, ...}, parton: {rho: 185, ...}},\n",
       " {reco: {rho: 190, phi: 2.01, ...}, parton: {rho: 60, ...}},\n",
       " ...,\n",
       " {reco: {rho: 345, phi: -0.819, ...}, parton: {...}},\n",
       " {reco: {rho: 345, phi: -0.819, ...}, parton: {...}},\n",
       " {reco: {rho: 345, phi: -0.819, ...}, parton: {...}},\n",
       " {reco: {rho: 345, phi: -0.819, ...}, parton: {...}},\n",
       " {reco: {rho: 345, phi: -0.819, ...}, parton: {...}},\n",
       " {reco: {rho: 345, phi: -0.819, ...}, parton: {...}},\n",
       " {reco: {rho: 345, phi: -0.819, ...}, parton: {...}},\n",
       " {reco: {rho: 345, phi: -0.819, ...}, parton: {...}},\n",
       " {reco: {rho: 345, phi: -0.819, ...}, parton: {...}}]\n",
       "-------------------------------------------------------------\n",
       "type: 121 * {\n",
       "    reco: Momentum4D[\n",
       "        rho: float32,\n",
       "        phi: float32,\n",
       "        eta: float32,\n",
       "        tau: float32\n",
       "    ],\n",
       "    parton: Momentum4D[\n",
       "        rho: float32,\n",
       "        phi: float32,\n",
       "        eta: float32,\n",
       "        tau: float32\n",
       "    ]\n",
       "}</pre>"
      ],
      "text/plain": [
       "<Array [{reco: {...}, parton: {...}}, ...] type='121 * {reco: Momentum4D[rh...'>"
      ]
     },
     "execution_count": 67,
     "metadata": {},
     "output_type": "execute_result"
    }
   ],
   "source": [
    "pairs[0]"
   ]
  },
  {
   "cell_type": "code",
   "execution_count": 98,
   "metadata": {},
   "outputs": [
    {
     "name": "stdout",
     "output_type": "stream",
     "text": [
      "0 events comlpeted\n",
      "1000 events comlpeted\n",
      "2000 events comlpeted\n",
      "3000 events comlpeted\n",
      "4000 events comlpeted\n",
      "5000 events comlpeted\n",
      "6000 events comlpeted\n",
      "7000 events comlpeted\n",
      "8000 events comlpeted\n",
      "9000 events comlpeted\n",
      "10000 events comlpeted\n",
      "11000 events comlpeted\n",
      "12000 events comlpeted\n",
      "13000 events comlpeted\n",
      "14000 events comlpeted\n",
      "15000 events comlpeted\n"
     ]
    },
    {
     "ename": "KeyboardInterrupt",
     "evalue": "",
     "output_type": "error",
     "traceback": [
      "\u001b[0;31m---------------------------------------------------------------------------\u001b[0m",
      "\u001b[0;31mKeyError\u001b[0m                                  Traceback (most recent call last)",
      "File \u001b[0;32m~/opt/anaconda3/lib/python3.9/site-packages/awkward/_backends/dispatch.py:75\u001b[0m, in \u001b[0;36mbackend_of_obj\u001b[0;34m(obj, default)\u001b[0m\n\u001b[1;32m     74\u001b[0m \u001b[38;5;28;01mtry\u001b[39;00m:\n\u001b[0;32m---> 75\u001b[0m     lookup \u001b[38;5;241m=\u001b[39m \u001b[43m_type_to_backend_lookup\u001b[49m\u001b[43m[\u001b[49m\u001b[38;5;28;43mcls\u001b[39;49m\u001b[43m]\u001b[49m\n\u001b[1;32m     76\u001b[0m     \u001b[38;5;28;01mreturn\u001b[39;00m lookup(obj)\n",
      "\u001b[0;31mKeyError\u001b[0m: <class 'int'>",
      "\nDuring handling of the above exception, another exception occurred:\n",
      "\u001b[0;31mKeyboardInterrupt\u001b[0m                         Traceback (most recent call last)",
      "Input \u001b[0;32mIn [98]\u001b[0m, in \u001b[0;36m<cell line: 4>\u001b[0;34m()\u001b[0m\n\u001b[1;32m      5\u001b[0m deltars_3d \u001b[38;5;241m=\u001b[39m awkward\u001b[38;5;241m.\u001b[39munflatten(deltars[i], reco_lengths[i], axis\u001b[38;5;241m=\u001b[39m\u001b[38;5;241m0\u001b[39m)\n\u001b[1;32m      6\u001b[0m indices \u001b[38;5;241m=\u001b[39m awkward\u001b[38;5;241m.\u001b[39margmin(deltars_3d, axis\u001b[38;5;241m=\u001b[39m\u001b[38;5;241m1\u001b[39m)\n\u001b[0;32m----> 7\u001b[0m indices \u001b[38;5;241m=\u001b[39m indices \u001b[38;5;241m+\u001b[39m (np\u001b[38;5;241m.\u001b[39marange(\u001b[38;5;28mlen\u001b[39m(indices)) \u001b[38;5;241m*\u001b[39m \u001b[43mawkward\u001b[49m\u001b[38;5;241;43m.\u001b[39;49m\u001b[43mnum\u001b[49m\u001b[43m(\u001b[49m\u001b[43mreco_4t\u001b[49m\u001b[43m)\u001b[49m\u001b[43m[\u001b[49m\u001b[43mi\u001b[49m\u001b[43m]\u001b[49m)\n\u001b[1;32m      8\u001b[0m indices \u001b[38;5;241m=\u001b[39m indices[np\u001b[38;5;241m.\u001b[39mmin(deltars_3d, axis\u001b[38;5;241m=\u001b[39m\u001b[38;5;241m1\u001b[39m) \u001b[38;5;241m<\u001b[39m \u001b[38;5;241m0.4\u001b[39m]\n\u001b[1;32m      9\u001b[0m valid_pairs[\u001b[38;5;124mf\u001b[39m\u001b[38;5;124m'\u001b[39m\u001b[38;5;124mevent_\u001b[39m\u001b[38;5;132;01m{\u001b[39;00mi\u001b[38;5;132;01m}\u001b[39;00m\u001b[38;5;124m'\u001b[39m] \u001b[38;5;241m=\u001b[39m pairs[i][indices]\n",
      "File \u001b[0;32m~/opt/anaconda3/lib/python3.9/site-packages/awkward/highlevel.py:1064\u001b[0m, in \u001b[0;36mArray.__getitem__\u001b[0;34m(self, where)\u001b[0m\n\u001b[1;32m    635\u001b[0m \u001b[38;5;28;01mdef\u001b[39;00m \u001b[38;5;21m__getitem__\u001b[39m(\u001b[38;5;28mself\u001b[39m, where):\n\u001b[1;32m    636\u001b[0m \u001b[38;5;250m    \u001b[39m\u001b[38;5;124;03m\"\"\"\u001b[39;00m\n\u001b[1;32m    637\u001b[0m \u001b[38;5;124;03m    Args:\u001b[39;00m\n\u001b[1;32m    638\u001b[0m \u001b[38;5;124;03m        where (many types supported; see below): Index of positions to\u001b[39;00m\n\u001b[0;32m   (...)\u001b[0m\n\u001b[1;32m   1062\u001b[0m \u001b[38;5;124;03m    have the same dimension as the array being indexed.\u001b[39;00m\n\u001b[1;32m   1063\u001b[0m \u001b[38;5;124;03m    \"\"\"\u001b[39;00m\n\u001b[0;32m-> 1064\u001b[0m     \u001b[38;5;28;01mwith\u001b[39;00m \u001b[43mak\u001b[49m\u001b[38;5;241;43m.\u001b[39;49m\u001b[43m_errors\u001b[49m\u001b[38;5;241;43m.\u001b[39;49m\u001b[43mSlicingErrorContext\u001b[49m\u001b[43m(\u001b[49m\u001b[38;5;28;43mself\u001b[39;49m\u001b[43m,\u001b[49m\u001b[43m \u001b[49m\u001b[43mwhere\u001b[49m\u001b[43m)\u001b[49m:\n\u001b[1;32m   1065\u001b[0m         \u001b[38;5;28;01mreturn\u001b[39;00m wrap_layout(\n\u001b[1;32m   1066\u001b[0m             prepare_layout(\u001b[38;5;28mself\u001b[39m\u001b[38;5;241m.\u001b[39m_layout[where]),\n\u001b[1;32m   1067\u001b[0m             \u001b[38;5;28mself\u001b[39m\u001b[38;5;241m.\u001b[39m_behavior,\n\u001b[1;32m   1068\u001b[0m             allow_other\u001b[38;5;241m=\u001b[39m\u001b[38;5;28;01mTrue\u001b[39;00m,\n\u001b[1;32m   1069\u001b[0m             attrs\u001b[38;5;241m=\u001b[39m\u001b[38;5;28mself\u001b[39m\u001b[38;5;241m.\u001b[39m_attrs,\n\u001b[1;32m   1070\u001b[0m         )\n",
      "File \u001b[0;32m~/opt/anaconda3/lib/python3.9/site-packages/awkward/_errors.py:317\u001b[0m, in \u001b[0;36mSlicingErrorContext.__init__\u001b[0;34m(self, array, where)\u001b[0m\n\u001b[1;32m    314\u001b[0m \u001b[38;5;28;01mfrom\u001b[39;00m \u001b[38;5;21;01mawkward\u001b[39;00m\u001b[38;5;21;01m.\u001b[39;00m\u001b[38;5;21;01m_backends\u001b[39;00m\u001b[38;5;21;01m.\u001b[39;00m\u001b[38;5;21;01mnumpy\u001b[39;00m \u001b[38;5;28;01mimport\u001b[39;00m NumpyBackend\n\u001b[1;32m    316\u001b[0m numpy_backend \u001b[38;5;241m=\u001b[39m NumpyBackend\u001b[38;5;241m.\u001b[39minstance()\n\u001b[0;32m--> 317\u001b[0m \u001b[38;5;28;01mif\u001b[39;00m \u001b[38;5;28mself\u001b[39m\u001b[38;5;241m.\u001b[39mprimary() \u001b[38;5;129;01mis\u001b[39;00m \u001b[38;5;129;01mnot\u001b[39;00m \u001b[38;5;28;01mNone\u001b[39;00m \u001b[38;5;129;01mor\u001b[39;00m \u001b[38;5;28;43mall\u001b[39;49m\u001b[43m(\u001b[49m\n\u001b[1;32m    318\u001b[0m \u001b[43m    \u001b[49m\u001b[43mbackend_of_obj\u001b[49m\u001b[43m(\u001b[49m\u001b[43mx\u001b[49m\u001b[43m,\u001b[49m\u001b[43m \u001b[49m\u001b[43mdefault\u001b[49m\u001b[38;5;241;43m=\u001b[39;49m\u001b[43mnumpy_backend\u001b[49m\u001b[43m)\u001b[49m\u001b[38;5;241;43m.\u001b[39;49m\u001b[43mnplike\u001b[49m\u001b[38;5;241;43m.\u001b[39;49m\u001b[43mis_eager\u001b[49m\n\u001b[1;32m    319\u001b[0m \u001b[43m    \u001b[49m\u001b[38;5;28;43;01mfor\u001b[39;49;00m\u001b[43m \u001b[49m\u001b[43mx\u001b[49m\u001b[43m \u001b[49m\u001b[38;5;129;43;01min\u001b[39;49;00m\u001b[43m \u001b[49m\u001b[43m(\u001b[49m\u001b[43marray\u001b[49m\u001b[43m,\u001b[49m\u001b[43m \u001b[49m\u001b[43mwhere\u001b[49m\u001b[43m)\u001b[49m\n\u001b[1;32m    320\u001b[0m \u001b[43m\u001b[49m\u001b[43m)\u001b[49m:\n\u001b[1;32m    321\u001b[0m     \u001b[38;5;66;03m# if primary is not None: we won't be setting an ErrorContext\u001b[39;00m\n\u001b[1;32m    322\u001b[0m     \u001b[38;5;66;03m# if all nplikes are eager: no accumulation of large arrays\u001b[39;00m\n\u001b[1;32m    323\u001b[0m     \u001b[38;5;66;03m# --> in either case, delay string generation\u001b[39;00m\n\u001b[1;32m    324\u001b[0m     formatted_array \u001b[38;5;241m=\u001b[39m PartialFunction(\n\u001b[1;32m    325\u001b[0m         WeakMethodProxy(\u001b[38;5;28mself\u001b[39m\u001b[38;5;241m.\u001b[39mformat_argument), \u001b[38;5;28mself\u001b[39m\u001b[38;5;241m.\u001b[39m_width, array\n\u001b[1;32m    326\u001b[0m     )\n\u001b[1;32m    327\u001b[0m     formatted_slice \u001b[38;5;241m=\u001b[39m PartialFunction(\u001b[38;5;28mself\u001b[39m\u001b[38;5;241m.\u001b[39mformat_slice, where)\n",
      "File \u001b[0;32m~/opt/anaconda3/lib/python3.9/site-packages/awkward/_errors.py:318\u001b[0m, in \u001b[0;36m<genexpr>\u001b[0;34m(.0)\u001b[0m\n\u001b[1;32m    314\u001b[0m \u001b[38;5;28;01mfrom\u001b[39;00m \u001b[38;5;21;01mawkward\u001b[39;00m\u001b[38;5;21;01m.\u001b[39;00m\u001b[38;5;21;01m_backends\u001b[39;00m\u001b[38;5;21;01m.\u001b[39;00m\u001b[38;5;21;01mnumpy\u001b[39;00m \u001b[38;5;28;01mimport\u001b[39;00m NumpyBackend\n\u001b[1;32m    316\u001b[0m numpy_backend \u001b[38;5;241m=\u001b[39m NumpyBackend\u001b[38;5;241m.\u001b[39minstance()\n\u001b[1;32m    317\u001b[0m \u001b[38;5;28;01mif\u001b[39;00m \u001b[38;5;28mself\u001b[39m\u001b[38;5;241m.\u001b[39mprimary() \u001b[38;5;129;01mis\u001b[39;00m \u001b[38;5;129;01mnot\u001b[39;00m \u001b[38;5;28;01mNone\u001b[39;00m \u001b[38;5;129;01mor\u001b[39;00m \u001b[38;5;28mall\u001b[39m(\n\u001b[0;32m--> 318\u001b[0m     \u001b[43mbackend_of_obj\u001b[49m\u001b[43m(\u001b[49m\u001b[43mx\u001b[49m\u001b[43m,\u001b[49m\u001b[43m \u001b[49m\u001b[43mdefault\u001b[49m\u001b[38;5;241;43m=\u001b[39;49m\u001b[43mnumpy_backend\u001b[49m\u001b[43m)\u001b[49m\u001b[38;5;241m.\u001b[39mnplike\u001b[38;5;241m.\u001b[39mis_eager\n\u001b[1;32m    319\u001b[0m     \u001b[38;5;28;01mfor\u001b[39;00m x \u001b[38;5;129;01min\u001b[39;00m (array, where)\n\u001b[1;32m    320\u001b[0m ):\n\u001b[1;32m    321\u001b[0m     \u001b[38;5;66;03m# if primary is not None: we won't be setting an ErrorContext\u001b[39;00m\n\u001b[1;32m    322\u001b[0m     \u001b[38;5;66;03m# if all nplikes are eager: no accumulation of large arrays\u001b[39;00m\n\u001b[1;32m    323\u001b[0m     \u001b[38;5;66;03m# --> in either case, delay string generation\u001b[39;00m\n\u001b[1;32m    324\u001b[0m     formatted_array \u001b[38;5;241m=\u001b[39m PartialFunction(\n\u001b[1;32m    325\u001b[0m         WeakMethodProxy(\u001b[38;5;28mself\u001b[39m\u001b[38;5;241m.\u001b[39mformat_argument), \u001b[38;5;28mself\u001b[39m\u001b[38;5;241m.\u001b[39m_width, array\n\u001b[1;32m    326\u001b[0m     )\n\u001b[1;32m    327\u001b[0m     formatted_slice \u001b[38;5;241m=\u001b[39m PartialFunction(\u001b[38;5;28mself\u001b[39m\u001b[38;5;241m.\u001b[39mformat_slice, where)\n",
      "File \u001b[0;32m~/opt/anaconda3/lib/python3.9/site-packages/awkward/_backends/dispatch.py:79\u001b[0m, in \u001b[0;36mbackend_of_obj\u001b[0;34m(obj, default)\u001b[0m\n\u001b[1;32m     77\u001b[0m \u001b[38;5;28;01mexcept\u001b[39;00m \u001b[38;5;167;01mKeyError\u001b[39;00m:\n\u001b[1;32m     78\u001b[0m     \u001b[38;5;28;01mfor\u001b[39;00m factory \u001b[38;5;129;01min\u001b[39;00m _backend_lookup_factories:\n\u001b[0;32m---> 79\u001b[0m         maybe_lookup \u001b[38;5;241m=\u001b[39m \u001b[43mfactory\u001b[49m\u001b[43m(\u001b[49m\u001b[38;5;28;43mcls\u001b[39;49m\u001b[43m)\u001b[49m\n\u001b[1;32m     80\u001b[0m         \u001b[38;5;28;01mif\u001b[39;00m maybe_lookup \u001b[38;5;129;01mis\u001b[39;00m \u001b[38;5;129;01mnot\u001b[39;00m \u001b[38;5;28;01mNone\u001b[39;00m:\n\u001b[1;32m     81\u001b[0m             \u001b[38;5;28;01mbreak\u001b[39;00m\n",
      "File \u001b[0;32m~/opt/anaconda3/lib/python3.9/site-packages/awkward/_backends/dispatch.py:38\u001b[0m, in \u001b[0;36mregister_backend.<locals>.wrapper.<locals>.lookup_factory\u001b[0;34m(cls)\u001b[0m\n\u001b[1;32m     37\u001b[0m \u001b[38;5;28;01mdef\u001b[39;00m \u001b[38;5;21mlookup_factory\u001b[39m(\u001b[38;5;28mcls\u001b[39m):\n\u001b[0;32m---> 38\u001b[0m     \u001b[38;5;28;01mif\u001b[39;00m \u001b[43mprimary_nplike_cls\u001b[49m\u001b[38;5;241;43m.\u001b[39;49m\u001b[43mis_own_array_type\u001b[49m\u001b[43m(\u001b[49m\u001b[38;5;28;43mcls\u001b[39;49m\u001b[43m)\u001b[49m:\n\u001b[1;32m     39\u001b[0m         \u001b[38;5;28;01mreturn\u001b[39;00m lookup\n",
      "File \u001b[0;32m~/opt/anaconda3/lib/python3.9/site-packages/awkward/_nplikes/typetracer.py:1693\u001b[0m, in \u001b[0;36mTypeTracer.is_own_array_type\u001b[0;34m(cls, type_)\u001b[0m\n\u001b[1;32m   1691\u001b[0m \u001b[38;5;129m@classmethod\u001b[39m\n\u001b[1;32m   1692\u001b[0m \u001b[38;5;28;01mdef\u001b[39;00m \u001b[38;5;21mis_own_array_type\u001b[39m(\u001b[38;5;28mcls\u001b[39m, type_: \u001b[38;5;28mtype\u001b[39m) \u001b[38;5;241m-\u001b[39m\u001b[38;5;241m>\u001b[39m \u001b[38;5;28mbool\u001b[39m:\n\u001b[0;32m-> 1693\u001b[0m     \u001b[38;5;28;01mreturn\u001b[39;00m \u001b[38;5;28;43missubclass\u001b[39;49m\u001b[43m(\u001b[49m\u001b[43mtype_\u001b[49m\u001b[43m,\u001b[49m\u001b[43m \u001b[49m\u001b[43mTypeTracerArray\u001b[49m\u001b[43m)\u001b[49m\n",
      "File \u001b[0;32m~/opt/anaconda3/lib/python3.9/site-packages/typing_extensions.py:624\u001b[0m, in \u001b[0;36m_ProtocolMeta.__subclasscheck__\u001b[0;34m(cls, other)\u001b[0m\n\u001b[1;32m    619\u001b[0m         non_method_attrs \u001b[38;5;241m=\u001b[39m \u001b[38;5;28msorted\u001b[39m(\u001b[38;5;28mcls\u001b[39m\u001b[38;5;241m.\u001b[39m__non_callable_proto_members__)\n\u001b[1;32m    620\u001b[0m         \u001b[38;5;28;01mraise\u001b[39;00m \u001b[38;5;167;01mTypeError\u001b[39;00m(\n\u001b[1;32m    621\u001b[0m             \u001b[38;5;124m\"\u001b[39m\u001b[38;5;124mProtocols with non-method members don\u001b[39m\u001b[38;5;124m'\u001b[39m\u001b[38;5;124mt support issubclass().\u001b[39m\u001b[38;5;124m\"\u001b[39m\n\u001b[1;32m    622\u001b[0m             \u001b[38;5;124mf\u001b[39m\u001b[38;5;124m\"\u001b[39m\u001b[38;5;124m Non-method members: \u001b[39m\u001b[38;5;132;01m{\u001b[39;00m\u001b[38;5;28mstr\u001b[39m(non_method_attrs)[\u001b[38;5;241m1\u001b[39m:\u001b[38;5;241m-\u001b[39m\u001b[38;5;241m1\u001b[39m]\u001b[38;5;132;01m}\u001b[39;00m\u001b[38;5;124m.\u001b[39m\u001b[38;5;124m\"\u001b[39m\n\u001b[1;32m    623\u001b[0m         )\n\u001b[0;32m--> 624\u001b[0m \u001b[38;5;28;01mreturn\u001b[39;00m \u001b[43mabc\u001b[49m\u001b[38;5;241;43m.\u001b[39;49m\u001b[43mABCMeta\u001b[49m\u001b[38;5;241;43m.\u001b[39;49m\u001b[38;5;21;43m__subclasscheck__\u001b[39;49m\u001b[43m(\u001b[49m\u001b[38;5;28;43mcls\u001b[39;49m\u001b[43m,\u001b[49m\u001b[43m \u001b[49m\u001b[43mother\u001b[49m\u001b[43m)\u001b[49m\n",
      "File \u001b[0;32m~/opt/anaconda3/lib/python3.9/abc.py:121\u001b[0m, in \u001b[0;36mABCMeta.__subclasscheck__\u001b[0;34m(cls, subclass)\u001b[0m\n\u001b[1;32m    118\u001b[0m \u001b[38;5;250m    \u001b[39m\u001b[38;5;124;03m\"\"\"Override for isinstance(instance, cls).\"\"\"\u001b[39;00m\n\u001b[1;32m    119\u001b[0m     \u001b[38;5;28;01mreturn\u001b[39;00m _abc_instancecheck(\u001b[38;5;28mcls\u001b[39m, instance)\n\u001b[0;32m--> 121\u001b[0m \u001b[38;5;28;01mdef\u001b[39;00m \u001b[38;5;21m__subclasscheck__\u001b[39m(\u001b[38;5;28mcls\u001b[39m, subclass):\n\u001b[1;32m    122\u001b[0m \u001b[38;5;250m    \u001b[39m\u001b[38;5;124;03m\"\"\"Override for issubclass(subclass, cls).\"\"\"\u001b[39;00m\n\u001b[1;32m    123\u001b[0m     \u001b[38;5;28;01mreturn\u001b[39;00m _abc_subclasscheck(\u001b[38;5;28mcls\u001b[39m, subclass)\n",
      "\u001b[0;31mKeyboardInterrupt\u001b[0m: "
     ]
    }
   ],
   "source": [
    "valid_pairs = {}\n",
    "num_events = len(deltars)\n",
    "reco_lengths = awkward.num(reco_4t)\n",
    "for i in range(len(deltars)):\n",
    "    deltars_3d = awkward.unflatten(deltars[i], reco_lengths[i], axis=0)\n",
    "    indices = awkward.argmin(deltars_3d, axis=1)\n",
    "    indices = indices + (np.arange(len(indices)) * reco_lengths[i])\n",
    "    indices = indices[np.min(deltars_3d, axis=1) < 0.4]\n",
    "    valid_pairs[f'event_{i}'] = pairs[i][indices]\n",
    "    if i%1000==0: print(f'{i} events comlpeted')"
   ]
  },
  {
   "cell_type": "code",
   "execution_count": 100,
   "metadata": {},
   "outputs": [
    {
     "ename": "ValueError",
     "evalue": "structure imposed by 'counts' does not fit in the array or partition at axis=1\n\nThis error occurred while calling\n\n    ak.unflatten(\n        <Array [[2.98, 2.72, ..., 3.19, 2.84], ...] type='300000 * var * fl...'>\n        <Array [11, 9, 9, 10, 8, 9, ..., 7, 8, 9, 8, 9] type='300000 * int64'>\n        axis = 1\n    )",
     "output_type": "error",
     "traceback": [
      "\u001b[0;31m---------------------------------------------------------------------------\u001b[0m",
      "\u001b[0;31mValueError\u001b[0m                                Traceback (most recent call last)",
      "File \u001b[0;32m~/opt/anaconda3/lib/python3.9/site-packages/awkward/_dispatch.py:64\u001b[0m, in \u001b[0;36mnamed_high_level_function.<locals>.dispatch\u001b[0;34m(*args, **kwargs)\u001b[0m\n\u001b[1;32m     63\u001b[0m \u001b[38;5;28;01mtry\u001b[39;00m:\n\u001b[0;32m---> 64\u001b[0m     \u001b[38;5;28;43mnext\u001b[39;49m\u001b[43m(\u001b[49m\u001b[43mgen_or_result\u001b[49m\u001b[43m)\u001b[49m\n\u001b[1;32m     65\u001b[0m \u001b[38;5;28;01mexcept\u001b[39;00m \u001b[38;5;167;01mStopIteration\u001b[39;00m \u001b[38;5;28;01mas\u001b[39;00m err:\n",
      "File \u001b[0;32m~/opt/anaconda3/lib/python3.9/site-packages/awkward/operations/ak_unflatten.py:90\u001b[0m, in \u001b[0;36munflatten\u001b[0;34m(array, counts, axis, highlevel, behavior, attrs)\u001b[0m\n\u001b[1;32m     89\u001b[0m \u001b[38;5;66;03m# Implementation\u001b[39;00m\n\u001b[0;32m---> 90\u001b[0m \u001b[38;5;28;01mreturn\u001b[39;00m \u001b[43m_impl\u001b[49m\u001b[43m(\u001b[49m\u001b[43marray\u001b[49m\u001b[43m,\u001b[49m\u001b[43m \u001b[49m\u001b[43mcounts\u001b[49m\u001b[43m,\u001b[49m\u001b[43m \u001b[49m\u001b[43maxis\u001b[49m\u001b[43m,\u001b[49m\u001b[43m \u001b[49m\u001b[43mhighlevel\u001b[49m\u001b[43m,\u001b[49m\u001b[43m \u001b[49m\u001b[43mbehavior\u001b[49m\u001b[43m,\u001b[49m\u001b[43m \u001b[49m\u001b[43mattrs\u001b[49m\u001b[43m)\u001b[49m\n",
      "File \u001b[0;32m~/opt/anaconda3/lib/python3.9/site-packages/awkward/operations/ak_unflatten.py:283\u001b[0m, in \u001b[0;36m_impl\u001b[0;34m(array, counts, axis, highlevel, behavior, attrs)\u001b[0m\n\u001b[1;32m    281\u001b[0m             \u001b[38;5;28;01mreturn\u001b[39;00m recursively_apply_to_content(apply, layout, depth, \u001b[38;5;241m*\u001b[39m\u001b[38;5;241m*\u001b[39mkwargs)\n\u001b[0;32m--> 283\u001b[0m     out \u001b[38;5;241m=\u001b[39m \u001b[43mak\u001b[49m\u001b[38;5;241;43m.\u001b[39;49m\u001b[43m_do\u001b[49m\u001b[38;5;241;43m.\u001b[39;49m\u001b[43mrecursively_apply\u001b[49m\u001b[43m(\u001b[49m\u001b[43mlayout\u001b[49m\u001b[43m,\u001b[49m\u001b[43m \u001b[49m\u001b[43mapply\u001b[49m\u001b[43m)\u001b[49m\n\u001b[1;32m    285\u001b[0m \u001b[38;5;28;01mif\u001b[39;00m (\n\u001b[1;32m    286\u001b[0m     current_offsets \u001b[38;5;129;01mis\u001b[39;00m \u001b[38;5;129;01mnot\u001b[39;00m \u001b[38;5;28;01mNone\u001b[39;00m\n\u001b[1;32m    287\u001b[0m     \u001b[38;5;129;01mand\u001b[39;00m current_offsets\u001b[38;5;241m.\u001b[39msize \u001b[38;5;129;01mis\u001b[39;00m \u001b[38;5;129;01mnot\u001b[39;00m unknown_length\n\u001b[1;32m    288\u001b[0m     \u001b[38;5;129;01mand\u001b[39;00m \u001b[38;5;129;01mnot\u001b[39;00m (current_offsets\u001b[38;5;241m.\u001b[39msize \u001b[38;5;241m==\u001b[39m \u001b[38;5;241m1\u001b[39m \u001b[38;5;129;01mand\u001b[39;00m current_offsets[\u001b[38;5;241m0\u001b[39m] \u001b[38;5;241m==\u001b[39m \u001b[38;5;241m0\u001b[39m)\n\u001b[1;32m    289\u001b[0m ):\n",
      "File \u001b[0;32m~/opt/anaconda3/lib/python3.9/site-packages/awkward/_do.py:37\u001b[0m, in \u001b[0;36mrecursively_apply\u001b[0;34m(layout, action, behavior, depth_context, lateral_context, allow_records, keep_parameters, numpy_to_regular, return_simplified, return_array, function_name, regular_to_jagged)\u001b[0m\n\u001b[1;32m     36\u001b[0m \u001b[38;5;28;01mif\u001b[39;00m \u001b[38;5;28misinstance\u001b[39m(layout, Content):\n\u001b[0;32m---> 37\u001b[0m     \u001b[38;5;28;01mreturn\u001b[39;00m \u001b[43mlayout\u001b[49m\u001b[38;5;241;43m.\u001b[39;49m\u001b[43m_recursively_apply\u001b[49m\u001b[43m(\u001b[49m\n\u001b[1;32m     38\u001b[0m \u001b[43m        \u001b[49m\u001b[43maction\u001b[49m\u001b[43m,\u001b[49m\n\u001b[1;32m     39\u001b[0m \u001b[43m        \u001b[49m\u001b[38;5;241;43m1\u001b[39;49m\u001b[43m,\u001b[49m\n\u001b[1;32m     40\u001b[0m \u001b[43m        \u001b[49m\u001b[43mcopy\u001b[49m\u001b[38;5;241;43m.\u001b[39;49m\u001b[43mcopy\u001b[49m\u001b[43m(\u001b[49m\u001b[43mdepth_context\u001b[49m\u001b[43m)\u001b[49m\u001b[43m,\u001b[49m\n\u001b[1;32m     41\u001b[0m \u001b[43m        \u001b[49m\u001b[43mlateral_context\u001b[49m\u001b[43m,\u001b[49m\n\u001b[1;32m     42\u001b[0m \u001b[43m        \u001b[49m\u001b[43m{\u001b[49m\n\u001b[1;32m     43\u001b[0m \u001b[43m            \u001b[49m\u001b[38;5;124;43m\"\u001b[39;49m\u001b[38;5;124;43mallow_records\u001b[39;49m\u001b[38;5;124;43m\"\u001b[39;49m\u001b[43m:\u001b[49m\u001b[43m \u001b[49m\u001b[43mallow_records\u001b[49m\u001b[43m,\u001b[49m\n\u001b[1;32m     44\u001b[0m \u001b[43m            \u001b[49m\u001b[38;5;124;43m\"\u001b[39;49m\u001b[38;5;124;43mkeep_parameters\u001b[39;49m\u001b[38;5;124;43m\"\u001b[39;49m\u001b[43m:\u001b[49m\u001b[43m \u001b[49m\u001b[43mkeep_parameters\u001b[49m\u001b[43m,\u001b[49m\n\u001b[1;32m     45\u001b[0m \u001b[43m            \u001b[49m\u001b[38;5;124;43m\"\u001b[39;49m\u001b[38;5;124;43mnumpy_to_regular\u001b[39;49m\u001b[38;5;124;43m\"\u001b[39;49m\u001b[43m:\u001b[49m\u001b[43m \u001b[49m\u001b[43mnumpy_to_regular\u001b[49m\u001b[43m,\u001b[49m\n\u001b[1;32m     46\u001b[0m \u001b[43m            \u001b[49m\u001b[38;5;124;43m\"\u001b[39;49m\u001b[38;5;124;43mregular_to_jagged\u001b[39;49m\u001b[38;5;124;43m\"\u001b[39;49m\u001b[43m:\u001b[49m\u001b[43m \u001b[49m\u001b[43mregular_to_jagged\u001b[49m\u001b[43m,\u001b[49m\n\u001b[1;32m     47\u001b[0m \u001b[43m            \u001b[49m\u001b[38;5;124;43m\"\u001b[39;49m\u001b[38;5;124;43mreturn_simplified\u001b[39;49m\u001b[38;5;124;43m\"\u001b[39;49m\u001b[43m:\u001b[49m\u001b[43m \u001b[49m\u001b[43mreturn_simplified\u001b[49m\u001b[43m,\u001b[49m\n\u001b[1;32m     48\u001b[0m \u001b[43m            \u001b[49m\u001b[38;5;124;43m\"\u001b[39;49m\u001b[38;5;124;43mreturn_array\u001b[39;49m\u001b[38;5;124;43m\"\u001b[39;49m\u001b[43m:\u001b[49m\u001b[43m \u001b[49m\u001b[43mreturn_array\u001b[49m\u001b[43m,\u001b[49m\n\u001b[1;32m     49\u001b[0m \u001b[43m            \u001b[49m\u001b[38;5;124;43m\"\u001b[39;49m\u001b[38;5;124;43mfunction_name\u001b[39;49m\u001b[38;5;124;43m\"\u001b[39;49m\u001b[43m:\u001b[49m\u001b[43m \u001b[49m\u001b[43mfunction_name\u001b[49m\u001b[43m,\u001b[49m\n\u001b[1;32m     50\u001b[0m \u001b[43m        \u001b[49m\u001b[43m}\u001b[49m\u001b[43m,\u001b[49m\n\u001b[1;32m     51\u001b[0m \u001b[43m    \u001b[49m\u001b[43m)\u001b[49m\n\u001b[1;32m     53\u001b[0m \u001b[38;5;28;01melif\u001b[39;00m \u001b[38;5;28misinstance\u001b[39m(layout, Record):\n",
      "File \u001b[0;32m~/opt/anaconda3/lib/python3.9/site-packages/awkward/contents/listoffsetarray.py:2194\u001b[0m, in \u001b[0;36mListOffsetArray._recursively_apply\u001b[0;34m(self, action, depth, depth_context, lateral_context, options)\u001b[0m\n\u001b[1;32m   2186\u001b[0m         content\u001b[38;5;241m.\u001b[39m_recursively_apply(\n\u001b[1;32m   2187\u001b[0m             action,\n\u001b[1;32m   2188\u001b[0m             depth \u001b[38;5;241m+\u001b[39m \u001b[38;5;241m1\u001b[39m,\n\u001b[0;32m   (...)\u001b[0m\n\u001b[1;32m   2191\u001b[0m             options,\n\u001b[1;32m   2192\u001b[0m         )\n\u001b[0;32m-> 2194\u001b[0m result \u001b[38;5;241m=\u001b[39m \u001b[43maction\u001b[49m\u001b[43m(\u001b[49m\n\u001b[1;32m   2195\u001b[0m \u001b[43m    \u001b[49m\u001b[38;5;28;43mself\u001b[39;49m\u001b[43m,\u001b[49m\n\u001b[1;32m   2196\u001b[0m \u001b[43m    \u001b[49m\u001b[43mdepth\u001b[49m\u001b[38;5;241;43m=\u001b[39;49m\u001b[43mdepth\u001b[49m\u001b[43m,\u001b[49m\n\u001b[1;32m   2197\u001b[0m \u001b[43m    \u001b[49m\u001b[43mdepth_context\u001b[49m\u001b[38;5;241;43m=\u001b[39;49m\u001b[43mdepth_context\u001b[49m\u001b[43m,\u001b[49m\n\u001b[1;32m   2198\u001b[0m \u001b[43m    \u001b[49m\u001b[43mlateral_context\u001b[49m\u001b[38;5;241;43m=\u001b[39;49m\u001b[43mlateral_context\u001b[49m\u001b[43m,\u001b[49m\n\u001b[1;32m   2199\u001b[0m \u001b[43m    \u001b[49m\u001b[43mcontinuation\u001b[49m\u001b[38;5;241;43m=\u001b[39;49m\u001b[43mcontinuation\u001b[49m\u001b[43m,\u001b[49m\n\u001b[1;32m   2200\u001b[0m \u001b[43m    \u001b[49m\u001b[43mbackend\u001b[49m\u001b[38;5;241;43m=\u001b[39;49m\u001b[38;5;28;43mself\u001b[39;49m\u001b[38;5;241;43m.\u001b[39;49m\u001b[43m_backend\u001b[49m\u001b[43m,\u001b[49m\n\u001b[1;32m   2201\u001b[0m \u001b[43m    \u001b[49m\u001b[43moptions\u001b[49m\u001b[38;5;241;43m=\u001b[39;49m\u001b[43moptions\u001b[49m\u001b[43m,\u001b[49m\n\u001b[1;32m   2202\u001b[0m \u001b[43m\u001b[49m\u001b[43m)\u001b[49m\n\u001b[1;32m   2204\u001b[0m \u001b[38;5;28;01mif\u001b[39;00m \u001b[38;5;28misinstance\u001b[39m(result, Content):\n",
      "File \u001b[0;32m~/opt/anaconda3/lib/python3.9/site-packages/awkward/operations/ak_unflatten.py:251\u001b[0m, in \u001b[0;36m_impl.<locals>.apply\u001b[0;34m(layout, depth, backend, **kwargs)\u001b[0m\n\u001b[1;32m    249\u001b[0m outeroffsets \u001b[38;5;241m=\u001b[39m listoffsetarray\u001b[38;5;241m.\u001b[39moffsets\n\u001b[0;32m--> 251\u001b[0m content \u001b[38;5;241m=\u001b[39m \u001b[43munflatten_this_layout\u001b[49m\u001b[43m(\u001b[49m\n\u001b[1;32m    252\u001b[0m \u001b[43m    \u001b[49m\u001b[43mlistoffsetarray\u001b[49m\u001b[38;5;241;43m.\u001b[39;49m\u001b[43mcontent\u001b[49m\u001b[43m[\u001b[49m\u001b[43m:\u001b[49m\u001b[43m \u001b[49m\u001b[43mouteroffsets\u001b[49m\u001b[43m[\u001b[49m\u001b[38;5;241;43m-\u001b[39;49m\u001b[38;5;241;43m1\u001b[39;49m\u001b[43m]\u001b[49m\u001b[43m]\u001b[49m\n\u001b[1;32m    253\u001b[0m \u001b[43m\u001b[49m\u001b[43m)\u001b[49m\n\u001b[1;32m    254\u001b[0m \u001b[38;5;28;01mif\u001b[39;00m \u001b[38;5;28misinstance\u001b[39m(content, ak\u001b[38;5;241m.\u001b[39mcontents\u001b[38;5;241m.\u001b[39mByteMaskedArray):\n",
      "File \u001b[0;32m~/opt/anaconda3/lib/python3.9/site-packages/awkward/operations/ak_unflatten.py:186\u001b[0m, in \u001b[0;36m_impl.<locals>.unflatten_this_layout\u001b[0;34m(layout)\u001b[0m\n\u001b[1;32m    177\u001b[0m \u001b[38;5;28;01mif\u001b[39;00m (\n\u001b[1;32m    178\u001b[0m     current_offsets\u001b[38;5;241m.\u001b[39msize \u001b[38;5;129;01mis\u001b[39;00m \u001b[38;5;129;01mnot\u001b[39;00m unknown_length\n\u001b[1;32m    179\u001b[0m     \u001b[38;5;129;01mand\u001b[39;00m layout\u001b[38;5;241m.\u001b[39mlength \u001b[38;5;129;01mis\u001b[39;00m \u001b[38;5;129;01mnot\u001b[39;00m unknown_length\n\u001b[0;32m   (...)\u001b[0m\n\u001b[1;32m    184\u001b[0m     )\n\u001b[1;32m    185\u001b[0m ):\n\u001b[0;32m--> 186\u001b[0m     \u001b[38;5;28;01mraise\u001b[39;00m \u001b[38;5;167;01mValueError\u001b[39;00m(\n\u001b[1;32m    187\u001b[0m         \u001b[38;5;124m\"\u001b[39m\u001b[38;5;124mstructure imposed by \u001b[39m\u001b[38;5;124m'\u001b[39m\u001b[38;5;124mcounts\u001b[39m\u001b[38;5;124m'\u001b[39m\u001b[38;5;124m does not fit in the array or partition \u001b[39m\u001b[38;5;124m\"\u001b[39m\n\u001b[1;32m    188\u001b[0m         \u001b[38;5;124mf\u001b[39m\u001b[38;5;124m\"\u001b[39m\u001b[38;5;124mat axis=\u001b[39m\u001b[38;5;132;01m{\u001b[39;00maxis\u001b[38;5;132;01m}\u001b[39;00m\u001b[38;5;124m\"\u001b[39m\n\u001b[1;32m    189\u001b[0m     )\n\u001b[1;32m    191\u001b[0m offsets \u001b[38;5;241m=\u001b[39m current_offsets[: position \u001b[38;5;241m+\u001b[39m \u001b[38;5;241m1\u001b[39m]\n",
      "\u001b[0;31mValueError\u001b[0m: structure imposed by 'counts' does not fit in the array or partition at axis=1",
      "\nThe above exception was the direct cause of the following exception:\n",
      "\u001b[0;31mValueError\u001b[0m                                Traceback (most recent call last)",
      "Input \u001b[0;32mIn [100]\u001b[0m, in \u001b[0;36m<cell line: 10>\u001b[0;34m()\u001b[0m\n\u001b[1;32m      7\u001b[0m     deltars \u001b[38;5;241m=\u001b[39m deltars[:ak\u001b[38;5;241m.\u001b[39msum(reco_lengths)]  \u001b[38;5;66;03m# Adjust if necessary\u001b[39;00m\n\u001b[1;32m      9\u001b[0m \u001b[38;5;66;03m# Now perform unflattening and other calculations as previously outlined\u001b[39;00m\n\u001b[0;32m---> 10\u001b[0m deltars_3d \u001b[38;5;241m=\u001b[39m \u001b[43mak\u001b[49m\u001b[38;5;241;43m.\u001b[39;49m\u001b[43munflatten\u001b[49m\u001b[43m(\u001b[49m\u001b[43mdeltars\u001b[49m\u001b[43m,\u001b[49m\u001b[43m \u001b[49m\u001b[43mreco_lengths\u001b[49m\u001b[43m,\u001b[49m\u001b[43m \u001b[49m\u001b[43maxis\u001b[49m\u001b[38;5;241;43m=\u001b[39;49m\u001b[38;5;241;43m1\u001b[39;49m\u001b[43m)\u001b[49m\n\u001b[1;32m     11\u001b[0m min_values \u001b[38;5;241m=\u001b[39m ak\u001b[38;5;241m.\u001b[39mmin(deltars_3d, axis\u001b[38;5;241m=\u001b[39m\u001b[38;5;241m2\u001b[39m)\n\u001b[1;32m     12\u001b[0m indices \u001b[38;5;241m=\u001b[39m ak\u001b[38;5;241m.\u001b[39margmin(deltars_3d, axis\u001b[38;5;241m=\u001b[39m\u001b[38;5;241m2\u001b[39m)\n",
      "File \u001b[0;32m~/opt/anaconda3/lib/python3.9/site-packages/awkward/_dispatch.py:72\u001b[0m, in \u001b[0;36mnamed_high_level_function.<locals>.dispatch\u001b[0;34m(*args, **kwargs)\u001b[0m\n\u001b[1;32m     67\u001b[0m     \u001b[38;5;28;01melse\u001b[39;00m:\n\u001b[1;32m     68\u001b[0m         \u001b[38;5;28;01mraise\u001b[39;00m \u001b[38;5;167;01mAssertionError\u001b[39;00m(\n\u001b[1;32m     69\u001b[0m             \u001b[38;5;124m\"\u001b[39m\u001b[38;5;124mhigh-level functions should only implement a single yield statement\u001b[39m\u001b[38;5;124m\"\u001b[39m\n\u001b[1;32m     70\u001b[0m         )\n\u001b[0;32m---> 72\u001b[0m \u001b[38;5;28;01mreturn\u001b[39;00m gen_or_result\n",
      "File \u001b[0;32m~/opt/anaconda3/lib/python3.9/site-packages/awkward/_errors.py:85\u001b[0m, in \u001b[0;36mErrorContext.__exit__\u001b[0;34m(self, exception_type, exception_value, traceback)\u001b[0m\n\u001b[1;32m     78\u001b[0m \u001b[38;5;28;01mtry\u001b[39;00m:\n\u001b[1;32m     79\u001b[0m     \u001b[38;5;66;03m# Handle caught exception\u001b[39;00m\n\u001b[1;32m     80\u001b[0m     \u001b[38;5;28;01mif\u001b[39;00m (\n\u001b[1;32m     81\u001b[0m         exception_type \u001b[38;5;129;01mis\u001b[39;00m \u001b[38;5;129;01mnot\u001b[39;00m \u001b[38;5;28;01mNone\u001b[39;00m\n\u001b[1;32m     82\u001b[0m         \u001b[38;5;129;01mand\u001b[39;00m \u001b[38;5;28missubclass\u001b[39m(exception_type, \u001b[38;5;167;01mException\u001b[39;00m)\n\u001b[1;32m     83\u001b[0m         \u001b[38;5;129;01mand\u001b[39;00m \u001b[38;5;28mself\u001b[39m\u001b[38;5;241m.\u001b[39mprimary() \u001b[38;5;129;01mis\u001b[39;00m \u001b[38;5;28mself\u001b[39m\n\u001b[1;32m     84\u001b[0m     ):\n\u001b[0;32m---> 85\u001b[0m         \u001b[38;5;28;43mself\u001b[39;49m\u001b[38;5;241;43m.\u001b[39;49m\u001b[43mhandle_exception\u001b[49m\u001b[43m(\u001b[49m\u001b[43mexception_type\u001b[49m\u001b[43m,\u001b[49m\u001b[43m \u001b[49m\u001b[43mexception_value\u001b[49m\u001b[43m)\u001b[49m\n\u001b[1;32m     86\u001b[0m \u001b[38;5;28;01mfinally\u001b[39;00m:\n\u001b[1;32m     87\u001b[0m     \u001b[38;5;66;03m# Step out of the way so that another ErrorContext can become primary.\u001b[39;00m\n\u001b[1;32m     88\u001b[0m     \u001b[38;5;28;01mif\u001b[39;00m \u001b[38;5;28mself\u001b[39m\u001b[38;5;241m.\u001b[39mprimary() \u001b[38;5;129;01mis\u001b[39;00m \u001b[38;5;28mself\u001b[39m:\n",
      "File \u001b[0;32m~/opt/anaconda3/lib/python3.9/site-packages/awkward/_errors.py:95\u001b[0m, in \u001b[0;36mErrorContext.handle_exception\u001b[0;34m(self, cls, exception)\u001b[0m\n\u001b[1;32m     93\u001b[0m     \u001b[38;5;28mself\u001b[39m\u001b[38;5;241m.\u001b[39mdecorate_exception(\u001b[38;5;28mcls\u001b[39m, exception)\n\u001b[1;32m     94\u001b[0m \u001b[38;5;28;01melse\u001b[39;00m:\n\u001b[0;32m---> 95\u001b[0m     \u001b[38;5;28;01mraise\u001b[39;00m \u001b[38;5;28mself\u001b[39m\u001b[38;5;241m.\u001b[39mdecorate_exception(\u001b[38;5;28mcls\u001b[39m, exception)\n",
      "\u001b[0;31mValueError\u001b[0m: structure imposed by 'counts' does not fit in the array or partition at axis=1\n\nThis error occurred while calling\n\n    ak.unflatten(\n        <Array [[2.98, 2.72, ..., 3.19, 2.84], ...] type='300000 * var * fl...'>\n        <Array [11, 9, 9, 10, 8, 9, ..., 7, 8, 9, 8, 9] type='300000 * int64'>\n        axis = 1\n    )"
     ]
    }
   ],
   "source": [
    "import awkward as ak\n",
    "import numpy as np\n",
    "\n",
    "# Precompute reco_lengths for all events and ensure alignment\n",
    "reco_lengths = ak.num(reco_4t)\n",
    "if len(deltars) != ak.sum(reco_lengths):\n",
    "    deltars = deltars[:ak.sum(reco_lengths)]  # Adjust if necessary\n",
    "\n",
    "# Now perform unflattening and other calculations as previously outlined\n",
    "deltars_3d = ak.unflatten(deltars, reco_lengths, axis=1)\n",
    "min_values = ak.min(deltars_3d, axis=2)\n",
    "indices = ak.argmin(deltars_3d, axis=2)\n",
    "event_indices = ak.local_index(min_values) * reco_lengths\n",
    "filtered_indices = indices + event_indices\n",
    "mask = min_values < 0.4\n",
    "filtered_indices = filtered_indices[mask]\n",
    "valid_pairs = pairs[mask][filtered_indices]\n",
    "\n",
    "print(\"Vectorized event processing completed.\")\n"
   ]
  },
  {
   "cell_type": "code",
   "execution_count": 95,
   "metadata": {},
   "outputs": [
    {
     "name": "stderr",
     "output_type": "stream",
     "text": [
      "Process SpawnProcess-4:\n",
      "Process SpawnProcess-1:\n",
      "Process SpawnProcess-2:\n",
      "Traceback (most recent call last):\n",
      "Traceback (most recent call last):\n",
      "Traceback (most recent call last):\n",
      "  File \"/Users/archiebrooks/opt/anaconda3/lib/python3.9/multiprocessing/process.py\", line 315, in _bootstrap\n",
      "    self.run()\n",
      "  File \"/Users/archiebrooks/opt/anaconda3/lib/python3.9/multiprocessing/process.py\", line 315, in _bootstrap\n",
      "    self.run()\n",
      "  File \"/Users/archiebrooks/opt/anaconda3/lib/python3.9/multiprocessing/process.py\", line 108, in run\n",
      "    self._target(*self._args, **self._kwargs)\n",
      "  File \"/Users/archiebrooks/opt/anaconda3/lib/python3.9/multiprocessing/process.py\", line 315, in _bootstrap\n",
      "    self.run()\n",
      "  File \"/Users/archiebrooks/opt/anaconda3/lib/python3.9/multiprocessing/process.py\", line 108, in run\n",
      "    self._target(*self._args, **self._kwargs)\n",
      "  File \"/Users/archiebrooks/opt/anaconda3/lib/python3.9/concurrent/futures/process.py\", line 237, in _process_worker\n",
      "    call_item = call_queue.get(block=True)\n",
      "  File \"/Users/archiebrooks/opt/anaconda3/lib/python3.9/multiprocessing/process.py\", line 108, in run\n",
      "    self._target(*self._args, **self._kwargs)\n",
      "  File \"/Users/archiebrooks/opt/anaconda3/lib/python3.9/multiprocessing/queues.py\", line 122, in get\n",
      "    return _ForkingPickler.loads(res)\n",
      "  File \"/Users/archiebrooks/opt/anaconda3/lib/python3.9/concurrent/futures/process.py\", line 237, in _process_worker\n",
      "    call_item = call_queue.get(block=True)\n",
      "  File \"/Users/archiebrooks/opt/anaconda3/lib/python3.9/multiprocessing/queues.py\", line 122, in get\n",
      "    return _ForkingPickler.loads(res)\n",
      "  File \"/Users/archiebrooks/opt/anaconda3/lib/python3.9/concurrent/futures/process.py\", line 237, in _process_worker\n",
      "    call_item = call_queue.get(block=True)\n",
      "  File \"/Users/archiebrooks/opt/anaconda3/lib/python3.9/multiprocessing/queues.py\", line 122, in get\n",
      "    return _ForkingPickler.loads(res)\n",
      "AttributeError: Can't get attribute 'process_event' on <module '__main__' (built-in)>\n",
      "AttributeError: Can't get attribute 'process_event' on <module '__main__' (built-in)>\n",
      "AttributeError: Can't get attribute 'process_event' on <module '__main__' (built-in)>\n",
      "Process SpawnProcess-3:\n",
      "Traceback (most recent call last):\n",
      "  File \"/Users/archiebrooks/opt/anaconda3/lib/python3.9/multiprocessing/process.py\", line 315, in _bootstrap\n",
      "    self.run()\n",
      "  File \"/Users/archiebrooks/opt/anaconda3/lib/python3.9/multiprocessing/process.py\", line 108, in run\n",
      "    self._target(*self._args, **self._kwargs)\n",
      "  File \"/Users/archiebrooks/opt/anaconda3/lib/python3.9/concurrent/futures/process.py\", line 237, in _process_worker\n",
      "    call_item = call_queue.get(block=True)\n",
      "  File \"/Users/archiebrooks/opt/anaconda3/lib/python3.9/multiprocessing/queues.py\", line 122, in get\n",
      "    return _ForkingPickler.loads(res)\n",
      "AttributeError: Can't get attribute 'process_event' on <module '__main__' (built-in)>\n"
     ]
    },
    {
     "ename": "BrokenProcessPool",
     "evalue": "A child process terminated abruptly, the process pool is not usable anymore",
     "output_type": "error",
     "traceback": [
      "\u001b[0;31m---------------------------------------------------------------------------\u001b[0m",
      "\u001b[0;31mBrokenProcessPool\u001b[0m                         Traceback (most recent call last)",
      "Input \u001b[0;32mIn [95]\u001b[0m, in \u001b[0;36m<cell line: 33>\u001b[0;34m()\u001b[0m\n\u001b[1;32m     30\u001b[0m     \u001b[38;5;28;01mreturn\u001b[39;00m valid_pairs\n\u001b[1;32m     32\u001b[0m \u001b[38;5;66;03m# Run the parallel event processing\u001b[39;00m\n\u001b[0;32m---> 33\u001b[0m valid_pairs \u001b[38;5;241m=\u001b[39m \u001b[43mparallel_process_events\u001b[49m\u001b[43m(\u001b[49m\u001b[43m)\u001b[49m\n",
      "Input \u001b[0;32mIn [95]\u001b[0m, in \u001b[0;36mparallel_process_events\u001b[0;34m()\u001b[0m\n\u001b[1;32m     16\u001b[0m valid_pairs \u001b[38;5;241m=\u001b[39m {}\n\u001b[1;32m     17\u001b[0m \u001b[38;5;28;01mwith\u001b[39;00m ProcessPoolExecutor() \u001b[38;5;28;01mas\u001b[39;00m executor:\n\u001b[1;32m     18\u001b[0m     \u001b[38;5;66;03m# Submit tasks to the executor\u001b[39;00m\n\u001b[0;32m---> 19\u001b[0m     futures \u001b[38;5;241m=\u001b[39m {executor\u001b[38;5;241m.\u001b[39msubmit(process_event, i): i \u001b[38;5;28;01mfor\u001b[39;00m i \u001b[38;5;129;01min\u001b[39;00m \u001b[38;5;28mrange\u001b[39m(\u001b[38;5;28mlen\u001b[39m(deltars))}\n\u001b[1;32m     21\u001b[0m     \u001b[38;5;66;03m# Collect results as they complete\u001b[39;00m\n\u001b[1;32m     22\u001b[0m     \u001b[38;5;28;01mfor\u001b[39;00m future \u001b[38;5;129;01min\u001b[39;00m as_completed(futures):\n",
      "Input \u001b[0;32mIn [95]\u001b[0m, in \u001b[0;36m<dictcomp>\u001b[0;34m(.0)\u001b[0m\n\u001b[1;32m     16\u001b[0m valid_pairs \u001b[38;5;241m=\u001b[39m {}\n\u001b[1;32m     17\u001b[0m \u001b[38;5;28;01mwith\u001b[39;00m ProcessPoolExecutor() \u001b[38;5;28;01mas\u001b[39;00m executor:\n\u001b[1;32m     18\u001b[0m     \u001b[38;5;66;03m# Submit tasks to the executor\u001b[39;00m\n\u001b[0;32m---> 19\u001b[0m     futures \u001b[38;5;241m=\u001b[39m {\u001b[43mexecutor\u001b[49m\u001b[38;5;241;43m.\u001b[39;49m\u001b[43msubmit\u001b[49m\u001b[43m(\u001b[49m\u001b[43mprocess_event\u001b[49m\u001b[43m,\u001b[49m\u001b[43m \u001b[49m\u001b[43mi\u001b[49m\u001b[43m)\u001b[49m: i \u001b[38;5;28;01mfor\u001b[39;00m i \u001b[38;5;129;01min\u001b[39;00m \u001b[38;5;28mrange\u001b[39m(\u001b[38;5;28mlen\u001b[39m(deltars))}\n\u001b[1;32m     21\u001b[0m     \u001b[38;5;66;03m# Collect results as they complete\u001b[39;00m\n\u001b[1;32m     22\u001b[0m     \u001b[38;5;28;01mfor\u001b[39;00m future \u001b[38;5;129;01min\u001b[39;00m as_completed(futures):\n",
      "File \u001b[0;32m~/opt/anaconda3/lib/python3.9/concurrent/futures/process.py:681\u001b[0m, in \u001b[0;36mProcessPoolExecutor.submit\u001b[0;34m(self, fn, *args, **kwargs)\u001b[0m\n\u001b[1;32m    679\u001b[0m \u001b[38;5;28;01mwith\u001b[39;00m \u001b[38;5;28mself\u001b[39m\u001b[38;5;241m.\u001b[39m_shutdown_lock:\n\u001b[1;32m    680\u001b[0m     \u001b[38;5;28;01mif\u001b[39;00m \u001b[38;5;28mself\u001b[39m\u001b[38;5;241m.\u001b[39m_broken:\n\u001b[0;32m--> 681\u001b[0m         \u001b[38;5;28;01mraise\u001b[39;00m BrokenProcessPool(\u001b[38;5;28mself\u001b[39m\u001b[38;5;241m.\u001b[39m_broken)\n\u001b[1;32m    682\u001b[0m     \u001b[38;5;28;01mif\u001b[39;00m \u001b[38;5;28mself\u001b[39m\u001b[38;5;241m.\u001b[39m_shutdown_thread:\n\u001b[1;32m    683\u001b[0m         \u001b[38;5;28;01mraise\u001b[39;00m \u001b[38;5;167;01mRuntimeError\u001b[39;00m(\u001b[38;5;124m'\u001b[39m\u001b[38;5;124mcannot schedule new futures after shutdown\u001b[39m\u001b[38;5;124m'\u001b[39m)\n",
      "\u001b[0;31mBrokenProcessPool\u001b[0m: A child process terminated abruptly, the process pool is not usable anymore"
     ]
    }
   ],
   "source": [
    "from concurrent.futures import ProcessPoolExecutor, as_completed\n",
    "import awkward as ak\n",
    "import numpy as np\n",
    "\n",
    "def process_event(i):\n",
    "    \"\"\"Process an individual event to determine valid pairs.\"\"\"\n",
    "    deltars_3d = ak.unflatten(deltars[i], ak.num(reco_4t)[i], axis=0)\n",
    "    indices = ak.argmin(deltars_3d, axis=1)\n",
    "    indices = indices + (np.arange(len(indices)) * ak.num(reco_4t)[i])\n",
    "    indices = indices[ak.min(deltars_3d, axis=1) < 0.4]\n",
    "    valid_pairs = {f'event_{i}': pairs[i][indices]}\n",
    "    return i, valid_pairs\n",
    "\n",
    "def parallel_process_events():\n",
    "    \"\"\"Parallel processing of events using ProcessPoolExecutor.\"\"\"\n",
    "    valid_pairs = {}\n",
    "    with ProcessPoolExecutor() as executor:\n",
    "        # Submit tasks to the executor\n",
    "        futures = {executor.submit(process_event, i): i for i in range(len(deltars))}\n",
    "        \n",
    "        # Collect results as they complete\n",
    "        for future in as_completed(futures):\n",
    "            i, result = future.result()\n",
    "            valid_pairs.update(result)\n",
    "            \n",
    "            # Optional status update\n",
    "            if i % 1000 == 0:\n",
    "                print(f'{i} events completed')\n",
    "    \n",
    "    return valid_pairs\n",
    "\n",
    "# Run the parallel event processing\n",
    "valid_pairs = parallel_process_events()\n"
   ]
  },
  {
   "cell_type": "code",
   "execution_count": 93,
   "metadata": {},
   "outputs": [
    {
     "data": {
      "text/html": [
       "<pre>[0.0314,\n",
       " 0.0848,\n",
       " 0.0275,\n",
       " 0.152,\n",
       " 0.0486]\n",
       "------------------\n",
       "type: 5 * ?float32</pre>"
      ],
      "text/plain": [
       "<Array [0.0314, 0.0848, 0.0275, 0.152, 0.0486] type='5 * ?float32'>"
      ]
     },
     "execution_count": 93,
     "metadata": {},
     "output_type": "execute_result"
    }
   ],
   "source": [
    "valid_pairs['event_1']['reco'].deltaR(valid_pairs['event_1']['parton'])"
   ]
  },
  {
   "cell_type": "code",
   "execution_count": 203,
   "metadata": {},
   "outputs": [
    {
     "ename": "ValueError",
     "evalue": "cannot broadcast RegularArray of size 2 with RegularArray of size 300000\n\nThis error occurred while calling\n\n    ak.cartesian(\n        {'reco': <MomentumArray4D [{rho: 50.3, phi: -0.404, ...}, ...] type='...\n    )",
     "output_type": "error",
     "traceback": [
      "\u001b[0;31m---------------------------------------------------------------------------\u001b[0m",
      "\u001b[0;31mValueError\u001b[0m                                Traceback (most recent call last)",
      "File \u001b[0;32m~/opt/anaconda3/lib/python3.9/site-packages/awkward/_dispatch.py:64\u001b[0m, in \u001b[0;36mnamed_high_level_function.<locals>.dispatch\u001b[0;34m(*args, **kwargs)\u001b[0m\n\u001b[1;32m     63\u001b[0m \u001b[38;5;28;01mtry\u001b[39;00m:\n\u001b[0;32m---> 64\u001b[0m     \u001b[38;5;28;43mnext\u001b[39;49m\u001b[43m(\u001b[49m\u001b[43mgen_or_result\u001b[49m\u001b[43m)\u001b[49m\n\u001b[1;32m     65\u001b[0m \u001b[38;5;28;01mexcept\u001b[39;00m \u001b[38;5;167;01mStopIteration\u001b[39;00m \u001b[38;5;28;01mas\u001b[39;00m err:\n",
      "File \u001b[0;32m~/opt/anaconda3/lib/python3.9/site-packages/awkward/operations/ak_cartesian.py:211\u001b[0m, in \u001b[0;36mcartesian\u001b[0;34m(arrays, axis, nested, parameters, with_name, highlevel, behavior, attrs)\u001b[0m\n\u001b[1;32m    210\u001b[0m \u001b[38;5;66;03m# Implementation\u001b[39;00m\n\u001b[0;32m--> 211\u001b[0m \u001b[38;5;28;01mreturn\u001b[39;00m \u001b[43m_impl\u001b[49m\u001b[43m(\u001b[49m\n\u001b[1;32m    212\u001b[0m \u001b[43m    \u001b[49m\u001b[43marrays\u001b[49m\u001b[43m,\u001b[49m\u001b[43m \u001b[49m\u001b[43maxis\u001b[49m\u001b[43m,\u001b[49m\u001b[43m \u001b[49m\u001b[43mnested\u001b[49m\u001b[43m,\u001b[49m\u001b[43m \u001b[49m\u001b[43mparameters\u001b[49m\u001b[43m,\u001b[49m\u001b[43m \u001b[49m\u001b[43mwith_name\u001b[49m\u001b[43m,\u001b[49m\u001b[43m \u001b[49m\u001b[43mhighlevel\u001b[49m\u001b[43m,\u001b[49m\u001b[43m \u001b[49m\u001b[43mbehavior\u001b[49m\u001b[43m,\u001b[49m\u001b[43m \u001b[49m\u001b[43mattrs\u001b[49m\n\u001b[1;32m    213\u001b[0m \u001b[43m\u001b[49m\u001b[43m)\u001b[49m\n",
      "File \u001b[0;32m~/opt/anaconda3/lib/python3.9/site-packages/awkward/operations/ak_cartesian.py:401\u001b[0m, in \u001b[0;36m_impl\u001b[0;34m(arrays, axis, nested, parameters, with_name, highlevel, behavior, attrs)\u001b[0m\n\u001b[1;32m    399\u001b[0m         \u001b[38;5;28;01mreturn\u001b[39;00m \u001b[38;5;28;01mNone\u001b[39;00m\n\u001b[0;32m--> 401\u001b[0m out \u001b[38;5;241m=\u001b[39m \u001b[43mak\u001b[49m\u001b[38;5;241;43m.\u001b[39;49m\u001b[43m_broadcasting\u001b[49m\u001b[38;5;241;43m.\u001b[39;49m\u001b[43mbroadcast_and_apply\u001b[49m\u001b[43m(\u001b[49m\n\u001b[1;32m    402\u001b[0m \u001b[43m    \u001b[49m\u001b[43mnew_layouts\u001b[49m\u001b[43m,\u001b[49m\u001b[43m \u001b[49m\u001b[43mapply_build_record\u001b[49m\u001b[43m,\u001b[49m\u001b[43m \u001b[49m\u001b[43mright_broadcast\u001b[49m\u001b[38;5;241;43m=\u001b[39;49m\u001b[38;5;28;43;01mFalse\u001b[39;49;00m\n\u001b[1;32m    403\u001b[0m \u001b[43m\u001b[49m\u001b[43m)\u001b[49m\n\u001b[1;32m    404\u001b[0m \u001b[38;5;28;01massert\u001b[39;00m \u001b[38;5;28misinstance\u001b[39m(out, \u001b[38;5;28mtuple\u001b[39m) \u001b[38;5;129;01mand\u001b[39;00m \u001b[38;5;28mlen\u001b[39m(out) \u001b[38;5;241m==\u001b[39m \u001b[38;5;241m1\u001b[39m\n",
      "File \u001b[0;32m~/opt/anaconda3/lib/python3.9/site-packages/awkward/_broadcasting.py:1108\u001b[0m, in \u001b[0;36mbroadcast_and_apply\u001b[0;34m(inputs, action, depth_context, lateral_context, allow_records, left_broadcast, right_broadcast, numpy_to_regular, regular_to_jagged, function_name, broadcast_parameters_rule)\u001b[0m\n\u001b[1;32m   1107\u001b[0m isscalar \u001b[38;5;241m=\u001b[39m []\n\u001b[0;32m-> 1108\u001b[0m out \u001b[38;5;241m=\u001b[39m \u001b[43mapply_step\u001b[49m\u001b[43m(\u001b[49m\n\u001b[1;32m   1109\u001b[0m \u001b[43m    \u001b[49m\u001b[43mbackend\u001b[49m\u001b[43m,\u001b[49m\n\u001b[1;32m   1110\u001b[0m \u001b[43m    \u001b[49m\u001b[43mbroadcast_pack\u001b[49m\u001b[43m(\u001b[49m\u001b[43minputs\u001b[49m\u001b[43m,\u001b[49m\u001b[43m \u001b[49m\u001b[43misscalar\u001b[49m\u001b[43m)\u001b[49m\u001b[43m,\u001b[49m\n\u001b[1;32m   1111\u001b[0m \u001b[43m    \u001b[49m\u001b[43maction\u001b[49m\u001b[43m,\u001b[49m\n\u001b[1;32m   1112\u001b[0m \u001b[43m    \u001b[49m\u001b[38;5;241;43m0\u001b[39;49m\u001b[43m,\u001b[49m\n\u001b[1;32m   1113\u001b[0m \u001b[43m    \u001b[49m\u001b[43mdepth_context\u001b[49m\u001b[43m,\u001b[49m\n\u001b[1;32m   1114\u001b[0m \u001b[43m    \u001b[49m\u001b[43mlateral_context\u001b[49m\u001b[43m,\u001b[49m\n\u001b[1;32m   1115\u001b[0m \u001b[43m    \u001b[49m\u001b[43m{\u001b[49m\n\u001b[1;32m   1116\u001b[0m \u001b[43m        \u001b[49m\u001b[38;5;124;43m\"\u001b[39;49m\u001b[38;5;124;43mallow_records\u001b[39;49m\u001b[38;5;124;43m\"\u001b[39;49m\u001b[43m:\u001b[49m\u001b[43m \u001b[49m\u001b[43mallow_records\u001b[49m\u001b[43m,\u001b[49m\n\u001b[1;32m   1117\u001b[0m \u001b[43m        \u001b[49m\u001b[38;5;124;43m\"\u001b[39;49m\u001b[38;5;124;43mleft_broadcast\u001b[39;49m\u001b[38;5;124;43m\"\u001b[39;49m\u001b[43m:\u001b[49m\u001b[43m \u001b[49m\u001b[43mleft_broadcast\u001b[49m\u001b[43m,\u001b[49m\n\u001b[1;32m   1118\u001b[0m \u001b[43m        \u001b[49m\u001b[38;5;124;43m\"\u001b[39;49m\u001b[38;5;124;43mright_broadcast\u001b[39;49m\u001b[38;5;124;43m\"\u001b[39;49m\u001b[43m:\u001b[49m\u001b[43m \u001b[49m\u001b[43mright_broadcast\u001b[49m\u001b[43m,\u001b[49m\n\u001b[1;32m   1119\u001b[0m \u001b[43m        \u001b[49m\u001b[38;5;124;43m\"\u001b[39;49m\u001b[38;5;124;43mnumpy_to_regular\u001b[39;49m\u001b[38;5;124;43m\"\u001b[39;49m\u001b[43m:\u001b[49m\u001b[43m \u001b[49m\u001b[43mnumpy_to_regular\u001b[49m\u001b[43m,\u001b[49m\n\u001b[1;32m   1120\u001b[0m \u001b[43m        \u001b[49m\u001b[38;5;124;43m\"\u001b[39;49m\u001b[38;5;124;43mregular_to_jagged\u001b[39;49m\u001b[38;5;124;43m\"\u001b[39;49m\u001b[43m:\u001b[49m\u001b[43m \u001b[49m\u001b[43mregular_to_jagged\u001b[49m\u001b[43m,\u001b[49m\n\u001b[1;32m   1121\u001b[0m \u001b[43m        \u001b[49m\u001b[38;5;124;43m\"\u001b[39;49m\u001b[38;5;124;43mfunction_name\u001b[39;49m\u001b[38;5;124;43m\"\u001b[39;49m\u001b[43m:\u001b[49m\u001b[43m \u001b[49m\u001b[43mfunction_name\u001b[49m\u001b[43m,\u001b[49m\n\u001b[1;32m   1122\u001b[0m \u001b[43m        \u001b[49m\u001b[38;5;124;43m\"\u001b[39;49m\u001b[38;5;124;43mbroadcast_parameters_rule\u001b[39;49m\u001b[38;5;124;43m\"\u001b[39;49m\u001b[43m:\u001b[49m\u001b[43m \u001b[49m\u001b[43mbroadcast_parameters_rule\u001b[49m\u001b[43m,\u001b[49m\n\u001b[1;32m   1123\u001b[0m \u001b[43m    \u001b[49m\u001b[43m}\u001b[49m\u001b[43m,\u001b[49m\n\u001b[1;32m   1124\u001b[0m \u001b[43m\u001b[49m\u001b[43m)\u001b[49m\n\u001b[1;32m   1125\u001b[0m \u001b[38;5;28;01massert\u001b[39;00m \u001b[38;5;28misinstance\u001b[39m(out, \u001b[38;5;28mtuple\u001b[39m)\n",
      "File \u001b[0;32m~/opt/anaconda3/lib/python3.9/site-packages/awkward/_broadcasting.py:1086\u001b[0m, in \u001b[0;36mapply_step\u001b[0;34m(backend, inputs, action, depth, depth_context, lateral_context, options)\u001b[0m\n\u001b[1;32m   1085\u001b[0m \u001b[38;5;28;01melif\u001b[39;00m result \u001b[38;5;129;01mis\u001b[39;00m \u001b[38;5;28;01mNone\u001b[39;00m:\n\u001b[0;32m-> 1086\u001b[0m     \u001b[38;5;28;01mreturn\u001b[39;00m \u001b[43mcontinuation\u001b[49m\u001b[43m(\u001b[49m\u001b[43m)\u001b[49m\n\u001b[1;32m   1087\u001b[0m \u001b[38;5;28;01melse\u001b[39;00m:\n",
      "File \u001b[0;32m~/opt/anaconda3/lib/python3.9/site-packages/awkward/_broadcasting.py:1055\u001b[0m, in \u001b[0;36mapply_step.<locals>.continuation\u001b[0;34m()\u001b[0m\n\u001b[1;32m   1054\u001b[0m \u001b[38;5;28;01melif\u001b[39;00m \u001b[38;5;28many\u001b[39m(x\u001b[38;5;241m.\u001b[39mis_list \u001b[38;5;129;01mand\u001b[39;00m \u001b[38;5;129;01mnot\u001b[39;00m is_string_like(x) \u001b[38;5;28;01mfor\u001b[39;00m x \u001b[38;5;129;01min\u001b[39;00m contents):\n\u001b[0;32m-> 1055\u001b[0m     \u001b[38;5;28;01mreturn\u001b[39;00m \u001b[43mbroadcast_any_list\u001b[49m\u001b[43m(\u001b[49m\u001b[43m)\u001b[49m\n\u001b[1;32m   1057\u001b[0m \u001b[38;5;66;03m# Any RecordArrays?\u001b[39;00m\n",
      "File \u001b[0;32m~/opt/anaconda3/lib/python3.9/site-packages/awkward/_broadcasting.py:615\u001b[0m, in \u001b[0;36mapply_step.<locals>.broadcast_any_list\u001b[0;34m()\u001b[0m\n\u001b[1;32m    614\u001b[0m     \u001b[38;5;28;01melse\u001b[39;00m:\n\u001b[0;32m--> 615\u001b[0m         \u001b[38;5;28;01mraise\u001b[39;00m \u001b[38;5;167;01mValueError\u001b[39;00m(\n\u001b[1;32m    616\u001b[0m             \u001b[38;5;124m\"\u001b[39m\u001b[38;5;124mcannot broadcast RegularArray of size \u001b[39m\u001b[38;5;124m\"\u001b[39m\n\u001b[1;32m    617\u001b[0m             \u001b[38;5;124mf\u001b[39m\u001b[38;5;124m\"\u001b[39m\u001b[38;5;132;01m{\u001b[39;00mx\u001b[38;5;241m.\u001b[39msize\u001b[38;5;132;01m}\u001b[39;00m\u001b[38;5;124m with RegularArray of size \u001b[39m\u001b[38;5;132;01m{\u001b[39;00mdim_size\u001b[38;5;132;01m}\u001b[39;00m\u001b[38;5;132;01m{\u001b[39;00min_function(options)\u001b[38;5;132;01m}\u001b[39;00m\u001b[38;5;124m\"\u001b[39m\n\u001b[1;32m    618\u001b[0m         )\n\u001b[1;32m    619\u001b[0m \u001b[38;5;28;01melse\u001b[39;00m:\n",
      "\u001b[0;31mValueError\u001b[0m: cannot broadcast RegularArray of size 2 with RegularArray of size 300000",
      "\nThe above exception was the direct cause of the following exception:\n",
      "\u001b[0;31mValueError\u001b[0m                                Traceback (most recent call last)",
      "Input \u001b[0;32mIn [203]\u001b[0m, in \u001b[0;36m<cell line: 3>\u001b[0;34m()\u001b[0m\n\u001b[1;32m      4\u001b[0m recos \u001b[38;5;241m=\u001b[39m reco_4t[awkward\u001b[38;5;241m.\u001b[39mnum(reco_4t)\u001b[38;5;241m==\u001b[39mi]\n\u001b[1;32m      5\u001b[0m \u001b[38;5;28;01mwhile\u001b[39;00m(\u001b[38;5;28mlen\u001b[39m(reco_4t[awkward\u001b[38;5;241m.\u001b[39mnum(reco_4t)\u001b[38;5;241m!=\u001b[39m\u001b[38;5;241m0\u001b[39m])\u001b[38;5;241m!=\u001b[39m\u001b[38;5;241m0\u001b[39m):\n\u001b[0;32m----> 6\u001b[0m     pairs \u001b[38;5;241m=\u001b[39m \u001b[43mawkward\u001b[49m\u001b[38;5;241;43m.\u001b[39;49m\u001b[43mcartesian\u001b[49m\u001b[43m(\u001b[49m\u001b[43m{\u001b[49m\u001b[38;5;124;43m'\u001b[39;49m\u001b[38;5;124;43mreco\u001b[39;49m\u001b[38;5;124;43m'\u001b[39;49m\u001b[43m:\u001b[49m\u001b[43mrecos\u001b[49m\u001b[43m[\u001b[49m\u001b[43m:\u001b[49m\u001b[43m,\u001b[49m\u001b[38;5;241;43m0\u001b[39;49m\u001b[43m]\u001b[49m\u001b[43m,\u001b[49m\u001b[38;5;124;43m'\u001b[39;49m\u001b[38;5;124;43mparton\u001b[39;49m\u001b[38;5;124;43m'\u001b[39;49m\u001b[43m:\u001b[49m\u001b[43m(\u001b[49m\u001b[43mpartonic_4t\u001b[49m\u001b[43m)\u001b[49m\u001b[43m}\u001b[49m\u001b[43m)\u001b[49m\n\u001b[1;32m      7\u001b[0m     deltars \u001b[38;5;241m=\u001b[39m pairs[\u001b[38;5;124m'\u001b[39m\u001b[38;5;124mreco\u001b[39m\u001b[38;5;124m'\u001b[39m]\u001b[38;5;241m.\u001b[39mdeltaR(pairs[\u001b[38;5;124m'\u001b[39m\u001b[38;5;124mparton\u001b[39m\u001b[38;5;124m'\u001b[39m])\n\u001b[1;32m      8\u001b[0m     pairs \u001b[38;5;241m=\u001b[39m pairs[deltars \u001b[38;5;241m==\u001b[39m np\u001b[38;5;241m.\u001b[39mmin(deltars, axis\u001b[38;5;241m=\u001b[39m\u001b[38;5;241m1\u001b[39m)]\n",
      "File \u001b[0;32m~/opt/anaconda3/lib/python3.9/site-packages/awkward/_dispatch.py:72\u001b[0m, in \u001b[0;36mnamed_high_level_function.<locals>.dispatch\u001b[0;34m(*args, **kwargs)\u001b[0m\n\u001b[1;32m     67\u001b[0m     \u001b[38;5;28;01melse\u001b[39;00m:\n\u001b[1;32m     68\u001b[0m         \u001b[38;5;28;01mraise\u001b[39;00m \u001b[38;5;167;01mAssertionError\u001b[39;00m(\n\u001b[1;32m     69\u001b[0m             \u001b[38;5;124m\"\u001b[39m\u001b[38;5;124mhigh-level functions should only implement a single yield statement\u001b[39m\u001b[38;5;124m\"\u001b[39m\n\u001b[1;32m     70\u001b[0m         )\n\u001b[0;32m---> 72\u001b[0m \u001b[38;5;28;01mreturn\u001b[39;00m gen_or_result\n",
      "File \u001b[0;32m~/opt/anaconda3/lib/python3.9/site-packages/awkward/_errors.py:85\u001b[0m, in \u001b[0;36mErrorContext.__exit__\u001b[0;34m(self, exception_type, exception_value, traceback)\u001b[0m\n\u001b[1;32m     78\u001b[0m \u001b[38;5;28;01mtry\u001b[39;00m:\n\u001b[1;32m     79\u001b[0m     \u001b[38;5;66;03m# Handle caught exception\u001b[39;00m\n\u001b[1;32m     80\u001b[0m     \u001b[38;5;28;01mif\u001b[39;00m (\n\u001b[1;32m     81\u001b[0m         exception_type \u001b[38;5;129;01mis\u001b[39;00m \u001b[38;5;129;01mnot\u001b[39;00m \u001b[38;5;28;01mNone\u001b[39;00m\n\u001b[1;32m     82\u001b[0m         \u001b[38;5;129;01mand\u001b[39;00m \u001b[38;5;28missubclass\u001b[39m(exception_type, \u001b[38;5;167;01mException\u001b[39;00m)\n\u001b[1;32m     83\u001b[0m         \u001b[38;5;129;01mand\u001b[39;00m \u001b[38;5;28mself\u001b[39m\u001b[38;5;241m.\u001b[39mprimary() \u001b[38;5;129;01mis\u001b[39;00m \u001b[38;5;28mself\u001b[39m\n\u001b[1;32m     84\u001b[0m     ):\n\u001b[0;32m---> 85\u001b[0m         \u001b[38;5;28;43mself\u001b[39;49m\u001b[38;5;241;43m.\u001b[39;49m\u001b[43mhandle_exception\u001b[49m\u001b[43m(\u001b[49m\u001b[43mexception_type\u001b[49m\u001b[43m,\u001b[49m\u001b[43m \u001b[49m\u001b[43mexception_value\u001b[49m\u001b[43m)\u001b[49m\n\u001b[1;32m     86\u001b[0m \u001b[38;5;28;01mfinally\u001b[39;00m:\n\u001b[1;32m     87\u001b[0m     \u001b[38;5;66;03m# Step out of the way so that another ErrorContext can become primary.\u001b[39;00m\n\u001b[1;32m     88\u001b[0m     \u001b[38;5;28;01mif\u001b[39;00m \u001b[38;5;28mself\u001b[39m\u001b[38;5;241m.\u001b[39mprimary() \u001b[38;5;129;01mis\u001b[39;00m \u001b[38;5;28mself\u001b[39m:\n",
      "File \u001b[0;32m~/opt/anaconda3/lib/python3.9/site-packages/awkward/_errors.py:95\u001b[0m, in \u001b[0;36mErrorContext.handle_exception\u001b[0;34m(self, cls, exception)\u001b[0m\n\u001b[1;32m     93\u001b[0m     \u001b[38;5;28mself\u001b[39m\u001b[38;5;241m.\u001b[39mdecorate_exception(\u001b[38;5;28mcls\u001b[39m, exception)\n\u001b[1;32m     94\u001b[0m \u001b[38;5;28;01melse\u001b[39;00m:\n\u001b[0;32m---> 95\u001b[0m     \u001b[38;5;28;01mraise\u001b[39;00m \u001b[38;5;28mself\u001b[39m\u001b[38;5;241m.\u001b[39mdecorate_exception(\u001b[38;5;28mcls\u001b[39m, exception)\n",
      "\u001b[0;31mValueError\u001b[0m: cannot broadcast RegularArray of size 2 with RegularArray of size 300000\n\nThis error occurred while calling\n\n    ak.cartesian(\n        {'reco': <MomentumArray4D [{rho: 50.3, phi: -0.404, ...}, ...] type='...\n    )"
     ]
    }
   ],
   "source": [
    "deltars_by_event = {}\n",
    "pairs_by_event = {}\n",
    "for i in range(1,23):\n",
    "    recos = reco_4t[awkward.num(reco_4t)==i]\n",
    "    while(len(reco_4t[awkward.num(reco_4t)!=0])!=0):\n",
    "        pairs = awkward.cartesian({'reco':recos[:,0],'parton':(partonic_4t)})\n",
    "        deltars = pairs['reco'].deltaR(pairs['parton'])\n",
    "        pairs = pairs[deltars == np.min(deltars, axis=1)]\n",
    "        deltars = np.min(deltars, axis=1)\n",
    "        pairs = pairs[deltars<0.4]\n",
    "\n",
    "        partonic_4t = partonic_4t[awkward.num(reco_4t)>1]\n",
    "        reco_4t = reco_4t[awkward.num(reco_4t)>1]\n",
    "        reco_4t = reco_4t[:,1:]\n"
   ]
  },
  {
   "cell_type": "code",
   "execution_count": null,
   "metadata": {},
   "outputs": [
    {
     "name": "stdout",
     "output_type": "stream",
     "text": [
      "1\n",
      "2\n",
      "3\n",
      "4\n"
     ]
    }
   ],
   "source": [
    "deltars_by_event = {}\n",
    "pairs_by_event = {}\n",
    "for i in range(1,23):\n",
    "    recos = reco_4t[awkward.num(reco_4t)==i]\n",
    "    pairs = awkward.cartesian({'reco':recos[:,0],'parton':(partonic_4t)}, axis=0)\n",
    "    print(i)\n"
   ]
  },
  {
   "cell_type": "code",
   "execution_count": 170,
   "metadata": {},
   "outputs": [],
   "source": [
    "reco_counts = awkward.num(reco_4t, axis=1)\n",
    "sorted_indices = awkward.argsort(reco_counts, ascending=False)\n",
    "reco_4t = reco_4t[sorted_indices]\n",
    "partonic_4t = partonic_4t[sorted_indices]\n",
    "\n",
    "all_pairs = awkward.cartesian({\"reco\": reco_4t, \"parton\": partonic_4t}, axis=1)\n",
    "all_deltars = all_pairs['reco'].deltaR(all_pairs['parton'])\n",
    "\n",
    "awkward.unflatten(all_deltars[0], awkward.num(reco_4t)[0])"
   ]
  },
  {
   "cell_type": "code",
   "execution_count": 196,
   "metadata": {},
   "outputs": [
    {
     "ename": "AxisError",
     "evalue": "axis=1 exceeds the depth of this array (1)\n\nThis error occurred while calling\n\n    ak.num(\n        <MomentumArray4D [{rho: 460, phi: 1.13, ...}, ...] type='22 * Momen...'>\n    )",
     "output_type": "error",
     "traceback": [
      "\u001b[0;31m---------------------------------------------------------------------------\u001b[0m",
      "\u001b[0;31mAxisError\u001b[0m                                 Traceback (most recent call last)",
      "File \u001b[0;32m~/opt/anaconda3/lib/python3.9/site-packages/awkward/_dispatch.py:64\u001b[0m, in \u001b[0;36mnamed_high_level_function.<locals>.dispatch\u001b[0;34m(*args, **kwargs)\u001b[0m\n\u001b[1;32m     63\u001b[0m \u001b[38;5;28;01mtry\u001b[39;00m:\n\u001b[0;32m---> 64\u001b[0m     \u001b[38;5;28;43mnext\u001b[39;49m\u001b[43m(\u001b[49m\u001b[43mgen_or_result\u001b[49m\u001b[43m)\u001b[49m\n\u001b[1;32m     65\u001b[0m \u001b[38;5;28;01mexcept\u001b[39;00m \u001b[38;5;167;01mStopIteration\u001b[39;00m \u001b[38;5;28;01mas\u001b[39;00m err:\n",
      "File \u001b[0;32m~/opt/anaconda3/lib/python3.9/site-packages/awkward/operations/ak_num.py:83\u001b[0m, in \u001b[0;36mnum\u001b[0;34m(array, axis, highlevel, behavior, attrs)\u001b[0m\n\u001b[1;32m     82\u001b[0m \u001b[38;5;66;03m# Implementation\u001b[39;00m\n\u001b[0;32m---> 83\u001b[0m \u001b[38;5;28;01mreturn\u001b[39;00m \u001b[43m_impl\u001b[49m\u001b[43m(\u001b[49m\u001b[43marray\u001b[49m\u001b[43m,\u001b[49m\u001b[43m \u001b[49m\u001b[43maxis\u001b[49m\u001b[43m,\u001b[49m\u001b[43m \u001b[49m\u001b[43mhighlevel\u001b[49m\u001b[43m,\u001b[49m\u001b[43m \u001b[49m\u001b[43mbehavior\u001b[49m\u001b[43m,\u001b[49m\u001b[43m \u001b[49m\u001b[43mattrs\u001b[49m\u001b[43m)\u001b[49m\n",
      "File \u001b[0;32m~/opt/anaconda3/lib/python3.9/site-packages/awkward/operations/ak_num.py:110\u001b[0m, in \u001b[0;36m_impl\u001b[0;34m(array, axis, highlevel, behavior, attrs)\u001b[0m\n\u001b[1;32m    108\u001b[0m         \u001b[38;5;28;01mraise\u001b[39;00m AxisError(\u001b[38;5;124mf\u001b[39m\u001b[38;5;124m\"\u001b[39m\u001b[38;5;124maxis=\u001b[39m\u001b[38;5;132;01m{\u001b[39;00maxis\u001b[38;5;132;01m}\u001b[39;00m\u001b[38;5;124m exceeds the depth of this array (\u001b[39m\u001b[38;5;132;01m{\u001b[39;00mdepth\u001b[38;5;132;01m}\u001b[39;00m\u001b[38;5;124m)\u001b[39m\u001b[38;5;124m\"\u001b[39m)\n\u001b[0;32m--> 110\u001b[0m out \u001b[38;5;241m=\u001b[39m \u001b[43mak\u001b[49m\u001b[38;5;241;43m.\u001b[39;49m\u001b[43m_do\u001b[49m\u001b[38;5;241;43m.\u001b[39;49m\u001b[43mrecursively_apply\u001b[49m\u001b[43m(\u001b[49m\u001b[43mlayout\u001b[49m\u001b[43m,\u001b[49m\u001b[43m \u001b[49m\u001b[43maction\u001b[49m\u001b[43m,\u001b[49m\u001b[43m \u001b[49m\u001b[43mnumpy_to_regular\u001b[49m\u001b[38;5;241;43m=\u001b[39;49m\u001b[38;5;28;43;01mTrue\u001b[39;49;00m\u001b[43m)\u001b[49m\n\u001b[1;32m    112\u001b[0m \u001b[38;5;28;01mreturn\u001b[39;00m ctx\u001b[38;5;241m.\u001b[39mwrap(out, highlevel\u001b[38;5;241m=\u001b[39mhighlevel)\n",
      "File \u001b[0;32m~/opt/anaconda3/lib/python3.9/site-packages/awkward/_do.py:37\u001b[0m, in \u001b[0;36mrecursively_apply\u001b[0;34m(layout, action, behavior, depth_context, lateral_context, allow_records, keep_parameters, numpy_to_regular, return_simplified, return_array, function_name, regular_to_jagged)\u001b[0m\n\u001b[1;32m     36\u001b[0m \u001b[38;5;28;01mif\u001b[39;00m \u001b[38;5;28misinstance\u001b[39m(layout, Content):\n\u001b[0;32m---> 37\u001b[0m     \u001b[38;5;28;01mreturn\u001b[39;00m \u001b[43mlayout\u001b[49m\u001b[38;5;241;43m.\u001b[39;49m\u001b[43m_recursively_apply\u001b[49m\u001b[43m(\u001b[49m\n\u001b[1;32m     38\u001b[0m \u001b[43m        \u001b[49m\u001b[43maction\u001b[49m\u001b[43m,\u001b[49m\n\u001b[1;32m     39\u001b[0m \u001b[43m        \u001b[49m\u001b[38;5;241;43m1\u001b[39;49m\u001b[43m,\u001b[49m\n\u001b[1;32m     40\u001b[0m \u001b[43m        \u001b[49m\u001b[43mcopy\u001b[49m\u001b[38;5;241;43m.\u001b[39;49m\u001b[43mcopy\u001b[49m\u001b[43m(\u001b[49m\u001b[43mdepth_context\u001b[49m\u001b[43m)\u001b[49m\u001b[43m,\u001b[49m\n\u001b[1;32m     41\u001b[0m \u001b[43m        \u001b[49m\u001b[43mlateral_context\u001b[49m\u001b[43m,\u001b[49m\n\u001b[1;32m     42\u001b[0m \u001b[43m        \u001b[49m\u001b[43m{\u001b[49m\n\u001b[1;32m     43\u001b[0m \u001b[43m            \u001b[49m\u001b[38;5;124;43m\"\u001b[39;49m\u001b[38;5;124;43mallow_records\u001b[39;49m\u001b[38;5;124;43m\"\u001b[39;49m\u001b[43m:\u001b[49m\u001b[43m \u001b[49m\u001b[43mallow_records\u001b[49m\u001b[43m,\u001b[49m\n\u001b[1;32m     44\u001b[0m \u001b[43m            \u001b[49m\u001b[38;5;124;43m\"\u001b[39;49m\u001b[38;5;124;43mkeep_parameters\u001b[39;49m\u001b[38;5;124;43m\"\u001b[39;49m\u001b[43m:\u001b[49m\u001b[43m \u001b[49m\u001b[43mkeep_parameters\u001b[49m\u001b[43m,\u001b[49m\n\u001b[1;32m     45\u001b[0m \u001b[43m            \u001b[49m\u001b[38;5;124;43m\"\u001b[39;49m\u001b[38;5;124;43mnumpy_to_regular\u001b[39;49m\u001b[38;5;124;43m\"\u001b[39;49m\u001b[43m:\u001b[49m\u001b[43m \u001b[49m\u001b[43mnumpy_to_regular\u001b[49m\u001b[43m,\u001b[49m\n\u001b[1;32m     46\u001b[0m \u001b[43m            \u001b[49m\u001b[38;5;124;43m\"\u001b[39;49m\u001b[38;5;124;43mregular_to_jagged\u001b[39;49m\u001b[38;5;124;43m\"\u001b[39;49m\u001b[43m:\u001b[49m\u001b[43m \u001b[49m\u001b[43mregular_to_jagged\u001b[49m\u001b[43m,\u001b[49m\n\u001b[1;32m     47\u001b[0m \u001b[43m            \u001b[49m\u001b[38;5;124;43m\"\u001b[39;49m\u001b[38;5;124;43mreturn_simplified\u001b[39;49m\u001b[38;5;124;43m\"\u001b[39;49m\u001b[43m:\u001b[49m\u001b[43m \u001b[49m\u001b[43mreturn_simplified\u001b[49m\u001b[43m,\u001b[49m\n\u001b[1;32m     48\u001b[0m \u001b[43m            \u001b[49m\u001b[38;5;124;43m\"\u001b[39;49m\u001b[38;5;124;43mreturn_array\u001b[39;49m\u001b[38;5;124;43m\"\u001b[39;49m\u001b[43m:\u001b[49m\u001b[43m \u001b[49m\u001b[43mreturn_array\u001b[49m\u001b[43m,\u001b[49m\n\u001b[1;32m     49\u001b[0m \u001b[43m            \u001b[49m\u001b[38;5;124;43m\"\u001b[39;49m\u001b[38;5;124;43mfunction_name\u001b[39;49m\u001b[38;5;124;43m\"\u001b[39;49m\u001b[43m:\u001b[49m\u001b[43m \u001b[49m\u001b[43mfunction_name\u001b[49m\u001b[43m,\u001b[49m\n\u001b[1;32m     50\u001b[0m \u001b[43m        \u001b[49m\u001b[43m}\u001b[49m\u001b[43m,\u001b[49m\n\u001b[1;32m     51\u001b[0m \u001b[43m    \u001b[49m\u001b[43m)\u001b[49m\n\u001b[1;32m     53\u001b[0m \u001b[38;5;28;01melif\u001b[39;00m \u001b[38;5;28misinstance\u001b[39m(layout, Record):\n",
      "File \u001b[0;32m~/opt/anaconda3/lib/python3.9/site-packages/awkward/contents/recordarray.py:1220\u001b[0m, in \u001b[0;36mRecordArray._recursively_apply\u001b[0;34m(self, action, depth, depth_context, lateral_context, options)\u001b[0m\n\u001b[1;32m   1219\u001b[0m \u001b[38;5;28;01melif\u001b[39;00m result \u001b[38;5;129;01mis\u001b[39;00m \u001b[38;5;28;01mNone\u001b[39;00m:\n\u001b[0;32m-> 1220\u001b[0m     \u001b[38;5;28;01mreturn\u001b[39;00m \u001b[43mcontinuation\u001b[49m\u001b[43m(\u001b[49m\u001b[43m)\u001b[49m\n\u001b[1;32m   1221\u001b[0m \u001b[38;5;28;01melse\u001b[39;00m:\n",
      "File \u001b[0;32m~/opt/anaconda3/lib/python3.9/site-packages/awkward/contents/recordarray.py:1179\u001b[0m, in \u001b[0;36mRecordArray._recursively_apply.<locals>.continuation\u001b[0;34m()\u001b[0m\n\u001b[1;32m   1175\u001b[0m     \u001b[38;5;28;01mraise\u001b[39;00m \u001b[38;5;167;01mValueError\u001b[39;00m(\n\u001b[1;32m   1176\u001b[0m         \u001b[38;5;124mf\u001b[39m\u001b[38;5;124m\"\u001b[39m\u001b[38;5;124mcannot broadcast records in \u001b[39m\u001b[38;5;132;01m{\u001b[39;00moptions[\u001b[38;5;124m'\u001b[39m\u001b[38;5;124mfunction_name\u001b[39m\u001b[38;5;124m'\u001b[39m]\u001b[38;5;132;01m}\u001b[39;00m\u001b[38;5;124m\"\u001b[39m\n\u001b[1;32m   1177\u001b[0m     )\n\u001b[1;32m   1178\u001b[0m \u001b[38;5;28;01mreturn\u001b[39;00m RecordArray(\n\u001b[0;32m-> 1179\u001b[0m     [\n\u001b[1;32m   1180\u001b[0m         content\u001b[38;5;241m.\u001b[39m_recursively_apply(\n\u001b[1;32m   1181\u001b[0m             action,\n\u001b[1;32m   1182\u001b[0m             depth,\n\u001b[1;32m   1183\u001b[0m             copy\u001b[38;5;241m.\u001b[39mcopy(depth_context),\n\u001b[1;32m   1184\u001b[0m             lateral_context,\n\u001b[1;32m   1185\u001b[0m             options,\n\u001b[1;32m   1186\u001b[0m         )\n\u001b[1;32m   1187\u001b[0m         \u001b[38;5;28;01mfor\u001b[39;00m content \u001b[38;5;129;01min\u001b[39;00m contents\n\u001b[1;32m   1188\u001b[0m     ],\n\u001b[1;32m   1189\u001b[0m     \u001b[38;5;28mself\u001b[39m\u001b[38;5;241m.\u001b[39m_fields,\n\u001b[1;32m   1190\u001b[0m     \u001b[38;5;28mself\u001b[39m\u001b[38;5;241m.\u001b[39m_length,\n\u001b[1;32m   1191\u001b[0m     parameters\u001b[38;5;241m=\u001b[39m\u001b[38;5;28mself\u001b[39m\u001b[38;5;241m.\u001b[39m_parameters \u001b[38;5;28;01mif\u001b[39;00m options[\u001b[38;5;124m\"\u001b[39m\u001b[38;5;124mkeep_parameters\u001b[39m\u001b[38;5;124m\"\u001b[39m] \u001b[38;5;28;01melse\u001b[39;00m \u001b[38;5;28;01mNone\u001b[39;00m,\n\u001b[1;32m   1192\u001b[0m     backend\u001b[38;5;241m=\u001b[39m\u001b[38;5;28mself\u001b[39m\u001b[38;5;241m.\u001b[39m_backend,\n\u001b[1;32m   1193\u001b[0m )\n",
      "File \u001b[0;32m~/opt/anaconda3/lib/python3.9/site-packages/awkward/contents/recordarray.py:1180\u001b[0m, in \u001b[0;36m<listcomp>\u001b[0;34m(.0)\u001b[0m\n\u001b[1;32m   1175\u001b[0m     \u001b[38;5;28;01mraise\u001b[39;00m \u001b[38;5;167;01mValueError\u001b[39;00m(\n\u001b[1;32m   1176\u001b[0m         \u001b[38;5;124mf\u001b[39m\u001b[38;5;124m\"\u001b[39m\u001b[38;5;124mcannot broadcast records in \u001b[39m\u001b[38;5;132;01m{\u001b[39;00moptions[\u001b[38;5;124m'\u001b[39m\u001b[38;5;124mfunction_name\u001b[39m\u001b[38;5;124m'\u001b[39m]\u001b[38;5;132;01m}\u001b[39;00m\u001b[38;5;124m\"\u001b[39m\n\u001b[1;32m   1177\u001b[0m     )\n\u001b[1;32m   1178\u001b[0m \u001b[38;5;28;01mreturn\u001b[39;00m RecordArray(\n\u001b[1;32m   1179\u001b[0m     [\n\u001b[0;32m-> 1180\u001b[0m         \u001b[43mcontent\u001b[49m\u001b[38;5;241;43m.\u001b[39;49m\u001b[43m_recursively_apply\u001b[49m\u001b[43m(\u001b[49m\n\u001b[1;32m   1181\u001b[0m \u001b[43m            \u001b[49m\u001b[43maction\u001b[49m\u001b[43m,\u001b[49m\n\u001b[1;32m   1182\u001b[0m \u001b[43m            \u001b[49m\u001b[43mdepth\u001b[49m\u001b[43m,\u001b[49m\n\u001b[1;32m   1183\u001b[0m \u001b[43m            \u001b[49m\u001b[43mcopy\u001b[49m\u001b[38;5;241;43m.\u001b[39;49m\u001b[43mcopy\u001b[49m\u001b[43m(\u001b[49m\u001b[43mdepth_context\u001b[49m\u001b[43m)\u001b[49m\u001b[43m,\u001b[49m\n\u001b[1;32m   1184\u001b[0m \u001b[43m            \u001b[49m\u001b[43mlateral_context\u001b[49m\u001b[43m,\u001b[49m\n\u001b[1;32m   1185\u001b[0m \u001b[43m            \u001b[49m\u001b[43moptions\u001b[49m\u001b[43m,\u001b[49m\n\u001b[1;32m   1186\u001b[0m \u001b[43m        \u001b[49m\u001b[43m)\u001b[49m\n\u001b[1;32m   1187\u001b[0m         \u001b[38;5;28;01mfor\u001b[39;00m content \u001b[38;5;129;01min\u001b[39;00m contents\n\u001b[1;32m   1188\u001b[0m     ],\n\u001b[1;32m   1189\u001b[0m     \u001b[38;5;28mself\u001b[39m\u001b[38;5;241m.\u001b[39m_fields,\n\u001b[1;32m   1190\u001b[0m     \u001b[38;5;28mself\u001b[39m\u001b[38;5;241m.\u001b[39m_length,\n\u001b[1;32m   1191\u001b[0m     parameters\u001b[38;5;241m=\u001b[39m\u001b[38;5;28mself\u001b[39m\u001b[38;5;241m.\u001b[39m_parameters \u001b[38;5;28;01mif\u001b[39;00m options[\u001b[38;5;124m\"\u001b[39m\u001b[38;5;124mkeep_parameters\u001b[39m\u001b[38;5;124m\"\u001b[39m] \u001b[38;5;28;01melse\u001b[39;00m \u001b[38;5;28;01mNone\u001b[39;00m,\n\u001b[1;32m   1192\u001b[0m     backend\u001b[38;5;241m=\u001b[39m\u001b[38;5;28mself\u001b[39m\u001b[38;5;241m.\u001b[39m_backend,\n\u001b[1;32m   1193\u001b[0m )\n",
      "File \u001b[0;32m~/opt/anaconda3/lib/python3.9/site-packages/awkward/contents/numpyarray.py:1268\u001b[0m, in \u001b[0;36mNumpyArray._recursively_apply\u001b[0;34m(self, action, depth, depth_context, lateral_context, options)\u001b[0m\n\u001b[1;32m   1266\u001b[0m         \u001b[38;5;28;01mpass\u001b[39;00m\n\u001b[0;32m-> 1268\u001b[0m result \u001b[38;5;241m=\u001b[39m \u001b[43maction\u001b[49m\u001b[43m(\u001b[49m\n\u001b[1;32m   1269\u001b[0m \u001b[43m    \u001b[49m\u001b[38;5;28;43mself\u001b[39;49m\u001b[43m,\u001b[49m\n\u001b[1;32m   1270\u001b[0m \u001b[43m    \u001b[49m\u001b[43mdepth\u001b[49m\u001b[38;5;241;43m=\u001b[39;49m\u001b[43mdepth\u001b[49m\u001b[43m,\u001b[49m\n\u001b[1;32m   1271\u001b[0m \u001b[43m    \u001b[49m\u001b[43mdepth_context\u001b[49m\u001b[38;5;241;43m=\u001b[39;49m\u001b[43mdepth_context\u001b[49m\u001b[43m,\u001b[49m\n\u001b[1;32m   1272\u001b[0m \u001b[43m    \u001b[49m\u001b[43mlateral_context\u001b[49m\u001b[38;5;241;43m=\u001b[39;49m\u001b[43mlateral_context\u001b[49m\u001b[43m,\u001b[49m\n\u001b[1;32m   1273\u001b[0m \u001b[43m    \u001b[49m\u001b[43mcontinuation\u001b[49m\u001b[38;5;241;43m=\u001b[39;49m\u001b[43mcontinuation\u001b[49m\u001b[43m,\u001b[49m\n\u001b[1;32m   1274\u001b[0m \u001b[43m    \u001b[49m\u001b[43mbackend\u001b[49m\u001b[38;5;241;43m=\u001b[39;49m\u001b[38;5;28;43mself\u001b[39;49m\u001b[38;5;241;43m.\u001b[39;49m\u001b[43m_backend\u001b[49m\u001b[43m,\u001b[49m\n\u001b[1;32m   1275\u001b[0m \u001b[43m    \u001b[49m\u001b[43moptions\u001b[49m\u001b[38;5;241;43m=\u001b[39;49m\u001b[43moptions\u001b[49m\u001b[43m,\u001b[49m\n\u001b[1;32m   1276\u001b[0m \u001b[43m\u001b[49m\u001b[43m)\u001b[49m\n\u001b[1;32m   1278\u001b[0m \u001b[38;5;28;01mif\u001b[39;00m \u001b[38;5;28misinstance\u001b[39m(result, Content):\n",
      "File \u001b[0;32m~/opt/anaconda3/lib/python3.9/site-packages/awkward/operations/ak_num.py:108\u001b[0m, in \u001b[0;36m_impl.<locals>.action\u001b[0;34m(layout, depth, **kwargs)\u001b[0m\n\u001b[1;32m    107\u001b[0m \u001b[38;5;28;01melif\u001b[39;00m layout\u001b[38;5;241m.\u001b[39mis_leaf:\n\u001b[0;32m--> 108\u001b[0m     \u001b[38;5;28;01mraise\u001b[39;00m AxisError(\u001b[38;5;124mf\u001b[39m\u001b[38;5;124m\"\u001b[39m\u001b[38;5;124maxis=\u001b[39m\u001b[38;5;132;01m{\u001b[39;00maxis\u001b[38;5;132;01m}\u001b[39;00m\u001b[38;5;124m exceeds the depth of this array (\u001b[39m\u001b[38;5;132;01m{\u001b[39;00mdepth\u001b[38;5;132;01m}\u001b[39;00m\u001b[38;5;124m)\u001b[39m\u001b[38;5;124m\"\u001b[39m)\n",
      "\u001b[0;31mAxisError\u001b[0m: axis=1 exceeds the depth of this array (1)",
      "\nThe above exception was the direct cause of the following exception:\n",
      "\u001b[0;31mAxisError\u001b[0m                                 Traceback (most recent call last)",
      "Input \u001b[0;32mIn [196]\u001b[0m, in \u001b[0;36m<cell line: 1>\u001b[0;34m()\u001b[0m\n\u001b[1;32m      1\u001b[0m all_deltars_3d \u001b[38;5;241m=\u001b[39m awkward\u001b[38;5;241m.\u001b[39mArray(\n\u001b[0;32m----> 2\u001b[0m     [awkward\u001b[38;5;241m.\u001b[39munflatten(event, awkward\u001b[38;5;241m.\u001b[39mnum(reco_4t_sorted[i])) \u001b[38;5;28;01mfor\u001b[39;00m i, event \u001b[38;5;129;01min\u001b[39;00m \u001b[38;5;28menumerate\u001b[39m(all_deltars)]\n\u001b[1;32m      3\u001b[0m )\n",
      "Input \u001b[0;32mIn [196]\u001b[0m, in \u001b[0;36m<listcomp>\u001b[0;34m(.0)\u001b[0m\n\u001b[1;32m      1\u001b[0m all_deltars_3d \u001b[38;5;241m=\u001b[39m awkward\u001b[38;5;241m.\u001b[39mArray(\n\u001b[0;32m----> 2\u001b[0m     [awkward\u001b[38;5;241m.\u001b[39munflatten(event, \u001b[43mawkward\u001b[49m\u001b[38;5;241;43m.\u001b[39;49m\u001b[43mnum\u001b[49m\u001b[43m(\u001b[49m\u001b[43mreco_4t_sorted\u001b[49m\u001b[43m[\u001b[49m\u001b[43mi\u001b[49m\u001b[43m]\u001b[49m\u001b[43m)\u001b[49m) \u001b[38;5;28;01mfor\u001b[39;00m i, event \u001b[38;5;129;01min\u001b[39;00m \u001b[38;5;28menumerate\u001b[39m(all_deltars)]\n\u001b[1;32m      3\u001b[0m )\n",
      "File \u001b[0;32m~/opt/anaconda3/lib/python3.9/site-packages/awkward/_dispatch.py:72\u001b[0m, in \u001b[0;36mnamed_high_level_function.<locals>.dispatch\u001b[0;34m(*args, **kwargs)\u001b[0m\n\u001b[1;32m     67\u001b[0m     \u001b[38;5;28;01melse\u001b[39;00m:\n\u001b[1;32m     68\u001b[0m         \u001b[38;5;28;01mraise\u001b[39;00m \u001b[38;5;167;01mAssertionError\u001b[39;00m(\n\u001b[1;32m     69\u001b[0m             \u001b[38;5;124m\"\u001b[39m\u001b[38;5;124mhigh-level functions should only implement a single yield statement\u001b[39m\u001b[38;5;124m\"\u001b[39m\n\u001b[1;32m     70\u001b[0m         )\n\u001b[0;32m---> 72\u001b[0m \u001b[38;5;28;01mreturn\u001b[39;00m gen_or_result\n",
      "File \u001b[0;32m~/opt/anaconda3/lib/python3.9/site-packages/awkward/_errors.py:85\u001b[0m, in \u001b[0;36mErrorContext.__exit__\u001b[0;34m(self, exception_type, exception_value, traceback)\u001b[0m\n\u001b[1;32m     78\u001b[0m \u001b[38;5;28;01mtry\u001b[39;00m:\n\u001b[1;32m     79\u001b[0m     \u001b[38;5;66;03m# Handle caught exception\u001b[39;00m\n\u001b[1;32m     80\u001b[0m     \u001b[38;5;28;01mif\u001b[39;00m (\n\u001b[1;32m     81\u001b[0m         exception_type \u001b[38;5;129;01mis\u001b[39;00m \u001b[38;5;129;01mnot\u001b[39;00m \u001b[38;5;28;01mNone\u001b[39;00m\n\u001b[1;32m     82\u001b[0m         \u001b[38;5;129;01mand\u001b[39;00m \u001b[38;5;28missubclass\u001b[39m(exception_type, \u001b[38;5;167;01mException\u001b[39;00m)\n\u001b[1;32m     83\u001b[0m         \u001b[38;5;129;01mand\u001b[39;00m \u001b[38;5;28mself\u001b[39m\u001b[38;5;241m.\u001b[39mprimary() \u001b[38;5;129;01mis\u001b[39;00m \u001b[38;5;28mself\u001b[39m\n\u001b[1;32m     84\u001b[0m     ):\n\u001b[0;32m---> 85\u001b[0m         \u001b[38;5;28;43mself\u001b[39;49m\u001b[38;5;241;43m.\u001b[39;49m\u001b[43mhandle_exception\u001b[49m\u001b[43m(\u001b[49m\u001b[43mexception_type\u001b[49m\u001b[43m,\u001b[49m\u001b[43m \u001b[49m\u001b[43mexception_value\u001b[49m\u001b[43m)\u001b[49m\n\u001b[1;32m     86\u001b[0m \u001b[38;5;28;01mfinally\u001b[39;00m:\n\u001b[1;32m     87\u001b[0m     \u001b[38;5;66;03m# Step out of the way so that another ErrorContext can become primary.\u001b[39;00m\n\u001b[1;32m     88\u001b[0m     \u001b[38;5;28;01mif\u001b[39;00m \u001b[38;5;28mself\u001b[39m\u001b[38;5;241m.\u001b[39mprimary() \u001b[38;5;129;01mis\u001b[39;00m \u001b[38;5;28mself\u001b[39m:\n",
      "File \u001b[0;32m~/opt/anaconda3/lib/python3.9/site-packages/awkward/_errors.py:95\u001b[0m, in \u001b[0;36mErrorContext.handle_exception\u001b[0;34m(self, cls, exception)\u001b[0m\n\u001b[1;32m     93\u001b[0m     \u001b[38;5;28mself\u001b[39m\u001b[38;5;241m.\u001b[39mdecorate_exception(\u001b[38;5;28mcls\u001b[39m, exception)\n\u001b[1;32m     94\u001b[0m \u001b[38;5;28;01melse\u001b[39;00m:\n\u001b[0;32m---> 95\u001b[0m     \u001b[38;5;28;01mraise\u001b[39;00m \u001b[38;5;28mself\u001b[39m\u001b[38;5;241m.\u001b[39mdecorate_exception(\u001b[38;5;28mcls\u001b[39m, exception)\n",
      "\u001b[0;31mAxisError\u001b[0m: axis=1 exceeds the depth of this array (1)\n\nThis error occurred while calling\n\n    ak.num(\n        <MomentumArray4D [{rho: 460, phi: 1.13, ...}, ...] type='22 * Momen...'>\n    )"
     ]
    }
   ],
   "source": [
    "all_deltars_3d = awkward.Array(\n",
    "    [awkward.unflatten(event, awkward.num(reco_4t[i])) for i, event in enumerate(all_deltars)]\n",
    ")"
   ]
  },
  {
   "cell_type": "code",
   "execution_count": 158,
   "metadata": {},
   "outputs": [],
   "source": [
    "pairs = awkward.cartesian({'reco':reco_4t[:,0],'parton':(partonic_4t)})\n",
    "deltars = pairs['reco'].deltaR(pairs['parton'])\n",
    "pairs = pairs[deltars == np.min(deltars, axis=1)]\n",
    "deltars = np.min(deltars, axis=1)\n",
    "\n",
    "pairs = pairs[deltars<0.4]\n",
    "deltars = deltars[deltars<0.4]"
   ]
  },
  {
   "cell_type": "code",
   "execution_count": 159,
   "metadata": {},
   "outputs": [
    {
     "data": {
      "text/html": [
       "<pre>[[0.0397],\n",
       " [0.16],\n",
       " [0.166],\n",
       " [0.031],\n",
       " [0.00916],\n",
       " [0.28],\n",
       " [0.028],\n",
       " [0.00531],\n",
       " [0.0338],\n",
       " [0.0389],\n",
       " ...,\n",
       " [0.0336],\n",
       " [0.00806],\n",
       " [0.149],\n",
       " [0.0108],\n",
       " [0.0268],\n",
       " [0.0423],\n",
       " [0.0551],\n",
       " [0.0837],\n",
       " [0.0553]]\n",
       "------------------------------------\n",
       "type: 263667 * option[var * float32]</pre>"
      ],
      "text/plain": [
       "<Array [[0.0397], [0.16], ..., [0.0553]] type='263667 * option[var * float32]'>"
      ]
     },
     "execution_count": 159,
     "metadata": {},
     "output_type": "execute_result"
    }
   ],
   "source": [
    "pairs['reco'].deltaR(pairs['parton'])"
   ]
  },
  {
   "cell_type": "code",
   "execution_count": 157,
   "metadata": {},
   "outputs": [
    {
     "data": {
      "text/html": [
       "<pre>[0.0397,\n",
       " 0.591,\n",
       " 0.16,\n",
       " 0.166,\n",
       " 0.031,\n",
       " 0.00916,\n",
       " 0.768,\n",
       " 0.28,\n",
       " 0.028,\n",
       " 0.00531,\n",
       " ...,\n",
       " 0.00806,\n",
       " 0.972,\n",
       " 0.149,\n",
       " 0.0108,\n",
       " 0.0268,\n",
       " 0.0423,\n",
       " 0.0551,\n",
       " 0.0837,\n",
       " 0.0553]\n",
       "-----------------------\n",
       "type: 300000 * ?float32</pre>"
      ],
      "text/plain": [
       "<Array [0.0397, 0.591, 0.16, ..., 0.0837, 0.0553] type='300000 * ?float32'>"
      ]
     },
     "execution_count": 157,
     "metadata": {},
     "output_type": "execute_result"
    }
   ],
   "source": [
    "deltars"
   ]
  },
  {
   "cell_type": "code",
   "execution_count": 134,
   "metadata": {},
   "outputs": [
    {
     "data": {
      "text/html": [
       "<pre>[1.05,\n",
       " 1.62,\n",
       " 2.43,\n",
       " 0.046,\n",
       " 3.43,\n",
       " 0.0508,\n",
       " 0.953,\n",
       " 3.12,\n",
       " 2.75,\n",
       " 3.06,\n",
       " 2.5]\n",
       "------------------\n",
       "type: 11 * float32</pre>"
      ],
      "text/plain": [
       "<Array [1.05, 1.62, 2.43, 0.046, ..., 2.75, 3.06, 2.5] type='11 * float32'>"
      ]
     },
     "execution_count": 134,
     "metadata": {},
     "output_type": "execute_result"
    }
   ],
   "source": [
    "reco_4t[0,0].deltaR(partonic_4t[0])\n",
    "reco_4t[0,1].deltaR(partonic_4t[0])"
   ]
  },
  {
   "cell_type": "code",
   "execution_count": 126,
   "metadata": {},
   "outputs": [
    {
     "data": {
      "text/html": [
       "<pre>[0.78,\n",
       " 0.0261,\n",
       " 0.0948,\n",
       " 0.046,\n",
       " 0.206,\n",
       " 0.0508,\n",
       " 0.0392,\n",
       " 0.0615,\n",
       " 0.0397,\n",
       " 0.262,\n",
       " 0.0367]\n",
       "-------------------\n",
       "type: 11 * ?float32</pre>"
      ],
      "text/plain": [
       "<Array [0.78, 0.0261, 0.0948, ..., 0.0397, 0.262, 0.0367] type='11 * ?float32'>"
      ]
     },
     "execution_count": 126,
     "metadata": {},
     "output_type": "execute_result"
    }
   ],
   "source": [
    "np.min(awkward.unflatten(deltars[0],awkward.num(reco_4t)[0],axis=0), axis=1)\n"
   ]
  },
  {
   "cell_type": "code",
   "execution_count": 73,
   "metadata": {},
   "outputs": [
    {
     "data": {
      "text/html": [
       "<pre>[{rho: 43.6, phi: -1.86, eta: 0.966, tau: 4.79},\n",
       " {rho: 140, phi: 1.51, eta: -1.27, tau: 12.2},\n",
       " {rho: 188, phi: -0.783, eta: -0.263, tau: 22.2},\n",
       " {rho: 96.3, phi: 2.19, eta: -1.6, tau: 13.3},\n",
       " {rho: 61.4, phi: 2.61, eta: -1.78, tau: 8.02},\n",
       " {rho: 188, phi: -0.783, eta: -0.263, tau: 22.2},\n",
       " {rho: 101, phi: -1.76, eta: -0.399, tau: 15.4},\n",
       " {rho: 182, phi: 2.42, eta: -0.515, tau: 18},\n",
       " {rho: 190, phi: 2.01, eta: -0.235, tau: 17.5},\n",
       " {rho: 182, phi: 2.42, eta: -0.515, tau: 18},\n",
       " {rho: 29, phi: 2.33, eta: -1.01, tau: 3.3},\n",
       " {rho: 140, phi: 1.51, eta: -1.27, tau: 12.2}]\n",
       "-------------------------------------------------\n",
       "type: 12 * Momentum4D[\n",
       "    rho: float32,\n",
       "    phi: float32,\n",
       "    eta: float32,\n",
       "    tau: float32\n",
       "]</pre>"
      ],
      "text/plain": [
       "<MomentumArray4D [{rho: 43.6, phi: -1.86, ...}, ...] type='12 * Momentum4D[...'>"
      ]
     },
     "execution_count": 73,
     "metadata": {},
     "output_type": "execute_result"
    }
   ],
   "source": [
    "pairs[0][deltars[0]<0.4]['reco']"
   ]
  },
  {
   "cell_type": "code",
   "execution_count": 84,
   "metadata": {},
   "outputs": [
    {
     "data": {
      "text/plain": [
       "0"
      ]
     },
     "execution_count": 84,
     "metadata": {},
     "output_type": "execute_result"
    }
   ],
   "source": [
    "len(muons_pt_4t[2])"
   ]
  },
  {
   "cell_type": "code",
   "execution_count": 56,
   "metadata": {},
   "outputs": [
    {
     "name": "stdout",
     "output_type": "stream",
     "text": [
      "121\n",
      "121\n"
     ]
    }
   ],
   "source": [
    "pairs = awkward.cartesian({\"parton\": partonic_4t[0], \"reco\": reco_4t[0]}, axis=0)\n",
    "print(len(pairs))\n",
    "deltars = pairs['parton'].deltaR(pairs['reco'])\n",
    "print(len(deltars))"
   ]
  },
  {
   "cell_type": "code",
   "execution_count": 6,
   "metadata": {},
   "outputs": [],
   "source": [
    "tree3j = uproot.open(directory + \"3tops_tttj_skimmed_combined.root\")\n",
    "tree3W = uproot.open(directory + \"3tops_tttW_skimmed_combined.root\")\n",
    "tree4 = uproot.open(directory + \"4tops_inclusive_17july_combined.root\")\n",
    "\n",
    "events_4t_jets = tree4[\"Delphes;1\"][\"Jet\"].arrays(['Jet.PT','Jet.Eta','Jet.Phi','Jet.T','Jet.Mass','Jet.Flavor','Jet.BTag','Jet.Charge'])\n",
    "events_4t_electrons = tree4[\"Delphes;1\"][\"Electron\"].arrays(['Electron.PT','Electron.Eta','Electron.Phi','Electron.T','Electron.Charge','Electron.Particle'])\n",
    "events_4t_electrons['Electron.Mass'] = np.ones_like(events_4t_electrons['Electron.PT']) * 0.511E-3\n",
    "events_4t_muons = tree4[\"Delphes;1\"][\"Muon\"].arrays(['Muon.PT','Muon.Eta','Muon.Phi','Muon.T','Muon.Charge','Muon.Particle'])\n",
    "events_4t_muons['Muon.Mass'] = np.ones_like(events_4t_muons['Muon.PT']) * 105.7E-3\n",
    "\n",
    "jets_pt_4t = events_4t_jets['Jet.PT'][(events_4t_jets['Jet.Eta']<2.5) & (events_4t_jets['Jet.Eta']>-2.5)]\n",
    "jets_eta_4t = events_4t_jets['Jet.Eta'][(events_4t_jets['Jet.Eta']<2.5) & (events_4t_jets['Jet.Eta']>-2.5)]\n",
    "jets_phi_4t = events_4t_jets['Jet.Phi'][(events_4t_jets['Jet.Eta']<2.5) & (events_4t_jets['Jet.Eta']>-2.5)]\n",
    "jets_mass_4t = events_4t_jets['Jet.Mass'][(events_4t_jets['Jet.Eta']<2.5) & (events_4t_jets['Jet.Eta']>-2.5)]\n",
    "\n",
    "electrons_pt_4t = events_4t_electrons['Electron.PT'][(events_4t_electrons['Electron.PT'] > 15) & (events_4t_electrons['Electron.Eta'] < 2.47) & (events_4t_electrons['Electron.Eta'] > -2.47)]\n",
    "electrons_eta_4t = events_4t_electrons['Electron.Eta'][(events_4t_electrons['Electron.PT'] > 15) & (events_4t_electrons['Electron.Eta'] < 2.47) & (events_4t_electrons['Electron.Eta'] > -2.47)]\n",
    "electrons_phi_4t = events_4t_electrons['Electron.Phi'][(events_4t_electrons['Electron.PT'] > 15) & (events_4t_electrons['Electron.Eta'] < 2.47) & (events_4t_electrons['Electron.Eta'] > -2.47)]\n",
    "electrons_mass_4t = events_4t_electrons['Electron.Mass'][(events_4t_electrons['Electron.PT'] > 15) & (events_4t_electrons['Electron.Eta'] < 2.47) & (events_4t_electrons['Electron.Eta'] > -2.47)]\n",
    "electrons_charge_4t = events_4t_electrons['Electron.Charge'][(events_4t_electrons['Electron.PT'] > 15) & (events_4t_electrons['Electron.Eta'] < 2.47) & (events_4t_electrons['Electron.Eta'] > -2.47)]\n",
    "\n",
    "muons_pt_4t = events_4t_muons['Muon.PT'][(events_4t_muons['Muon.PT']>15) & (events_4t_muons['Muon.Eta']<2.5) & (events_4t_muons['Muon.Eta']>-2.5)]\n",
    "muons_eta_4t = events_4t_muons['Muon.Eta'][(events_4t_muons['Muon.PT']>15) & (events_4t_muons['Muon.Eta']<2.5) & (events_4t_muons['Muon.Eta']>-2.5)]\n",
    "muons_phi_4t = events_4t_muons['Muon.Phi'][(events_4t_muons['Muon.PT']>15) & (events_4t_muons['Muon.Eta']<2.5) & (events_4t_muons['Muon.Eta']>-2.5)]\n",
    "muons_mass_4t = events_4t_muons['Muon.Mass'][(events_4t_muons['Muon.PT']>15) & (events_4t_muons['Muon.Eta']<2.5) & (events_4t_muons['Muon.Eta']>-2.5)]\n",
    "muons_charge_4t = events_4t_muons['Muon.Charge'][(events_4t_muons['Muon.PT']>15) & (events_4t_muons['Muon.Eta']<2.5) & (events_4t_muons['Muon.Eta']>-2.5)]\n",
    "\n",
    "electrons_pt_4t = electrons_pt_4t[awkward.num(muons_pt_4t)==2]\n",
    "electrons_eta_4t = electrons_eta_4t[awkward.num(muons_eta_4t)==2]\n",
    "electrons_phi_4t = electrons_phi_4t[awkward.num(muons_phi_4t)==2]\n",
    "electrons_mass_4t = electrons_mass_4t[awkward.num(muons_mass_4t)==2]\n",
    "electrons_charges_4t = electrons_charge_4t[awkward.num(muons_charge_4t)==2]\n",
    "\n",
    "jets_pt_4t = jets_pt_4t[awkward.num(muons_pt_4t)==2]\n",
    "jets_eta_4t = jets_eta_4t[awkward.num(muons_eta_4t)==2]\n",
    "jets_phi_4t = jets_phi_4t[awkward.num(muons_phi_4t)==2]\n",
    "jets_mass_4t = jets_mass_4t[awkward.num(muons_mass_4t)==2]\n",
    "\n",
    "muons_pt_4t = muons_pt_4t[awkward.num(muons_pt_4t)==2]\n",
    "muons_eta_4t = muons_eta_4t[awkward.num(muons_eta_4t)==2]\n",
    "muons_phi_4t = muons_phi_4t[awkward.num(muons_phi_4t)==2]\n",
    "muons_mass_4t = muons_mass_4t[awkward.num(muons_mass_4t)==2]\n",
    "muons_charges_4t = muons_charge_4t[awkward.num(muons_charge_4t)==2]\n",
    "\n",
    "leptons_pt_4t = awkward.concatenate((electrons_pt_4t, muons_pt_4t), axis=1)\n",
    "leptons_eta_4t = awkward.concatenate((electrons_eta_4t, muons_eta_4t), axis=1)\n",
    "leptons_phi_4t = awkward.concatenate((electrons_phi_4t, muons_phi_4t), axis=1)\n",
    "leptons_mass_4t = awkward.concatenate((electrons_mass_4t, muons_mass_4t), axis=1)\n",
    "leptons_charge_4t = awkward.concatenate((electrons_charges_4t, muons_charges_4t), axis=1)\n",
    "\n",
    "jets_4t = vector.zip({'pt':jets_pt_4t,'eta':jets_eta_4t,'phi':jets_phi_4t,'mass':jets_mass_4t})\n",
    "leptons_4t = vector.zip({'pt':leptons_pt_4t,'eta':leptons_eta_4t,'phi':leptons_phi_4t,'mass':leptons_mass_4t})\n",
    "\n",
    "events_3tj_jets = tree3j[\"Delphes;1\"][\"Jet\"].arrays(['Jet.PT', 'Jet.Eta', 'Jet.Phi', 'Jet.Mass', 'Jet.BTag'])\n",
    "events_3tj_electrons = tree3j[\"Delphes;1\"][\"Electron\"].arrays(['Electron.PT','Electron.Eta','Electron.Phi','Electron.Charge','Electron.Particle'])\n",
    "events_3tj_electrons['Electron.Mass'] = np.ones_like(events_3tj_electrons['Electron.PT'])*0.511E-3\n",
    "events_3tj_muons = tree3j[\"Delphes;1\"][\"Muon\"].arrays(['Muon.PT', 'Muon.Eta', 'Muon.Phi', 'Muon.Charge', 'Muon.Particle'])\n",
    "events_3tj_muons['Muon.Mass'] = np.ones_like(events_3tj_muons['Muon.PT'])*105.7E-3\n",
    "\n",
    "events_3tW_jets = tree3W[\"Delphes;1\"][\"Jet\"].arrays(['Jet.PT', 'Jet.Eta', 'Jet.Phi', 'Jet.Mass', 'Jet.BTag'])\n",
    "events_3tW_electrons = tree3W[\"Delphes;1\"][\"Electron\"].arrays(['Electron.PT','Electron.Eta','Electron.Phi','Electron.Charge','Electron.Particle'])\n",
    "events_3tW_electrons['Electron.Mass'] = np.ones_like(events_3tW_electrons['Electron.PT'])*0.511E-3\n",
    "events_3tW_muons = tree3W[\"Delphes;1\"][\"Muon\"].arrays(['Muon.PT', 'Muon.Eta', 'Muon.Phi', 'Muon.Charge', 'Muon.Particle'])\n",
    "events_3tW_muons['Muon.Mass'] = np.ones_like(events_3tW_muons['Muon.PT'])*105.7E-3\n",
    "\n",
    "jets_pt_3tj = events_3tj_jets['Jet.PT'][(events_3tj_jets['Jet.Eta']<2.5) & (events_3tj_jets['Jet.Eta']>-2.5)]\n",
    "jets_eta_3tj = events_3tj_jets['Jet.Eta'][(events_3tj_jets['Jet.Eta']<2.5) & (events_3tj_jets['Jet.Eta']>-2.5)]\n",
    "jets_phi_3tj = events_3tj_jets['Jet.Phi'][(events_3tj_jets['Jet.Eta']<2.5) & (events_3tj_jets['Jet.Eta']>-2.5)]\n",
    "jets_mass_3tj = events_3tj_jets['Jet.Mass'][(events_3tj_jets['Jet.Eta']<2.5) & (events_3tj_jets['Jet.Eta']>-2.5)]\n",
    "\n",
    "electrons_pt_3tj = events_3tj_electrons['Electron.PT'][(events_3tj_electrons['Electron.PT']>15)&(events_3tj_electrons['Electron.Eta']<2.47)&(events_3tj_electrons['Electron.Eta']>-2.47)]\n",
    "electrons_eta_3tj = events_3tj_electrons['Electron.Eta'][(events_3tj_electrons['Electron.PT']>15)&(events_3tj_electrons['Electron.Eta']<2.47)&(events_3tj_electrons['Electron.Eta']>-2.47)]\n",
    "electrons_phi_3tj = events_3tj_electrons['Electron.Phi'][(events_3tj_electrons['Electron.PT']>15)&(events_3tj_electrons['Electron.Eta']<2.47)&(events_3tj_electrons['Electron.Eta']>-2.47)]\n",
    "electrons_mass_3tj = events_3tj_electrons['Electron.Mass'][(events_3tj_electrons['Electron.PT']>15)&(events_3tj_electrons['Electron.Eta']<2.47)&(events_3tj_electrons['Electron.Eta']>-2.47)]\n",
    "electrons_charge_3tj = events_3tj_electrons['Electron.Charge'][(events_3tj_electrons['Electron.PT']>15)&(events_3tj_electrons['Electron.Eta']<2.47)&(events_3tj_electrons['Electron.Eta']>-2.47)]\n",
    "\n",
    "muons_pt_3tj = events_3tj_muons['Muon.PT'][(events_3tj_muons['Muon.PT']>15)&(events_3tj_muons['Muon.Eta']<2.5)&(events_3tj_muons['Muon.Eta']>-2.5)]\n",
    "muons_eta_3tj = events_3tj_muons['Muon.Eta'][(events_3tj_muons['Muon.PT']>15)&(events_3tj_muons['Muon.Eta']<2.5)&(events_3tj_muons['Muon.Eta']>-2.5)]\n",
    "muons_phi_3tj = events_3tj_muons['Muon.Phi'][(events_3tj_muons['Muon.PT']>15)&(events_3tj_muons['Muon.Eta']<2.5)&(events_3tj_muons['Muon.Eta']>-2.5)]\n",
    "muons_mass_3tj = events_3tj_muons['Muon.Mass'][(events_3tj_muons['Muon.PT']>15)&(events_3tj_muons['Muon.Eta']<2.5)&(events_3tj_muons['Muon.Eta']>-2.5)]\n",
    "muons_charge_3tj = events_3tj_muons['Muon.Charge'][(events_3tj_muons['Muon.PT']>15)&(events_3tj_muons['Muon.Eta']<2.5)&(events_3tj_muons['Muon.Eta']>-2.5)]\n",
    "\n",
    "electrons_pt_3tj = electrons_pt_3tj[awkward.num(muons_pt_3tj)==2]\n",
    "electrons_eta_3tj = electrons_eta_3tj[awkward.num(muons_eta_3tj)==2]\n",
    "electrons_phi_3tj = electrons_phi_3tj[awkward.num(muons_phi_3tj)==2]\n",
    "electrons_mass_3tj = electrons_mass_3tj[awkward.num(muons_mass_3tj)==2]\n",
    "electrons_charge_3tj = electrons_charge_3tj[awkward.num(muons_charge_3tj)==2]\n",
    "\n",
    "jets_pt_3tj = jets_pt_3tj[awkward.num(muons_pt_3tj)==2]\n",
    "jets_eta_3tj = jets_eta_3tj[awkward.num(muons_eta_3tj)==2]\n",
    "jets_phi_3tj = jets_phi_3tj[awkward.num(muons_phi_3tj)==2]\n",
    "jets_mass_3tj = jets_mass_3tj[awkward.num(muons_mass_3tj)==2]\n",
    "\n",
    "muons_pt_3tj = muons_pt_3tj[awkward.num(muons_pt_3tj)==2]\n",
    "muons_eta_3tj = muons_eta_3tj[awkward.num(muons_eta_3tj)==2]\n",
    "muons_phi_3tj = muons_phi_3tj[awkward.num(muons_phi_3tj)==2]\n",
    "muons_mass_3tj = muons_mass_3tj[awkward.num(muons_mass_3tj)==2]\n",
    "muons_charge_3tj = muons_charge_3tj[awkward.num(muons_charge_3tj)==2]\n",
    "\n",
    "jets_pt_3tW = events_3tW_jets['Jet.PT'][(events_3tW_jets['Jet.Eta']<2.5) & (events_3tW_jets['Jet.Eta']>-2.5)]\n",
    "jets_eta_3tW = events_3tW_jets['Jet.Eta'][(events_3tW_jets['Jet.Eta']<2.5) & (events_3tW_jets['Jet.Eta']>-2.5)]\n",
    "jets_phi_3tW = events_3tW_jets['Jet.Phi'][(events_3tW_jets['Jet.Eta']<2.5) & (events_3tW_jets['Jet.Eta']>-2.5)]\n",
    "jets_mass_3tW = events_3tW_jets['Jet.Mass'][(events_3tW_jets['Jet.Eta']<2.5) & (events_3tW_jets['Jet.Eta']>-2.5)]\n",
    "\n",
    "electrons_pt_3tW = events_3tW_electrons['Electron.PT'][(events_3tW_electrons['Electron.PT']>15)&(events_3tW_electrons['Electron.Eta']<2.47)&(events_3tW_electrons['Electron.Eta']>-2.47)]\n",
    "electrons_eta_3tW = events_3tW_electrons['Electron.Eta'][(events_3tW_electrons['Electron.PT']>15)&(events_3tW_electrons['Electron.Eta']<2.47)&(events_3tW_electrons['Electron.Eta']>-2.47)]\n",
    "electrons_phi_3tW = events_3tW_electrons['Electron.Phi'][(events_3tW_electrons['Electron.PT']>15)&(events_3tW_electrons['Electron.Eta']<2.47)&(events_3tW_electrons['Electron.Eta']>-2.47)]\n",
    "electrons_mass_3tW = events_3tW_electrons['Electron.Mass'][(events_3tW_electrons['Electron.PT']>15)&(events_3tW_electrons['Electron.Eta']<2.47)&(events_3tW_electrons['Electron.Eta']>-2.47)]\n",
    "electrons_charge_3tW = events_3tW_electrons['Electron.Charge'][(events_3tW_electrons['Electron.PT']>15)&(events_3tW_electrons['Electron.Eta']<2.47)&(events_3tW_electrons['Electron.Eta']>-2.47)]\n",
    "\n",
    "muons_pt_3tW = events_3tW_muons['Muon.PT'][(events_3tW_muons['Muon.PT']>15)&(events_3tW_muons['Muon.Eta']<2.5)&(events_3tW_muons['Muon.Eta']>-2.5)]\n",
    "muons_eta_3tW = events_3tW_muons['Muon.Eta'][(events_3tW_muons['Muon.PT']>15)&(events_3tW_muons['Muon.Eta']<2.5)&(events_3tW_muons['Muon.Eta']>-2.5)]\n",
    "muons_phi_3tW = events_3tW_muons['Muon.Phi'][(events_3tW_muons['Muon.PT']>15)&(events_3tW_muons['Muon.Eta']<2.5)&(events_3tW_muons['Muon.Eta']>-2.5)]\n",
    "muons_mass_3tW = events_3tW_muons['Muon.Mass'][(events_3tW_muons['Muon.PT']>15)&(events_3tW_muons['Muon.Eta']<2.5)&(events_3tW_muons['Muon.Eta']>-2.5)]\n",
    "muons_charge_3tW = events_3tW_muons['Muon.Charge'][(events_3tW_muons['Muon.PT']>15)&(events_3tW_muons['Muon.Eta']<2.5)&(events_3tW_muons['Muon.Eta']>-2.5)]\n",
    "\n",
    "electrons_pt_3tW = electrons_pt_3tW[awkward.num(muons_pt_3tW)==2]\n",
    "electrons_eta_3tW = electrons_eta_3tW[awkward.num(muons_eta_3tW)==2]\n",
    "electrons_phi_3tW = electrons_phi_3tW[awkward.num(muons_phi_3tW)==2]\n",
    "electrons_mass_3tW = electrons_mass_3tW[awkward.num(muons_mass_3tW)==2]\n",
    "electrons_charge_3tW = electrons_charge_3tW[awkward.num(muons_charge_3tW)==2]\n",
    "\n",
    "jets_pt_3tW = jets_pt_3tW[awkward.num(muons_pt_3tW)==2]\n",
    "jets_eta_3tW = jets_eta_3tW[awkward.num(muons_eta_3tW)==2]\n",
    "jets_phi_3tW = jets_phi_3tW[awkward.num(muons_phi_3tW)==2]\n",
    "jets_mass_3tW = jets_mass_3tW[awkward.num(muons_mass_3tW)==2]\n",
    "\n",
    "muons_pt_3tW = muons_pt_3tW[awkward.num(muons_pt_3tW)==2]\n",
    "muons_eta_3tW = muons_eta_3tW[awkward.num(muons_eta_3tW)==2]\n",
    "muons_phi_3tW = muons_phi_3tW[awkward.num(muons_phi_3tW)==2]\n",
    "muons_mass_3tW = muons_mass_3tW[awkward.num(muons_mass_3tW)==2]\n",
    "muons_charge_3tW = muons_charge_3tW[awkward.num(muons_charge_3tW)==2]\n",
    "\n",
    "leptons_pt_3tW = awkward.concatenate([electrons_pt_3tW,muons_pt_3tW],axis=1)\n",
    "leptons_eta_3tW = awkward.concatenate([electrons_eta_3tW,muons_eta_3tW],axis=1)\n",
    "leptons_phi_3tW = awkward.concatenate([electrons_phi_3tW,muons_phi_3tW],axis=1)\n",
    "leptons_mass_3tW = awkward.concatenate([electrons_mass_3tW,muons_mass_3tW],axis=1)\n",
    "leptons_charge_3tW = awkward.concatenate([electrons_charge_3tW,muons_charge_3tW],axis=1)\n",
    "\n",
    "leptons_pt_3tj = awkward.concatenate([electrons_pt_3tj,muons_pt_3tj],axis=1)\n",
    "leptons_eta_3tj = awkward.concatenate([electrons_eta_3tj,muons_eta_3tj],axis=1)\n",
    "leptons_phi_3tj = awkward.concatenate([electrons_phi_3tj,muons_phi_3tj],axis=1)\n",
    "leptons_mass_3tj = awkward.concatenate([electrons_mass_3tj,muons_mass_3tj],axis=1)\n",
    "leptons_charge_3tj = awkward.concatenate([electrons_charge_3tj,muons_charge_3tj],axis=1)\n",
    "\n",
    "leptons_pt_3t = awkward.concatenate([leptons_pt_3tW,leptons_pt_3tj])\n",
    "leptons_eta_3t = awkward.concatenate([leptons_eta_3tW,leptons_eta_3tj])\n",
    "leptons_phi_3t = awkward.concatenate([leptons_phi_3tW,leptons_phi_3tj])\n",
    "leptons_mass_3t = awkward.concatenate([leptons_mass_3tW,leptons_mass_3tj])\n",
    "leptons_charge_3t = awkward.concatenate([leptons_charge_3tW,leptons_charge_3tj])\n",
    "\n",
    "jets_pt_3t = awkward.concatenate([jets_pt_3tW,jets_pt_3tj])\n",
    "jets_eta_3t = awkward.concatenate([jets_eta_3tW,jets_eta_3tj])\n",
    "jets_phi_3t = awkward.concatenate([jets_phi_3tW,jets_phi_3tj])\n",
    "jets_mass_3t = awkward.concatenate([jets_mass_3tW,jets_mass_3tj])\n",
    "\n",
    "leptons_3t = vector.zip({'pt':leptons_pt_3t,'eta':leptons_eta_3t,'phi':leptons_phi_3t,'mass':leptons_mass_3t})\n",
    "jets_3t = vector.zip({'pt':jets_pt_3t,'eta':jets_eta_3t,'phi':jets_phi_3t,'mass':jets_mass_3t})\n",
    "\n",
    "filtered_jets_3t = jets_3t[(awkward.num(leptons_3t)>=2) & (awkward.num(jets_3t)>=3)]\n",
    "filtered_leptons_3t = leptons_3t[(awkward.num(jets_3t)>=3) & (awkward.num(leptons_3t)>=2)]\n",
    "filtered_leptons_charge_3t = leptons_charge_3t[(awkward.num(jets_3t)>=3) & (awkward.num(leptons_3t)>=2)]\n",
    "\n",
    "jets_3t = filtered_jets_3t\n",
    "leptons_3t = filtered_leptons_3t\n",
    "leptons_charge_3t = filtered_leptons_charge_3t\n",
    "\n",
    "filtered_jets_4t = jets_4t[(awkward.num(leptons_4t)>=2) & (awkward.num(jets_4t)>=3)]\n",
    "filtered_leptons_4t = leptons_4t[(awkward.num(jets_4t)>=3) & (awkward.num(leptons_4t)>=2)]\n",
    "filtered_leptons_charge_4t = leptons_charge_4t[(awkward.num(jets_4t)>=3) & (awkward.num(leptons_4t)>=2)]\n",
    "\n",
    "jets_4t = filtered_jets_4t\n",
    "leptons_4t = filtered_leptons_4t\n",
    "leptons_charge_4t = filtered_leptons_charge_4t\n",
    "\n",
    "all_products_4t = awkward.concatenate((jets_4t,leptons_4t), axis=1)\n",
    "all_products_3t = awkward.concatenate((jets_3t,leptons_3t), axis=1)"
   ]
  },
  {
   "cell_type": "code",
   "execution_count": 9,
   "metadata": {},
   "outputs": [],
   "source": [
    "jet_duos_3t = {}\n",
    "jet_duos_4t = {}\n",
    "jet_trios_3t = {}\n",
    "jet_trios_4t = {}\n",
    "jet_quads_3t = {}\n",
    "jet_quads_4t = {}\n",
    "jet_5_3t = {}\n",
    "jet_5_4t = {}\n",
    "jet_6_3t = {}\n",
    "jet_6_4t = {}\n",
    "n_combinations(jets_3t, 2, jet_duos_3t, 'jets')\n",
    "n_combinations(jets_4t, 2, jet_duos_4t, 'jets')\n",
    "n_combinations(jets_3t, 3, jet_trios_3t, 'jets')\n",
    "n_combinations(jets_4t, 3, jet_trios_4t, 'jets')\n",
    "n_combinations(jets_3t, 4, jet_quads_3t, 'jets')\n",
    "n_combinations(jets_4t, 4, jet_quads_4t, 'jets')\n",
    "n_combinations(jets_3t, 5, jet_5_3t, 'jets')\n",
    "n_combinations(jets_4t, 5, jet_5_4t, 'jets')\n",
    "n_combinations(jets_3t, 6, jet_6_3t, 'jets')\n",
    "n_combinations(jets_4t, 6, jet_6_4t, 'jets')\n",
    "\n",
    "lepton_duos_3t = {}\n",
    "lepton_duos_4t = {}\n",
    "lepton_trios_3t = {}\n",
    "lepton_trios_4t = {}\n",
    "lepton_quads_3t = {}\n",
    "lepton_quads_4t = {}\n",
    "n_combinations(leptons_3t, 2, lepton_duos_3t, 'leptons')\n",
    "n_combinations(leptons_4t, 2, lepton_duos_4t, 'leptons')\n",
    "n_combinations(leptons_3t, 3, lepton_trios_3t, 'leptons')\n",
    "n_combinations(leptons_4t, 3, lepton_trios_4t, 'leptons')\n",
    "n_combinations(leptons_3t, 4, lepton_quads_3t, 'leptons')\n",
    "n_combinations(leptons_4t, 4, lepton_quads_4t, 'leptons')"
   ]
  },
  {
   "cell_type": "code",
   "execution_count": 10,
   "metadata": {},
   "outputs": [
    {
     "data": {
      "text/plain": [
       "{'jets_3': <MomentumArray4D [[[{rho: 78.7, ...}, ...], ...], ...] type='2112 * 3 * 2 *...'>,\n",
       " 'jets_4': <MomentumArray4D [[[{rho: 108, ...}, ...], ...], ...] type='4028 * 6 * 2 * ...'>,\n",
       " 'jets_5': <MomentumArray4D [[[{rho: 346, ...}, ...], ...], ...] type='4843 * 10 * 2 *...'>,\n",
       " 'jets_6': <MomentumArray4D [[[{rho: 166, ...}, ...], ...], ...] type='4018 * 15 * 2 *...'>,\n",
       " 'jets_7': <MomentumArray4D [[[{rho: 157, ...}, ...], ...], ...] type='2267 * 21 * 2 *...'>,\n",
       " 'jets_8': <MomentumArray4D [[[{rho: 229, ...}, ...], ...], ...] type='1067 * 28 * 2 *...'>,\n",
       " 'jets_9': <MomentumArray4D [[[{rho: 201, ...}, ...], ...], ...] type='323 * 36 * 2 * ...'>,\n",
       " 'jets_10': <MomentumArray4D [[[{rho: 141, ...}, ...], ...], ...] type='99 * 45 * 2 * M...'>,\n",
       " 'jets_11': <MomentumArray4D [[[{rho: 177, ...}, ...], ...], ...] type='29 * 55 * 2 * M...'>,\n",
       " 'jets_12': <MomentumArray4D [[[{rho: 320, ...}, ...], ...], ...] type='5 * 66 * 2 * Mo...'>,\n",
       " 'jets_13': <MomentumArray4D [[[{rho: 517, ...}, {...}], ..., [...]]] type='1 * 78 * 2 ...'>}"
      ]
     },
     "execution_count": 10,
     "metadata": {},
     "output_type": "execute_result"
    }
   ],
   "source": [
    "jet_duos_3t"
   ]
  },
  {
   "cell_type": "code",
   "execution_count": 13,
   "metadata": {},
   "outputs": [
    {
     "name": "stdout",
     "output_type": "stream",
     "text": [
      "[('A', 'x'), ('A', 'y'), ('B', 'x'), ('B', 'y'), ('C', 'x'), ('C', 'y'), ('D', 'x'), ('D', 'y')]\n"
     ]
    }
   ],
   "source": [
    "print(list(itertools.product(('A','B','C','D'),('x','y'))))"
   ]
  },
  {
   "cell_type": "code",
   "execution_count": null,
   "metadata": {},
   "outputs": [],
   "source": []
  }
 ],
 "metadata": {
  "kernelspec": {
   "display_name": "base",
   "language": "python",
   "name": "python3"
  },
  "language_info": {
   "codemirror_mode": {
    "name": "ipython",
    "version": 3
   },
   "file_extension": ".py",
   "mimetype": "text/x-python",
   "name": "python",
   "nbconvert_exporter": "python",
   "pygments_lexer": "ipython3",
   "version": "3.9.12"
  }
 },
 "nbformat": 4,
 "nbformat_minor": 2
}
